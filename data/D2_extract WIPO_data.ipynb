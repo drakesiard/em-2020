{
 "cells": [
  {
   "cell_type": "markdown",
   "metadata": {},
   "source": [
    "### Process raw WIPO patent data"
   ]
  },
  {
   "cell_type": "code",
   "execution_count": 1,
   "metadata": {},
   "outputs": [],
   "source": [
    "import codecs\n",
    "import glob\n",
    "import os\n",
    "import pandas as pd\n",
    "import pycountry\n",
    "from io import StringIO\n",
    "\n",
    "# find target path for data files, assuming the notebook is in the right place\n",
    "data_path = _dh[0]\n",
    "assert data_path.endswith(os.path.join('em-2020','data'))\n",
    "\n",
    "output_path = os.path.join(data_path, 'WIPO_reshaped.csv')"
   ]
  },
  {
   "cell_type": "markdown",
   "metadata": {},
   "source": [
    "The WIPO file format is hideous and needs a custom loader:"
   ]
  },
  {
   "cell_type": "code",
   "execution_count": 2,
   "metadata": {},
   "outputs": [
    {
     "data": {
      "text/html": [
       "<div>\n",
       "<style scoped>\n",
       "    .dataframe tbody tr th:only-of-type {\n",
       "        vertical-align: middle;\n",
       "    }\n",
       "\n",
       "    .dataframe tbody tr th {\n",
       "        vertical-align: top;\n",
       "    }\n",
       "\n",
       "    .dataframe thead th {\n",
       "        text-align: right;\n",
       "    }\n",
       "</style>\n",
       "<table border=\"1\" class=\"dataframe\">\n",
       "  <thead>\n",
       "    <tr style=\"text-align: right;\">\n",
       "      <th></th>\n",
       "      <th>Office</th>\n",
       "      <th>Office (Code)</th>\n",
       "      <th>Origin</th>\n",
       "      <th>1980</th>\n",
       "      <th>1981</th>\n",
       "    </tr>\n",
       "  </thead>\n",
       "  <tbody>\n",
       "    <tr>\n",
       "      <th>184</th>\n",
       "      <td>Yemen</td>\n",
       "      <td>YE</td>\n",
       "      <td>Total</td>\n",
       "      <td>NaN</td>\n",
       "      <td>NaN</td>\n",
       "    </tr>\n",
       "    <tr>\n",
       "      <th>185</th>\n",
       "      <td>Yugoslavia</td>\n",
       "      <td>YU</td>\n",
       "      <td>Total</td>\n",
       "      <td>3358.0</td>\n",
       "      <td>3156.0</td>\n",
       "    </tr>\n",
       "    <tr>\n",
       "      <th>186</th>\n",
       "      <td>Zaire</td>\n",
       "      <td>ZR</td>\n",
       "      <td>Total</td>\n",
       "      <td>103.0</td>\n",
       "      <td>82.0</td>\n",
       "    </tr>\n",
       "    <tr>\n",
       "      <th>187</th>\n",
       "      <td>Zambia</td>\n",
       "      <td>ZM</td>\n",
       "      <td>Total</td>\n",
       "      <td>115.0</td>\n",
       "      <td>108.0</td>\n",
       "    </tr>\n",
       "    <tr>\n",
       "      <th>188</th>\n",
       "      <td>Zimbabwe</td>\n",
       "      <td>ZW</td>\n",
       "      <td>Total</td>\n",
       "      <td>320.0</td>\n",
       "      <td>309.0</td>\n",
       "    </tr>\n",
       "  </tbody>\n",
       "</table>\n",
       "</div>"
      ],
      "text/plain": [
       "         Office Office (Code) Origin    1980    1981\n",
       "184       Yemen            YE  Total     NaN     NaN\n",
       "185  Yugoslavia            YU  Total  3358.0  3156.0\n",
       "186       Zaire            ZR  Total   103.0    82.0\n",
       "187      Zambia            ZM  Total   115.0   108.0\n",
       "188    Zimbabwe            ZW  Total   320.0   309.0"
      ]
     },
     "execution_count": 2,
     "metadata": {},
     "output_type": "execute_result"
    }
   ],
   "source": [
    "wipo_file = 'patent_1 - Total patent applications (direct and PCT national phase entries)_Total count by filing office_1980_2018.csv'\n",
    "wipo_raw = codecs.open(os.path.join(data_path, wipo_file), encoding='ISO-8859-1').readlines()\n",
    "wipo_clean = StringIO()\n",
    "wipo_clean.write(wipo_raw[7].strip())\n",
    "wipo_clean.write(',')\n",
    "wipo_clean.write(wipo_raw[6][3:])\n",
    "for line in wipo_raw[8:]:\n",
    "    wipo_clean.write(line)\n",
    "wipo_clean.seek(0)\n",
    "wipo_data = pd.read_csv(wipo_clean, index_col=False, na_values='', keep_default_na=False)\n",
    "wipo_data.iloc[-5:,:5]"
   ]
  },
  {
   "cell_type": "code",
   "execution_count": 3,
   "metadata": {},
   "outputs": [
    {
     "data": {
      "text/html": [
       "<div>\n",
       "<style scoped>\n",
       "    .dataframe tbody tr th:only-of-type {\n",
       "        vertical-align: middle;\n",
       "    }\n",
       "\n",
       "    .dataframe tbody tr th {\n",
       "        vertical-align: top;\n",
       "    }\n",
       "\n",
       "    .dataframe thead th {\n",
       "        text-align: right;\n",
       "    }\n",
       "</style>\n",
       "<table border=\"1\" class=\"dataframe\">\n",
       "  <thead>\n",
       "    <tr style=\"text-align: right;\">\n",
       "      <th></th>\n",
       "      <th></th>\n",
       "      <th>WIPO patents</th>\n",
       "    </tr>\n",
       "    <tr>\n",
       "      <th>Country Code</th>\n",
       "      <th>Year</th>\n",
       "      <th></th>\n",
       "    </tr>\n",
       "  </thead>\n",
       "  <tbody>\n",
       "    <tr>\n",
       "      <th rowspan=\"5\" valign=\"top\">ALB</th>\n",
       "      <th>1993</th>\n",
       "      <td>16.0</td>\n",
       "    </tr>\n",
       "    <tr>\n",
       "      <th>1994</th>\n",
       "      <td>8.0</td>\n",
       "    </tr>\n",
       "    <tr>\n",
       "      <th>1995</th>\n",
       "      <td>5.0</td>\n",
       "    </tr>\n",
       "    <tr>\n",
       "      <th>1996</th>\n",
       "      <td>5.0</td>\n",
       "    </tr>\n",
       "    <tr>\n",
       "      <th>1997</th>\n",
       "      <td>9.0</td>\n",
       "    </tr>\n",
       "  </tbody>\n",
       "</table>\n",
       "</div>"
      ],
      "text/plain": [
       "                   WIPO patents\n",
       "Country Code Year              \n",
       "ALB          1993          16.0\n",
       "             1994           8.0\n",
       "             1995           5.0\n",
       "             1996           5.0\n",
       "             1997           9.0"
      ]
     },
     "execution_count": 3,
     "metadata": {},
     "output_type": "execute_result"
    }
   ],
   "source": [
    "def map_iso_alpha2(x):\n",
    "    country = pycountry.countries.get(alpha_2=x)\n",
    "    if country is None:\n",
    "        return None\n",
    "    else:\n",
    "        return country.alpha_3\n",
    "\n",
    "iso_alpha3 = wipo_data['Office (Code)'].map(map_iso_alpha2)\n",
    "valid = ~iso_alpha3.isnull()\n",
    "wipo_reshaped = pd.DataFrame(wipo_data.loc[valid]\n",
    "                             .set_index(iso_alpha3.loc[valid])\n",
    "                             .drop(columns=['Office', 'Office (Code)', 'Origin'])\n",
    "                             .stack())\n",
    "wipo_reshaped.index.names = ['Country Code', 'Year']\n",
    "wipo_reshaped.index.set_levels(wipo_reshaped.index.levels[-1].astype(int), level=-1, inplace=True)\n",
    "wipo_reshaped.columns = ['WIPO patents']\n",
    "wipo_reshaped.iloc[:5, :5]"
   ]
  },
  {
   "cell_type": "code",
   "execution_count": 4,
   "metadata": {},
   "outputs": [],
   "source": [
    "wipo_reshaped.to_csv(output_path)"
   ]
  }
 ],
 "metadata": {
  "kernelspec": {
   "display_name": "em-2020",
   "language": "python",
   "name": "em-2020"
  },
  "language_info": {
   "codemirror_mode": {
    "name": "ipython",
    "version": 3
   },
   "file_extension": ".py",
   "mimetype": "text/x-python",
   "name": "python",
   "nbconvert_exporter": "python",
   "pygments_lexer": "ipython3",
   "version": "3.7.5"
  }
 },
 "nbformat": 4,
 "nbformat_minor": 4
}
