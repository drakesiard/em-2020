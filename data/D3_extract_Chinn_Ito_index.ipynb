{
 "cells": [
  {
   "cell_type": "code",
   "execution_count": 1,
   "metadata": {},
   "outputs": [],
   "source": [
    "import codecs\n",
    "import glob\n",
    "import os\n",
    "import pandas as pd\n",
    "import pycountry\n",
    "from io import StringIO\n",
    "\n",
    "import seaborn as sns\n",
    "\n",
    "# find target path for data files, assuming the notebook is in the right place\n",
    "data_path = _dh[0]\n",
    "assert data_path.endswith(os.path.join('em-2020','data'))\n",
    "\n",
    "output_path = os.path.join(data_path, 'ChinnIto_reshaped.csv')"
   ]
  },
  {
   "cell_type": "code",
   "execution_count": 2,
   "metadata": {},
   "outputs": [
    {
     "data": {
      "text/html": [
       "<div>\n",
       "<style scoped>\n",
       "    .dataframe tbody tr th:only-of-type {\n",
       "        vertical-align: middle;\n",
       "    }\n",
       "\n",
       "    .dataframe tbody tr th {\n",
       "        vertical-align: top;\n",
       "    }\n",
       "\n",
       "    .dataframe thead th {\n",
       "        text-align: right;\n",
       "    }\n",
       "</style>\n",
       "<table border=\"1\" class=\"dataframe\">\n",
       "  <thead>\n",
       "    <tr style=\"text-align: right;\">\n",
       "      <th></th>\n",
       "      <th>cn</th>\n",
       "      <th>ccode</th>\n",
       "      <th>country_name</th>\n",
       "      <th>year</th>\n",
       "      <th>kaopen</th>\n",
       "      <th>ka_open</th>\n",
       "    </tr>\n",
       "  </thead>\n",
       "  <tbody>\n",
       "    <tr>\n",
       "      <th>0</th>\n",
       "      <td>111</td>\n",
       "      <td>USA</td>\n",
       "      <td>United States</td>\n",
       "      <td>1970</td>\n",
       "      <td>2.333585</td>\n",
       "      <td>1.0</td>\n",
       "    </tr>\n",
       "    <tr>\n",
       "      <th>1</th>\n",
       "      <td>111</td>\n",
       "      <td>USA</td>\n",
       "      <td>United States</td>\n",
       "      <td>1971</td>\n",
       "      <td>2.333585</td>\n",
       "      <td>1.0</td>\n",
       "    </tr>\n",
       "    <tr>\n",
       "      <th>2</th>\n",
       "      <td>111</td>\n",
       "      <td>USA</td>\n",
       "      <td>United States</td>\n",
       "      <td>1972</td>\n",
       "      <td>2.333585</td>\n",
       "      <td>1.0</td>\n",
       "    </tr>\n",
       "    <tr>\n",
       "      <th>3</th>\n",
       "      <td>111</td>\n",
       "      <td>USA</td>\n",
       "      <td>United States</td>\n",
       "      <td>1973</td>\n",
       "      <td>2.333585</td>\n",
       "      <td>1.0</td>\n",
       "    </tr>\n",
       "    <tr>\n",
       "      <th>4</th>\n",
       "      <td>111</td>\n",
       "      <td>USA</td>\n",
       "      <td>United States</td>\n",
       "      <td>1974</td>\n",
       "      <td>2.333585</td>\n",
       "      <td>1.0</td>\n",
       "    </tr>\n",
       "  </tbody>\n",
       "</table>\n",
       "</div>"
      ],
      "text/plain": [
       "    cn ccode   country_name  year    kaopen  ka_open\n",
       "0  111   USA  United States  1970  2.333585      1.0\n",
       "1  111   USA  United States  1971  2.333585      1.0\n",
       "2  111   USA  United States  1972  2.333585      1.0\n",
       "3  111   USA  United States  1973  2.333585      1.0\n",
       "4  111   USA  United States  1974  2.333585      1.0"
      ]
     },
     "execution_count": 2,
     "metadata": {},
     "output_type": "execute_result"
    }
   ],
   "source": [
    "kaopen_raw = pd.read_excel(os.path.join(data_path, 'kaopen_2018.xls'))\n",
    "kaopen_raw.head()"
   ]
  },
  {
   "cell_type": "code",
   "execution_count": 3,
   "metadata": {},
   "outputs": [
    {
     "data": {
      "text/html": [
       "<div>\n",
       "<style scoped>\n",
       "    .dataframe tbody tr th:only-of-type {\n",
       "        vertical-align: middle;\n",
       "    }\n",
       "\n",
       "    .dataframe tbody tr th {\n",
       "        vertical-align: top;\n",
       "    }\n",
       "\n",
       "    .dataframe thead th {\n",
       "        text-align: right;\n",
       "    }\n",
       "</style>\n",
       "<table border=\"1\" class=\"dataframe\">\n",
       "  <thead>\n",
       "    <tr style=\"text-align: right;\">\n",
       "      <th></th>\n",
       "      <th>Country Code</th>\n",
       "      <th>Year</th>\n",
       "      <th>KAOPEN</th>\n",
       "    </tr>\n",
       "  </thead>\n",
       "  <tbody>\n",
       "    <tr>\n",
       "      <th>0</th>\n",
       "      <td>USA</td>\n",
       "      <td>1970</td>\n",
       "      <td>2.333585</td>\n",
       "    </tr>\n",
       "    <tr>\n",
       "      <th>1</th>\n",
       "      <td>USA</td>\n",
       "      <td>1971</td>\n",
       "      <td>2.333585</td>\n",
       "    </tr>\n",
       "    <tr>\n",
       "      <th>2</th>\n",
       "      <td>USA</td>\n",
       "      <td>1972</td>\n",
       "      <td>2.333585</td>\n",
       "    </tr>\n",
       "    <tr>\n",
       "      <th>3</th>\n",
       "      <td>USA</td>\n",
       "      <td>1973</td>\n",
       "      <td>2.333585</td>\n",
       "    </tr>\n",
       "    <tr>\n",
       "      <th>4</th>\n",
       "      <td>USA</td>\n",
       "      <td>1974</td>\n",
       "      <td>2.333585</td>\n",
       "    </tr>\n",
       "  </tbody>\n",
       "</table>\n",
       "</div>"
      ],
      "text/plain": [
       "  Country Code  Year    KAOPEN\n",
       "0          USA  1970  2.333585\n",
       "1          USA  1971  2.333585\n",
       "2          USA  1972  2.333585\n",
       "3          USA  1973  2.333585\n",
       "4          USA  1974  2.333585"
      ]
     },
     "execution_count": 3,
     "metadata": {},
     "output_type": "execute_result"
    }
   ],
   "source": [
    "kaopen_reshaped = kaopen_raw[['ccode', 'year', 'kaopen']]\n",
    "kaopen_reshaped.columns = ['Country Code', 'Year', 'KAOPEN']\n",
    "kaopen_reshaped.head()"
   ]
  },
  {
   "cell_type": "code",
   "execution_count": 4,
   "metadata": {},
   "outputs": [],
   "source": [
    "kaopen_reshaped.to_csv(output_path)"
   ]
  },
  {
   "cell_type": "code",
   "execution_count": null,
   "metadata": {},
   "outputs": [],
   "source": []
  }
 ],
 "metadata": {
  "kernelspec": {
   "display_name": "em-2020",
   "language": "python",
   "name": "em-2020"
  },
  "language_info": {
   "codemirror_mode": {
    "name": "ipython",
    "version": 3
   },
   "file_extension": ".py",
   "mimetype": "text/x-python",
   "name": "python",
   "nbconvert_exporter": "python",
   "pygments_lexer": "ipython3",
   "version": "3.7.5"
  }
 },
 "nbformat": 4,
 "nbformat_minor": 4
}
