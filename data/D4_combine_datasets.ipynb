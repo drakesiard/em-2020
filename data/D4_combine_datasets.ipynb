{
 "cells": [
  {
   "cell_type": "code",
   "execution_count": 1,
   "metadata": {},
   "outputs": [],
   "source": [
    "import numpy as np\n",
    "import os\n",
    "import pandas as pd\n",
    "\n",
    "# find target path for data files, assuming the notebook is in the right place\n",
    "data_path = _dh[0]\n",
    "assert data_path.endswith(os.path.join('em-2020','data'))\n",
    "\n",
    "output_path = os.path.join(data_path, 'combined_dataset_raw.csv')"
   ]
  },
  {
   "cell_type": "code",
   "execution_count": 2,
   "metadata": {},
   "outputs": [],
   "source": [
    "country_groups = pd.read_excel(os.path.join(data_path, 'CLASS.xls'), sheet_name='Groups')\n",
    "country_group_map = {k: set(v['CountryCode']) for k, v in country_groups.groupby('GroupCode')}\n",
    "all_countries = country_group_map['WLD']"
   ]
  },
  {
   "cell_type": "code",
   "execution_count": 3,
   "metadata": {},
   "outputs": [],
   "source": [
    "wdi_path = os.path.join(data_path, 'WDI_reshaped.csv')\n",
    "wdi_data = pd.read_csv(wdi_path).set_index(['Country Code', 'Year'])\n",
    "is_country = wdi_data.index.get_level_values('Country Code').isin(all_countries)\n",
    "\n",
    "wipo_path = os.path.join(data_path, 'WIPO_reshaped.csv')\n",
    "wipo_data = pd.read_csv(wipo_path).set_index(['Country Code', 'Year'])\n",
    "assert set(all_countries).issuperset(wipo_data.index.levels[0])\n",
    "\n",
    "chinn_ito_path = os.path.join(data_path, 'ChinnIto_reshaped.csv')\n",
    "chinn_ito_data = pd.read_csv(chinn_ito_path).set_index(['Country Code', 'Year'])\n",
    "assert set(all_countries).issuperset(chinn_ito_data.index.levels[0])"
   ]
  },
  {
   "cell_type": "markdown",
   "metadata": {},
   "source": [
    "## Copy over raw data/simple transformations:"
   ]
  },
  {
   "cell_type": "code",
   "execution_count": 4,
   "metadata": {},
   "outputs": [],
   "source": [
    "combined = pd.DataFrame()\n",
    "combined['ENI'] = 1. / wdi_data['EG.GDP.PUSE.KO.PP.KD']\n",
    "combined['POP'] = wdi_data['EN.POP.DNST']\n",
    "combined['URB'] = wdi_data['SP.URB.TOTL.IN.ZS']\n",
    "combined['AFL'] = wdi_data['NY.GDP.PCAP.PP.KD']"
   ]
  },
  {
   "cell_type": "code",
   "execution_count": 5,
   "metadata": {},
   "outputs": [
    {
     "data": {
      "text/html": [
       "<div>\n",
       "<style scoped>\n",
       "    .dataframe tbody tr th:only-of-type {\n",
       "        vertical-align: middle;\n",
       "    }\n",
       "\n",
       "    .dataframe tbody tr th {\n",
       "        vertical-align: top;\n",
       "    }\n",
       "\n",
       "    .dataframe thead th {\n",
       "        text-align: right;\n",
       "    }\n",
       "</style>\n",
       "<table border=\"1\" class=\"dataframe\">\n",
       "  <thead>\n",
       "    <tr style=\"text-align: right;\">\n",
       "      <th></th>\n",
       "      <th></th>\n",
       "      <th>ENI</th>\n",
       "      <th>POP</th>\n",
       "      <th>URB</th>\n",
       "      <th>AFL</th>\n",
       "    </tr>\n",
       "    <tr>\n",
       "      <th>Country Code</th>\n",
       "      <th>Year</th>\n",
       "      <th></th>\n",
       "      <th></th>\n",
       "      <th></th>\n",
       "      <th></th>\n",
       "    </tr>\n",
       "  </thead>\n",
       "  <tbody>\n",
       "    <tr>\n",
       "      <th rowspan=\"5\" valign=\"top\">FRA</th>\n",
       "      <th>2015</th>\n",
       "      <td>0.08477</td>\n",
       "      <td>121.536704</td>\n",
       "      <td>79.655</td>\n",
       "      <td>43553.399292</td>\n",
       "    </tr>\n",
       "    <tr>\n",
       "      <th>2016</th>\n",
       "      <td>NaN</td>\n",
       "      <td>121.857825</td>\n",
       "      <td>79.917</td>\n",
       "      <td>43914.481647</td>\n",
       "    </tr>\n",
       "    <tr>\n",
       "      <th>2017</th>\n",
       "      <td>NaN</td>\n",
       "      <td>122.114008</td>\n",
       "      <td>80.180</td>\n",
       "      <td>44826.507474</td>\n",
       "    </tr>\n",
       "    <tr>\n",
       "      <th>2018</th>\n",
       "      <td>NaN</td>\n",
       "      <td>122.299437</td>\n",
       "      <td>80.444</td>\n",
       "      <td>45561.001768</td>\n",
       "    </tr>\n",
       "    <tr>\n",
       "      <th>2019</th>\n",
       "      <td>NaN</td>\n",
       "      <td>NaN</td>\n",
       "      <td>80.709</td>\n",
       "      <td>46183.521790</td>\n",
       "    </tr>\n",
       "  </tbody>\n",
       "</table>\n",
       "</div>"
      ],
      "text/plain": [
       "                       ENI         POP     URB           AFL\n",
       "Country Code Year                                           \n",
       "FRA          2015  0.08477  121.536704  79.655  43553.399292\n",
       "             2016      NaN  121.857825  79.917  43914.481647\n",
       "             2017      NaN  122.114008  80.180  44826.507474\n",
       "             2018      NaN  122.299437  80.444  45561.001768\n",
       "             2019      NaN         NaN  80.709  46183.521790"
      ]
     },
     "execution_count": 5,
     "metadata": {},
     "output_type": "execute_result"
    }
   ],
   "source": [
    "combined.xs('FRA', level='Country Code', drop_level=False).tail()"
   ]
  },
  {
   "cell_type": "markdown",
   "metadata": {},
   "source": [
    "## Combine WB WDI and WIPO patent data"
   ]
  },
  {
   "cell_type": "code",
   "execution_count": 6,
   "metadata": {},
   "outputs": [],
   "source": [
    "wb_patents = wdi_data[['IP.PAT.RESD', 'IP.PAT.NRES']].sum(axis='columns')\n",
    "wipo_patents = wipo_data['WIPO patents']\n",
    "\n",
    "patent_df = pd.DataFrame({'WB': wb_patents, 'WIPO': wipo_patents})\n",
    "patent_df.replace(0., np.nan, inplace=True)\n",
    "missing = patent_df.isnull().any(axis=1) \n",
    "mismatch = ~missing & (patent_df['WB'] != patent_df['WIPO'])"
   ]
  },
  {
   "cell_type": "code",
   "execution_count": 7,
   "metadata": {},
   "outputs": [
    {
     "data": {
      "text/html": [
       "<div>\n",
       "<style scoped>\n",
       "    .dataframe tbody tr th:only-of-type {\n",
       "        vertical-align: middle;\n",
       "    }\n",
       "\n",
       "    .dataframe tbody tr th {\n",
       "        vertical-align: top;\n",
       "    }\n",
       "\n",
       "    .dataframe thead th {\n",
       "        text-align: right;\n",
       "    }\n",
       "</style>\n",
       "<table border=\"1\" class=\"dataframe\">\n",
       "  <thead>\n",
       "    <tr style=\"text-align: right;\">\n",
       "      <th></th>\n",
       "      <th></th>\n",
       "      <th>WB</th>\n",
       "      <th>WIPO</th>\n",
       "    </tr>\n",
       "    <tr>\n",
       "      <th>Country Code</th>\n",
       "      <th>Year</th>\n",
       "      <th></th>\n",
       "      <th></th>\n",
       "    </tr>\n",
       "  </thead>\n",
       "  <tbody>\n",
       "  </tbody>\n",
       "</table>\n",
       "</div>"
      ],
      "text/plain": [
       "Empty DataFrame\n",
       "Columns: [WB, WIPO]\n",
       "Index: []"
      ]
     },
     "execution_count": 7,
     "metadata": {},
     "output_type": "execute_result"
    }
   ],
   "source": [
    "patent_df.loc[mismatch]"
   ]
  },
  {
   "cell_type": "code",
   "execution_count": 8,
   "metadata": {},
   "outputs": [
    {
     "data": {
      "text/html": [
       "<div>\n",
       "<style scoped>\n",
       "    .dataframe tbody tr th:only-of-type {\n",
       "        vertical-align: middle;\n",
       "    }\n",
       "\n",
       "    .dataframe tbody tr th {\n",
       "        vertical-align: top;\n",
       "    }\n",
       "\n",
       "    .dataframe thead th {\n",
       "        text-align: right;\n",
       "    }\n",
       "</style>\n",
       "<table border=\"1\" class=\"dataframe\">\n",
       "  <thead>\n",
       "    <tr style=\"text-align: right;\">\n",
       "      <th></th>\n",
       "      <th></th>\n",
       "      <th>WB</th>\n",
       "      <th>WIPO</th>\n",
       "    </tr>\n",
       "    <tr>\n",
       "      <th>Country Code</th>\n",
       "      <th>Year</th>\n",
       "      <th></th>\n",
       "      <th></th>\n",
       "    </tr>\n",
       "  </thead>\n",
       "  <tbody>\n",
       "    <tr>\n",
       "      <th rowspan=\"5\" valign=\"top\">COD</th>\n",
       "      <th>1980</th>\n",
       "      <td>103.0</td>\n",
       "      <td>NaN</td>\n",
       "    </tr>\n",
       "    <tr>\n",
       "      <th>1981</th>\n",
       "      <td>82.0</td>\n",
       "      <td>NaN</td>\n",
       "    </tr>\n",
       "    <tr>\n",
       "      <th>1982</th>\n",
       "      <td>99.0</td>\n",
       "      <td>NaN</td>\n",
       "    </tr>\n",
       "    <tr>\n",
       "      <th>1983</th>\n",
       "      <td>72.0</td>\n",
       "      <td>NaN</td>\n",
       "    </tr>\n",
       "    <tr>\n",
       "      <th>1984</th>\n",
       "      <td>94.0</td>\n",
       "      <td>NaN</td>\n",
       "    </tr>\n",
       "  </tbody>\n",
       "</table>\n",
       "</div>"
      ],
      "text/plain": [
       "                      WB  WIPO\n",
       "Country Code Year             \n",
       "COD          1980  103.0   NaN\n",
       "             1981   82.0   NaN\n",
       "             1982   99.0   NaN\n",
       "             1983   72.0   NaN\n",
       "             1984   94.0   NaN"
      ]
     },
     "execution_count": 8,
     "metadata": {},
     "output_type": "execute_result"
    }
   ],
   "source": [
    "patent_df.loc[~patent_df['WB'].isnull() \n",
    "              & patent_df['WIPO'].isnull()\n",
    "             ].drop('WLD', level='Country Code')"
   ]
  },
  {
   "cell_type": "code",
   "execution_count": 9,
   "metadata": {},
   "outputs": [
    {
     "data": {
      "text/html": [
       "<div>\n",
       "<style scoped>\n",
       "    .dataframe tbody tr th:only-of-type {\n",
       "        vertical-align: middle;\n",
       "    }\n",
       "\n",
       "    .dataframe tbody tr th {\n",
       "        vertical-align: top;\n",
       "    }\n",
       "\n",
       "    .dataframe thead th {\n",
       "        text-align: right;\n",
       "    }\n",
       "</style>\n",
       "<table border=\"1\" class=\"dataframe\">\n",
       "  <thead>\n",
       "    <tr style=\"text-align: right;\">\n",
       "      <th></th>\n",
       "      <th></th>\n",
       "      <th>WB</th>\n",
       "      <th>WIPO</th>\n",
       "    </tr>\n",
       "    <tr>\n",
       "      <th>Country Code</th>\n",
       "      <th>Year</th>\n",
       "      <th></th>\n",
       "      <th></th>\n",
       "    </tr>\n",
       "  </thead>\n",
       "  <tbody>\n",
       "    <tr>\n",
       "      <th rowspan=\"5\" valign=\"top\">ALB</th>\n",
       "      <th>1993</th>\n",
       "      <td>NaN</td>\n",
       "      <td>16.0</td>\n",
       "    </tr>\n",
       "    <tr>\n",
       "      <th>1994</th>\n",
       "      <td>NaN</td>\n",
       "      <td>8.0</td>\n",
       "    </tr>\n",
       "    <tr>\n",
       "      <th>1995</th>\n",
       "      <td>NaN</td>\n",
       "      <td>5.0</td>\n",
       "    </tr>\n",
       "    <tr>\n",
       "      <th>1996</th>\n",
       "      <td>NaN</td>\n",
       "      <td>5.0</td>\n",
       "    </tr>\n",
       "    <tr>\n",
       "      <th>1998</th>\n",
       "      <td>NaN</td>\n",
       "      <td>21.0</td>\n",
       "    </tr>\n",
       "    <tr>\n",
       "      <th>...</th>\n",
       "      <th>...</th>\n",
       "      <td>...</td>\n",
       "      <td>...</td>\n",
       "    </tr>\n",
       "    <tr>\n",
       "      <th>SYR</th>\n",
       "      <th>2016</th>\n",
       "      <td>NaN</td>\n",
       "      <td>112.0</td>\n",
       "    </tr>\n",
       "    <tr>\n",
       "      <th rowspan=\"2\" valign=\"top\">YEM</th>\n",
       "      <th>2008</th>\n",
       "      <td>NaN</td>\n",
       "      <td>85.0</td>\n",
       "    </tr>\n",
       "    <tr>\n",
       "      <th>2009</th>\n",
       "      <td>NaN</td>\n",
       "      <td>72.0</td>\n",
       "    </tr>\n",
       "    <tr>\n",
       "      <th rowspan=\"2\" valign=\"top\">ZWE</th>\n",
       "      <th>2013</th>\n",
       "      <td>NaN</td>\n",
       "      <td>23.0</td>\n",
       "    </tr>\n",
       "    <tr>\n",
       "      <th>2014</th>\n",
       "      <td>NaN</td>\n",
       "      <td>27.0</td>\n",
       "    </tr>\n",
       "  </tbody>\n",
       "</table>\n",
       "<p>165 rows × 2 columns</p>\n",
       "</div>"
      ],
      "text/plain": [
       "                   WB   WIPO\n",
       "Country Code Year           \n",
       "ALB          1993 NaN   16.0\n",
       "             1994 NaN    8.0\n",
       "             1995 NaN    5.0\n",
       "             1996 NaN    5.0\n",
       "             1998 NaN   21.0\n",
       "...                ..    ...\n",
       "SYR          2016 NaN  112.0\n",
       "YEM          2008 NaN   85.0\n",
       "             2009 NaN   72.0\n",
       "ZWE          2013 NaN   23.0\n",
       "             2014 NaN   27.0\n",
       "\n",
       "[165 rows x 2 columns]"
      ]
     },
     "execution_count": 9,
     "metadata": {},
     "output_type": "execute_result"
    }
   ],
   "source": [
    "patent_df.loc[~patent_df['WIPO'].isnull() \n",
    "              & patent_df['WB'].isnull()\n",
    "             ]"
   ]
  },
  {
   "cell_type": "markdown",
   "metadata": {},
   "source": [
    "## Convert patent count to per capita measure"
   ]
  },
  {
   "cell_type": "code",
   "execution_count": 10,
   "metadata": {},
   "outputs": [],
   "source": [
    "patent_count = patent_df['WB'].combine_first(patent_df['WIPO'])\n",
    "combined['TI'] = patent_count / wdi_data['SP.POP.TOTL'] * 1e5"
   ]
  },
  {
   "cell_type": "code",
   "execution_count": 11,
   "metadata": {},
   "outputs": [
    {
     "data": {
      "text/html": [
       "<div>\n",
       "<style scoped>\n",
       "    .dataframe tbody tr th:only-of-type {\n",
       "        vertical-align: middle;\n",
       "    }\n",
       "\n",
       "    .dataframe tbody tr th {\n",
       "        vertical-align: top;\n",
       "    }\n",
       "\n",
       "    .dataframe thead th {\n",
       "        text-align: right;\n",
       "    }\n",
       "</style>\n",
       "<table border=\"1\" class=\"dataframe\">\n",
       "  <thead>\n",
       "    <tr style=\"text-align: right;\">\n",
       "      <th></th>\n",
       "      <th></th>\n",
       "      <th>ENI</th>\n",
       "      <th>POP</th>\n",
       "      <th>URB</th>\n",
       "      <th>AFL</th>\n",
       "      <th>TI</th>\n",
       "    </tr>\n",
       "    <tr>\n",
       "      <th>Country Code</th>\n",
       "      <th>Year</th>\n",
       "      <th></th>\n",
       "      <th></th>\n",
       "      <th></th>\n",
       "      <th></th>\n",
       "      <th></th>\n",
       "    </tr>\n",
       "  </thead>\n",
       "  <tbody>\n",
       "    <tr>\n",
       "      <th rowspan=\"5\" valign=\"top\">FRA</th>\n",
       "      <th>2015</th>\n",
       "      <td>0.08477</td>\n",
       "      <td>121.536704</td>\n",
       "      <td>79.655</td>\n",
       "      <td>43553.399292</td>\n",
       "      <td>24.493498</td>\n",
       "    </tr>\n",
       "    <tr>\n",
       "      <th>2016</th>\n",
       "      <td>NaN</td>\n",
       "      <td>121.857825</td>\n",
       "      <td>79.917</td>\n",
       "      <td>43914.481647</td>\n",
       "      <td>24.306059</td>\n",
       "    </tr>\n",
       "    <tr>\n",
       "      <th>2017</th>\n",
       "      <td>NaN</td>\n",
       "      <td>122.114008</td>\n",
       "      <td>80.180</td>\n",
       "      <td>44826.507474</td>\n",
       "      <td>24.298438</td>\n",
       "    </tr>\n",
       "    <tr>\n",
       "      <th>2018</th>\n",
       "      <td>NaN</td>\n",
       "      <td>122.299437</td>\n",
       "      <td>80.444</td>\n",
       "      <td>45561.001768</td>\n",
       "      <td>24.224265</td>\n",
       "    </tr>\n",
       "    <tr>\n",
       "      <th>2019</th>\n",
       "      <td>NaN</td>\n",
       "      <td>NaN</td>\n",
       "      <td>80.709</td>\n",
       "      <td>46183.521790</td>\n",
       "      <td>NaN</td>\n",
       "    </tr>\n",
       "  </tbody>\n",
       "</table>\n",
       "</div>"
      ],
      "text/plain": [
       "                       ENI         POP     URB           AFL         TI\n",
       "Country Code Year                                                      \n",
       "FRA          2015  0.08477  121.536704  79.655  43553.399292  24.493498\n",
       "             2016      NaN  121.857825  79.917  43914.481647  24.306059\n",
       "             2017      NaN  122.114008  80.180  44826.507474  24.298438\n",
       "             2018      NaN  122.299437  80.444  45561.001768  24.224265\n",
       "             2019      NaN         NaN  80.709  46183.521790        NaN"
      ]
     },
     "execution_count": 11,
     "metadata": {},
     "output_type": "execute_result"
    }
   ],
   "source": [
    "combined.xs('FRA', level='Country Code', drop_level=False).tail()"
   ]
  },
  {
   "cell_type": "markdown",
   "metadata": {},
   "source": [
    "## Construct Squalli and Wilson (2011) CTS indicator"
   ]
  },
  {
   "cell_type": "code",
   "execution_count": 12,
   "metadata": {},
   "outputs": [
    {
     "data": {
      "text/plain": [
       "Country Code  Year\n",
       "USA           1999    0.232735\n",
       "              2000    0.250436\n",
       "              2001    0.228430\n",
       "dtype: float64"
      ]
     },
     "execution_count": 12,
     "metadata": {},
     "output_type": "execute_result"
    }
   ],
   "source": [
    "country_data = wdi_data.loc[is_country]\n",
    "trade = country_data['NE.IMP.GNFS.CD'] + country_data['NE.EXP.GNFS.CD']\n",
    "gdp = country_data['NY.GDP.MKTP.CD']\n",
    "TS = trade / gdp\n",
    "combined['TS'] = TS\n",
    "TS.loc[pd.IndexSlice[['USA'], 1999:2001]]"
   ]
  },
  {
   "cell_type": "code",
   "execution_count": 13,
   "metadata": {},
   "outputs": [
    {
     "data": {
      "text/plain": [
       "Country Code  Year\n",
       "USA           1999    0.163413\n",
       "              2000    0.168332\n",
       "              2001    0.161606\n",
       "dtype: float64"
      ]
     },
     "execution_count": 13,
     "metadata": {},
     "output_type": "execute_result"
    }
   ],
   "source": [
    "world_trade = trade.groupby(level='Year').sum()\n",
    "WTS = trade.groupby(level='Country Code').transform(lambda x: x.divide(world_trade))\n",
    "WTS.loc[pd.IndexSlice[['USA'], 1999:2001]]"
   ]
  },
  {
   "cell_type": "code",
   "execution_count": 14,
   "metadata": {},
   "outputs": [
    {
     "data": {
      "text/plain": [
       "Year\n",
       "1999    0.005848\n",
       "2000    0.005682\n",
       "2001    0.005682\n",
       "dtype: float64"
      ]
     },
     "execution_count": 14,
     "metadata": {},
     "output_type": "execute_result"
    }
   ],
   "source": [
    "WTS_mean = WTS.groupby(level='Year').mean()\n",
    "WTS_mean.loc[1999:2001]"
   ]
  },
  {
   "cell_type": "code",
   "execution_count": 15,
   "metadata": {},
   "outputs": [
    {
     "data": {
      "text/plain": [
       "Country Code  Year\n",
       "USA           1999    27.943636\n",
       "              2000    29.626372\n",
       "              2001    28.442691\n",
       "dtype: float64"
      ]
     },
     "execution_count": 15,
     "metadata": {},
     "output_type": "execute_result"
    }
   ],
   "source": [
    "relative_WTS = WTS.divide(WTS_mean)\n",
    "relative_WTS.loc[pd.IndexSlice[['USA'], 1999:2001]]"
   ]
  },
  {
   "cell_type": "code",
   "execution_count": 16,
   "metadata": {},
   "outputs": [
    {
     "data": {
      "text/plain": [
       "Country Code  Year\n",
       "USA           1999    6.503455\n",
       "              2000    7.419520\n",
       "              2001    6.497152\n",
       "dtype: float64"
      ]
     },
     "execution_count": 16,
     "metadata": {},
     "output_type": "execute_result"
    }
   ],
   "source": [
    "CTS = relative_WTS.multiply(TS)\n",
    "combined['CTS'] = CTS\n",
    "CTS.loc[pd.IndexSlice[['USA'], 1999:2001]]"
   ]
  },
  {
   "cell_type": "code",
   "execution_count": 17,
   "metadata": {},
   "outputs": [
    {
     "data": {
      "text/plain": [
       "Country Code\n",
       "FRA     4.904961\n",
       "GBR     5.198786\n",
       "MYS     5.257304\n",
       "BEL     5.513525\n",
       "CAN     5.906451\n",
       "USA     7.419520\n",
       "NLD     7.570988\n",
       "DEU     8.487531\n",
       "HKG    12.148940\n",
       "SGP    14.717636\n",
       "dtype: float64"
      ]
     },
     "execution_count": 17,
     "metadata": {},
     "output_type": "execute_result"
    }
   ],
   "source": [
    "CTS.xs(2000, level='Year').dropna().sort_values().tail(10)"
   ]
  },
  {
   "cell_type": "markdown",
   "metadata": {},
   "source": [
    "# Add Chinn-Ito capital openness index"
   ]
  },
  {
   "cell_type": "code",
   "execution_count": 18,
   "metadata": {},
   "outputs": [
    {
     "data": {
      "text/plain": [
       "Country Code  Year\n",
       "ROU           2000   -1.218540\n",
       "              2001   -1.218540\n",
       "              2002   -0.014185\n",
       "              2003    0.241338\n",
       "              2004    1.567014\n",
       "              2005    1.822538\n",
       "              2006    2.078061\n",
       "              2007    2.333585\n",
       "              2008    2.333585\n",
       "              2009    2.333585\n",
       "              2010    2.333585\n",
       "Name: KAOPEN, dtype: float64"
      ]
     },
     "execution_count": 18,
     "metadata": {},
     "output_type": "execute_result"
    }
   ],
   "source": [
    "combined['KAOPEN'] = chinn_ito_data['KAOPEN']\n",
    "combined['KAOPEN'].loc[pd.IndexSlice[['ROU'], 2000:2010]]"
   ]
  },
  {
   "cell_type": "markdown",
   "metadata": {},
   "source": [
    "# Save out combined dataset"
   ]
  },
  {
   "cell_type": "code",
   "execution_count": 19,
   "metadata": {},
   "outputs": [
    {
     "data": {
      "text/html": [
       "<div>\n",
       "<style scoped>\n",
       "    .dataframe tbody tr th:only-of-type {\n",
       "        vertical-align: middle;\n",
       "    }\n",
       "\n",
       "    .dataframe tbody tr th {\n",
       "        vertical-align: top;\n",
       "    }\n",
       "\n",
       "    .dataframe thead th {\n",
       "        text-align: right;\n",
       "    }\n",
       "</style>\n",
       "<table border=\"1\" class=\"dataframe\">\n",
       "  <thead>\n",
       "    <tr style=\"text-align: right;\">\n",
       "      <th></th>\n",
       "      <th>ENI</th>\n",
       "      <th>POP</th>\n",
       "      <th>URB</th>\n",
       "      <th>AFL</th>\n",
       "      <th>TI</th>\n",
       "      <th>TS</th>\n",
       "      <th>CTS</th>\n",
       "      <th>KAOPEN</th>\n",
       "    </tr>\n",
       "    <tr>\n",
       "      <th>Country Code</th>\n",
       "      <th></th>\n",
       "      <th></th>\n",
       "      <th></th>\n",
       "      <th></th>\n",
       "      <th></th>\n",
       "      <th></th>\n",
       "      <th></th>\n",
       "      <th></th>\n",
       "    </tr>\n",
       "  </thead>\n",
       "  <tbody>\n",
       "    <tr>\n",
       "      <th>ABW</th>\n",
       "      <td>NaN</td>\n",
       "      <td>504.738889</td>\n",
       "      <td>46.717</td>\n",
       "      <td>41022.321554</td>\n",
       "      <td>NaN</td>\n",
       "      <td>1.450732</td>\n",
       "      <td>0.045496</td>\n",
       "      <td>-1.218540</td>\n",
       "    </tr>\n",
       "    <tr>\n",
       "      <th>AFG</th>\n",
       "      <td>NaN</td>\n",
       "      <td>31.829110</td>\n",
       "      <td>22.078</td>\n",
       "      <td>NaN</td>\n",
       "      <td>NaN</td>\n",
       "      <td>NaN</td>\n",
       "      <td>NaN</td>\n",
       "      <td>-1.920278</td>\n",
       "    </tr>\n",
       "    <tr>\n",
       "      <th>AGO</th>\n",
       "      <td>0.093161</td>\n",
       "      <td>13.151097</td>\n",
       "      <td>50.087</td>\n",
       "      <td>4707.441555</td>\n",
       "      <td>NaN</td>\n",
       "      <td>1.525471</td>\n",
       "      <td>0.245142</td>\n",
       "      <td>-1.218540</td>\n",
       "    </tr>\n",
       "    <tr>\n",
       "      <th>ALB</th>\n",
       "      <td>0.096493</td>\n",
       "      <td>112.738212</td>\n",
       "      <td>41.741</td>\n",
       "      <td>6015.897444</td>\n",
       "      <td>2.007105</td>\n",
       "      <td>0.634541</td>\n",
       "      <td>0.016170</td>\n",
       "      <td>-0.148388</td>\n",
       "    </tr>\n",
       "    <tr>\n",
       "      <th>AND</th>\n",
       "      <td>NaN</td>\n",
       "      <td>139.127660</td>\n",
       "      <td>92.395</td>\n",
       "      <td>NaN</td>\n",
       "      <td>NaN</td>\n",
       "      <td>NaN</td>\n",
       "      <td>NaN</td>\n",
       "      <td>NaN</td>\n",
       "    </tr>\n",
       "    <tr>\n",
       "      <th>...</th>\n",
       "      <td>...</td>\n",
       "      <td>...</td>\n",
       "      <td>...</td>\n",
       "      <td>...</td>\n",
       "      <td>...</td>\n",
       "      <td>...</td>\n",
       "      <td>...</td>\n",
       "      <td>...</td>\n",
       "    </tr>\n",
       "    <tr>\n",
       "      <th>XKX</th>\n",
       "      <td>0.192685</td>\n",
       "      <td>156.149536</td>\n",
       "      <td>NaN</td>\n",
       "      <td>4715.502918</td>\n",
       "      <td>NaN</td>\n",
       "      <td>NaN</td>\n",
       "      <td>NaN</td>\n",
       "      <td>NaN</td>\n",
       "    </tr>\n",
       "    <tr>\n",
       "      <th>YEM</th>\n",
       "      <td>NaN</td>\n",
       "      <td>32.973601</td>\n",
       "      <td>26.267</td>\n",
       "      <td>NaN</td>\n",
       "      <td>0.166580</td>\n",
       "      <td>NaN</td>\n",
       "      <td>NaN</td>\n",
       "      <td>2.333585</td>\n",
       "    </tr>\n",
       "    <tr>\n",
       "      <th>ZAF</th>\n",
       "      <td>0.240353</td>\n",
       "      <td>37.068732</td>\n",
       "      <td>56.891</td>\n",
       "      <td>10088.853369</td>\n",
       "      <td>7.327480</td>\n",
       "      <td>0.514378</td>\n",
       "      <td>0.416307</td>\n",
       "      <td>-1.218540</td>\n",
       "    </tr>\n",
       "    <tr>\n",
       "      <th>ZMB</th>\n",
       "      <td>0.301394</td>\n",
       "      <td>14.011413</td>\n",
       "      <td>34.802</td>\n",
       "      <td>1990.862897</td>\n",
       "      <td>NaN</td>\n",
       "      <td>0.603875</td>\n",
       "      <td>0.015151</td>\n",
       "      <td>2.333585</td>\n",
       "    </tr>\n",
       "    <tr>\n",
       "      <th>ZWE</th>\n",
       "      <td>0.242517</td>\n",
       "      <td>30.713395</td>\n",
       "      <td>33.758</td>\n",
       "      <td>3473.429801</td>\n",
       "      <td>NaN</td>\n",
       "      <td>0.740674</td>\n",
       "      <td>0.042348</td>\n",
       "      <td>-1.218540</td>\n",
       "    </tr>\n",
       "  </tbody>\n",
       "</table>\n",
       "<p>218 rows × 8 columns</p>\n",
       "</div>"
      ],
      "text/plain": [
       "                   ENI         POP     URB           AFL        TI        TS  \\\n",
       "Country Code                                                                   \n",
       "ABW                NaN  504.738889  46.717  41022.321554       NaN  1.450732   \n",
       "AFG                NaN   31.829110  22.078           NaN       NaN       NaN   \n",
       "AGO           0.093161   13.151097  50.087   4707.441555       NaN  1.525471   \n",
       "ALB           0.096493  112.738212  41.741   6015.897444  2.007105  0.634541   \n",
       "AND                NaN  139.127660  92.395           NaN       NaN       NaN   \n",
       "...                ...         ...     ...           ...       ...       ...   \n",
       "XKX           0.192685  156.149536     NaN   4715.502918       NaN       NaN   \n",
       "YEM                NaN   32.973601  26.267           NaN  0.166580       NaN   \n",
       "ZAF           0.240353   37.068732  56.891  10088.853369  7.327480  0.514378   \n",
       "ZMB           0.301394   14.011413  34.802   1990.862897       NaN  0.603875   \n",
       "ZWE           0.242517   30.713395  33.758   3473.429801       NaN  0.740674   \n",
       "\n",
       "                   CTS    KAOPEN  \n",
       "Country Code                      \n",
       "ABW           0.045496 -1.218540  \n",
       "AFG                NaN -1.920278  \n",
       "AGO           0.245142 -1.218540  \n",
       "ALB           0.016170 -0.148388  \n",
       "AND                NaN       NaN  \n",
       "...                ...       ...  \n",
       "XKX                NaN       NaN  \n",
       "YEM                NaN  2.333585  \n",
       "ZAF           0.416307 -1.218540  \n",
       "ZMB           0.015151  2.333585  \n",
       "ZWE           0.042348 -1.218540  \n",
       "\n",
       "[218 rows x 8 columns]"
      ]
     },
     "execution_count": 19,
     "metadata": {},
     "output_type": "execute_result"
    }
   ],
   "source": [
    "combined.xs(2000, level='Year')"
   ]
  },
  {
   "cell_type": "code",
   "execution_count": 20,
   "metadata": {},
   "outputs": [],
   "source": [
    "combined.to_csv(output_path)"
   ]
  },
  {
   "cell_type": "code",
   "execution_count": null,
   "metadata": {},
   "outputs": [],
   "source": []
  }
 ],
 "metadata": {
  "kernelspec": {
   "display_name": "em-2020",
   "language": "python",
   "name": "em-2020"
  },
  "language_info": {
   "codemirror_mode": {
    "name": "ipython",
    "version": 3
   },
   "file_extension": ".py",
   "mimetype": "text/x-python",
   "name": "python",
   "nbconvert_exporter": "python",
   "pygments_lexer": "ipython3",
   "version": "3.7.5"
  }
 },
 "nbformat": 4,
 "nbformat_minor": 4
}
