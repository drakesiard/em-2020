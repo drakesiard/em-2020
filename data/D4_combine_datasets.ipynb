{
 "cells": [
  {
   "cell_type": "code",
   "execution_count": 101,
   "metadata": {},
   "outputs": [],
   "source": [
    "import numpy as np\n",
    "import os\n",
    "import pandas as pd\n",
    "\n",
    "# find target path for data files, assuming the notebook is in the right place\n",
    "data_path = _dh[0]\n",
    "assert data_path.endswith(os.path.join('em-2020','data'))\n",
    "\n",
    "output_path = os.path.join(data_path, 'combined_dataset_raw.csv')"
   ]
  },
  {
   "cell_type": "code",
   "execution_count": 102,
   "metadata": {},
   "outputs": [],
   "source": [
    "country_groups = pd.read_excel(os.path.join(data_path, 'CLASS.xls'), sheet_name='Groups')\n",
    "country_group_map = {k: set(v['CountryCode']) for k, v in country_groups.groupby('GroupCode')}\n",
    "all_countries = country_group_map['WLD']"
   ]
  },
  {
   "cell_type": "code",
   "execution_count": 103,
   "metadata": {},
   "outputs": [],
   "source": [
    "wdi_path = os.path.join(data_path, 'WDI_reshaped.csv')\n",
    "wdi_data = pd.read_csv(wdi_path).set_index(['Country Code', 'Year'])\n",
    "is_country = wdi_data.index.get_level_values('Country Code').isin(all_countries)\n",
    "\n",
    "wipo_path = os.path.join(data_path, 'WIPO_reshaped.csv')\n",
    "wipo_data = pd.read_csv(wipo_path).set_index(['Country Code', 'Year'])\n",
    "assert set(all_countries).issuperset(wipo_data.index.levels[0])\n",
    "\n",
    "chinn_ito_path = os.path.join(data_path, 'ChinnIto_reshaped.csv')\n",
    "chinn_ito_data = pd.read_csv(wipo_path).set_index(['Country Code', 'Year'])\n",
    "assert set(all_countries).issuperset(chinn_ito_data.index.levels[0])"
   ]
  },
  {
   "cell_type": "markdown",
   "metadata": {},
   "source": [
    "## Copy over raw data/simple transformations:"
   ]
  },
  {
   "cell_type": "code",
   "execution_count": 104,
   "metadata": {},
   "outputs": [],
   "source": [
    "combined = pd.DataFrame()\n",
    "combined['ENI'] = 1. / wdi_data['EG.GDP.PUSE.KO.PP.KD']\n",
    "combined['POP'] = wdi_data['EN.POP.DNST']\n",
    "combined['URB'] = wdi_data['SP.URB.TOTL.IN.ZS']\n",
    "combined['AFL'] = wdi_data['NY.GDP.PCAP.PP.KD']"
   ]
  },
  {
   "cell_type": "code",
   "execution_count": 105,
   "metadata": {},
   "outputs": [
    {
     "data": {
      "text/html": [
       "<div>\n",
       "<style scoped>\n",
       "    .dataframe tbody tr th:only-of-type {\n",
       "        vertical-align: middle;\n",
       "    }\n",
       "\n",
       "    .dataframe tbody tr th {\n",
       "        vertical-align: top;\n",
       "    }\n",
       "\n",
       "    .dataframe thead th {\n",
       "        text-align: right;\n",
       "    }\n",
       "</style>\n",
       "<table border=\"1\" class=\"dataframe\">\n",
       "  <thead>\n",
       "    <tr style=\"text-align: right;\">\n",
       "      <th></th>\n",
       "      <th></th>\n",
       "      <th>ENI</th>\n",
       "      <th>POP</th>\n",
       "      <th>URB</th>\n",
       "      <th>AFL</th>\n",
       "    </tr>\n",
       "    <tr>\n",
       "      <th>Country Code</th>\n",
       "      <th>Year</th>\n",
       "      <th></th>\n",
       "      <th></th>\n",
       "      <th></th>\n",
       "      <th></th>\n",
       "    </tr>\n",
       "  </thead>\n",
       "  <tbody>\n",
       "    <tr>\n",
       "      <th rowspan=\"5\" valign=\"top\">FRA</th>\n",
       "      <th>2015</th>\n",
       "      <td>0.08477</td>\n",
       "      <td>121.536704</td>\n",
       "      <td>79.655</td>\n",
       "      <td>43553.399292</td>\n",
       "    </tr>\n",
       "    <tr>\n",
       "      <th>2016</th>\n",
       "      <td>NaN</td>\n",
       "      <td>121.857825</td>\n",
       "      <td>79.917</td>\n",
       "      <td>43914.481647</td>\n",
       "    </tr>\n",
       "    <tr>\n",
       "      <th>2017</th>\n",
       "      <td>NaN</td>\n",
       "      <td>122.114008</td>\n",
       "      <td>80.180</td>\n",
       "      <td>44826.507474</td>\n",
       "    </tr>\n",
       "    <tr>\n",
       "      <th>2018</th>\n",
       "      <td>NaN</td>\n",
       "      <td>122.299437</td>\n",
       "      <td>80.444</td>\n",
       "      <td>45561.001768</td>\n",
       "    </tr>\n",
       "    <tr>\n",
       "      <th>2019</th>\n",
       "      <td>NaN</td>\n",
       "      <td>NaN</td>\n",
       "      <td>80.709</td>\n",
       "      <td>46183.521790</td>\n",
       "    </tr>\n",
       "  </tbody>\n",
       "</table>\n",
       "</div>"
      ],
      "text/plain": [
       "                       ENI         POP     URB           AFL\n",
       "Country Code Year                                           \n",
       "FRA          2015  0.08477  121.536704  79.655  43553.399292\n",
       "             2016      NaN  121.857825  79.917  43914.481647\n",
       "             2017      NaN  122.114008  80.180  44826.507474\n",
       "             2018      NaN  122.299437  80.444  45561.001768\n",
       "             2019      NaN         NaN  80.709  46183.521790"
      ]
     },
     "execution_count": 105,
     "metadata": {},
     "output_type": "execute_result"
    }
   ],
   "source": [
    "combined.xs('FRA', level='Country Code', drop_level=False).tail()"
   ]
  },
  {
   "cell_type": "markdown",
   "metadata": {},
   "source": [
    "## Combine WB WDI and WIPO patent data"
   ]
  },
  {
   "cell_type": "code",
   "execution_count": 106,
   "metadata": {},
   "outputs": [],
   "source": [
    "wb_patents = wdi_data[['IP.PAT.RESD', 'IP.PAT.NRES']].sum(axis='columns')\n",
    "wipo_patents = wipo_data['WIPO patents']\n",
    "\n",
    "patent_df = pd.DataFrame({'WB': wb_patents, 'WIPO': wipo_patents})\n",
    "patent_df.replace(0., np.nan, inplace=True)\n",
    "missing = patent_df.isnull().any(axis=1) \n",
    "mismatch = ~missing & (patent_df['WB'] != patent_df['WIPO'])"
   ]
  },
  {
   "cell_type": "code",
   "execution_count": 107,
   "metadata": {},
   "outputs": [
    {
     "data": {
      "text/html": [
       "<div>\n",
       "<style scoped>\n",
       "    .dataframe tbody tr th:only-of-type {\n",
       "        vertical-align: middle;\n",
       "    }\n",
       "\n",
       "    .dataframe tbody tr th {\n",
       "        vertical-align: top;\n",
       "    }\n",
       "\n",
       "    .dataframe thead th {\n",
       "        text-align: right;\n",
       "    }\n",
       "</style>\n",
       "<table border=\"1\" class=\"dataframe\">\n",
       "  <thead>\n",
       "    <tr style=\"text-align: right;\">\n",
       "      <th></th>\n",
       "      <th></th>\n",
       "      <th>WB</th>\n",
       "      <th>WIPO</th>\n",
       "    </tr>\n",
       "    <tr>\n",
       "      <th>Country Code</th>\n",
       "      <th>Year</th>\n",
       "      <th></th>\n",
       "      <th></th>\n",
       "    </tr>\n",
       "  </thead>\n",
       "  <tbody>\n",
       "  </tbody>\n",
       "</table>\n",
       "</div>"
      ],
      "text/plain": [
       "Empty DataFrame\n",
       "Columns: [WB, WIPO]\n",
       "Index: []"
      ]
     },
     "execution_count": 107,
     "metadata": {},
     "output_type": "execute_result"
    }
   ],
   "source": [
    "patent_df.loc[mismatch]"
   ]
  },
  {
   "cell_type": "code",
   "execution_count": 108,
   "metadata": {},
   "outputs": [
    {
     "data": {
      "text/html": [
       "<div>\n",
       "<style scoped>\n",
       "    .dataframe tbody tr th:only-of-type {\n",
       "        vertical-align: middle;\n",
       "    }\n",
       "\n",
       "    .dataframe tbody tr th {\n",
       "        vertical-align: top;\n",
       "    }\n",
       "\n",
       "    .dataframe thead th {\n",
       "        text-align: right;\n",
       "    }\n",
       "</style>\n",
       "<table border=\"1\" class=\"dataframe\">\n",
       "  <thead>\n",
       "    <tr style=\"text-align: right;\">\n",
       "      <th></th>\n",
       "      <th></th>\n",
       "      <th>WB</th>\n",
       "      <th>WIPO</th>\n",
       "    </tr>\n",
       "    <tr>\n",
       "      <th>Country Code</th>\n",
       "      <th>Year</th>\n",
       "      <th></th>\n",
       "      <th></th>\n",
       "    </tr>\n",
       "  </thead>\n",
       "  <tbody>\n",
       "    <tr>\n",
       "      <th rowspan=\"5\" valign=\"top\">COD</th>\n",
       "      <th>1980</th>\n",
       "      <td>103.0</td>\n",
       "      <td>NaN</td>\n",
       "    </tr>\n",
       "    <tr>\n",
       "      <th>1981</th>\n",
       "      <td>82.0</td>\n",
       "      <td>NaN</td>\n",
       "    </tr>\n",
       "    <tr>\n",
       "      <th>1982</th>\n",
       "      <td>99.0</td>\n",
       "      <td>NaN</td>\n",
       "    </tr>\n",
       "    <tr>\n",
       "      <th>1983</th>\n",
       "      <td>72.0</td>\n",
       "      <td>NaN</td>\n",
       "    </tr>\n",
       "    <tr>\n",
       "      <th>1984</th>\n",
       "      <td>94.0</td>\n",
       "      <td>NaN</td>\n",
       "    </tr>\n",
       "  </tbody>\n",
       "</table>\n",
       "</div>"
      ],
      "text/plain": [
       "                      WB  WIPO\n",
       "Country Code Year             \n",
       "COD          1980  103.0   NaN\n",
       "             1981   82.0   NaN\n",
       "             1982   99.0   NaN\n",
       "             1983   72.0   NaN\n",
       "             1984   94.0   NaN"
      ]
     },
     "execution_count": 108,
     "metadata": {},
     "output_type": "execute_result"
    }
   ],
   "source": [
    "patent_df.loc[~patent_df['WB'].isnull() \n",
    "              & patent_df['WIPO'].isnull()\n",
    "             ].drop('WLD', level='Country Code')"
   ]
  },
  {
   "cell_type": "code",
   "execution_count": 109,
   "metadata": {},
   "outputs": [
    {
     "data": {
      "text/html": [
       "<div>\n",
       "<style scoped>\n",
       "    .dataframe tbody tr th:only-of-type {\n",
       "        vertical-align: middle;\n",
       "    }\n",
       "\n",
       "    .dataframe tbody tr th {\n",
       "        vertical-align: top;\n",
       "    }\n",
       "\n",
       "    .dataframe thead th {\n",
       "        text-align: right;\n",
       "    }\n",
       "</style>\n",
       "<table border=\"1\" class=\"dataframe\">\n",
       "  <thead>\n",
       "    <tr style=\"text-align: right;\">\n",
       "      <th></th>\n",
       "      <th></th>\n",
       "      <th>WB</th>\n",
       "      <th>WIPO</th>\n",
       "    </tr>\n",
       "    <tr>\n",
       "      <th>Country Code</th>\n",
       "      <th>Year</th>\n",
       "      <th></th>\n",
       "      <th></th>\n",
       "    </tr>\n",
       "  </thead>\n",
       "  <tbody>\n",
       "    <tr>\n",
       "      <th rowspan=\"5\" valign=\"top\">ALB</th>\n",
       "      <th>1993</th>\n",
       "      <td>NaN</td>\n",
       "      <td>16.0</td>\n",
       "    </tr>\n",
       "    <tr>\n",
       "      <th>1994</th>\n",
       "      <td>NaN</td>\n",
       "      <td>8.0</td>\n",
       "    </tr>\n",
       "    <tr>\n",
       "      <th>1995</th>\n",
       "      <td>NaN</td>\n",
       "      <td>5.0</td>\n",
       "    </tr>\n",
       "    <tr>\n",
       "      <th>1996</th>\n",
       "      <td>NaN</td>\n",
       "      <td>5.0</td>\n",
       "    </tr>\n",
       "    <tr>\n",
       "      <th>1998</th>\n",
       "      <td>NaN</td>\n",
       "      <td>21.0</td>\n",
       "    </tr>\n",
       "    <tr>\n",
       "      <th>...</th>\n",
       "      <th>...</th>\n",
       "      <td>...</td>\n",
       "      <td>...</td>\n",
       "    </tr>\n",
       "    <tr>\n",
       "      <th>SYR</th>\n",
       "      <th>2016</th>\n",
       "      <td>NaN</td>\n",
       "      <td>112.0</td>\n",
       "    </tr>\n",
       "    <tr>\n",
       "      <th rowspan=\"2\" valign=\"top\">YEM</th>\n",
       "      <th>2008</th>\n",
       "      <td>NaN</td>\n",
       "      <td>85.0</td>\n",
       "    </tr>\n",
       "    <tr>\n",
       "      <th>2009</th>\n",
       "      <td>NaN</td>\n",
       "      <td>72.0</td>\n",
       "    </tr>\n",
       "    <tr>\n",
       "      <th rowspan=\"2\" valign=\"top\">ZWE</th>\n",
       "      <th>2013</th>\n",
       "      <td>NaN</td>\n",
       "      <td>23.0</td>\n",
       "    </tr>\n",
       "    <tr>\n",
       "      <th>2014</th>\n",
       "      <td>NaN</td>\n",
       "      <td>27.0</td>\n",
       "    </tr>\n",
       "  </tbody>\n",
       "</table>\n",
       "<p>165 rows × 2 columns</p>\n",
       "</div>"
      ],
      "text/plain": [
       "                   WB   WIPO\n",
       "Country Code Year           \n",
       "ALB          1993 NaN   16.0\n",
       "             1994 NaN    8.0\n",
       "             1995 NaN    5.0\n",
       "             1996 NaN    5.0\n",
       "             1998 NaN   21.0\n",
       "...                ..    ...\n",
       "SYR          2016 NaN  112.0\n",
       "YEM          2008 NaN   85.0\n",
       "             2009 NaN   72.0\n",
       "ZWE          2013 NaN   23.0\n",
       "             2014 NaN   27.0\n",
       "\n",
       "[165 rows x 2 columns]"
      ]
     },
     "execution_count": 109,
     "metadata": {},
     "output_type": "execute_result"
    }
   ],
   "source": [
    "patent_df.loc[~patent_df['WIPO'].isnull() \n",
    "              & patent_df['WB'].isnull()\n",
    "             ]"
   ]
  },
  {
   "cell_type": "markdown",
   "metadata": {},
   "source": [
    "## Convert patent count to per capita measure"
   ]
  },
  {
   "cell_type": "code",
   "execution_count": 110,
   "metadata": {},
   "outputs": [],
   "source": [
    "patent_count = patent_df['WB'].combine_first(patent_df['WIPO'])\n",
    "combined['TI'] = patent_count / wdi_data['SP.POP.TOTL']"
   ]
  },
  {
   "cell_type": "code",
   "execution_count": 111,
   "metadata": {},
   "outputs": [
    {
     "data": {
      "text/html": [
       "<div>\n",
       "<style scoped>\n",
       "    .dataframe tbody tr th:only-of-type {\n",
       "        vertical-align: middle;\n",
       "    }\n",
       "\n",
       "    .dataframe tbody tr th {\n",
       "        vertical-align: top;\n",
       "    }\n",
       "\n",
       "    .dataframe thead th {\n",
       "        text-align: right;\n",
       "    }\n",
       "</style>\n",
       "<table border=\"1\" class=\"dataframe\">\n",
       "  <thead>\n",
       "    <tr style=\"text-align: right;\">\n",
       "      <th></th>\n",
       "      <th></th>\n",
       "      <th>ENI</th>\n",
       "      <th>POP</th>\n",
       "      <th>URB</th>\n",
       "      <th>AFL</th>\n",
       "      <th>TI</th>\n",
       "    </tr>\n",
       "    <tr>\n",
       "      <th>Country Code</th>\n",
       "      <th>Year</th>\n",
       "      <th></th>\n",
       "      <th></th>\n",
       "      <th></th>\n",
       "      <th></th>\n",
       "      <th></th>\n",
       "    </tr>\n",
       "  </thead>\n",
       "  <tbody>\n",
       "    <tr>\n",
       "      <th rowspan=\"5\" valign=\"top\">FRA</th>\n",
       "      <th>2015</th>\n",
       "      <td>0.08477</td>\n",
       "      <td>121.536704</td>\n",
       "      <td>79.655</td>\n",
       "      <td>43553.399292</td>\n",
       "      <td>0.000245</td>\n",
       "    </tr>\n",
       "    <tr>\n",
       "      <th>2016</th>\n",
       "      <td>NaN</td>\n",
       "      <td>121.857825</td>\n",
       "      <td>79.917</td>\n",
       "      <td>43914.481647</td>\n",
       "      <td>0.000243</td>\n",
       "    </tr>\n",
       "    <tr>\n",
       "      <th>2017</th>\n",
       "      <td>NaN</td>\n",
       "      <td>122.114008</td>\n",
       "      <td>80.180</td>\n",
       "      <td>44826.507474</td>\n",
       "      <td>0.000243</td>\n",
       "    </tr>\n",
       "    <tr>\n",
       "      <th>2018</th>\n",
       "      <td>NaN</td>\n",
       "      <td>122.299437</td>\n",
       "      <td>80.444</td>\n",
       "      <td>45561.001768</td>\n",
       "      <td>0.000242</td>\n",
       "    </tr>\n",
       "    <tr>\n",
       "      <th>2019</th>\n",
       "      <td>NaN</td>\n",
       "      <td>NaN</td>\n",
       "      <td>80.709</td>\n",
       "      <td>46183.521790</td>\n",
       "      <td>NaN</td>\n",
       "    </tr>\n",
       "  </tbody>\n",
       "</table>\n",
       "</div>"
      ],
      "text/plain": [
       "                       ENI         POP     URB           AFL        TI\n",
       "Country Code Year                                                     \n",
       "FRA          2015  0.08477  121.536704  79.655  43553.399292  0.000245\n",
       "             2016      NaN  121.857825  79.917  43914.481647  0.000243\n",
       "             2017      NaN  122.114008  80.180  44826.507474  0.000243\n",
       "             2018      NaN  122.299437  80.444  45561.001768  0.000242\n",
       "             2019      NaN         NaN  80.709  46183.521790       NaN"
      ]
     },
     "execution_count": 111,
     "metadata": {},
     "output_type": "execute_result"
    }
   ],
   "source": [
    "combined.xs('FRA', level='Country Code', drop_level=False).tail()"
   ]
  },
  {
   "cell_type": "markdown",
   "metadata": {},
   "source": [
    "## Construct Squalli and Wilson (2011) CTS indicator"
   ]
  },
  {
   "cell_type": "code",
   "execution_count": 133,
   "metadata": {},
   "outputs": [
    {
     "data": {
      "text/plain": [
       "Country Code  Year\n",
       "USA           1999    0.232735\n",
       "              2000    0.250436\n",
       "              2001    0.228430\n",
       "dtype: float64"
      ]
     },
     "execution_count": 133,
     "metadata": {},
     "output_type": "execute_result"
    }
   ],
   "source": [
    "country_data = wdi_data.loc[is_country]\n",
    "trade = country_data['NE.IMP.GNFS.CD'] + country_data['NE.EXP.GNFS.CD']\n",
    "gdp = country_data['NY.GDP.MKTP.CD']\n",
    "TS = trade / gdp\n",
    "TS.loc[pd.IndexSlice[['USA'], 1999:2001]]"
   ]
  },
  {
   "cell_type": "code",
   "execution_count": 147,
   "metadata": {},
   "outputs": [],
   "source": [
    "pwt_raw = pd.read_excel(os.path.join(data_path, 'pwt91.xlsx'), sheet_name='Data')"
   ]
  },
  {
   "cell_type": "code",
   "execution_count": 149,
   "metadata": {},
   "outputs": [
    {
     "data": {
      "text/html": [
       "<div>\n",
       "<style scoped>\n",
       "    .dataframe tbody tr th:only-of-type {\n",
       "        vertical-align: middle;\n",
       "    }\n",
       "\n",
       "    .dataframe tbody tr th {\n",
       "        vertical-align: top;\n",
       "    }\n",
       "\n",
       "    .dataframe thead th {\n",
       "        text-align: right;\n",
       "    }\n",
       "</style>\n",
       "<table border=\"1\" class=\"dataframe\">\n",
       "  <thead>\n",
       "    <tr style=\"text-align: right;\">\n",
       "      <th></th>\n",
       "      <th></th>\n",
       "      <th>csh_x</th>\n",
       "      <th>csh_m</th>\n",
       "      <th>rgdpna</th>\n",
       "    </tr>\n",
       "    <tr>\n",
       "      <th>Country Code</th>\n",
       "      <th>Year</th>\n",
       "      <th></th>\n",
       "      <th></th>\n",
       "      <th></th>\n",
       "    </tr>\n",
       "  </thead>\n",
       "  <tbody>\n",
       "    <tr>\n",
       "      <th rowspan=\"3\" valign=\"top\">USA</th>\n",
       "      <th>1999</th>\n",
       "      <td>0.093493</td>\n",
       "      <td>-0.134178</td>\n",
       "      <td>12373193.0</td>\n",
       "    </tr>\n",
       "    <tr>\n",
       "      <th>2000</th>\n",
       "      <td>0.107020</td>\n",
       "      <td>-0.157752</td>\n",
       "      <td>12883895.0</td>\n",
       "    </tr>\n",
       "    <tr>\n",
       "      <th>2001</th>\n",
       "      <td>0.101320</td>\n",
       "      <td>-0.152584</td>\n",
       "      <td>13012520.0</td>\n",
       "    </tr>\n",
       "  </tbody>\n",
       "</table>\n",
       "</div>"
      ],
      "text/plain": [
       "                      csh_x     csh_m      rgdpna\n",
       "Country Code Year                                \n",
       "USA          1999  0.093493 -0.134178  12373193.0\n",
       "             2000  0.107020 -0.157752  12883895.0\n",
       "             2001  0.101320 -0.152584  13012520.0"
      ]
     },
     "execution_count": 149,
     "metadata": {},
     "output_type": "execute_result"
    }
   ],
   "source": [
    "pwt_data = pwt_raw.set_index(['countrycode', 'year'])\n",
    "pwt_data.index.names = ['Country Code', 'Year']\n",
    "pwt_data.loc[pd.IndexSlice[['USA'], 1999:2001], ['csh_x', 'csh_m', 'rgdpna']]"
   ]
  },
  {
   "cell_type": "code",
   "execution_count": 155,
   "metadata": {},
   "outputs": [
    {
     "data": {
      "text/plain": [
       "Country Code  Year\n",
       "USA           1999    0.227670\n",
       "              2000    0.264772\n",
       "              2001    0.253905\n",
       "dtype: float64"
      ]
     },
     "execution_count": 155,
     "metadata": {},
     "output_type": "execute_result"
    }
   ],
   "source": [
    "TS = pwt_data['csh_x'] - pwt_data['csh_m']\n",
    "trade = TS * pwt_data['rgdpna']\n",
    "TS.loc[pd.IndexSlice[['USA'], 1999:2001]]"
   ]
  },
  {
   "cell_type": "code",
   "execution_count": 156,
   "metadata": {},
   "outputs": [
    {
     "data": {
      "text/plain": [
       "Country Code  Year\n",
       "USA           1999    0.120889\n",
       "              2000    0.125465\n",
       "              2001    0.121223\n",
       "dtype: float64"
      ]
     },
     "execution_count": 156,
     "metadata": {},
     "output_type": "execute_result"
    }
   ],
   "source": [
    "world_trade = trade.groupby(level='Year').sum()\n",
    "WTS = trade.groupby(level='Country Code').transform(lambda x: x.divide(world_trade))\n",
    "WTS.loc[pd.IndexSlice[['USA'], 1999:2001]]"
   ]
  },
  {
   "cell_type": "code",
   "execution_count": 122,
   "metadata": {},
   "outputs": [
    {
     "data": {
      "text/plain": [
       "Year\n",
       "1999    0.005848\n",
       "2000    0.005682\n",
       "2001    0.005682\n",
       "dtype: float64"
      ]
     },
     "execution_count": 122,
     "metadata": {},
     "output_type": "execute_result"
    }
   ],
   "source": [
    "WTS_mean = WTS.groupby(level='Year').mean()\n",
    "WTS_mean.loc[1999:2001]"
   ]
  },
  {
   "cell_type": "code",
   "execution_count": 123,
   "metadata": {},
   "outputs": [
    {
     "data": {
      "text/plain": [
       "Country Code  Year\n",
       "USA           1999    27.943636\n",
       "              2000    29.626372\n",
       "              2001    28.442691\n",
       "dtype: float64"
      ]
     },
     "execution_count": 123,
     "metadata": {},
     "output_type": "execute_result"
    }
   ],
   "source": [
    "relative_WTS = WTS.divide(WTS_mean)\n",
    "relative_WTS.loc[pd.IndexSlice[['USA'], 1999:2001]]"
   ]
  },
  {
   "cell_type": "code",
   "execution_count": 124,
   "metadata": {},
   "outputs": [
    {
     "data": {
      "text/plain": [
       "Country Code  Year\n",
       "USA           1999    6.503455\n",
       "              2000    7.419520\n",
       "              2001    6.497152\n",
       "dtype: float64"
      ]
     },
     "execution_count": 124,
     "metadata": {},
     "output_type": "execute_result"
    }
   ],
   "source": [
    "CTS = relative_WTS.multiply(TS)\n",
    "CTS.loc[pd.IndexSlice[['USA'], 1999:2001]]"
   ]
  },
  {
   "cell_type": "code",
   "execution_count": 131,
   "metadata": {},
   "outputs": [
    {
     "data": {
      "image/png": "[encoded data removed]",
      "text/plain": [
       "<Figure size 432x288 with 1 Axes>"
      ]
     },
     "metadata": {
      "needs_background": "light"
     },
     "output_type": "display_data"
    }
   ],
   "source": [
    "from matplotlib import pyplot as plt\n",
    "fig, ax = plt.subplots()\n",
    "z, y = WTS.xs(2000, level='Year'), TS.xs(2000, level='Year')\n",
    "ax.scatter(z, y)\n",
    "for c in z.index:\n",
    "    ax.annotate(c, (z[c], y[c]))"
   ]
  },
  {
   "cell_type": "code",
   "execution_count": null,
   "metadata": {},
   "outputs": [],
   "source": []
  }
 ],
 "metadata": {
  "kernelspec": {
   "display_name": "em-2020",
   "language": "python",
   "name": "em-2020"
  },
  "language_info": {
   "codemirror_mode": {
    "name": "ipython",
    "version": 3
   },
   "file_extension": ".py",
   "mimetype": "text/x-python",
   "name": "python",
   "nbconvert_exporter": "python",
   "pygments_lexer": "ipython3",
   "version": "3.7.5"
  }
 },
 "nbformat": 4,
 "nbformat_minor": 4
}
