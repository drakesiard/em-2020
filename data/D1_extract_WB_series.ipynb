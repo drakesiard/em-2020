{
 "cells": [
  {
   "cell_type": "markdown",
   "metadata": {},
   "source": [
    "# Extract source series from World Bank WDI database download"
   ]
  },
  {
   "cell_type": "code",
   "execution_count": 80,
   "metadata": {},
   "outputs": [],
   "source": [
    "%matplotlib inline \n",
    "from IPython.display import display, HTML\n",
    "from datetime import date\n",
    "import os\n",
    "import numpy as np\n",
    "import zipfile\n",
    "import pandas as pd\n",
    "\n",
    "# pandas_datareader spams FutureWarning on import\n",
    "#import warnings\n",
    "#warnings.filterwarnings('ignore', module='pandas_datareader')\n",
    "#from pandas_datareader import wb\n",
    "\n",
    "# find target path for data files, assuming the notebook is in the right place\n",
    "data_path = _dh[0]\n",
    "assert data_path.endswith(os.path.join('em-2020','data'))"
   ]
  },
  {
   "cell_type": "code",
   "execution_count": 3,
   "metadata": {},
   "outputs": [],
   "source": [
    "zf = zipfile.ZipFile(os.path.join(data_path, 'WDI_csv.zip'))"
   ]
  },
  {
   "cell_type": "code",
   "execution_count": 4,
   "metadata": {},
   "outputs": [],
   "source": [
    "series = pd.read_csv(zf.open('WDISeries.csv'), index_col='Series Code')"
   ]
  },
  {
   "cell_type": "code",
   "execution_count": 5,
   "metadata": {},
   "outputs": [
    {
     "data": {
      "text/html": [
       "<div>\n",
       "<style scoped>\n",
       "    .dataframe tbody tr th:only-of-type {\n",
       "        vertical-align: middle;\n",
       "    }\n",
       "\n",
       "    .dataframe tbody tr th {\n",
       "        vertical-align: top;\n",
       "    }\n",
       "\n",
       "    .dataframe thead th {\n",
       "        text-align: right;\n",
       "    }\n",
       "</style>\n",
       "<table border=\"1\" class=\"dataframe\">\n",
       "  <thead>\n",
       "    <tr style=\"text-align: right;\">\n",
       "      <th></th>\n",
       "      <th>Indicator Name</th>\n",
       "    </tr>\n",
       "    <tr>\n",
       "      <th>Series Code</th>\n",
       "      <th></th>\n",
       "    </tr>\n",
       "  </thead>\n",
       "  <tbody>\n",
       "    <tr>\n",
       "      <th>NV.IND.TOTL.ZS</th>\n",
       "      <td>Industry, value added (% of GDP)</td>\n",
       "    </tr>\n",
       "    <tr>\n",
       "      <th>NE.TRD.GNFS.ZS</th>\n",
       "      <td>Trade (% of GDP)</td>\n",
       "    </tr>\n",
       "    <tr>\n",
       "      <th>NE.IMP.GNFS.KD</th>\n",
       "      <td>Imports of goods and services (constant 2010 US$)</td>\n",
       "    </tr>\n",
       "    <tr>\n",
       "      <th>NE.EXP.GNFS.KD</th>\n",
       "      <td>Exports of goods and services (constant 2010 US$)</td>\n",
       "    </tr>\n",
       "    <tr>\n",
       "      <th>NY.GDP.MKTP.KD</th>\n",
       "      <td>GDP (constant 2010 US$)</td>\n",
       "    </tr>\n",
       "    <tr>\n",
       "      <th>NY.GDP.PCAP.KD</th>\n",
       "      <td>GDP per capita (constant 2010 US$)</td>\n",
       "    </tr>\n",
       "    <tr>\n",
       "      <th>NY.GDP.PCAP.PP.KD</th>\n",
       "      <td>GDP per capita, PPP (constant 2017 internation...</td>\n",
       "    </tr>\n",
       "    <tr>\n",
       "      <th>EG.USE.PCAP.KG.OE</th>\n",
       "      <td>Energy use (kg of oil equivalent per capita)</td>\n",
       "    </tr>\n",
       "  </tbody>\n",
       "</table>\n",
       "</div>"
      ],
      "text/plain": [
       "                                                      Indicator Name\n",
       "Series Code                                                         \n",
       "NV.IND.TOTL.ZS                      Industry, value added (% of GDP)\n",
       "NE.TRD.GNFS.ZS                                      Trade (% of GDP)\n",
       "NE.IMP.GNFS.KD     Imports of goods and services (constant 2010 US$)\n",
       "NE.EXP.GNFS.KD     Exports of goods and services (constant 2010 US$)\n",
       "NY.GDP.MKTP.KD                               GDP (constant 2010 US$)\n",
       "NY.GDP.PCAP.KD                    GDP per capita (constant 2010 US$)\n",
       "NY.GDP.PCAP.PP.KD  GDP per capita, PPP (constant 2017 internation...\n",
       "EG.USE.PCAP.KG.OE       Energy use (kg of oil equivalent per capita)"
      ]
     },
     "execution_count": 5,
     "metadata": {},
     "output_type": "execute_result"
    }
   ],
   "source": [
    "raw_indicators = [\n",
    "    'NV.IND.TOTL.ZS',\n",
    "    'NE.TRD.GNFS.ZS',\n",
    "    'NE.IMP.GNFS.KD',\n",
    "    'NE.EXP.GNFS.KD',\n",
    "    'NY.GDP.MKTP.KD',\n",
    "    'NY.GDP.PCAP.KD',\n",
    "    'NY.GDP.PCAP.PP.KD',\n",
    "    'EG.USE.PCAP.KG.OE',\n",
    "#     'IP.PAT.RESD',\n",
    "#     'IP.PAT.NRES',\n",
    "#     'PA.NUS.FCRF',\n",
    "]\n",
    "series.loc[raw_indicators[0:], ['Indicator Name']]\n"
   ]
  },
  {
   "cell_type": "code",
   "execution_count": 6,
   "metadata": {},
   "outputs": [
    {
     "data": {
      "text/html": [
       "<div>\n",
       "<style scoped>\n",
       "    .dataframe tbody tr th:only-of-type {\n",
       "        vertical-align: middle;\n",
       "    }\n",
       "\n",
       "    .dataframe tbody tr th {\n",
       "        vertical-align: top;\n",
       "    }\n",
       "\n",
       "    .dataframe thead th {\n",
       "        text-align: right;\n",
       "    }\n",
       "</style>\n",
       "<table border=\"1\" class=\"dataframe\">\n",
       "  <thead>\n",
       "    <tr style=\"text-align: right;\">\n",
       "      <th></th>\n",
       "      <th>Short Name</th>\n",
       "      <th>Table Name</th>\n",
       "      <th>Long Name</th>\n",
       "      <th>2-alpha code</th>\n",
       "      <th>Currency Unit</th>\n",
       "      <th>Special Notes</th>\n",
       "      <th>Region</th>\n",
       "      <th>Income Group</th>\n",
       "      <th>WB-2 code</th>\n",
       "      <th>National accounts base year</th>\n",
       "      <th>...</th>\n",
       "      <th>Government Accounting concept</th>\n",
       "      <th>IMF data dissemination standard</th>\n",
       "      <th>Latest population census</th>\n",
       "      <th>Latest household survey</th>\n",
       "      <th>Source of most recent Income and expenditure data</th>\n",
       "      <th>Vital registration complete</th>\n",
       "      <th>Latest agricultural census</th>\n",
       "      <th>Latest industrial data</th>\n",
       "      <th>Latest trade data</th>\n",
       "      <th>Unnamed: 30</th>\n",
       "    </tr>\n",
       "    <tr>\n",
       "      <th>Country Code</th>\n",
       "      <th></th>\n",
       "      <th></th>\n",
       "      <th></th>\n",
       "      <th></th>\n",
       "      <th></th>\n",
       "      <th></th>\n",
       "      <th></th>\n",
       "      <th></th>\n",
       "      <th></th>\n",
       "      <th></th>\n",
       "      <th></th>\n",
       "      <th></th>\n",
       "      <th></th>\n",
       "      <th></th>\n",
       "      <th></th>\n",
       "      <th></th>\n",
       "      <th></th>\n",
       "      <th></th>\n",
       "      <th></th>\n",
       "      <th></th>\n",
       "      <th></th>\n",
       "    </tr>\n",
       "  </thead>\n",
       "  <tbody>\n",
       "    <tr>\n",
       "      <th>FRO</th>\n",
       "      <td>Faroe Islands</td>\n",
       "      <td>Faroe Islands</td>\n",
       "      <td>Faroe Islands</td>\n",
       "      <td>FO</td>\n",
       "      <td>Danish krone</td>\n",
       "      <td>NaN</td>\n",
       "      <td>Europe &amp; Central Asia</td>\n",
       "      <td>High income</td>\n",
       "      <td>FO</td>\n",
       "      <td>NaN</td>\n",
       "      <td>...</td>\n",
       "      <td>NaN</td>\n",
       "      <td>NaN</td>\n",
       "      <td>2011</td>\n",
       "      <td>NaN</td>\n",
       "      <td>NaN</td>\n",
       "      <td>Yes</td>\n",
       "      <td>NaN</td>\n",
       "      <td>NaN</td>\n",
       "      <td>2017.0</td>\n",
       "      <td>NaN</td>\n",
       "    </tr>\n",
       "    <tr>\n",
       "      <th>GIB</th>\n",
       "      <td>Gibraltar</td>\n",
       "      <td>Gibraltar</td>\n",
       "      <td>Gibraltar</td>\n",
       "      <td>GI</td>\n",
       "      <td>Gibraltar pound</td>\n",
       "      <td>NaN</td>\n",
       "      <td>Europe &amp; Central Asia</td>\n",
       "      <td>High income</td>\n",
       "      <td>GI</td>\n",
       "      <td>NaN</td>\n",
       "      <td>...</td>\n",
       "      <td>NaN</td>\n",
       "      <td>NaN</td>\n",
       "      <td>2012</td>\n",
       "      <td>NaN</td>\n",
       "      <td>NaN</td>\n",
       "      <td>Yes</td>\n",
       "      <td>NaN</td>\n",
       "      <td>NaN</td>\n",
       "      <td>NaN</td>\n",
       "      <td>NaN</td>\n",
       "    </tr>\n",
       "    <tr>\n",
       "      <th>MAF</th>\n",
       "      <td>St. Martin (French part)</td>\n",
       "      <td>St. Martin (French part)</td>\n",
       "      <td>St. Martin (French part)</td>\n",
       "      <td>MF</td>\n",
       "      <td>Euro</td>\n",
       "      <td>NaN</td>\n",
       "      <td>Latin America &amp; Caribbean</td>\n",
       "      <td>High income</td>\n",
       "      <td>MF</td>\n",
       "      <td>NaN</td>\n",
       "      <td>...</td>\n",
       "      <td>NaN</td>\n",
       "      <td>NaN</td>\n",
       "      <td>2015</td>\n",
       "      <td>NaN</td>\n",
       "      <td>NaN</td>\n",
       "      <td>Yes</td>\n",
       "      <td>NaN</td>\n",
       "      <td>NaN</td>\n",
       "      <td>2015.0</td>\n",
       "      <td>NaN</td>\n",
       "    </tr>\n",
       "    <tr>\n",
       "      <th>PRK</th>\n",
       "      <td>Dem. People's Rep. Korea</td>\n",
       "      <td>Korea, Dem. People's Rep.</td>\n",
       "      <td>Democratic People's Republic of Korea</td>\n",
       "      <td>KP</td>\n",
       "      <td>Democratic People's Republic of Korean won</td>\n",
       "      <td>NaN</td>\n",
       "      <td>East Asia &amp; Pacific</td>\n",
       "      <td>Low income</td>\n",
       "      <td>KP</td>\n",
       "      <td>NaN</td>\n",
       "      <td>...</td>\n",
       "      <td>NaN</td>\n",
       "      <td>NaN</td>\n",
       "      <td>2019</td>\n",
       "      <td>Multiple Indicator Cluster Survey, 2017</td>\n",
       "      <td>NaN</td>\n",
       "      <td>NaN</td>\n",
       "      <td>NaN</td>\n",
       "      <td>NaN</td>\n",
       "      <td>2016.0</td>\n",
       "      <td>NaN</td>\n",
       "    </tr>\n",
       "    <tr>\n",
       "      <th>VGB</th>\n",
       "      <td>British Virgin Islands</td>\n",
       "      <td>British Virgin Islands</td>\n",
       "      <td>British Virgin Islands</td>\n",
       "      <td>VG</td>\n",
       "      <td>U.S. dollar</td>\n",
       "      <td>NaN</td>\n",
       "      <td>Latin America &amp; Caribbean</td>\n",
       "      <td>High income</td>\n",
       "      <td>VG</td>\n",
       "      <td>NaN</td>\n",
       "      <td>...</td>\n",
       "      <td>NaN</td>\n",
       "      <td>NaN</td>\n",
       "      <td>2010</td>\n",
       "      <td>STEPS Risk Factor Survey, 2010</td>\n",
       "      <td>NaN</td>\n",
       "      <td>Yes</td>\n",
       "      <td>NaN</td>\n",
       "      <td>NaN</td>\n",
       "      <td>NaN</td>\n",
       "      <td>NaN</td>\n",
       "    </tr>\n",
       "  </tbody>\n",
       "</table>\n",
       "<p>5 rows × 30 columns</p>\n",
       "</div>"
      ],
      "text/plain": [
       "                            Short Name                 Table Name  \\\n",
       "Country Code                                                        \n",
       "FRO                      Faroe Islands              Faroe Islands   \n",
       "GIB                          Gibraltar                  Gibraltar   \n",
       "MAF           St. Martin (French part)   St. Martin (French part)   \n",
       "PRK           Dem. People's Rep. Korea  Korea, Dem. People's Rep.   \n",
       "VGB             British Virgin Islands     British Virgin Islands   \n",
       "\n",
       "                                          Long Name 2-alpha code  \\\n",
       "Country Code                                                       \n",
       "FRO                                   Faroe Islands           FO   \n",
       "GIB                                       Gibraltar           GI   \n",
       "MAF                        St. Martin (French part)           MF   \n",
       "PRK           Democratic People's Republic of Korea           KP   \n",
       "VGB                          British Virgin Islands           VG   \n",
       "\n",
       "                                           Currency Unit Special Notes  \\\n",
       "Country Code                                                             \n",
       "FRO                                         Danish krone           NaN   \n",
       "GIB                                      Gibraltar pound           NaN   \n",
       "MAF                                                 Euro           NaN   \n",
       "PRK           Democratic People's Republic of Korean won           NaN   \n",
       "VGB                                          U.S. dollar           NaN   \n",
       "\n",
       "                                 Region Income Group WB-2 code  \\\n",
       "Country Code                                                     \n",
       "FRO               Europe & Central Asia  High income        FO   \n",
       "GIB               Europe & Central Asia  High income        GI   \n",
       "MAF           Latin America & Caribbean  High income        MF   \n",
       "PRK                 East Asia & Pacific   Low income        KP   \n",
       "VGB           Latin America & Caribbean  High income        VG   \n",
       "\n",
       "             National accounts base year  ... Government Accounting concept  \\\n",
       "Country Code                              ...                                 \n",
       "FRO                                  NaN  ...                           NaN   \n",
       "GIB                                  NaN  ...                           NaN   \n",
       "MAF                                  NaN  ...                           NaN   \n",
       "PRK                                  NaN  ...                           NaN   \n",
       "VGB                                  NaN  ...                           NaN   \n",
       "\n",
       "             IMF data dissemination standard Latest population census  \\\n",
       "Country Code                                                            \n",
       "FRO                                      NaN                     2011   \n",
       "GIB                                      NaN                     2012   \n",
       "MAF                                      NaN                     2015   \n",
       "PRK                                      NaN                     2019   \n",
       "VGB                                      NaN                     2010   \n",
       "\n",
       "                              Latest household survey  \\\n",
       "Country Code                                            \n",
       "FRO                                               NaN   \n",
       "GIB                                               NaN   \n",
       "MAF                                               NaN   \n",
       "PRK           Multiple Indicator Cluster Survey, 2017   \n",
       "VGB                    STEPS Risk Factor Survey, 2010   \n",
       "\n",
       "             Source of most recent Income and expenditure data  \\\n",
       "Country Code                                                     \n",
       "FRO                                                        NaN   \n",
       "GIB                                                        NaN   \n",
       "MAF                                                        NaN   \n",
       "PRK                                                        NaN   \n",
       "VGB                                                        NaN   \n",
       "\n",
       "             Vital registration complete  Latest agricultural census  \\\n",
       "Country Code                                                           \n",
       "FRO                                  Yes                         NaN   \n",
       "GIB                                  Yes                         NaN   \n",
       "MAF                                  Yes                         NaN   \n",
       "PRK                                  NaN                         NaN   \n",
       "VGB                                  Yes                         NaN   \n",
       "\n",
       "             Latest industrial data Latest trade data Unnamed: 30  \n",
       "Country Code                                                       \n",
       "FRO                             NaN            2017.0         NaN  \n",
       "GIB                             NaN               NaN         NaN  \n",
       "MAF                             NaN            2015.0         NaN  \n",
       "PRK                             NaN            2016.0         NaN  \n",
       "VGB                             NaN               NaN         NaN  \n",
       "\n",
       "[5 rows x 30 columns]"
      ]
     },
     "execution_count": 6,
     "metadata": {},
     "output_type": "execute_result"
    }
   ],
   "source": [
    "countries = pd.read_csv(zf.open('WDICountry.csv'),  index_col='Country Code')\n",
    "# countries.loc[['ARB', 'WLD', 'FRA', 'IND'], :]\n",
    "countries.loc[~countries['Region'].isnull() & countries['National accounts base year'].isnull()]"
   ]
  },
  {
   "cell_type": "code",
   "execution_count": 15,
   "metadata": {},
   "outputs": [
    {
     "data": {
      "text/plain": [
       "{'BGR', 'CZE', 'EST', 'HRV', 'HUN', 'LTU', 'LVA', 'POL', 'ROU', 'SVK', 'SVN'}"
      ]
     },
     "execution_count": 15,
     "metadata": {},
     "output_type": "execute_result"
    }
   ],
   "source": [
    "country_groups = pd.read_excel(os.path.join(data_path, 'CLASS.xls'), sheet_name='Groups')\n",
    "country_group_map = {k: set(v['CountryCode']) for k, v in country_groups.groupby('GroupCode')}\n",
    "all_countries = country_group_map['WLD']\n",
    "country_group_map['CEB']"
   ]
  },
  {
   "cell_type": "code",
   "execution_count": 11,
   "metadata": {},
   "outputs": [],
   "source": [
    "data = pd.read_csv(zf.open('WDIData.csv'))"
   ]
  },
  {
   "cell_type": "code",
   "execution_count": 75,
   "metadata": {},
   "outputs": [],
   "source": [
    "# The last column in the CSV file is empty\n",
    "data.dropna(axis='columns', how='all', inplace=True)"
   ]
  },
  {
   "cell_type": "code",
   "execution_count": 76,
   "metadata": {},
   "outputs": [
    {
     "data": {
      "text/html": [
       "<div>\n",
       "<style scoped>\n",
       "    .dataframe tbody tr th:only-of-type {\n",
       "        vertical-align: middle;\n",
       "    }\n",
       "\n",
       "    .dataframe tbody tr th {\n",
       "        vertical-align: top;\n",
       "    }\n",
       "\n",
       "    .dataframe thead th {\n",
       "        text-align: right;\n",
       "    }\n",
       "</style>\n",
       "<table border=\"1\" class=\"dataframe\">\n",
       "  <thead>\n",
       "    <tr style=\"text-align: right;\">\n",
       "      <th></th>\n",
       "      <th>2010</th>\n",
       "      <th>2011</th>\n",
       "      <th>2012</th>\n",
       "      <th>2013</th>\n",
       "      <th>2014</th>\n",
       "      <th>2015</th>\n",
       "      <th>2016</th>\n",
       "      <th>2017</th>\n",
       "      <th>2018</th>\n",
       "      <th>2019</th>\n",
       "    </tr>\n",
       "  </thead>\n",
       "  <tbody>\n",
       "    <tr>\n",
       "      <th>139271</th>\n",
       "      <td>NaN</td>\n",
       "      <td>NaN</td>\n",
       "      <td>NaN</td>\n",
       "      <td>NaN</td>\n",
       "      <td>NaN</td>\n",
       "      <td>NaN</td>\n",
       "      <td>NaN</td>\n",
       "      <td>NaN</td>\n",
       "      <td>NaN</td>\n",
       "      <td>NaN</td>\n",
       "    </tr>\n",
       "    <tr>\n",
       "      <th>288102</th>\n",
       "      <td>5082.354757</td>\n",
       "      <td>5360.226632</td>\n",
       "      <td>5642.578115</td>\n",
       "      <td>5919.209568</td>\n",
       "      <td>5996.496965</td>\n",
       "      <td>6114.227214</td>\n",
       "      <td>6262.368905</td>\n",
       "      <td>6314.291438</td>\n",
       "      <td>6453.560525</td>\n",
       "      <td>6486.634618</td>\n",
       "    </tr>\n",
       "  </tbody>\n",
       "</table>\n",
       "</div>"
      ],
      "text/plain": [
       "               2010         2011         2012         2013         2014  \\\n",
       "139271          NaN          NaN          NaN          NaN          NaN   \n",
       "288102  5082.354757  5360.226632  5642.578115  5919.209568  5996.496965   \n",
       "\n",
       "               2015         2016         2017         2018         2019  \n",
       "139271          NaN          NaN          NaN          NaN          NaN  \n",
       "288102  6114.227214  6262.368905  6314.291438  6453.560525  6486.634618  "
      ]
     },
     "execution_count": 76,
     "metadata": {},
     "output_type": "execute_result"
    }
   ],
   "source": [
    "data.loc[data['Indicator Code'].isin(raw_indicators)].sample(2).iloc[:, -10:]"
   ]
  },
  {
   "cell_type": "code",
   "execution_count": 50,
   "metadata": {},
   "outputs": [],
   "source": [
    "is_country = data['Country Code'].isin(all_countries)\n",
    "is_world = data['Country Code'] == 'WLD'\n",
    "other_cols = ['Indicator Name', 'Indicator Code', 'Country Name']"
   ]
  },
  {
   "cell_type": "code",
   "execution_count": 51,
   "metadata": {},
   "outputs": [],
   "source": [
    "exports = data.loc[is_country & (data['Indicator Code'] == 'NE.EXP.GNFS.CD')].set_index('Country Code').drop(columns=other_cols)\n",
    "imports = data.loc[is_country & (data['Indicator Code'] == 'NE.IMP.GNFS.CD')].set_index('Country Code').drop(columns=other_cols)\n",
    "gdp = data.loc[is_country & (data['Indicator Code'] == 'NY.GDP.MKTP.CD')].set_index('Country Code').drop(columns=other_cols)\n",
    "trade_pct = data.loc[is_country & (data['Indicator Code'] == 'NE.TRD.GNFS.ZS')].set_index('Country Code').drop(columns=other_cols)"
   ]
  },
  {
   "cell_type": "code",
   "execution_count": 53,
   "metadata": {},
   "outputs": [
    {
     "data": {
      "text/plain": [
       "      Country Code\n",
       "2004  SGP            -1.705303e-12\n",
       "1977  SGP            -1.648459e-12\n",
       "2015  MLT            -1.591616e-12\n",
       "2009  HKG            -1.477929e-12\n",
       "2006  SGP            -1.307399e-12\n",
       "                          ...     \n",
       "2017  MLT             1.136868e-12\n",
       "1975  BRN             1.151079e-12\n",
       "2014  MLT             1.193712e-12\n",
       "2018  LUX             1.193712e-12\n",
       "1982  MAC             1.477929e-12\n",
       "Length: 8392, dtype: float64"
      ]
     },
     "execution_count": 53,
     "metadata": {},
     "output_type": "execute_result"
    }
   ],
   "source": [
    "actual = imports.add(exports, fill_value=0.) / gdp * 100\n",
    "(trade_pct.unstack() - actual.unstack()).dropna().sort_values()"
   ]
  },
  {
   "cell_type": "code",
   "execution_count": 63,
   "metadata": {},
   "outputs": [
    {
     "name": "stderr",
     "output_type": "stream",
     "text": [
      "/home/drake/.virtualenvs/em-2020/lib/python3.7/site-packages/pandas/plotting/_matplotlib/core.py:1235: UserWarning: FixedFormatter should only be used together with FixedLocator\n",
      "  ax.set_xticklabels(xticklabels)\n"
     ]
    },
    {
     "data": {
      "text/plain": [
       "<AxesSubplot:>"
      ]
     },
     "execution_count": 63,
     "metadata": {},
     "output_type": "execute_result"
    },
    {
     "data": {
      "image/png": "[encoded data removed]",
      "text/plain": [
       "<Figure size 432x288 with 1 Axes>"
      ]
     },
     "metadata": {
      "needs_background": "light"
     },
     "output_type": "display_data"
    }
   ],
   "source": [
    "world_imports = data.loc[is_world & (data['Indicator Code'] == 'NE.IMP.GNFS.CD')].set_index('Country Code').drop(columns=other_cols)\n",
    "world_exports = data.loc[is_world & (data['Indicator Code'] == 'NE.EXP.GNFS.CD')].set_index('Country Code').drop(columns=other_cols)\n",
    "\n",
    "imports.sum().divide(world_imports).T.dropna().plot()"
   ]
  },
  {
   "cell_type": "code",
   "execution_count": 65,
   "metadata": {},
   "outputs": [
    {
     "name": "stderr",
     "output_type": "stream",
     "text": [
      "/home/drake/.virtualenvs/em-2020/lib/python3.7/site-packages/pandas/plotting/_matplotlib/core.py:1235: UserWarning: FixedFormatter should only be used together with FixedLocator\n",
      "  ax.set_xticklabels(xticklabels)\n"
     ]
    },
    {
     "data": {
      "text/plain": [
       "<AxesSubplot:>"
      ]
     },
     "execution_count": 65,
     "metadata": {},
     "output_type": "execute_result"
    },
    {
     "data": {
      "image/png": "[encoded data removed]",
      "text/plain": [
       "<Figure size 432x288 with 1 Axes>"
      ]
     },
     "metadata": {
      "needs_background": "light"
     },
     "output_type": "display_data"
    }
   ],
   "source": [
    "world_imports.divide(world_exports).T.plot()"
   ]
  },
  {
   "cell_type": "code",
   "execution_count": 59,
   "metadata": {},
   "outputs": [
    {
     "data": {
      "text/plain": [
       "Country Code\n",
       "AFG    2.111111e+08\n",
       "ALB             NaN\n",
       "DZA    1.195034e+09\n",
       "ASM             NaN\n",
       "AND             NaN\n",
       "           ...     \n",
       "VIR             NaN\n",
       "PSE             NaN\n",
       "YEM             NaN\n",
       "ZMB             NaN\n",
       "ZWE             NaN\n",
       "Name: 1969, Length: 217, dtype: float64"
      ]
     },
     "execution_count": 59,
     "metadata": {},
     "output_type": "execute_result"
    }
   ],
   "source": []
  },
  {
   "cell_type": "code",
   "execution_count": null,
   "metadata": {},
   "outputs": [],
   "source": []
  }
 ],
 "metadata": {
  "kernelspec": {
   "display_name": "em-2020",
   "language": "python",
   "name": "em-2020"
  },
  "language_info": {
   "codemirror_mode": {
    "name": "ipython",
    "version": 3
   },
   "file_extension": ".py",
   "mimetype": "text/x-python",
   "name": "python",
   "nbconvert_exporter": "python",
   "pygments_lexer": "ipython3",
   "version": "3.7.5"
  }
 },
 "nbformat": 4,
 "nbformat_minor": 4
}
