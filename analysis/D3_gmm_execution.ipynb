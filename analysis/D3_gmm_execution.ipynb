{
 "cells": [
  {
   "cell_type": "code",
   "execution_count": 1,
   "metadata": {
    "kernel": "SoS"
   },
   "outputs": [],
   "source": [
    "import papermill as pm\n",
    "import multiprocessing as mp\n",
    "import os\n",
    "import logging\n",
    "\n",
    "logging.basicConfig(level=logging.WARNING)\n",
    "log = logging.getLogger(__name__)\n",
    "log.setLevel(logging.INFO)\n",
    "logging.getLogger().setLevel(logging.WARNING)\n",
    "\n",
    "import util"
   ]
  },
  {
   "cell_type": "code",
   "execution_count": 2,
   "metadata": {
    "kernel": "SoS"
   },
   "outputs": [],
   "source": [
    "input_path = os.path.join(util.ANALYSIS_DIR, 'D3_gmm_template.ipynb')\n",
    "output_dir = os.path.join(util.ANALYSIS_DIR, 'D3_gmm')\n",
    "\n",
    "default_pdynmc_params = {\n",
    "    'use.mc.diff': True, 'use.mc.lev': False, 'use.mc.nonlin': False,\n",
    "    'include.y': True, 'varname.y': 'ENI', 'lagTerms.y': 2,\n",
    "    'fur.con': True, 'fur.con.diff': True, 'fur.con.lev': False,\n",
    "    'varname.reg.fur': ['POP', 'AFL', 'AFL2', 'URB', 'CTS', 'TI', 'KAOPEN'],\n",
    "    'lagTerms.reg.fur': [0, 0, 0, 0, 0, 0, 0],\n",
    "    'include.dum': True, 'dum.diff': True, 'dum.lev': False,\n",
    "    'w.mat': 'iid.err', 'std.err': 'corrected', \n",
    "    'estimation': 'twostep', 'opt.meth': 'none',\n",
    "    'inst.stata': False\n",
    "}\n",
    "backup_pdynmc_params = default_pdynmc_params.copy()\n",
    "\n",
    "default_params = {\n",
    "    'dataset_file': util.DATASET_SUBSET_FINAL,\n",
    "    'index_fields': ['Country', 'Year'],\n",
    "    'data_fields': ['ENI' ,'POP', 'URB', 'AFL' , 'TI', 'TS', 'CTS' ,'KAOPEN'],\n",
    "    'prefix': 'template',\n",
    "    'start_year': 1996,\n",
    "    'end_year': 2015,\n",
    "    'exclude_countries': [],\n",
    "    'pdynmc_params': default_pdynmc_params\n",
    "}\n",
    "backup_params = default_params.copy()\n",
    "\n",
    "extended_params = {\n",
    "    **default_params,\n",
    "    'dataset_file': util.DATASET_ALL_FINAL,\n",
    "    'start_year': 1996,\n",
    "    'end_year': 2015\n",
    "}\n",
    "\n",
    "\n",
    "# first iteration\n",
    "analyses = {\n",
    "    'default': {\n",
    "        **default_params,\n",
    "    },\n",
    "}\n",
    "\n",
    "    \n",
    "# diff and sys GMM\n",
    "analyses.update({\n",
    "    'diffGMM_Rafiq2016_subset': {\n",
    "        **default_params,\n",
    "        'pdynmc_params': {**default_pdynmc_params,\n",
    "            'use.mc.lev': False,\n",
    "            'varname.reg.fur': ['POP', 'AFL', 'AFL2', 'URB', 'TS'],\n",
    "            'lagTerms.reg.fur': [0, 0, 0, 0, 0],\n",
    "        }\n",
    "    },\n",
    "    'diffGMM_Rafiq2016-TI_subset': {\n",
    "        **default_params,\n",
    "        'pdynmc_params': {**default_pdynmc_params,\n",
    "            'use.mc.lev': False,\n",
    "            'varname.reg.fur': ['POP', 'AFL', 'AFL2', 'URB', 'TS', 'TI'],\n",
    "            'lagTerms.reg.fur': [0, 0, 0, 0, 0, 0],\n",
    "        }\n",
    "    },\n",
    "    'diffGMM_Rafiq2016-TI-KAOPEN_subset': {\n",
    "        **default_params,\n",
    "        'pdynmc_params': {**default_pdynmc_params,\n",
    "            'use.mc.lev': False,\n",
    "            'varname.reg.fur': ['POP', 'AFL', 'AFL2', 'URB', 'TS', 'TI', 'KAOPEN'],\n",
    "            'lagTerms.reg.fur': [0, 0, 0, 0, 0, 0, 0],\n",
    "        }\n",
    "    },\n",
    "    'diffGMM_Rafiq2016-CTS_subset': {\n",
    "        **default_params,\n",
    "        'pdynmc_params': {**default_pdynmc_params,\n",
    "            'use.mc.lev': False,\n",
    "            'varname.reg.fur': ['POP', 'AFL', 'AFL2', 'URB', 'CTS'],\n",
    "            'lagTerms.reg.fur': [0, 0, 0, 0, 0],\n",
    "        }\n",
    "    },\n",
    "    'diffGMM_Rafiq2016-CTS_subset_lag1': {\n",
    "        **default_params,\n",
    "        'pdynmc_params': {**default_pdynmc_params,\n",
    "            'use.mc.lev': False,\n",
    "            'lagTerms.y': 1,\n",
    "            'varname.reg.fur': ['POP', 'AFL', 'AFL2', 'URB', 'CTS'],\n",
    "            'lagTerms.reg.fur': [0, 0, 0, 0, 0],\n",
    "        }\n",
    "    },\n",
    "    'diffGMM_Rafiq2016-CTS_subset_lag2': {\n",
    "        **default_params,\n",
    "        'pdynmc_params': {**default_pdynmc_params,\n",
    "            'use.mc.lev': False,\n",
    "            'lagTerms.y': 2,\n",
    "            'varname.reg.fur': ['POP', 'AFL', 'AFL2', 'URB', 'CTS'],\n",
    "            'lagTerms.reg.fur': [0, 0, 0, 0, 0],\n",
    "        }\n",
    "    },\n",
    "    'diffGMM_Rafiq2016-CTS-TI_subset': {\n",
    "        **default_params,\n",
    "        'pdynmc_params': {**default_pdynmc_params,\n",
    "            'use.mc.lev': False,\n",
    "            'varname.reg.fur': ['POP', 'AFL', 'AFL2', 'URB', 'CTS', 'TI'],\n",
    "            'lagTerms.reg.fur': [0, 0, 0, 0, 0, 0],\n",
    "        }\n",
    "    },\n",
    "    'diffGMM_Rafiq2016-CTS-TI-KAOPEN_subset': {\n",
    "        **default_params,\n",
    "        'pdynmc_params': {**default_pdynmc_params,\n",
    "            'use.mc.lev': False,\n",
    "            'varname.reg.fur': ['POP', 'AFL', 'AFL2', 'URB', 'CTS', 'TI', 'KAOPEN'],\n",
    "            'lagTerms.reg.fur': [0, 0, 0, 0, 0, 0, 0],\n",
    "        }\n",
    "    },\n",
    "    'diffGMM_Rafiq2016_all': {\n",
    "        **extended_params,\n",
    "        'pdynmc_params': {**default_pdynmc_params,\n",
    "            'use.mc.lev': False,\n",
    "            'varname.reg.fur': ['POP', 'AFL', 'AFL2', 'URB', 'TS'],\n",
    "            'lagTerms.reg.fur': [0, 0, 0, 0, 0],\n",
    "        }\n",
    "    },\n",
    "    'diffGMM_Rafiq2016-TI_all': {\n",
    "        **extended_params,\n",
    "        'pdynmc_params': {**default_pdynmc_params,\n",
    "            'use.mc.lev': False,\n",
    "            'varname.reg.fur': ['POP', 'AFL', 'AFL2', 'URB', 'TS', 'TI'],\n",
    "            'lagTerms.reg.fur': [0, 0, 0, 0, 0, 0],\n",
    "        }\n",
    "    },\n",
    "    'diffGMM_Rafiq2016-TI-KAOPEN_all': {\n",
    "        **extended_params,\n",
    "        'pdynmc_params': {**default_pdynmc_params,\n",
    "            'use.mc.lev': False,\n",
    "            'varname.reg.fur': ['POP', 'AFL', 'AFL2', 'URB', 'TS', 'TI', 'KAOPEN'],\n",
    "            'lagTerms.reg.fur': [0, 0, 0, 0, 0, 0, 0],\n",
    "        }\n",
    "    },\n",
    "    'diffGMM_Rafiq2016-CTS_all': {\n",
    "        **extended_params,\n",
    "        'pdynmc_params': {**default_pdynmc_params,\n",
    "            'use.mc.lev': False,\n",
    "            'varname.reg.fur': ['POP', 'AFL', 'AFL2', 'URB', 'CTS'],\n",
    "            'lagTerms.reg.fur': [0, 0, 0, 0, 0],\n",
    "        }\n",
    "    },\n",
    "    'diffGMM_Rafiq2016-CTS-TI_all': {\n",
    "        **extended_params,\n",
    "        'pdynmc_params': {**default_pdynmc_params,\n",
    "            'use.mc.lev': False,\n",
    "            'varname.reg.fur': ['POP', 'AFL', 'AFL2', 'URB', 'CTS', 'TI'],\n",
    "            'lagTerms.reg.fur': [0, 0, 0, 0, 0, 0],\n",
    "        }\n",
    "    },\n",
    "    'diffGMM_Rafiq2016-CTS-TI-KAOPEN_all': {\n",
    "        **extended_params,\n",
    "        'pdynmc_params': {**default_pdynmc_params,\n",
    "            'use.mc.lev': False,\n",
    "            'varname.reg.fur': ['POP', 'AFL', 'AFL2', 'URB', 'CTS', 'TI', 'KAOPEN'],\n",
    "            'lagTerms.reg.fur': [0, 0, 0, 0, 0, 0, 0],\n",
    "        }\n",
    "    },\n",
    "    'sysGMM_Rafiq2016_subset': {\n",
    "        **default_params,\n",
    "        'pdynmc_params': {**default_pdynmc_params,\n",
    "            'use.mc.lev': True,\n",
    "            'varname.reg.fur': ['POP', 'AFL', 'AFL2', 'URB', 'TS'],\n",
    "            'lagTerms.reg.fur': [0, 0, 0, 0, 0],\n",
    "        }\n",
    "    },    \n",
    "    'sysGMM_Rafiq2016-CTS_subset': {\n",
    "        **default_params,\n",
    "        'pdynmc_params': {**default_pdynmc_params,\n",
    "            'use.mc.lev': True,\n",
    "            'varname.reg.fur': ['POP', 'AFL', 'AFL2', 'URB', 'CTS'],\n",
    "            'lagTerms.reg.fur': [0, 0, 0, 0, 0],\n",
    "        }\n",
    "    },\n",
    "    'sysGMM_Rafiq2016-CTS-TI_subset': {\n",
    "        **default_params,\n",
    "        'pdynmc_params': {**default_pdynmc_params,\n",
    "            'use.mc.lev': True,\n",
    "            'varname.reg.fur': ['POP', 'AFL', 'AFL2', 'URB', 'CTS', 'TI'],\n",
    "            'lagTerms.reg.fur': [0, 0, 0, 0, 0, 0],\n",
    "        }\n",
    "    },\n",
    "    'sysGMM_Rafiq2016-CTS-TI-KAOPEN_subset': {\n",
    "        **default_params,\n",
    "        'pdynmc_params': {**default_pdynmc_params,\n",
    "            'use.mc.lev': True,\n",
    "            'varname.reg.fur': ['POP', 'AFL', 'AFL2', 'URB', 'CTS', 'TI', 'KAOPEN'],\n",
    "            'lagTerms.reg.fur': [0, 0, 0, 0, 0, 0, 0],\n",
    "        }\n",
    "    },\n",
    "})\n",
    "# time stability tests\n",
    "analyses.update({\n",
    "    'diffGMM_full_model_all_{}_{}'.format(start, start+9): {\n",
    "        **extended_params,\n",
    "        'start_year': start,\n",
    "        'end_year': start + 9,\n",
    "        'pdynmc_params': {**default_pdynmc_params,\n",
    "            'use.mc.lev': False,\n",
    "            'varname.reg.fur': ['POP', 'AFL', 'AFL2', 'URB', 'CTS', 'TI', 'KAOPEN'],\n",
    "            'lagTerms.reg.fur': [0, 0, 0, 0, 0, 0, 0],\n",
    "        }\n",
    "    }\n",
    "    for start in range(1990, 2007)\n",
    "})\n",
    "\n",
    "assert backup_params == default_params\n",
    "assert backup_pdynmc_params == default_pdynmc_params"
   ]
  },
  {
   "cell_type": "code",
   "execution_count": 3,
   "metadata": {
    "kernel": "SoS"
   },
   "outputs": [],
   "source": [
    "existing = [x for x in os.listdir(output_dir) if x.endswith('.ipynb')]\n",
    "not_regenerated = set(existing) - set(x + '.ipynb' for x in analyses.keys())\n",
    "if not_regenerated:\n",
    "    raise ValueError('The following files are not generated, consider cleaning them: \\n'\n",
    "                    + '\\n'.join(not_regenerated))"
   ]
  },
  {
   "cell_type": "code",
   "execution_count": 4,
   "metadata": {
    "kernel": "SoS"
   },
   "outputs": [
    {
     "data": {
      "text/html": [
       "<div class=\"sos_logging sos_info\">INFO: Executing default.ipynb</div>"
      ]
     },
     "metadata": {},
     "output_type": "display_data"
    },
    {
     "data": {
      "text/html": [
       "<div class=\"sos_logging sos_info\">INFO: Input Notebook:  /home/drake/workspace/em-2020/analysis/D3_gmm_template.ipynb</div>"
      ]
     },
     "metadata": {},
     "output_type": "display_data"
    },
    {
     "data": {
      "text/html": [
       "<div class=\"sos_logging sos_info\">INFO: Output Notebook: /home/drake/workspace/em-2020/analysis/D3_gmm/default.ipynb</div>"
      ]
     },
     "metadata": {},
     "output_type": "display_data"
    },
    {
     "data": {
      "text/html": [
       "<div class=\"sos_logging sos_info\">INFO: Generating grammar tables from %s</div>"
      ]
     },
     "metadata": {},
     "output_type": "display_data"
    },
    {
     "data": {
      "text/html": [
       "<div class=\"sos_logging sos_info\">INFO: Writing grammar tables to %s</div>"
      ]
     },
     "metadata": {},
     "output_type": "display_data"
    },
    {
     "data": {
      "text/html": [
       "<div class=\"sos_logging sos_info\">INFO: Writing failed: %s</div>"
      ]
     },
     "metadata": {},
     "output_type": "display_data"
    },
    {
     "data": {
      "text/html": [
       "<div class=\"sos_logging sos_info\">INFO: Generating grammar tables from %s</div>"
      ]
     },
     "metadata": {},
     "output_type": "display_data"
    },
    {
     "data": {
      "text/html": [
       "<div class=\"sos_logging sos_info\">INFO: Writing grammar tables to %s</div>"
      ]
     },
     "metadata": {},
     "output_type": "display_data"
    },
    {
     "data": {
      "text/html": [
       "<div class=\"sos_logging sos_info\">INFO: Writing failed: %s</div>"
      ]
     },
     "metadata": {},
     "output_type": "display_data"
    },
    {
     "data": {
      "text/html": [
       "<div class=\"sos_logging sos_info\">INFO: Executing notebook with kernel: sos</div>"
      ]
     },
     "metadata": {},
     "output_type": "display_data"
    },
    {
     "data": {
      "text/html": [
       "<div class=\"sos_logging sos_info\">INFO: Executing diffGMM_Rafiq2016_subset.ipynb</div>"
      ]
     },
     "metadata": {},
     "output_type": "display_data"
    },
    {
     "data": {
      "text/html": [
       "<div class=\"sos_logging sos_info\">INFO: Input Notebook:  /home/drake/workspace/em-2020/analysis/D3_gmm_template.ipynb</div>"
      ]
     },
     "metadata": {},
     "output_type": "display_data"
    },
    {
     "data": {
      "text/html": [
       "<div class=\"sos_logging sos_info\">INFO: Output Notebook: /home/drake/workspace/em-2020/analysis/D3_gmm/diffGMM_Rafiq2016_subset.ipynb</div>"
      ]
     },
     "metadata": {},
     "output_type": "display_data"
    },
    {
     "data": {
      "text/html": [
       "<div class=\"sos_logging sos_info\">INFO: Executing notebook with kernel: sos</div>"
      ]
     },
     "metadata": {},
     "output_type": "display_data"
    },
    {
     "data": {
      "text/html": [
       "<div class=\"sos_logging sos_info\">INFO: Executing diffGMM_Rafiq2016-TI_subset.ipynb</div>"
      ]
     },
     "metadata": {},
     "output_type": "display_data"
    },
    {
     "data": {
      "text/html": [
       "<div class=\"sos_logging sos_info\">INFO: Input Notebook:  /home/drake/workspace/em-2020/analysis/D3_gmm_template.ipynb</div>"
      ]
     },
     "metadata": {},
     "output_type": "display_data"
    },
    {
     "data": {
      "text/html": [
       "<div class=\"sos_logging sos_info\">INFO: Output Notebook: /home/drake/workspace/em-2020/analysis/D3_gmm/diffGMM_Rafiq2016-TI_subset.ipynb</div>"
      ]
     },
     "metadata": {},
     "output_type": "display_data"
    },
    {
     "data": {
      "text/html": [
       "<div class=\"sos_logging sos_info\">INFO: Executing notebook with kernel: sos</div>"
      ]
     },
     "metadata": {},
     "output_type": "display_data"
    },
    {
     "data": {
      "text/html": [
       "<div class=\"sos_logging sos_info\">INFO: Executing diffGMM_Rafiq2016-TI-KAOPEN_subset.ipynb</div>"
      ]
     },
     "metadata": {},
     "output_type": "display_data"
    },
    {
     "data": {
      "text/html": [
       "<div class=\"sos_logging sos_info\">INFO: Input Notebook:  /home/drake/workspace/em-2020/analysis/D3_gmm_template.ipynb</div>"
      ]
     },
     "metadata": {},
     "output_type": "display_data"
    },
    {
     "data": {
      "text/html": [
       "<div class=\"sos_logging sos_info\">INFO: Output Notebook: /home/drake/workspace/em-2020/analysis/D3_gmm/diffGMM_Rafiq2016-TI-KAOPEN_subset.ipynb</div>"
      ]
     },
     "metadata": {},
     "output_type": "display_data"
    },
    {
     "data": {
      "text/html": [
       "<div class=\"sos_logging sos_info\">INFO: Executing notebook with kernel: sos</div>"
      ]
     },
     "metadata": {},
     "output_type": "display_data"
    },
    {
     "data": {
      "text/html": [
       "<div class=\"sos_logging sos_info\">INFO: Executing diffGMM_Rafiq2016-CTS_subset.ipynb</div>"
      ]
     },
     "metadata": {},
     "output_type": "display_data"
    },
    {
     "data": {
      "text/html": [
       "<div class=\"sos_logging sos_info\">INFO: Input Notebook:  /home/drake/workspace/em-2020/analysis/D3_gmm_template.ipynb</div>"
      ]
     },
     "metadata": {},
     "output_type": "display_data"
    },
    {
     "data": {
      "text/html": [
       "<div class=\"sos_logging sos_info\">INFO: Output Notebook: /home/drake/workspace/em-2020/analysis/D3_gmm/diffGMM_Rafiq2016-CTS_subset.ipynb</div>"
      ]
     },
     "metadata": {},
     "output_type": "display_data"
    },
    {
     "data": {
      "text/html": [
       "<div class=\"sos_logging sos_info\">INFO: Executing notebook with kernel: sos</div>"
      ]
     },
     "metadata": {},
     "output_type": "display_data"
    },
    {
     "data": {
      "text/html": [
       "<div class=\"sos_logging sos_info\">INFO: Executing diffGMM_Rafiq2016-CTS_subset_lag1.ipynb</div>"
      ]
     },
     "metadata": {},
     "output_type": "display_data"
    },
    {
     "data": {
      "text/html": [
       "<div class=\"sos_logging sos_info\">INFO: Input Notebook:  /home/drake/workspace/em-2020/analysis/D3_gmm_template.ipynb</div>"
      ]
     },
     "metadata": {},
     "output_type": "display_data"
    },
    {
     "data": {
      "text/html": [
       "<div class=\"sos_logging sos_info\">INFO: Output Notebook: /home/drake/workspace/em-2020/analysis/D3_gmm/diffGMM_Rafiq2016-CTS_subset_lag1.ipynb</div>"
      ]
     },
     "metadata": {},
     "output_type": "display_data"
    },
    {
     "data": {
      "text/html": [
       "<div class=\"sos_logging sos_info\">INFO: Executing notebook with kernel: sos</div>"
      ]
     },
     "metadata": {},
     "output_type": "display_data"
    },
    {
     "data": {
      "text/html": [
       "<div class=\"sos_logging sos_info\">INFO: Executing diffGMM_Rafiq2016-CTS_subset_lag2.ipynb</div>"
      ]
     },
     "metadata": {},
     "output_type": "display_data"
    },
    {
     "data": {
      "text/html": [
       "<div class=\"sos_logging sos_info\">INFO: Input Notebook:  /home/drake/workspace/em-2020/analysis/D3_gmm_template.ipynb</div>"
      ]
     },
     "metadata": {},
     "output_type": "display_data"
    },
    {
     "data": {
      "text/html": [
       "<div class=\"sos_logging sos_info\">INFO: Output Notebook: /home/drake/workspace/em-2020/analysis/D3_gmm/diffGMM_Rafiq2016-CTS_subset_lag2.ipynb</div>"
      ]
     },
     "metadata": {},
     "output_type": "display_data"
    },
    {
     "data": {
      "text/html": [
       "<div class=\"sos_logging sos_info\">INFO: Executing notebook with kernel: sos</div>"
      ]
     },
     "metadata": {},
     "output_type": "display_data"
    },
    {
     "data": {
      "text/html": [
       "<div class=\"sos_logging sos_info\">INFO: Executing diffGMM_Rafiq2016-CTS-TI_subset.ipynb</div>"
      ]
     },
     "metadata": {},
     "output_type": "display_data"
    },
    {
     "data": {
      "text/html": [
       "<div class=\"sos_logging sos_info\">INFO: Input Notebook:  /home/drake/workspace/em-2020/analysis/D3_gmm_template.ipynb</div>"
      ]
     },
     "metadata": {},
     "output_type": "display_data"
    },
    {
     "data": {
      "text/html": [
       "<div class=\"sos_logging sos_info\">INFO: Output Notebook: /home/drake/workspace/em-2020/analysis/D3_gmm/diffGMM_Rafiq2016-CTS-TI_subset.ipynb</div>"
      ]
     },
     "metadata": {},
     "output_type": "display_data"
    },
    {
     "data": {
      "text/html": [
       "<div class=\"sos_logging sos_info\">INFO: Executing notebook with kernel: sos</div>"
      ]
     },
     "metadata": {},
     "output_type": "display_data"
    },
    {
     "data": {
      "text/html": [
       "<div class=\"sos_logging sos_info\">INFO: Executing diffGMM_Rafiq2016-CTS-TI-KAOPEN_subset.ipynb</div>"
      ]
     },
     "metadata": {},
     "output_type": "display_data"
    },
    {
     "data": {
      "text/html": [
       "<div class=\"sos_logging sos_info\">INFO: Input Notebook:  /home/drake/workspace/em-2020/analysis/D3_gmm_template.ipynb</div>"
      ]
     },
     "metadata": {},
     "output_type": "display_data"
    },
    {
     "data": {
      "text/html": [
       "<div class=\"sos_logging sos_info\">INFO: Output Notebook: /home/drake/workspace/em-2020/analysis/D3_gmm/diffGMM_Rafiq2016-CTS-TI-KAOPEN_subset.ipynb</div>"
      ]
     },
     "metadata": {},
     "output_type": "display_data"
    },
    {
     "data": {
      "text/html": [
       "<div class=\"sos_logging sos_info\">INFO: Executing notebook with kernel: sos</div>"
      ]
     },
     "metadata": {},
     "output_type": "display_data"
    },
    {
     "data": {
      "text/html": [
       "<div class=\"sos_logging sos_info\">INFO: Executing diffGMM_Rafiq2016_all.ipynb</div>"
      ]
     },
     "metadata": {},
     "output_type": "display_data"
    },
    {
     "data": {
      "text/html": [
       "<div class=\"sos_logging sos_info\">INFO: Input Notebook:  /home/drake/workspace/em-2020/analysis/D3_gmm_template.ipynb</div>"
      ]
     },
     "metadata": {},
     "output_type": "display_data"
    },
    {
     "data": {
      "text/html": [
       "<div class=\"sos_logging sos_info\">INFO: Output Notebook: /home/drake/workspace/em-2020/analysis/D3_gmm/diffGMM_Rafiq2016_all.ipynb</div>"
      ]
     },
     "metadata": {},
     "output_type": "display_data"
    },
    {
     "data": {
      "text/html": [
       "<div class=\"sos_logging sos_info\">INFO: Executing notebook with kernel: sos</div>"
      ]
     },
     "metadata": {},
     "output_type": "display_data"
    },
    {
     "data": {
      "text/html": [
       "<div class=\"sos_logging sos_info\">INFO: Executing diffGMM_Rafiq2016-TI_all.ipynb</div>"
      ]
     },
     "metadata": {},
     "output_type": "display_data"
    },
    {
     "data": {
      "text/html": [
       "<div class=\"sos_logging sos_info\">INFO: Input Notebook:  /home/drake/workspace/em-2020/analysis/D3_gmm_template.ipynb</div>"
      ]
     },
     "metadata": {},
     "output_type": "display_data"
    },
    {
     "data": {
      "text/html": [
       "<div class=\"sos_logging sos_info\">INFO: Output Notebook: /home/drake/workspace/em-2020/analysis/D3_gmm/diffGMM_Rafiq2016-TI_all.ipynb</div>"
      ]
     },
     "metadata": {},
     "output_type": "display_data"
    },
    {
     "data": {
      "text/html": [
       "<div class=\"sos_logging sos_info\">INFO: Executing notebook with kernel: sos</div>"
      ]
     },
     "metadata": {},
     "output_type": "display_data"
    },
    {
     "data": {
      "text/html": [
       "<div class=\"sos_logging sos_info\">INFO: Executing diffGMM_Rafiq2016-TI-KAOPEN_all.ipynb</div>"
      ]
     },
     "metadata": {},
     "output_type": "display_data"
    },
    {
     "data": {
      "text/html": [
       "<div class=\"sos_logging sos_info\">INFO: Input Notebook:  /home/drake/workspace/em-2020/analysis/D3_gmm_template.ipynb</div>"
      ]
     },
     "metadata": {},
     "output_type": "display_data"
    },
    {
     "data": {
      "text/html": [
       "<div class=\"sos_logging sos_info\">INFO: Output Notebook: /home/drake/workspace/em-2020/analysis/D3_gmm/diffGMM_Rafiq2016-TI-KAOPEN_all.ipynb</div>"
      ]
     },
     "metadata": {},
     "output_type": "display_data"
    },
    {
     "data": {
      "text/html": [
       "<div class=\"sos_logging sos_info\">INFO: Executing notebook with kernel: sos</div>"
      ]
     },
     "metadata": {},
     "output_type": "display_data"
    },
    {
     "data": {
      "text/html": [
       "<div class=\"sos_logging sos_info\">INFO: Executing diffGMM_Rafiq2016-CTS_all.ipynb</div>"
      ]
     },
     "metadata": {},
     "output_type": "display_data"
    },
    {
     "data": {
      "text/html": [
       "<div class=\"sos_logging sos_info\">INFO: Input Notebook:  /home/drake/workspace/em-2020/analysis/D3_gmm_template.ipynb</div>"
      ]
     },
     "metadata": {},
     "output_type": "display_data"
    },
    {
     "data": {
      "text/html": [
       "<div class=\"sos_logging sos_info\">INFO: Output Notebook: /home/drake/workspace/em-2020/analysis/D3_gmm/diffGMM_Rafiq2016-CTS_all.ipynb</div>"
      ]
     },
     "metadata": {},
     "output_type": "display_data"
    },
    {
     "data": {
      "text/html": [
       "<div class=\"sos_logging sos_info\">INFO: Executing notebook with kernel: sos</div>"
      ]
     },
     "metadata": {},
     "output_type": "display_data"
    },
    {
     "data": {
      "text/html": [
       "<div class=\"sos_logging sos_info\">INFO: Executing diffGMM_Rafiq2016-CTS-TI_all.ipynb</div>"
      ]
     },
     "metadata": {},
     "output_type": "display_data"
    },
    {
     "data": {
      "text/html": [
       "<div class=\"sos_logging sos_info\">INFO: Input Notebook:  /home/drake/workspace/em-2020/analysis/D3_gmm_template.ipynb</div>"
      ]
     },
     "metadata": {},
     "output_type": "display_data"
    },
    {
     "data": {
      "text/html": [
       "<div class=\"sos_logging sos_info\">INFO: Output Notebook: /home/drake/workspace/em-2020/analysis/D3_gmm/diffGMM_Rafiq2016-CTS-TI_all.ipynb</div>"
      ]
     },
     "metadata": {},
     "output_type": "display_data"
    },
    {
     "data": {
      "text/html": [
       "<div class=\"sos_logging sos_info\">INFO: Executing notebook with kernel: sos</div>"
      ]
     },
     "metadata": {},
     "output_type": "display_data"
    },
    {
     "data": {
      "text/html": [
       "<div class=\"sos_logging sos_info\">INFO: Executing diffGMM_Rafiq2016-CTS-TI-KAOPEN_all.ipynb</div>"
      ]
     },
     "metadata": {},
     "output_type": "display_data"
    },
    {
     "data": {
      "text/html": [
       "<div class=\"sos_logging sos_info\">INFO: Input Notebook:  /home/drake/workspace/em-2020/analysis/D3_gmm_template.ipynb</div>"
      ]
     },
     "metadata": {},
     "output_type": "display_data"
    },
    {
     "data": {
      "text/html": [
       "<div class=\"sos_logging sos_info\">INFO: Output Notebook: /home/drake/workspace/em-2020/analysis/D3_gmm/diffGMM_Rafiq2016-CTS-TI-KAOPEN_all.ipynb</div>"
      ]
     },
     "metadata": {},
     "output_type": "display_data"
    },
    {
     "data": {
      "text/html": [
       "<div class=\"sos_logging sos_info\">INFO: Executing notebook with kernel: sos</div>"
      ]
     },
     "metadata": {},
     "output_type": "display_data"
    },
    {
     "data": {
      "text/html": [
       "<div class=\"sos_logging sos_info\">INFO: Executing sysGMM_Rafiq2016_subset.ipynb</div>"
      ]
     },
     "metadata": {},
     "output_type": "display_data"
    },
    {
     "data": {
      "text/html": [
       "<div class=\"sos_logging sos_info\">INFO: Input Notebook:  /home/drake/workspace/em-2020/analysis/D3_gmm_template.ipynb</div>"
      ]
     },
     "metadata": {},
     "output_type": "display_data"
    },
    {
     "data": {
      "text/html": [
       "<div class=\"sos_logging sos_info\">INFO: Output Notebook: /home/drake/workspace/em-2020/analysis/D3_gmm/sysGMM_Rafiq2016_subset.ipynb</div>"
      ]
     },
     "metadata": {},
     "output_type": "display_data"
    },
    {
     "data": {
      "text/html": [
       "<div class=\"sos_logging sos_info\">INFO: Executing notebook with kernel: sos</div>"
      ]
     },
     "metadata": {},
     "output_type": "display_data"
    },
    {
     "data": {
      "text/html": [
       "<div class=\"sos_logging sos_info\">INFO: Executing sysGMM_Rafiq2016-CTS_subset.ipynb</div>"
      ]
     },
     "metadata": {},
     "output_type": "display_data"
    },
    {
     "data": {
      "text/html": [
       "<div class=\"sos_logging sos_info\">INFO: Input Notebook:  /home/drake/workspace/em-2020/analysis/D3_gmm_template.ipynb</div>"
      ]
     },
     "metadata": {},
     "output_type": "display_data"
    },
    {
     "data": {
      "text/html": [
       "<div class=\"sos_logging sos_info\">INFO: Output Notebook: /home/drake/workspace/em-2020/analysis/D3_gmm/sysGMM_Rafiq2016-CTS_subset.ipynb</div>"
      ]
     },
     "metadata": {},
     "output_type": "display_data"
    },
    {
     "data": {
      "text/html": [
       "<div class=\"sos_logging sos_info\">INFO: Executing notebook with kernel: sos</div>"
      ]
     },
     "metadata": {},
     "output_type": "display_data"
    },
    {
     "data": {
      "text/html": [
       "<div class=\"sos_logging sos_info\">INFO: Executing sysGMM_Rafiq2016-CTS-TI_subset.ipynb</div>"
      ]
     },
     "metadata": {},
     "output_type": "display_data"
    },
    {
     "data": {
      "text/html": [
       "<div class=\"sos_logging sos_info\">INFO: Input Notebook:  /home/drake/workspace/em-2020/analysis/D3_gmm_template.ipynb</div>"
      ]
     },
     "metadata": {},
     "output_type": "display_data"
    },
    {
     "data": {
      "text/html": [
       "<div class=\"sos_logging sos_info\">INFO: Output Notebook: /home/drake/workspace/em-2020/analysis/D3_gmm/sysGMM_Rafiq2016-CTS-TI_subset.ipynb</div>"
      ]
     },
     "metadata": {},
     "output_type": "display_data"
    },
    {
     "data": {
      "text/html": [
       "<div class=\"sos_logging sos_info\">INFO: Executing notebook with kernel: sos</div>"
      ]
     },
     "metadata": {},
     "output_type": "display_data"
    },
    {
     "data": {
      "text/html": [
       "<div class=\"sos_logging sos_info\">INFO: Executing sysGMM_Rafiq2016-CTS-TI-KAOPEN_subset.ipynb</div>"
      ]
     },
     "metadata": {},
     "output_type": "display_data"
    },
    {
     "data": {
      "text/html": [
       "<div class=\"sos_logging sos_info\">INFO: Input Notebook:  /home/drake/workspace/em-2020/analysis/D3_gmm_template.ipynb</div>"
      ]
     },
     "metadata": {},
     "output_type": "display_data"
    },
    {
     "data": {
      "text/html": [
       "<div class=\"sos_logging sos_info\">INFO: Output Notebook: /home/drake/workspace/em-2020/analysis/D3_gmm/sysGMM_Rafiq2016-CTS-TI-KAOPEN_subset.ipynb</div>"
      ]
     },
     "metadata": {},
     "output_type": "display_data"
    },
    {
     "data": {
      "text/html": [
       "<div class=\"sos_logging sos_info\">INFO: Executing notebook with kernel: sos</div>"
      ]
     },
     "metadata": {},
     "output_type": "display_data"
    },
    {
     "data": {
      "text/html": [
       "<div class=\"sos_logging sos_info\">INFO: Executing diffGMM_full_model_all_1990_1999.ipynb</div>"
      ]
     },
     "metadata": {},
     "output_type": "display_data"
    },
    {
     "data": {
      "text/html": [
       "<div class=\"sos_logging sos_info\">INFO: Input Notebook:  /home/drake/workspace/em-2020/analysis/D3_gmm_template.ipynb</div>"
      ]
     },
     "metadata": {},
     "output_type": "display_data"
    },
    {
     "data": {
      "text/html": [
       "<div class=\"sos_logging sos_info\">INFO: Output Notebook: /home/drake/workspace/em-2020/analysis/D3_gmm/diffGMM_full_model_all_1990_1999.ipynb</div>"
      ]
     },
     "metadata": {},
     "output_type": "display_data"
    },
    {
     "data": {
      "text/html": [
       "<div class=\"sos_logging sos_info\">INFO: Executing notebook with kernel: sos</div>"
      ]
     },
     "metadata": {},
     "output_type": "display_data"
    },
    {
     "data": {
      "text/html": [
       "<div class=\"sos_logging sos_info\">INFO: Executing diffGMM_full_model_all_1991_2000.ipynb</div>"
      ]
     },
     "metadata": {},
     "output_type": "display_data"
    },
    {
     "data": {
      "text/html": [
       "<div class=\"sos_logging sos_info\">INFO: Input Notebook:  /home/drake/workspace/em-2020/analysis/D3_gmm_template.ipynb</div>"
      ]
     },
     "metadata": {},
     "output_type": "display_data"
    },
    {
     "data": {
      "text/html": [
       "<div class=\"sos_logging sos_info\">INFO: Output Notebook: /home/drake/workspace/em-2020/analysis/D3_gmm/diffGMM_full_model_all_1991_2000.ipynb</div>"
      ]
     },
     "metadata": {},
     "output_type": "display_data"
    },
    {
     "data": {
      "text/html": [
       "<div class=\"sos_logging sos_info\">INFO: Executing notebook with kernel: sos</div>"
      ]
     },
     "metadata": {},
     "output_type": "display_data"
    },
    {
     "data": {
      "text/html": [
       "<div class=\"sos_logging sos_info\">INFO: Executing diffGMM_full_model_all_1992_2001.ipynb</div>"
      ]
     },
     "metadata": {},
     "output_type": "display_data"
    },
    {
     "data": {
      "text/html": [
       "<div class=\"sos_logging sos_info\">INFO: Input Notebook:  /home/drake/workspace/em-2020/analysis/D3_gmm_template.ipynb</div>"
      ]
     },
     "metadata": {},
     "output_type": "display_data"
    },
    {
     "data": {
      "text/html": [
       "<div class=\"sos_logging sos_info\">INFO: Output Notebook: /home/drake/workspace/em-2020/analysis/D3_gmm/diffGMM_full_model_all_1992_2001.ipynb</div>"
      ]
     },
     "metadata": {},
     "output_type": "display_data"
    },
    {
     "data": {
      "text/html": [
       "<div class=\"sos_logging sos_info\">INFO: Executing notebook with kernel: sos</div>"
      ]
     },
     "metadata": {},
     "output_type": "display_data"
    },
    {
     "data": {
      "text/html": [
       "<div class=\"sos_logging sos_info\">INFO: Executing diffGMM_full_model_all_1993_2002.ipynb</div>"
      ]
     },
     "metadata": {},
     "output_type": "display_data"
    },
    {
     "data": {
      "text/html": [
       "<div class=\"sos_logging sos_info\">INFO: Input Notebook:  /home/drake/workspace/em-2020/analysis/D3_gmm_template.ipynb</div>"
      ]
     },
     "metadata": {},
     "output_type": "display_data"
    },
    {
     "data": {
      "text/html": [
       "<div class=\"sos_logging sos_info\">INFO: Output Notebook: /home/drake/workspace/em-2020/analysis/D3_gmm/diffGMM_full_model_all_1993_2002.ipynb</div>"
      ]
     },
     "metadata": {},
     "output_type": "display_data"
    },
    {
     "data": {
      "text/html": [
       "<div class=\"sos_logging sos_info\">INFO: Executing notebook with kernel: sos</div>"
      ]
     },
     "metadata": {},
     "output_type": "display_data"
    },
    {
     "data": {
      "text/html": [
       "<div class=\"sos_logging sos_info\">INFO: Executing diffGMM_full_model_all_1994_2003.ipynb</div>"
      ]
     },
     "metadata": {},
     "output_type": "display_data"
    },
    {
     "data": {
      "text/html": [
       "<div class=\"sos_logging sos_info\">INFO: Input Notebook:  /home/drake/workspace/em-2020/analysis/D3_gmm_template.ipynb</div>"
      ]
     },
     "metadata": {},
     "output_type": "display_data"
    },
    {
     "data": {
      "text/html": [
       "<div class=\"sos_logging sos_info\">INFO: Output Notebook: /home/drake/workspace/em-2020/analysis/D3_gmm/diffGMM_full_model_all_1994_2003.ipynb</div>"
      ]
     },
     "metadata": {},
     "output_type": "display_data"
    },
    {
     "data": {
      "text/html": [
       "<div class=\"sos_logging sos_info\">INFO: Executing notebook with kernel: sos</div>"
      ]
     },
     "metadata": {},
     "output_type": "display_data"
    },
    {
     "data": {
      "text/html": [
       "<div class=\"sos_logging sos_info\">INFO: Executing diffGMM_full_model_all_1995_2004.ipynb</div>"
      ]
     },
     "metadata": {},
     "output_type": "display_data"
    },
    {
     "data": {
      "text/html": [
       "<div class=\"sos_logging sos_info\">INFO: Input Notebook:  /home/drake/workspace/em-2020/analysis/D3_gmm_template.ipynb</div>"
      ]
     },
     "metadata": {},
     "output_type": "display_data"
    },
    {
     "data": {
      "text/html": [
       "<div class=\"sos_logging sos_info\">INFO: Output Notebook: /home/drake/workspace/em-2020/analysis/D3_gmm/diffGMM_full_model_all_1995_2004.ipynb</div>"
      ]
     },
     "metadata": {},
     "output_type": "display_data"
    },
    {
     "data": {
      "text/html": [
       "<div class=\"sos_logging sos_info\">INFO: Executing notebook with kernel: sos</div>"
      ]
     },
     "metadata": {},
     "output_type": "display_data"
    },
    {
     "data": {
      "text/html": [
       "<div class=\"sos_logging sos_info\">INFO: Executing diffGMM_full_model_all_1996_2005.ipynb</div>"
      ]
     },
     "metadata": {},
     "output_type": "display_data"
    },
    {
     "data": {
      "text/html": [
       "<div class=\"sos_logging sos_info\">INFO: Input Notebook:  /home/drake/workspace/em-2020/analysis/D3_gmm_template.ipynb</div>"
      ]
     },
     "metadata": {},
     "output_type": "display_data"
    },
    {
     "data": {
      "text/html": [
       "<div class=\"sos_logging sos_info\">INFO: Output Notebook: /home/drake/workspace/em-2020/analysis/D3_gmm/diffGMM_full_model_all_1996_2005.ipynb</div>"
      ]
     },
     "metadata": {},
     "output_type": "display_data"
    },
    {
     "data": {
      "text/html": [
       "<div class=\"sos_logging sos_info\">INFO: Executing notebook with kernel: sos</div>"
      ]
     },
     "metadata": {},
     "output_type": "display_data"
    },
    {
     "data": {
      "text/html": [
       "<div class=\"sos_logging sos_info\">INFO: Executing diffGMM_full_model_all_1997_2006.ipynb</div>"
      ]
     },
     "metadata": {},
     "output_type": "display_data"
    },
    {
     "data": {
      "text/html": [
       "<div class=\"sos_logging sos_info\">INFO: Input Notebook:  /home/drake/workspace/em-2020/analysis/D3_gmm_template.ipynb</div>"
      ]
     },
     "metadata": {},
     "output_type": "display_data"
    },
    {
     "data": {
      "text/html": [
       "<div class=\"sos_logging sos_info\">INFO: Output Notebook: /home/drake/workspace/em-2020/analysis/D3_gmm/diffGMM_full_model_all_1997_2006.ipynb</div>"
      ]
     },
     "metadata": {},
     "output_type": "display_data"
    },
    {
     "data": {
      "text/html": [
       "<div class=\"sos_logging sos_info\">INFO: Executing notebook with kernel: sos</div>"
      ]
     },
     "metadata": {},
     "output_type": "display_data"
    },
    {
     "data": {
      "text/html": [
       "<div class=\"sos_logging sos_info\">INFO: Executing diffGMM_full_model_all_1998_2007.ipynb</div>"
      ]
     },
     "metadata": {},
     "output_type": "display_data"
    },
    {
     "data": {
      "text/html": [
       "<div class=\"sos_logging sos_info\">INFO: Input Notebook:  /home/drake/workspace/em-2020/analysis/D3_gmm_template.ipynb</div>"
      ]
     },
     "metadata": {},
     "output_type": "display_data"
    },
    {
     "data": {
      "text/html": [
       "<div class=\"sos_logging sos_info\">INFO: Output Notebook: /home/drake/workspace/em-2020/analysis/D3_gmm/diffGMM_full_model_all_1998_2007.ipynb</div>"
      ]
     },
     "metadata": {},
     "output_type": "display_data"
    },
    {
     "data": {
      "text/html": [
       "<div class=\"sos_logging sos_info\">INFO: Executing notebook with kernel: sos</div>"
      ]
     },
     "metadata": {},
     "output_type": "display_data"
    },
    {
     "data": {
      "text/html": [
       "<div class=\"sos_logging sos_info\">INFO: Executing diffGMM_full_model_all_1999_2008.ipynb</div>"
      ]
     },
     "metadata": {},
     "output_type": "display_data"
    },
    {
     "data": {
      "text/html": [
       "<div class=\"sos_logging sos_info\">INFO: Input Notebook:  /home/drake/workspace/em-2020/analysis/D3_gmm_template.ipynb</div>"
      ]
     },
     "metadata": {},
     "output_type": "display_data"
    },
    {
     "data": {
      "text/html": [
       "<div class=\"sos_logging sos_info\">INFO: Output Notebook: /home/drake/workspace/em-2020/analysis/D3_gmm/diffGMM_full_model_all_1999_2008.ipynb</div>"
      ]
     },
     "metadata": {},
     "output_type": "display_data"
    },
    {
     "data": {
      "text/html": [
       "<div class=\"sos_logging sos_info\">INFO: Executing notebook with kernel: sos</div>"
      ]
     },
     "metadata": {},
     "output_type": "display_data"
    },
    {
     "data": {
      "text/html": [
       "<div class=\"sos_logging sos_info\">INFO: Executing diffGMM_full_model_all_2000_2009.ipynb</div>"
      ]
     },
     "metadata": {},
     "output_type": "display_data"
    },
    {
     "data": {
      "text/html": [
       "<div class=\"sos_logging sos_info\">INFO: Input Notebook:  /home/drake/workspace/em-2020/analysis/D3_gmm_template.ipynb</div>"
      ]
     },
     "metadata": {},
     "output_type": "display_data"
    },
    {
     "data": {
      "text/html": [
       "<div class=\"sos_logging sos_info\">INFO: Output Notebook: /home/drake/workspace/em-2020/analysis/D3_gmm/diffGMM_full_model_all_2000_2009.ipynb</div>"
      ]
     },
     "metadata": {},
     "output_type": "display_data"
    },
    {
     "data": {
      "text/html": [
       "<div class=\"sos_logging sos_info\">INFO: Executing notebook with kernel: sos</div>"
      ]
     },
     "metadata": {},
     "output_type": "display_data"
    },
    {
     "data": {
      "text/html": [
       "<div class=\"sos_logging sos_info\">INFO: Executing diffGMM_full_model_all_2001_2010.ipynb</div>"
      ]
     },
     "metadata": {},
     "output_type": "display_data"
    },
    {
     "data": {
      "text/html": [
       "<div class=\"sos_logging sos_info\">INFO: Input Notebook:  /home/drake/workspace/em-2020/analysis/D3_gmm_template.ipynb</div>"
      ]
     },
     "metadata": {},
     "output_type": "display_data"
    },
    {
     "data": {
      "text/html": [
       "<div class=\"sos_logging sos_info\">INFO: Output Notebook: /home/drake/workspace/em-2020/analysis/D3_gmm/diffGMM_full_model_all_2001_2010.ipynb</div>"
      ]
     },
     "metadata": {},
     "output_type": "display_data"
    },
    {
     "data": {
      "text/html": [
       "<div class=\"sos_logging sos_info\">INFO: Executing notebook with kernel: sos</div>"
      ]
     },
     "metadata": {},
     "output_type": "display_data"
    },
    {
     "data": {
      "text/html": [
       "<div class=\"sos_logging sos_info\">INFO: Executing diffGMM_full_model_all_2002_2011.ipynb</div>"
      ]
     },
     "metadata": {},
     "output_type": "display_data"
    },
    {
     "data": {
      "text/html": [
       "<div class=\"sos_logging sos_info\">INFO: Input Notebook:  /home/drake/workspace/em-2020/analysis/D3_gmm_template.ipynb</div>"
      ]
     },
     "metadata": {},
     "output_type": "display_data"
    },
    {
     "data": {
      "text/html": [
       "<div class=\"sos_logging sos_info\">INFO: Output Notebook: /home/drake/workspace/em-2020/analysis/D3_gmm/diffGMM_full_model_all_2002_2011.ipynb</div>"
      ]
     },
     "metadata": {},
     "output_type": "display_data"
    },
    {
     "data": {
      "text/html": [
       "<div class=\"sos_logging sos_info\">INFO: Executing notebook with kernel: sos</div>"
      ]
     },
     "metadata": {},
     "output_type": "display_data"
    },
    {
     "data": {
      "text/html": [
       "<div class=\"sos_logging sos_info\">INFO: Executing diffGMM_full_model_all_2003_2012.ipynb</div>"
      ]
     },
     "metadata": {},
     "output_type": "display_data"
    },
    {
     "data": {
      "text/html": [
       "<div class=\"sos_logging sos_info\">INFO: Input Notebook:  /home/drake/workspace/em-2020/analysis/D3_gmm_template.ipynb</div>"
      ]
     },
     "metadata": {},
     "output_type": "display_data"
    },
    {
     "data": {
      "text/html": [
       "<div class=\"sos_logging sos_info\">INFO: Output Notebook: /home/drake/workspace/em-2020/analysis/D3_gmm/diffGMM_full_model_all_2003_2012.ipynb</div>"
      ]
     },
     "metadata": {},
     "output_type": "display_data"
    },
    {
     "data": {
      "text/html": [
       "<div class=\"sos_logging sos_info\">INFO: Executing notebook with kernel: sos</div>"
      ]
     },
     "metadata": {},
     "output_type": "display_data"
    },
    {
     "data": {
      "text/html": [
       "<div class=\"sos_logging sos_info\">INFO: Executing diffGMM_full_model_all_2004_2013.ipynb</div>"
      ]
     },
     "metadata": {},
     "output_type": "display_data"
    },
    {
     "data": {
      "text/html": [
       "<div class=\"sos_logging sos_info\">INFO: Input Notebook:  /home/drake/workspace/em-2020/analysis/D3_gmm_template.ipynb</div>"
      ]
     },
     "metadata": {},
     "output_type": "display_data"
    },
    {
     "data": {
      "text/html": [
       "<div class=\"sos_logging sos_info\">INFO: Output Notebook: /home/drake/workspace/em-2020/analysis/D3_gmm/diffGMM_full_model_all_2004_2013.ipynb</div>"
      ]
     },
     "metadata": {},
     "output_type": "display_data"
    },
    {
     "data": {
      "text/html": [
       "<div class=\"sos_logging sos_info\">INFO: Executing notebook with kernel: sos</div>"
      ]
     },
     "metadata": {},
     "output_type": "display_data"
    },
    {
     "data": {
      "text/html": [
       "<div class=\"sos_logging sos_info\">INFO: Executing diffGMM_full_model_all_2005_2014.ipynb</div>"
      ]
     },
     "metadata": {},
     "output_type": "display_data"
    },
    {
     "data": {
      "text/html": [
       "<div class=\"sos_logging sos_info\">INFO: Input Notebook:  /home/drake/workspace/em-2020/analysis/D3_gmm_template.ipynb</div>"
      ]
     },
     "metadata": {},
     "output_type": "display_data"
    },
    {
     "data": {
      "text/html": [
       "<div class=\"sos_logging sos_info\">INFO: Output Notebook: /home/drake/workspace/em-2020/analysis/D3_gmm/diffGMM_full_model_all_2005_2014.ipynb</div>"
      ]
     },
     "metadata": {},
     "output_type": "display_data"
    },
    {
     "data": {
      "text/html": [
       "<div class=\"sos_logging sos_info\">INFO: Executing notebook with kernel: sos</div>"
      ]
     },
     "metadata": {},
     "output_type": "display_data"
    },
    {
     "data": {
      "text/html": [
       "<div class=\"sos_logging sos_info\">INFO: Executing diffGMM_full_model_all_2006_2015.ipynb</div>"
      ]
     },
     "metadata": {},
     "output_type": "display_data"
    },
    {
     "data": {
      "text/html": [
       "<div class=\"sos_logging sos_info\">INFO: Input Notebook:  /home/drake/workspace/em-2020/analysis/D3_gmm_template.ipynb</div>"
      ]
     },
     "metadata": {},
     "output_type": "display_data"
    },
    {
     "data": {
      "text/html": [
       "<div class=\"sos_logging sos_info\">INFO: Output Notebook: /home/drake/workspace/em-2020/analysis/D3_gmm/diffGMM_full_model_all_2006_2015.ipynb</div>"
      ]
     },
     "metadata": {},
     "output_type": "display_data"
    },
    {
     "data": {
      "text/html": [
       "<div class=\"sos_logging sos_info\">INFO: Executing notebook with kernel: sos</div>"
      ]
     },
     "metadata": {},
     "output_type": "display_data"
    }
   ],
   "source": [
    "refresh = True\n",
    "\n",
    "for nb_name, params in analyses.items():\n",
    "    output_file = nb_name + '.ipynb'\n",
    "    output_path = os.path.join(output_dir, output_file)\n",
    "\n",
    "    pickle_file = nb_name + '.pickle.bz2'\n",
    "    pickle_path = os.path.join(output_dir, pickle_file)\n",
    "    params['pickle_file'] = pickle_path\n",
    "\n",
    "    if not refresh and os.path.exists(output_path):\n",
    "        log.warning('Skipping ' + output_file)\n",
    "        continue\n",
    "    log.info('Executing ' + output_file)\n",
    "    pm.execute.execute_notebook(\n",
    "        engine_name='sos',\n",
    "        input_path=input_path, \n",
    "        output_path=output_path,\n",
    "        parameters=params,\n",
    "        progress_bar=False,\n",
    "    );"
   ]
  },
  {
   "cell_type": "code",
   "execution_count": null,
   "metadata": {
    "kernel": "SoS"
   },
   "outputs": [],
   "source": []
  }
 ],
 "metadata": {
  "kernelspec": {
   "display_name": "SoS",
   "language": "sos",
   "name": "sos"
  },
  "language_info": {
   "codemirror_mode": "sos",
   "file_extension": ".sos",
   "mimetype": "text/x-sos",
   "name": "sos",
   "nbconvert_exporter": "sos_notebook.converter.SoS_Exporter",
   "pygments_lexer": "sos"
  },
  "sos": {
   "kernels": [
    [
     "SoS",
     "sos",
     "",
     "",
     "sos"
    ]
   ],
   "version": "0.21.19"
  }
 },
 "nbformat": 4,
 "nbformat_minor": 4
}
