{
 "cells": [
  {
   "cell_type": "code",
   "execution_count": 42,
   "metadata": {},
   "outputs": [],
   "source": [
    "from functools import partial\n",
    "import numpy as np\n",
    "import os\n",
    "import pandas as pd\n",
    "import scipy\n",
    "import glob\n",
    "import pickle\n",
    "import bz2\n",
    "\n",
    "import seaborn as sns\n",
    "sns.set_style(\"whitegrid\")\n",
    "import matplotlib as mpl\n",
    "import matplotlib.pyplot as plt\n",
    "\n",
    "\n",
    "import sys\n",
    "sys.path.append('../')\n",
    "import util\n",
    "\n",
    "save_fig = partial(util.save_fig, save=True)"
   ]
  },
  {
   "cell_type": "code",
   "execution_count": 43,
   "metadata": {},
   "outputs": [
    {
     "data": {
      "text/plain": [
       "['/home/drake/workspace/em-2020/analysis/D3_gmm/diffGMM_Rafiq2016-CTS_subset.pickle.bz2',\n",
       " '/home/drake/workspace/em-2020/analysis/D3_gmm/diffGMM_Rafiq2016-CTS-TI-KAOPEN_subset.pickle.bz2',\n",
       " '/home/drake/workspace/em-2020/analysis/D3_gmm/diffGMM_Rafiq2016-CTS-TI_subset.pickle.bz2',\n",
       " '/home/drake/workspace/em-2020/analysis/D3_gmm/diffGMM_Rafiq2016_subset.pickle.bz2']"
      ]
     },
     "execution_count": 43,
     "metadata": {},
     "output_type": "execute_result"
    }
   ],
   "source": [
    "results_dir = os.path.join(util.ANALYSIS_DIR, 'D3_gmm')\n",
    "diffGMM_files = glob.glob(os.path.join(results_dir, 'diffGMM*.pickle.bz2'))\n",
    "diffGMM_files"
   ]
  },
  {
   "cell_type": "code",
   "execution_count": 49,
   "metadata": {},
   "outputs": [
    {
     "data": {
      "text/html": [
       "<div>\n",
       "<style scoped>\n",
       "    .dataframe tbody tr th:only-of-type {\n",
       "        vertical-align: middle;\n",
       "    }\n",
       "\n",
       "    .dataframe tbody tr th {\n",
       "        vertical-align: top;\n",
       "    }\n",
       "\n",
       "    .dataframe thead th {\n",
       "        text-align: right;\n",
       "    }\n",
       "</style>\n",
       "<table border=\"1\" class=\"dataframe\">\n",
       "  <thead>\n",
       "    <tr style=\"text-align: right;\">\n",
       "      <th></th>\n",
       "      <th>Estimate</th>\n",
       "      <th>Std.Err.rob</th>\n",
       "      <th>z.value.rob</th>\n",
       "      <th>Pr...z.rob..</th>\n",
       "      <th>Estimate</th>\n",
       "      <th>Std.Err.rob</th>\n",
       "      <th>z.value.rob</th>\n",
       "      <th>Pr...z.rob..</th>\n",
       "    </tr>\n",
       "  </thead>\n",
       "  <tbody>\n",
       "    <tr>\n",
       "      <th>L1.ENI</th>\n",
       "      <td>0.092050</td>\n",
       "      <td>0.877438</td>\n",
       "      <td>0.105</td>\n",
       "      <td>0.91638</td>\n",
       "      <td>0.198553</td>\n",
       "      <td>0.082621</td>\n",
       "      <td>2.403</td>\n",
       "      <td>0.01626</td>\n",
       "    </tr>\n",
       "    <tr>\n",
       "      <th>L2.ENI</th>\n",
       "      <td>0.149892</td>\n",
       "      <td>0.297147</td>\n",
       "      <td>0.504</td>\n",
       "      <td>0.61426</td>\n",
       "      <td>0.228045</td>\n",
       "      <td>0.095956</td>\n",
       "      <td>2.377</td>\n",
       "      <td>0.01745</td>\n",
       "    </tr>\n",
       "    <tr>\n",
       "      <th>L0.POP</th>\n",
       "      <td>-0.064137</td>\n",
       "      <td>0.365662</td>\n",
       "      <td>-0.175</td>\n",
       "      <td>0.86108</td>\n",
       "      <td>-0.087448</td>\n",
       "      <td>0.039891</td>\n",
       "      <td>-2.192</td>\n",
       "      <td>0.02838</td>\n",
       "    </tr>\n",
       "    <tr>\n",
       "      <th>L0.AFL</th>\n",
       "      <td>0.006458</td>\n",
       "      <td>0.049196</td>\n",
       "      <td>0.131</td>\n",
       "      <td>0.89578</td>\n",
       "      <td>0.015900</td>\n",
       "      <td>0.007848</td>\n",
       "      <td>2.026</td>\n",
       "      <td>0.04276</td>\n",
       "    </tr>\n",
       "    <tr>\n",
       "      <th>L0.AFL2</th>\n",
       "      <td>-0.029028</td>\n",
       "      <td>0.007566</td>\n",
       "      <td>-3.837</td>\n",
       "      <td>0.00012</td>\n",
       "      <td>-0.011592</td>\n",
       "      <td>0.015626</td>\n",
       "      <td>-0.742</td>\n",
       "      <td>0.45809</td>\n",
       "    </tr>\n",
       "    <tr>\n",
       "      <th>L0.URB</th>\n",
       "      <td>-0.028907</td>\n",
       "      <td>0.168108</td>\n",
       "      <td>-0.172</td>\n",
       "      <td>0.86344</td>\n",
       "      <td>-0.048191</td>\n",
       "      <td>0.023224</td>\n",
       "      <td>-2.075</td>\n",
       "      <td>0.03799</td>\n",
       "    </tr>\n",
       "    <tr>\n",
       "      <th>L0.TS</th>\n",
       "      <td>-0.054675</td>\n",
       "      <td>0.081610</td>\n",
       "      <td>-0.670</td>\n",
       "      <td>0.50286</td>\n",
       "      <td>NaN</td>\n",
       "      <td>NaN</td>\n",
       "      <td>NaN</td>\n",
       "      <td>NaN</td>\n",
       "    </tr>\n",
       "    <tr>\n",
       "      <th>L0.CTS</th>\n",
       "      <td>NaN</td>\n",
       "      <td>NaN</td>\n",
       "      <td>NaN</td>\n",
       "      <td>NaN</td>\n",
       "      <td>-0.303107</td>\n",
       "      <td>0.261844</td>\n",
       "      <td>-1.158</td>\n",
       "      <td>0.24686</td>\n",
       "    </tr>\n",
       "    <tr>\n",
       "      <th>L0.TI</th>\n",
       "      <td>NaN</td>\n",
       "      <td>NaN</td>\n",
       "      <td>NaN</td>\n",
       "      <td>NaN</td>\n",
       "      <td>-0.108752</td>\n",
       "      <td>0.119294</td>\n",
       "      <td>-0.912</td>\n",
       "      <td>0.36177</td>\n",
       "    </tr>\n",
       "    <tr>\n",
       "      <th>L0.KAOPEN</th>\n",
       "      <td>NaN</td>\n",
       "      <td>NaN</td>\n",
       "      <td>NaN</td>\n",
       "      <td>NaN</td>\n",
       "      <td>0.017005</td>\n",
       "      <td>0.015195</td>\n",
       "      <td>1.119</td>\n",
       "      <td>0.26314</td>\n",
       "    </tr>\n",
       "  </tbody>\n",
       "</table>\n",
       "</div>"
      ],
      "text/plain": [
       "           Estimate  Std.Err.rob  z.value.rob  Pr...z.rob..  Estimate  \\\n",
       "L1.ENI     0.092050     0.877438        0.105       0.91638  0.198553   \n",
       "L2.ENI     0.149892     0.297147        0.504       0.61426  0.228045   \n",
       "L0.POP    -0.064137     0.365662       -0.175       0.86108 -0.087448   \n",
       "L0.AFL     0.006458     0.049196        0.131       0.89578  0.015900   \n",
       "L0.AFL2   -0.029028     0.007566       -3.837       0.00012 -0.011592   \n",
       "L0.URB    -0.028907     0.168108       -0.172       0.86344 -0.048191   \n",
       "L0.TS     -0.054675     0.081610       -0.670       0.50286       NaN   \n",
       "L0.CTS          NaN          NaN          NaN           NaN -0.303107   \n",
       "L0.TI           NaN          NaN          NaN           NaN -0.108752   \n",
       "L0.KAOPEN       NaN          NaN          NaN           NaN  0.017005   \n",
       "\n",
       "           Std.Err.rob  z.value.rob  Pr...z.rob..  \n",
       "L1.ENI        0.082621        2.403       0.01626  \n",
       "L2.ENI        0.095956        2.377       0.01745  \n",
       "L0.POP        0.039891       -2.192       0.02838  \n",
       "L0.AFL        0.007848        2.026       0.04276  \n",
       "L0.AFL2       0.015626       -0.742       0.45809  \n",
       "L0.URB        0.023224       -2.075       0.03799  \n",
       "L0.TS              NaN          NaN           NaN  \n",
       "L0.CTS        0.261844       -1.158       0.24686  \n",
       "L0.TI         0.119294       -0.912       0.36177  \n",
       "L0.KAOPEN     0.015195        1.119       0.26314  "
      ]
     },
     "execution_count": 49,
     "metadata": {},
     "output_type": "execute_result"
    }
   ],
   "source": [
    "def get(f):\n",
    "    with bz2.BZ2File(f) as fd:\n",
    "        return pickle.load(fd)\n",
    "\n",
    "\n",
    "default = get('/home/drake/workspace/em-2020/analysis/D3_gmm/template_output.pickle.bz2')\n",
    "rafiq = get('/home/drake/workspace/em-2020/analysis/D3_gmm/diffGMM_Rafiq2016_subset.pickle.bz2')\n",
    "cts = get('/home/drake/workspace/em-2020/analysis/D3_gmm/diffGMM_Rafiq2016-CTS_subset.pickle.bz2')\n",
    "cts_ti = get('/home/drake/workspace/em-2020/analysis/D3_gmm/diffGMM_Rafiq2016-CTS-TI_subset.pickle.bz2')\n",
    "cts_ti_kaopen = get('/home/drake/workspace/em-2020/analysis/D3_gmm/diffGMM_Rafiq2016-CTS-TI-KAOPEN_subset.pickle.bz2')\n",
    "\n",
    "pd.testing.assert_frame_equal(default['pdynmc_coef'], cts_ti_kaopen['pdynmc_coef'])\n",
    "check = pd.concat([rafiq['pdynmc_coef'], cts_ti_kaopen['pdynmc_coef']], axis='columns')\n",
    "check.loc[check.index.str.startswith('L')]"
   ]
  },
  {
   "cell_type": "code",
   "execution_count": 57,
   "metadata": {},
   "outputs": [
    {
     "data": {
      "text/plain": [
       "Index(['Estimate', 'Std.Err.rob', 'z.value.rob', 'Pr...z.rob..'], dtype='object')"
      ]
     },
     "execution_count": 57,
     "metadata": {},
     "output_type": "execute_result"
    }
   ],
   "source": [
    "coefs = rafiq['pdynmc_coef']\n",
    "col_map = {'Estimate': 'estimate', 'Std.Err.rob': 'std. error', 'Pr...z.rob..': 'p-value'}\n",
    "\n",
    "var_map = {x:x.replace('L0.', '') for x in coefs.index if x.startswith('L0')}\n",
    "coefs.loc[var_map.keys(), col_map.keys()]\n",
    "coefs.rename(columns=col_map)\n"
   ]
  },
  {
   "cell_type": "code",
   "execution_count": null,
   "metadata": {},
   "outputs": [],
   "source": [
    "def resid_plot(data):\n",
    "    sns.regplot(x='fitted values', y='residuals', \n",
    "                data=data.rename(columns={'fitted': 'fitted values'}))\n",
    "    plt.axhline(0, color='gray')"
   ]
  },
  {
   "cell_type": "code",
   "execution_count": null,
   "metadata": {},
   "outputs": [],
   "source": [
    "resid_plot(rafiq['pdynmc_resid'])\n",
    "resid_plot(cts['pdynmc_resid'])\n",
    "resid_plot(cts_ti['pdynmc_resid'].iloc[0:50])"
   ]
  },
  {
   "cell_type": "code",
   "execution_count": null,
   "metadata": {},
   "outputs": [],
   "source": [
    "pd.concat([cts_ti_kaopen['pdynmc_coef'], default['pdynmc_coef']], axis='columns')"
   ]
  },
  {
   "cell_type": "code",
   "execution_count": null,
   "metadata": {},
   "outputs": [],
   "source": []
  }
 ],
 "metadata": {
  "kernelspec": {
   "display_name": "em-2020",
   "language": "python",
   "name": "em-2020"
  },
  "language_info": {
   "codemirror_mode": {
    "name": "ipython",
    "version": 3
   },
   "file_extension": ".py",
   "mimetype": "text/x-python",
   "name": "python",
   "nbconvert_exporter": "python",
   "pygments_lexer": "ipython3",
   "version": "3.7.5"
  }
 },
 "nbformat": 4,
 "nbformat_minor": 4
}
