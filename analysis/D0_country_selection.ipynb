{
 "cells": [
  {
   "cell_type": "code",
   "execution_count": 1,
   "metadata": {},
   "outputs": [],
   "source": [
    "from collections import defaultdict\n",
    "from functools import partial\n",
    "import numpy as np\n",
    "import os\n",
    "import pandas as pd\n",
    "from pandas import IndexSlice as ix\n",
    "import pycountry\n",
    "\n",
    "import seaborn as sns\n",
    "import matplotlib as mpl\n",
    "import matplotlib.pyplot as plt\n",
    "\n",
    "%reload_ext autoreload\n",
    "%autoreload 1\n",
    "%aimport util\n",
    "\n",
    "save_fig = partial(util.save_fig, save=True)"
   ]
  },
  {
   "cell_type": "code",
   "execution_count": 2,
   "metadata": {},
   "outputs": [],
   "source": [
    "dataset_raw = pd.read_csv(util.RAW_DATASET)"
   ]
  },
  {
   "cell_type": "code",
   "execution_count": 3,
   "metadata": {},
   "outputs": [],
   "source": [
    "def common_name(country):\n",
    "    try:\n",
    "        return country.common_name\n",
    "    except AttributeError:\n",
    "        return country.name"
   ]
  },
  {
   "cell_type": "markdown",
   "metadata": {},
   "source": [
    "### Rafiq et al. (2016): 22 \"increasingly urbanized emerging economies\""
   ]
  },
  {
   "cell_type": "code",
   "execution_count": 4,
   "metadata": {},
   "outputs": [
    {
     "data": {
      "text/plain": [
       "\"['AGO', 'BGD', 'CHN', 'CRI', 'ETH', 'GHA', 'IND', 'IDN', 'JOR', 'LBN', 'MYS', 'MNG', 'MOZ', 'NAM', 'NGA', 'PAN', 'SGP', 'SDN', 'TZA', 'THA', 'VNM', 'ZMB']\""
      ]
     },
     "execution_count": 4,
     "metadata": {},
     "output_type": "execute_result"
    }
   ],
   "source": [
    "rafiq2016_table2 = \"\"\"Angola\n",
    "Costa Rica\n",
    "Ghana\n",
    "Indonesia\n",
    "Lebanon\n",
    "Mongolia\n",
    "Namibia\n",
    "Panama\n",
    "Sudan\n",
    "Thailand\n",
    "Zambia\n",
    "Bangladesh\n",
    "China\n",
    "Ethiopia\n",
    "India\n",
    "Jordan\n",
    "Malaysia\n",
    "Mozambique\n",
    "Nigeria\n",
    "Singapore\n",
    "Tanzania\n",
    "Vietnam\n",
    "\"\"\"\n",
    "\n",
    "records = [pycountry.countries.get(name=x) \n",
    "           or pycountry.countries.get(common_name=x) \n",
    "           for x in rafiq2016_table2.strip().split('\\n')]\n",
    "assert all(x is not None for x in records)\n",
    "records = sorted(records, key=common_name)\n",
    "rafiq2016_codes = [x.alpha_3 for x in records]\n",
    "repr(rafiq2016_codes)"
   ]
  },
  {
   "cell_type": "code",
   "execution_count": 5,
   "metadata": {},
   "outputs": [],
   "source": [
    "assert util.RAFIQ2016_COUNTRIES == rafiq2016_codes"
   ]
  },
  {
   "cell_type": "markdown",
   "metadata": {},
   "source": [
    "### Tiba and Frikha (2018): middle-income countries (minus Venezuela)"
   ]
  },
  {
   "cell_type": "code",
   "execution_count": 6,
   "metadata": {},
   "outputs": [
    {
     "data": {
      "text/plain": [
       "\"['DZA', 'ARG', 'BRA', 'BGR', 'CHL', 'CHN', 'COL', 'MYS', 'MEX', 'THA', 'TUR', 'VEN']\""
      ]
     },
     "execution_count": 6,
     "metadata": {},
     "output_type": "execute_result"
    }
   ],
   "source": [
    "tiba2018_middle = \"\"\"\n",
    "Algeria\n",
    "Argentina\n",
    "Brazil\n",
    "Bulgaria\n",
    "Chile\n",
    "China\n",
    "Colombia\n",
    "Malaysia\n",
    "Mexico\n",
    "Thailand\n",
    "Turkey\n",
    "Venezuela\n",
    "\"\"\"\n",
    "\n",
    "records = [pycountry.countries.get(name=x) \n",
    "           or pycountry.countries.get(common_name=x) \n",
    "           for x in tiba2018_middle.strip().split('\\n')]\n",
    "assert all(x is not None for x in records)\n",
    "records = sorted(records, key=common_name)\n",
    "tiba2018_middle_codes = [x.alpha_3 for x in records]\n",
    "repr(tiba2018_middle_codes)"
   ]
  },
  {
   "cell_type": "code",
   "execution_count": 7,
   "metadata": {},
   "outputs": [],
   "source": [
    "assert util.TIBA2018_MID_COUNTRIES == tiba2018_middle_codes"
   ]
  },
  {
   "cell_type": "markdown",
   "metadata": {},
   "source": [
    "### Tiba and Frikha (2018): high-income countries"
   ]
  },
  {
   "cell_type": "code",
   "execution_count": 8,
   "metadata": {},
   "outputs": [
    {
     "data": {
      "text/plain": [
       "\"['AUS', 'CAN', 'FRA', 'DEU', 'JPN', 'NLD', 'PRT', 'ESP', 'SWE', 'CHE', 'GBR', 'USA']\""
      ]
     },
     "execution_count": 8,
     "metadata": {},
     "output_type": "execute_result"
    }
   ],
   "source": [
    "tiba2018_high = \"\"\"\n",
    "Australia\n",
    "Canada\n",
    "France\n",
    "Germany\n",
    "Japan\n",
    "Netherlands\n",
    "Portugal\n",
    "Spain\n",
    "Sweden\n",
    "Switzerland\n",
    "United Kingdom\n",
    "United States\n",
    "\"\"\"\n",
    "\n",
    "records = [pycountry.countries.get(name=x) \n",
    "           or pycountry.countries.get(common_name=x) \n",
    "           for x in tiba2018_high.strip().split('\\n')]\n",
    "assert all(x is not None for x in records)\n",
    "records = sorted(records, key=common_name)\n",
    "tiba2018_high_codes = [x.alpha_3 for x in records]\n",
    "repr(tiba2018_high_codes)"
   ]
  },
  {
   "cell_type": "code",
   "execution_count": 9,
   "metadata": {},
   "outputs": [],
   "source": [
    "assert util.TIBA2018_HIGH_COUNTRIES == tiba2018_high_codes"
   ]
  },
  {
   "cell_type": "markdown",
   "metadata": {},
   "source": [
    "## Extract contiguous panel sets"
   ]
  },
  {
   "cell_type": "code",
   "execution_count": 10,
   "metadata": {},
   "outputs": [],
   "source": [
    "dataset_raw = pd.read_csv(util.RAW_DATASET, index_col=['Country', 'Year'])"
   ]
  },
  {
   "cell_type": "code",
   "execution_count": 11,
   "metadata": {},
   "outputs": [
    {
     "data": {
      "text/html": [
       "<div>\n",
       "<style scoped>\n",
       "    .dataframe tbody tr th:only-of-type {\n",
       "        vertical-align: middle;\n",
       "    }\n",
       "\n",
       "    .dataframe tbody tr th {\n",
       "        vertical-align: top;\n",
       "    }\n",
       "\n",
       "    .dataframe thead th {\n",
       "        text-align: right;\n",
       "    }\n",
       "</style>\n",
       "<table border=\"1\" class=\"dataframe\">\n",
       "  <thead>\n",
       "    <tr style=\"text-align: right;\">\n",
       "      <th></th>\n",
       "      <th></th>\n",
       "      <th>ENI</th>\n",
       "      <th>POP</th>\n",
       "      <th>URB</th>\n",
       "      <th>AFL</th>\n",
       "      <th>TI</th>\n",
       "      <th>TS</th>\n",
       "      <th>CTS</th>\n",
       "      <th>KAOPEN</th>\n",
       "    </tr>\n",
       "    <tr>\n",
       "      <th>Country</th>\n",
       "      <th>Year</th>\n",
       "      <th></th>\n",
       "      <th></th>\n",
       "      <th></th>\n",
       "      <th></th>\n",
       "      <th></th>\n",
       "      <th></th>\n",
       "      <th></th>\n",
       "      <th></th>\n",
       "    </tr>\n",
       "  </thead>\n",
       "  <tbody>\n",
       "    <tr>\n",
       "      <th rowspan=\"5\" valign=\"top\">ABW</th>\n",
       "      <th>1980</th>\n",
       "      <td>NaN</td>\n",
       "      <td>333.866667</td>\n",
       "      <td>50.472</td>\n",
       "      <td>NaN</td>\n",
       "      <td>NaN</td>\n",
       "      <td>NaN</td>\n",
       "      <td>NaN</td>\n",
       "      <td>NaN</td>\n",
       "    </tr>\n",
       "    <tr>\n",
       "      <th>1981</th>\n",
       "      <td>NaN</td>\n",
       "      <td>336.483333</td>\n",
       "      <td>50.456</td>\n",
       "      <td>NaN</td>\n",
       "      <td>NaN</td>\n",
       "      <td>NaN</td>\n",
       "      <td>NaN</td>\n",
       "      <td>NaN</td>\n",
       "    </tr>\n",
       "    <tr>\n",
       "      <th>1982</th>\n",
       "      <td>NaN</td>\n",
       "      <td>340.805556</td>\n",
       "      <td>50.441</td>\n",
       "      <td>NaN</td>\n",
       "      <td>NaN</td>\n",
       "      <td>NaN</td>\n",
       "      <td>NaN</td>\n",
       "      <td>NaN</td>\n",
       "    </tr>\n",
       "    <tr>\n",
       "      <th>1983</th>\n",
       "      <td>NaN</td>\n",
       "      <td>345.561111</td>\n",
       "      <td>50.426</td>\n",
       "      <td>NaN</td>\n",
       "      <td>NaN</td>\n",
       "      <td>NaN</td>\n",
       "      <td>NaN</td>\n",
       "      <td>NaN</td>\n",
       "    </tr>\n",
       "    <tr>\n",
       "      <th>1984</th>\n",
       "      <td>NaN</td>\n",
       "      <td>349.088889</td>\n",
       "      <td>50.411</td>\n",
       "      <td>NaN</td>\n",
       "      <td>NaN</td>\n",
       "      <td>NaN</td>\n",
       "      <td>NaN</td>\n",
       "      <td>NaN</td>\n",
       "    </tr>\n",
       "    <tr>\n",
       "      <th>...</th>\n",
       "      <th>...</th>\n",
       "      <td>...</td>\n",
       "      <td>...</td>\n",
       "      <td>...</td>\n",
       "      <td>...</td>\n",
       "      <td>...</td>\n",
       "      <td>...</td>\n",
       "      <td>...</td>\n",
       "      <td>...</td>\n",
       "    </tr>\n",
       "    <tr>\n",
       "      <th rowspan=\"5\" valign=\"top\">ZWE</th>\n",
       "      <th>2015</th>\n",
       "      <td>NaN</td>\n",
       "      <td>35.710557</td>\n",
       "      <td>32.385</td>\n",
       "      <td>2679.510136</td>\n",
       "      <td>0.202684</td>\n",
       "      <td>0.567488</td>\n",
       "      <td>0.029254</td>\n",
       "      <td>-0.148388</td>\n",
       "    </tr>\n",
       "    <tr>\n",
       "      <th>2016</th>\n",
       "      <td>NaN</td>\n",
       "      <td>36.268295</td>\n",
       "      <td>32.296</td>\n",
       "      <td>2806.458631</td>\n",
       "      <td>0.092656</td>\n",
       "      <td>0.512190</td>\n",
       "      <td>0.024596</td>\n",
       "      <td>-0.148388</td>\n",
       "    </tr>\n",
       "    <tr>\n",
       "      <th>2017</th>\n",
       "      <td>NaN</td>\n",
       "      <td>36.801719</td>\n",
       "      <td>32.237</td>\n",
       "      <td>3028.245976</td>\n",
       "      <td>NaN</td>\n",
       "      <td>0.500283</td>\n",
       "      <td>0.022614</td>\n",
       "      <td>-0.148388</td>\n",
       "    </tr>\n",
       "    <tr>\n",
       "      <th>2018</th>\n",
       "      <td>NaN</td>\n",
       "      <td>37.324591</td>\n",
       "      <td>32.209</td>\n",
       "      <td>3203.888554</td>\n",
       "      <td>NaN</td>\n",
       "      <td>0.500054</td>\n",
       "      <td>0.022107</td>\n",
       "      <td>-0.148388</td>\n",
       "    </tr>\n",
       "    <tr>\n",
       "      <th>2019</th>\n",
       "      <td>NaN</td>\n",
       "      <td>NaN</td>\n",
       "      <td>32.210</td>\n",
       "      <td>2953.484113</td>\n",
       "      <td>NaN</td>\n",
       "      <td>NaN</td>\n",
       "      <td>NaN</td>\n",
       "      <td>NaN</td>\n",
       "    </tr>\n",
       "  </tbody>\n",
       "</table>\n",
       "<p>8692 rows × 8 columns</p>\n",
       "</div>"
      ],
      "text/plain": [
       "              ENI         POP     URB          AFL        TI        TS  \\\n",
       "Country Year                                                             \n",
       "ABW     1980  NaN  333.866667  50.472          NaN       NaN       NaN   \n",
       "        1981  NaN  336.483333  50.456          NaN       NaN       NaN   \n",
       "        1982  NaN  340.805556  50.441          NaN       NaN       NaN   \n",
       "        1983  NaN  345.561111  50.426          NaN       NaN       NaN   \n",
       "        1984  NaN  349.088889  50.411          NaN       NaN       NaN   \n",
       "...           ...         ...     ...          ...       ...       ...   \n",
       "ZWE     2015  NaN   35.710557  32.385  2679.510136  0.202684  0.567488   \n",
       "        2016  NaN   36.268295  32.296  2806.458631  0.092656  0.512190   \n",
       "        2017  NaN   36.801719  32.237  3028.245976       NaN  0.500283   \n",
       "        2018  NaN   37.324591  32.209  3203.888554       NaN  0.500054   \n",
       "        2019  NaN         NaN  32.210  2953.484113       NaN       NaN   \n",
       "\n",
       "                   CTS    KAOPEN  \n",
       "Country Year                      \n",
       "ABW     1980       NaN       NaN  \n",
       "        1981       NaN       NaN  \n",
       "        1982       NaN       NaN  \n",
       "        1983       NaN       NaN  \n",
       "        1984       NaN       NaN  \n",
       "...                ...       ...  \n",
       "ZWE     2015  0.029254 -0.148388  \n",
       "        2016  0.024596 -0.148388  \n",
       "        2017  0.022614 -0.148388  \n",
       "        2018  0.022107 -0.148388  \n",
       "        2019       NaN       NaN  \n",
       "\n",
       "[8692 rows x 8 columns]"
      ]
     },
     "execution_count": 11,
     "metadata": {},
     "output_type": "execute_result"
    }
   ],
   "source": [
    "dataset_raw"
   ]
  },
  {
   "cell_type": "code",
   "execution_count": 12,
   "metadata": {},
   "outputs": [
    {
     "data": {
      "text/plain": [
       "Country        \n",
       "ALB      ENI                           2015\n",
       "         TI             1990,1991,1992,2012\n",
       "         KAOPEN    1990,1991,1992,1993,1994\n",
       "ARG      ENI                           2015\n",
       "ARM      ENI                           2015\n",
       "                             ...           \n",
       "ZAF      ENI                           2015\n",
       "ZMB      ENI                      2014,2015\n",
       "         TI             1994,1997,1998,2000\n",
       "         TS             1990,1991,1992,1993\n",
       "         CTS            1990,1991,1992,1993\n",
       "Length: 164, dtype: object"
      ]
     },
     "execution_count": 12,
     "metadata": {},
     "output_type": "execute_result"
    }
   ],
   "source": [
    "dataset = dataset_raw.loc[ix[util.ALL_COUNTRIES, 1990:2015], :].sort_index()\n",
    "def find_years(x):\n",
    "    return ','.join(map(str, x.index.get_level_values('Year')))\n",
    "\n",
    "missing = dataset.stack(dropna=False).isnull()\n",
    "missing.loc[missing].groupby(level=[0,2]).aggregate(find_years)"
   ]
  },
  {
   "cell_type": "code",
   "execution_count": 13,
   "metadata": {},
   "outputs": [
    {
     "name": "stdout",
     "output_type": "stream",
     "text": [
      "ALB {2012}\n",
      "ARM {2004}\n",
      "AZE {2000, 1997, 1998, 1999}\n",
      "CYP {1993, 1994, 1995, 1996, 1997, 1998}\n",
      "DZA {2008, 2009}\n",
      "ECU {2011, 2012}\n",
      "EGY {1997}\n",
      "HND {1993, 1994, 1997, 2003, 2004}\n",
      "IDN {2012}\n",
      "IRN {1992, 1991}\n",
      "JAM {1998, 1999}\n",
      "KAZ {2012}\n",
      "KEN {1992, 1994, 1995, 2000, 2001}\n",
      "MAR {1992, 2001, 2003, 1999}\n",
      "MLT {2003, 2005}\n",
      "PAN {1997, 1998, 1999}\n",
      "PER {1995, 1998}\n",
      "PRY {1991, 1994, 1995, 1996, 1997, 1998, 1999}\n",
      "SAU {2008, 2009, 2012}\n",
      "TJK {2008, 2007}\n",
      "TZA {2012}\n",
      "URY {2013}\n",
      "VEN {2001, 1995, 1998, 1999}\n",
      "ZMB {2000, 1997, 1998}\n"
     ]
    }
   ],
   "source": [
    "for c, df in dataset.groupby(level='Country'):\n",
    "    df_not_na = df.dropna(axis='rows', how='any')\n",
    "    years = df_not_na.index.get_level_values('Year')\n",
    "    contiguous_years = range(years[0], years[-1]+1)\n",
    "    if any(years != contiguous_years):\n",
    "        missing = set(contiguous_years) - set(years)\n",
    "        print('%s %s' % (c, missing))\n"
   ]
  },
  {
   "cell_type": "code",
   "execution_count": 14,
   "metadata": {},
   "outputs": [],
   "source": [
    "country_years = defaultdict(lambda:(1990,2015), {\n",
    "    **{x:(1990,2014) for x in ['ARG', 'BRA', 'CHN', 'DZA', 'MYS', 'THA']},\n",
    "    'AUS': (1995,2015),\n",
    "    'BGR': (1994,2014),\n",
    "    'CHE': (1996,2014),\n",
    "    'COL': (1994,2014),\n",
    "    'VEN': (2002,2011),\n",
    "})\n",
    "country_years = {c: country_years[c] for c in util.SUBSET_COUNTRIES}\n",
    "data_subset = pd.concat([dataset.loc[ix[c, start:end], :]\n",
    "                        for c, (start, end) in country_years.items()]).sort_index()\n",
    "assert set(data_subset.index.get_level_values('Country')) == set(util.SUBSET_COUNTRIES)"
   ]
  },
  {
   "cell_type": "code",
   "execution_count": 15,
   "metadata": {},
   "outputs": [
    {
     "data": {
      "text/plain": [
       "Country    \n",
       "DZA      TI    2008,2009\n",
       "dtype: object"
      ]
     },
     "execution_count": 15,
     "metadata": {},
     "output_type": "execute_result"
    }
   ],
   "source": [
    "missing = data_subset.stack(dropna=False).isnull()\n",
    "missing.loc[missing].groupby(level=[0,2]).aggregate(find_years)"
   ]
  },
  {
   "cell_type": "code",
   "execution_count": 16,
   "metadata": {},
   "outputs": [
    {
     "name": "stdout",
     "output_type": "stream",
     "text": [
      "\\begin{tabular}{ll}\n",
      "\\toprule\n",
      "   Country & Date range \\\\\n",
      "\\midrule\n",
      "   Algeria &  1990-2014 \\\\\n",
      " Argentina &  1990-2014 \\\\\n",
      "    Brazil &  1990-2014 \\\\\n",
      "  Bulgaria &  1994-2014 \\\\\n",
      "     Chile &  1990-2015 \\\\\n",
      "     China &  1990-2014 \\\\\n",
      "  Colombia &  1994-2014 \\\\\n",
      "  Malaysia &  1990-2014 \\\\\n",
      "    Mexico &  1990-2015 \\\\\n",
      "  Thailand &  1990-2014 \\\\\n",
      "    Turkey &  1990-2015 \\\\\n",
      " Venezuela &  2002-2011 \\\\\n",
      "\\bottomrule\n",
      "\\end{tabular}\n",
      "\n",
      "\\begin{tabular}{ll}\n",
      "\\toprule\n",
      "        Country & Date range \\\\\n",
      "\\midrule\n",
      "      Australia &  1995-2015 \\\\\n",
      "         Canada &  1990-2015 \\\\\n",
      "         France &  1990-2015 \\\\\n",
      "        Germany &  1990-2015 \\\\\n",
      "          Japan &  1990-2015 \\\\\n",
      "    Netherlands &  1990-2015 \\\\\n",
      "       Portugal &  1990-2015 \\\\\n",
      "          Spain &  1990-2015 \\\\\n",
      "         Sweden &  1990-2015 \\\\\n",
      "    Switzerland &  1996-2014 \\\\\n",
      " United Kingdom &  1990-2015 \\\\\n",
      "  United States &  1990-2015 \\\\\n",
      "\\bottomrule\n",
      "\\end{tabular}\n",
      "\n"
     ]
    }
   ],
   "source": [
    "def get_date(code):\n",
    "    start, end = country_years[code]\n",
    "    return '%s-%s' % (start, end)\n",
    "    \n",
    "def sorted_names(codes, date_fn):\n",
    "    name_map = {common_name(pycountry.countries.get(alpha_3=code)):code  for code in codes}\n",
    "    names = sorted(name_map.keys())\n",
    "    dates = map(date_fn, (name_map[name] for name in names))\n",
    "    return pd.DataFrame({'Country': names, 'Date range': dates})\n",
    "\n",
    "print(sorted_names(tiba2018_middle_codes, get_date).to_latex(index=False))\n",
    "print(sorted_names(tiba2018_high_codes, get_date).to_latex(index=False))\n"
   ]
  },
  {
   "cell_type": "markdown",
   "metadata": {},
   "source": [
    "## Save out subset data"
   ]
  },
  {
   "cell_type": "code",
   "execution_count": 17,
   "metadata": {},
   "outputs": [],
   "source": [
    "data_subset.to_csv(util.DATASET_SUBSET)"
   ]
  },
  {
   "cell_type": "markdown",
   "metadata": {},
   "source": [
    "## Extract full country panel"
   ]
  },
  {
   "cell_type": "code",
   "execution_count": 18,
   "metadata": {},
   "outputs": [
    {
     "data": {
      "text/html": [
       "<div>\n",
       "<style scoped>\n",
       "    .dataframe tbody tr th:only-of-type {\n",
       "        vertical-align: middle;\n",
       "    }\n",
       "\n",
       "    .dataframe tbody tr th {\n",
       "        vertical-align: top;\n",
       "    }\n",
       "\n",
       "    .dataframe thead th {\n",
       "        text-align: right;\n",
       "    }\n",
       "</style>\n",
       "<table border=\"1\" class=\"dataframe\">\n",
       "  <thead>\n",
       "    <tr style=\"text-align: right;\">\n",
       "      <th></th>\n",
       "      <th>length</th>\n",
       "      <th>start</th>\n",
       "      <th>end</th>\n",
       "    </tr>\n",
       "    <tr>\n",
       "      <th>Country</th>\n",
       "      <th></th>\n",
       "      <th></th>\n",
       "      <th></th>\n",
       "    </tr>\n",
       "  </thead>\n",
       "  <tbody>\n",
       "    <tr>\n",
       "      <th>FIN</th>\n",
       "      <td>26</td>\n",
       "      <td>1990</td>\n",
       "      <td>2015</td>\n",
       "    </tr>\n",
       "    <tr>\n",
       "      <th>ISR</th>\n",
       "      <td>26</td>\n",
       "      <td>1990</td>\n",
       "      <td>2015</td>\n",
       "    </tr>\n",
       "    <tr>\n",
       "      <th>DEU</th>\n",
       "      <td>26</td>\n",
       "      <td>1990</td>\n",
       "      <td>2015</td>\n",
       "    </tr>\n",
       "    <tr>\n",
       "      <th>FRA</th>\n",
       "      <td>26</td>\n",
       "      <td>1990</td>\n",
       "      <td>2015</td>\n",
       "    </tr>\n",
       "    <tr>\n",
       "      <th>GBR</th>\n",
       "      <td>26</td>\n",
       "      <td>1990</td>\n",
       "      <td>2015</td>\n",
       "    </tr>\n",
       "  </tbody>\n",
       "</table>\n",
       "</div>"
      ],
      "text/plain": [
       "         length  start   end\n",
       "Country                     \n",
       "FIN          26   1990  2015\n",
       "ISR          26   1990  2015\n",
       "DEU          26   1990  2015\n",
       "FRA          26   1990  2015\n",
       "GBR          26   1990  2015"
      ]
     },
     "execution_count": 18,
     "metadata": {},
     "output_type": "execute_result"
    }
   ],
   "source": [
    "from bisect import bisect_left\n",
    "from itertools import product\n",
    "def sequence(df):\n",
    "    years = df.index.get_level_values('Year')\n",
    "    best = 0, None, None\n",
    "    curr, start, end = 1, years[0], years[0]\n",
    "    for i in years[1:]:\n",
    "        if i == end + 1:\n",
    "            curr, end = curr + 1, i\n",
    "        else:\n",
    "            if curr > best[0]:\n",
    "                best = curr, start, end\n",
    "            curr, start, end = 1, i, i\n",
    "    if curr > best[0]:\n",
    "        best = curr, start, end\n",
    "    return pd.Series(best, index=['length', 'start', 'end'])\n",
    "\n",
    "sequences = (\n",
    "    dataset_raw.dropna(how='any')\n",
    "    .sort_index()\n",
    "    .groupby(level='Country')\n",
    "    .apply(sequence)\n",
    "    .sort_values('length', ascending=False)\n",
    ")\n",
    "t10 = sequences.query('length >= 10')\n",
    "t10.head()\n",
    "# sequence(pd.DataFrame({'val':0.}, index=pd.MultiIndex.from_tuples(product(['a'], [2,3,4,6,7,8,9,10,12,13,14]), names=['Country Code', 'Year'])))"
   ]
  },
  {
   "cell_type": "code",
   "execution_count": 19,
   "metadata": {},
   "outputs": [
    {
     "data": {
      "text/plain": [
       "['AGO', 'CRI', 'ETH', 'GHA', 'LBN', 'MNG', 'NAM', 'NGA', 'SDN']"
      ]
     },
     "execution_count": 19,
     "metadata": {},
     "output_type": "execute_result"
    }
   ],
   "source": [
    "[k for k in util.RAFIQ2016_COUNTRIES if k not in t10.index]"
   ]
  },
  {
   "cell_type": "code",
   "execution_count": 20,
   "metadata": {},
   "outputs": [
    {
     "data": {
      "text/plain": [
       "(2005, 2002)"
      ]
     },
     "execution_count": 20,
     "metadata": {},
     "output_type": "execute_result"
    }
   ],
   "source": [
    "t10.start.max(), t10.end.min()"
   ]
  },
  {
   "cell_type": "code",
   "execution_count": 21,
   "metadata": {},
   "outputs": [
    {
     "data": {
      "text/html": [
       "<div>\n",
       "<style scoped>\n",
       "    .dataframe tbody tr th:only-of-type {\n",
       "        vertical-align: middle;\n",
       "    }\n",
       "\n",
       "    .dataframe tbody tr th {\n",
       "        vertical-align: top;\n",
       "    }\n",
       "\n",
       "    .dataframe thead th {\n",
       "        text-align: right;\n",
       "    }\n",
       "</style>\n",
       "<table border=\"1\" class=\"dataframe\">\n",
       "  <thead>\n",
       "    <tr style=\"text-align: right;\">\n",
       "      <th></th>\n",
       "      <th>length</th>\n",
       "      <th>start</th>\n",
       "      <th>end</th>\n",
       "    </tr>\n",
       "    <tr>\n",
       "      <th>Country</th>\n",
       "      <th></th>\n",
       "      <th></th>\n",
       "      <th></th>\n",
       "    </tr>\n",
       "  </thead>\n",
       "  <tbody>\n",
       "    <tr>\n",
       "      <th>VEN</th>\n",
       "      <td>10</td>\n",
       "      <td>2002</td>\n",
       "      <td>2011</td>\n",
       "    </tr>\n",
       "    <tr>\n",
       "      <th>KEN</th>\n",
       "      <td>13</td>\n",
       "      <td>2002</td>\n",
       "      <td>2014</td>\n",
       "    </tr>\n",
       "    <tr>\n",
       "      <th>MAR</th>\n",
       "      <td>11</td>\n",
       "      <td>2004</td>\n",
       "      <td>2014</td>\n",
       "    </tr>\n",
       "    <tr>\n",
       "      <th>ARM</th>\n",
       "      <td>10</td>\n",
       "      <td>2005</td>\n",
       "      <td>2014</td>\n",
       "    </tr>\n",
       "    <tr>\n",
       "      <th>HND</th>\n",
       "      <td>10</td>\n",
       "      <td>2005</td>\n",
       "      <td>2014</td>\n",
       "    </tr>\n",
       "  </tbody>\n",
       "</table>\n",
       "</div>"
      ],
      "text/plain": [
       "         length  start   end\n",
       "Country                     \n",
       "VEN          10   2002  2011\n",
       "KEN          13   2002  2014\n",
       "MAR          11   2004  2014\n",
       "ARM          10   2005  2014\n",
       "HND          10   2005  2014"
      ]
     },
     "metadata": {},
     "output_type": "display_data"
    },
    {
     "data": {
      "text/html": [
       "<div>\n",
       "<style scoped>\n",
       "    .dataframe tbody tr th:only-of-type {\n",
       "        vertical-align: middle;\n",
       "    }\n",
       "\n",
       "    .dataframe tbody tr th {\n",
       "        vertical-align: top;\n",
       "    }\n",
       "\n",
       "    .dataframe thead th {\n",
       "        text-align: right;\n",
       "    }\n",
       "</style>\n",
       "<table border=\"1\" class=\"dataframe\">\n",
       "  <thead>\n",
       "    <tr style=\"text-align: right;\">\n",
       "      <th></th>\n",
       "      <th>length</th>\n",
       "      <th>start</th>\n",
       "      <th>end</th>\n",
       "    </tr>\n",
       "    <tr>\n",
       "      <th>Country</th>\n",
       "      <th></th>\n",
       "      <th></th>\n",
       "      <th></th>\n",
       "    </tr>\n",
       "  </thead>\n",
       "  <tbody>\n",
       "    <tr>\n",
       "      <th>MLT</th>\n",
       "      <td>13</td>\n",
       "      <td>1990</td>\n",
       "      <td>2002</td>\n",
       "    </tr>\n",
       "    <tr>\n",
       "      <th>TJK</th>\n",
       "      <td>10</td>\n",
       "      <td>1997</td>\n",
       "      <td>2006</td>\n",
       "    </tr>\n",
       "    <tr>\n",
       "      <th>SAU</th>\n",
       "      <td>18</td>\n",
       "      <td>1990</td>\n",
       "      <td>2007</td>\n",
       "    </tr>\n",
       "    <tr>\n",
       "      <th>DZA</th>\n",
       "      <td>18</td>\n",
       "      <td>1990</td>\n",
       "      <td>2007</td>\n",
       "    </tr>\n",
       "    <tr>\n",
       "      <th>PRY</th>\n",
       "      <td>11</td>\n",
       "      <td>2000</td>\n",
       "      <td>2010</td>\n",
       "    </tr>\n",
       "  </tbody>\n",
       "</table>\n",
       "</div>"
      ],
      "text/plain": [
       "         length  start   end\n",
       "Country                     \n",
       "MLT          13   1990  2002\n",
       "TJK          10   1997  2006\n",
       "SAU          18   1990  2007\n",
       "DZA          18   1990  2007\n",
       "PRY          11   2000  2010"
      ]
     },
     "metadata": {},
     "output_type": "display_data"
    }
   ],
   "source": [
    "display(t10.sort_values('start').tail())\n",
    "display(t10.sort_values('end').head())"
   ]
  },
  {
   "cell_type": "code",
   "execution_count": 22,
   "metadata": {},
   "outputs": [
    {
     "data": {
      "text/plain": [
       "<seaborn.axisgrid.FacetGrid at 0x7f7c10a12bd0>"
      ]
     },
     "execution_count": 22,
     "metadata": {},
     "output_type": "execute_result"
    },
    {
     "data": {
      "image/png": "[encoded data removed]",
      "text/plain": [
       "<Figure size 419.25x360 with 1 Axes>"
      ]
     },
     "metadata": {
      "needs_background": "light"
     },
     "output_type": "display_data"
    }
   ],
   "source": [
    "sns.displot(t10[['start', 'end']])"
   ]
  },
  {
   "cell_type": "code",
   "execution_count": 23,
   "metadata": {},
   "outputs": [
    {
     "data": {
      "text/plain": [
       "\"['ALB', 'ARG', 'ARM', 'AUS', 'AUT', 'AZE', 'BEL', 'BGD', 'BGR', 'BLR', 'BRA', 'CAN', 'CHE', 'CHL', 'CHN', 'COL', 'CYP', 'CZE', 'DEU', 'DNK', 'DOM', 'DZA', 'ECU', 'EGY', 'ESP', 'EST', 'FIN', 'FRA', 'GBR', 'GEO', 'GRC', 'GTM', 'HKG', 'HND', 'HRV', 'HUN', 'IDN', 'IND', 'IRL', 'IRN', 'ISL', 'ISR', 'ITA', 'JAM', 'JOR', 'JPN', 'KAZ', 'KEN', 'KGZ', 'KOR', 'LKA', 'LTU', 'LVA', 'MAR', 'MDA', 'MEX', 'MKD', 'MLT', 'MOZ', 'MYS', 'NLD', 'NOR', 'NZL', 'PAK', 'PAN', 'PER', 'PHL', 'POL', 'PRT', 'PRY', 'ROU', 'RUS', 'SAU', 'SGP', 'SVK', 'SVN', 'SWE', 'THA', 'TJK', 'TUN', 'TUR', 'TZA', 'UKR', 'URY', 'USA', 'UZB', 'VEN', 'VNM', 'ZAF', 'ZMB']\""
      ]
     },
     "execution_count": 23,
     "metadata": {},
     "output_type": "execute_result"
    }
   ],
   "source": [
    "repr(sorted(t10.index))"
   ]
  },
  {
   "cell_type": "code",
   "execution_count": 24,
   "metadata": {},
   "outputs": [
    {
     "name": "stdout",
     "output_type": "stream",
     "text": [
      "\\begin{tabular}{ll}\n",
      "\\toprule\n",
      "                   Country & Date range \\\\\n",
      "\\midrule\n",
      "                   Albania &  1995-2011 \\\\\n",
      "                   Algeria &  1990-2007 \\\\\n",
      "                 Argentina &  1990-2014 \\\\\n",
      "                   Armenia &  2005-2014 \\\\\n",
      "                 Australia &  1995-2015 \\\\\n",
      "                   Austria &  1990-2015 \\\\\n",
      "                Azerbaijan &  2001-2014 \\\\\n",
      "                Bangladesh &  1990-2014 \\\\\n",
      "                   Belarus &  1996-2014 \\\\\n",
      "                   Belgium &  2000-2015 \\\\\n",
      "                    Brazil &  1990-2014 \\\\\n",
      "                  Bulgaria &  1994-2014 \\\\\n",
      "                    Canada &  1990-2015 \\\\\n",
      "                     Chile &  1990-2015 \\\\\n",
      "                     China &  1990-2014 \\\\\n",
      "                  Colombia &  1991-2014 \\\\\n",
      "                   Croatia &  1996-2014 \\\\\n",
      "                    Cyprus &  1999-2014 \\\\\n",
      "                   Czechia &  1996-2015 \\\\\n",
      "                   Denmark &  1990-2015 \\\\\n",
      "        Dominican Republic &  2000-2014 \\\\\n",
      "                   Ecuador &  1991-2010 \\\\\n",
      "                     Egypt &  1998-2014 \\\\\n",
      "                   Estonia &  1996-2015 \\\\\n",
      "                   Finland &  1990-2015 \\\\\n",
      "                    France &  1990-2015 \\\\\n",
      "                   Georgia &  1996-2014 \\\\\n",
      "                   Germany &  1990-2015 \\\\\n",
      "                    Greece &  1990-2015 \\\\\n",
      "                 Guatemala &  1990-2014 \\\\\n",
      "                  Honduras &  2005-2014 \\\\\n",
      "                 Hong Kong &  1990-2014 \\\\\n",
      "                   Hungary &  1991-2015 \\\\\n",
      "                   Iceland &  1990-2015 \\\\\n",
      "                     India &  1990-2014 \\\\\n",
      "                 Indonesia &  1991-2011 \\\\\n",
      " Iran, Islamic Republic of &  1993-2014 \\\\\n",
      "                   Ireland &  1990-2015 \\\\\n",
      "                    Israel &  1990-2015 \\\\\n",
      "                     Italy &  1990-2015 \\\\\n",
      "                   Jamaica &  2000-2014 \\\\\n",
      "                     Japan &  1990-2015 \\\\\n",
      "                    Jordan &  2000-2014 \\\\\n",
      "                Kazakhstan &  1996-2011 \\\\\n",
      "                     Kenya &  2002-2014 \\\\\n",
      "        Korea, Republic of &  1990-2015 \\\\\n",
      "                Kyrgyzstan &  1997-2014 \\\\\n",
      "                    Latvia &  1996-2014 \\\\\n",
      "                 Lithuania &  1996-2014 \\\\\n",
      "                  Malaysia &  1990-2014 \\\\\n",
      "                     Malta &  1990-2002 \\\\\n",
      "                    Mexico &  1990-2015 \\\\\n",
      "                   Moldova &  1996-2014 \\\\\n",
      "                   Morocco &  2004-2014 \\\\\n",
      "                Mozambique &  1999-2014 \\\\\n",
      "               Netherlands &  1990-2015 \\\\\n",
      "               New Zealand &  1990-2015 \\\\\n",
      "           North Macedonia &  1997-2013 \\\\\n",
      "                    Norway &  1990-2015 \\\\\n",
      "                  Pakistan &  1990-2014 \\\\\n",
      "                    Panama &  2000-2014 \\\\\n",
      "                  Paraguay &  2000-2010 \\\\\n",
      "                      Peru &  1999-2014 \\\\\n",
      "               Philippines &  1990-2014 \\\\\n",
      "                    Poland &  1995-2015 \\\\\n",
      "                  Portugal &  1990-2015 \\\\\n",
      "                   Romania &  1990-2014 \\\\\n",
      "        Russian Federation &  1996-2014 \\\\\n",
      "              Saudi Arabia &  1990-2007 \\\\\n",
      "                 Singapore &  1995-2014 \\\\\n",
      "                  Slovakia &  1996-2015 \\\\\n",
      "                  Slovenia &  1996-2011 \\\\\n",
      "              South Africa &  1990-2014 \\\\\n",
      "                     Spain &  1990-2015 \\\\\n",
      "                 Sri Lanka &  1990-2013 \\\\\n",
      "                    Sweden &  1990-2015 \\\\\n",
      "               Switzerland &  1996-2015 \\\\\n",
      "                Tajikistan &  1997-2006 \\\\\n",
      "                  Tanzania &  2001-2011 \\\\\n",
      "                  Thailand &  1990-2014 \\\\\n",
      "                   Tunisia &  1990-2014 \\\\\n",
      "                    Turkey &  1990-2015 \\\\\n",
      "                   Ukraine &  1996-2014 \\\\\n",
      "            United Kingdom &  1990-2015 \\\\\n",
      "             United States &  1990-2015 \\\\\n",
      "                   Uruguay &  1991-2012 \\\\\n",
      "                Uzbekistan &  1997-2013 \\\\\n",
      "                 Venezuela &  2002-2011 \\\\\n",
      "                   Vietnam &  1990-2013 \\\\\n",
      "                    Zambia &  2001-2013 \\\\\n",
      "\\bottomrule\n",
      "\\end{tabular}\n",
      "\n"
     ]
    }
   ],
   "source": [
    "def t10_date(code):\n",
    "    start, end = t10.loc[code, ['start', 'end']]\n",
    "    return '%s-%s' % (start, end)\n",
    "\n",
    "print(sorted_names(t10.index, t10_date).to_latex(index=False))"
   ]
  },
  {
   "cell_type": "code",
   "execution_count": 25,
   "metadata": {},
   "outputs": [],
   "source": [
    "data_fullset = pd.concat([dataset_raw.loc[ix[c, x.start:x.end], :]\n",
    "                          for c, x in t10.iterrows()]).sort_index()\n",
    "assert set(data_fullset.index.get_level_values('Country')) == set(util.ALL_COUNTRIES)"
   ]
  },
  {
   "cell_type": "code",
   "execution_count": 26,
   "metadata": {},
   "outputs": [],
   "source": [
    "data_fullset.to_csv(util.DATASET_ALL)"
   ]
  }
 ],
 "metadata": {
  "kernelspec": {
   "display_name": "em-2020",
   "language": "python",
   "name": "em-2020"
  },
  "language_info": {
   "codemirror_mode": {
    "name": "ipython",
    "version": 3
   },
   "file_extension": ".py",
   "mimetype": "text/x-python",
   "name": "python",
   "nbconvert_exporter": "python",
   "pygments_lexer": "ipython3",
   "version": "3.7.5"
  }
 },
 "nbformat": 4,
 "nbformat_minor": 4
}
