{
 "cells": [
  {
   "cell_type": "code",
   "execution_count": 1,
   "metadata": {},
   "outputs": [],
   "source": [
    "from collections import defaultdict\n",
    "import numpy as np\n",
    "import os\n",
    "import pandas as pd\n",
    "from pandas import IndexSlice as ix\n",
    "import pycountry\n",
    "\n",
    "%reload_ext autoreload\n",
    "%autoreload 1\n",
    "%aimport util"
   ]
  },
  {
   "cell_type": "code",
   "execution_count": 2,
   "metadata": {},
   "outputs": [],
   "source": [
    "dataset_raw = pd.read_csv(util.RAW_DATASET)"
   ]
  },
  {
   "cell_type": "code",
   "execution_count": 3,
   "metadata": {},
   "outputs": [],
   "source": [
    "def common_name(country):\n",
    "    try:\n",
    "        return country.common_name\n",
    "    except AttributeError:\n",
    "        return country.name"
   ]
  },
  {
   "cell_type": "markdown",
   "metadata": {},
   "source": [
    "### Rafiq et al. (2016): 22 \"increasingly urbanized emerging economies\""
   ]
  },
  {
   "cell_type": "code",
   "execution_count": 4,
   "metadata": {},
   "outputs": [
    {
     "data": {
      "text/plain": [
       "\"['AGO', 'BGD', 'CHN', 'CRI', 'ETH', 'GHA', 'IND', 'IDN', 'JOR', 'LBN', 'MYS', 'MNG', 'MOZ', 'NAM', 'NGA', 'PAN', 'SGP', 'SDN', 'TZA', 'THA', 'VNM', 'ZMB']\""
      ]
     },
     "execution_count": 4,
     "metadata": {},
     "output_type": "execute_result"
    }
   ],
   "source": [
    "rafiq2016_table2 = \"\"\"Angola\n",
    "Costa Rica\n",
    "Ghana\n",
    "Indonesia\n",
    "Lebanon\n",
    "Mongolia\n",
    "Namibia\n",
    "Panama\n",
    "Sudan\n",
    "Thailand\n",
    "Zambia\n",
    "Bangladesh\n",
    "China\n",
    "Ethiopia\n",
    "India\n",
    "Jordan\n",
    "Malaysia\n",
    "Mozambique\n",
    "Nigeria\n",
    "Singapore\n",
    "Tanzania\n",
    "Vietnam\n",
    "\"\"\"\n",
    "\n",
    "records = [pycountry.countries.get(name=x) \n",
    "           or pycountry.countries.get(common_name=x) \n",
    "           for x in rafiq2016_table2.strip().split('\\n')]\n",
    "assert all(x is not None for x in records)\n",
    "records = sorted(records, key=common_name)\n",
    "rafiq2016_codes = [x.alpha_3 for x in records]\n",
    "repr(rafiq2016_codes)"
   ]
  },
  {
   "cell_type": "code",
   "execution_count": 5,
   "metadata": {},
   "outputs": [],
   "source": [
    "assert util.RAFIQ2016_COUNTRIES == rafiq2016_codes"
   ]
  },
  {
   "cell_type": "markdown",
   "metadata": {},
   "source": [
    "### Tiba and Frikha (2018): middle-income countries (minus Venezuela)"
   ]
  },
  {
   "cell_type": "code",
   "execution_count": 6,
   "metadata": {},
   "outputs": [
    {
     "data": {
      "text/plain": [
       "\"['DZA', 'ARG', 'BRA', 'BGR', 'CHL', 'CHN', 'COL', 'MYS', 'MEX', 'THA', 'TUR', 'VEN']\""
      ]
     },
     "execution_count": 6,
     "metadata": {},
     "output_type": "execute_result"
    }
   ],
   "source": [
    "tiba2018_middle = \"\"\"\n",
    "Algeria\n",
    "Argentina\n",
    "Brazil\n",
    "Bulgaria\n",
    "Chile\n",
    "China\n",
    "Colombia\n",
    "Malaysia\n",
    "Mexico\n",
    "Thailand\n",
    "Turkey\n",
    "Venezuela\n",
    "\"\"\"\n",
    "\n",
    "records = [pycountry.countries.get(name=x) \n",
    "           or pycountry.countries.get(common_name=x) \n",
    "           for x in tiba2018_middle.strip().split('\\n')]\n",
    "assert all(x is not None for x in records)\n",
    "records = sorted(records, key=common_name)\n",
    "tiba2018_middle_codes = [x.alpha_3 for x in records]\n",
    "repr(tiba2018_middle_codes)"
   ]
  },
  {
   "cell_type": "code",
   "execution_count": 7,
   "metadata": {},
   "outputs": [],
   "source": [
    "assert util.TIBA2018_MID_COUNTRIES == tiba2018_middle_codes"
   ]
  },
  {
   "cell_type": "markdown",
   "metadata": {},
   "source": [
    "### Tiba and Frikha (2018): high-income countries"
   ]
  },
  {
   "cell_type": "code",
   "execution_count": 8,
   "metadata": {},
   "outputs": [
    {
     "data": {
      "text/plain": [
       "\"['AUS', 'CAN', 'FRA', 'DEU', 'JPN', 'NLD', 'PRT', 'ESP', 'SWE', 'CHE', 'GBR', 'USA']\""
      ]
     },
     "execution_count": 8,
     "metadata": {},
     "output_type": "execute_result"
    }
   ],
   "source": [
    "tiba2018_high = \"\"\"\n",
    "Australia\n",
    "Canada\n",
    "France\n",
    "Germany\n",
    "Japan\n",
    "Netherlands\n",
    "Portugal\n",
    "Spain\n",
    "Sweden\n",
    "Switzerland\n",
    "United Kingdom\n",
    "United States\n",
    "\"\"\"\n",
    "\n",
    "records = [pycountry.countries.get(name=x) \n",
    "           or pycountry.countries.get(common_name=x) \n",
    "           for x in tiba2018_high.strip().split('\\n')]\n",
    "assert all(x is not None for x in records)\n",
    "records = sorted(records, key=common_name)\n",
    "tiba2018_high_codes = [x.alpha_3 for x in records]\n",
    "repr(tiba2018_high_codes)"
   ]
  },
  {
   "cell_type": "code",
   "execution_count": 9,
   "metadata": {},
   "outputs": [],
   "source": [
    "assert util.TIBA2018_HIGH_COUNTRIES == tiba2018_high_codes"
   ]
  },
  {
   "cell_type": "markdown",
   "metadata": {},
   "source": [
    "## Extract contiguous panel sets"
   ]
  },
  {
   "cell_type": "code",
   "execution_count": 10,
   "metadata": {},
   "outputs": [],
   "source": [
    "dataset_raw = pd.read_csv(util.RAW_DATASET, index_col=['Country Code', 'Year'])"
   ]
  },
  {
   "cell_type": "code",
   "execution_count": 11,
   "metadata": {},
   "outputs": [
    {
     "data": {
      "text/html": [
       "<div>\n",
       "<style scoped>\n",
       "    .dataframe tbody tr th:only-of-type {\n",
       "        vertical-align: middle;\n",
       "    }\n",
       "\n",
       "    .dataframe tbody tr th {\n",
       "        vertical-align: top;\n",
       "    }\n",
       "\n",
       "    .dataframe thead th {\n",
       "        text-align: right;\n",
       "    }\n",
       "</style>\n",
       "<table border=\"1\" class=\"dataframe\">\n",
       "  <thead>\n",
       "    <tr style=\"text-align: right;\">\n",
       "      <th></th>\n",
       "      <th></th>\n",
       "      <th>ENI</th>\n",
       "      <th>POP</th>\n",
       "      <th>URB</th>\n",
       "      <th>AFL</th>\n",
       "      <th>TI</th>\n",
       "      <th>TS</th>\n",
       "      <th>CTS</th>\n",
       "      <th>KAOPEN</th>\n",
       "    </tr>\n",
       "    <tr>\n",
       "      <th>Country Code</th>\n",
       "      <th>Year</th>\n",
       "      <th></th>\n",
       "      <th></th>\n",
       "      <th></th>\n",
       "      <th></th>\n",
       "      <th></th>\n",
       "      <th></th>\n",
       "      <th></th>\n",
       "      <th></th>\n",
       "    </tr>\n",
       "  </thead>\n",
       "  <tbody>\n",
       "    <tr>\n",
       "      <th rowspan=\"5\" valign=\"top\">ABW</th>\n",
       "      <th>1980</th>\n",
       "      <td>NaN</td>\n",
       "      <td>333.866667</td>\n",
       "      <td>50.472</td>\n",
       "      <td>NaN</td>\n",
       "      <td>NaN</td>\n",
       "      <td>NaN</td>\n",
       "      <td>NaN</td>\n",
       "      <td>NaN</td>\n",
       "    </tr>\n",
       "    <tr>\n",
       "      <th>1981</th>\n",
       "      <td>NaN</td>\n",
       "      <td>336.483333</td>\n",
       "      <td>50.456</td>\n",
       "      <td>NaN</td>\n",
       "      <td>NaN</td>\n",
       "      <td>NaN</td>\n",
       "      <td>NaN</td>\n",
       "      <td>NaN</td>\n",
       "    </tr>\n",
       "    <tr>\n",
       "      <th>1982</th>\n",
       "      <td>NaN</td>\n",
       "      <td>340.805556</td>\n",
       "      <td>50.441</td>\n",
       "      <td>NaN</td>\n",
       "      <td>NaN</td>\n",
       "      <td>NaN</td>\n",
       "      <td>NaN</td>\n",
       "      <td>NaN</td>\n",
       "    </tr>\n",
       "    <tr>\n",
       "      <th>1983</th>\n",
       "      <td>NaN</td>\n",
       "      <td>345.561111</td>\n",
       "      <td>50.426</td>\n",
       "      <td>NaN</td>\n",
       "      <td>NaN</td>\n",
       "      <td>NaN</td>\n",
       "      <td>NaN</td>\n",
       "      <td>NaN</td>\n",
       "    </tr>\n",
       "    <tr>\n",
       "      <th>1984</th>\n",
       "      <td>NaN</td>\n",
       "      <td>349.088889</td>\n",
       "      <td>50.411</td>\n",
       "      <td>NaN</td>\n",
       "      <td>NaN</td>\n",
       "      <td>NaN</td>\n",
       "      <td>NaN</td>\n",
       "      <td>NaN</td>\n",
       "    </tr>\n",
       "    <tr>\n",
       "      <th>...</th>\n",
       "      <th>...</th>\n",
       "      <td>...</td>\n",
       "      <td>...</td>\n",
       "      <td>...</td>\n",
       "      <td>...</td>\n",
       "      <td>...</td>\n",
       "      <td>...</td>\n",
       "      <td>...</td>\n",
       "      <td>...</td>\n",
       "    </tr>\n",
       "    <tr>\n",
       "      <th rowspan=\"5\" valign=\"top\">ZWE</th>\n",
       "      <th>2015</th>\n",
       "      <td>NaN</td>\n",
       "      <td>35.710557</td>\n",
       "      <td>32.385</td>\n",
       "      <td>2679.510136</td>\n",
       "      <td>0.202684</td>\n",
       "      <td>0.567488</td>\n",
       "      <td>0.029254</td>\n",
       "      <td>-0.148388</td>\n",
       "    </tr>\n",
       "    <tr>\n",
       "      <th>2016</th>\n",
       "      <td>NaN</td>\n",
       "      <td>36.268295</td>\n",
       "      <td>32.296</td>\n",
       "      <td>2806.458631</td>\n",
       "      <td>0.092656</td>\n",
       "      <td>0.512190</td>\n",
       "      <td>0.024596</td>\n",
       "      <td>-0.148388</td>\n",
       "    </tr>\n",
       "    <tr>\n",
       "      <th>2017</th>\n",
       "      <td>NaN</td>\n",
       "      <td>36.801719</td>\n",
       "      <td>32.237</td>\n",
       "      <td>3028.245976</td>\n",
       "      <td>NaN</td>\n",
       "      <td>0.500283</td>\n",
       "      <td>0.022614</td>\n",
       "      <td>-0.148388</td>\n",
       "    </tr>\n",
       "    <tr>\n",
       "      <th>2018</th>\n",
       "      <td>NaN</td>\n",
       "      <td>37.324591</td>\n",
       "      <td>32.209</td>\n",
       "      <td>3203.888554</td>\n",
       "      <td>NaN</td>\n",
       "      <td>0.500054</td>\n",
       "      <td>0.022107</td>\n",
       "      <td>-0.148388</td>\n",
       "    </tr>\n",
       "    <tr>\n",
       "      <th>2019</th>\n",
       "      <td>NaN</td>\n",
       "      <td>NaN</td>\n",
       "      <td>32.210</td>\n",
       "      <td>2953.484113</td>\n",
       "      <td>NaN</td>\n",
       "      <td>NaN</td>\n",
       "      <td>NaN</td>\n",
       "      <td>NaN</td>\n",
       "    </tr>\n",
       "  </tbody>\n",
       "</table>\n",
       "<p>8692 rows × 8 columns</p>\n",
       "</div>"
      ],
      "text/plain": [
       "                   ENI         POP     URB          AFL        TI        TS  \\\n",
       "Country Code Year                                                             \n",
       "ABW          1980  NaN  333.866667  50.472          NaN       NaN       NaN   \n",
       "             1981  NaN  336.483333  50.456          NaN       NaN       NaN   \n",
       "             1982  NaN  340.805556  50.441          NaN       NaN       NaN   \n",
       "             1983  NaN  345.561111  50.426          NaN       NaN       NaN   \n",
       "             1984  NaN  349.088889  50.411          NaN       NaN       NaN   \n",
       "...                ...         ...     ...          ...       ...       ...   \n",
       "ZWE          2015  NaN   35.710557  32.385  2679.510136  0.202684  0.567488   \n",
       "             2016  NaN   36.268295  32.296  2806.458631  0.092656  0.512190   \n",
       "             2017  NaN   36.801719  32.237  3028.245976       NaN  0.500283   \n",
       "             2018  NaN   37.324591  32.209  3203.888554       NaN  0.500054   \n",
       "             2019  NaN         NaN  32.210  2953.484113       NaN       NaN   \n",
       "\n",
       "                        CTS    KAOPEN  \n",
       "Country Code Year                      \n",
       "ABW          1980       NaN       NaN  \n",
       "             1981       NaN       NaN  \n",
       "             1982       NaN       NaN  \n",
       "             1983       NaN       NaN  \n",
       "             1984       NaN       NaN  \n",
       "...                     ...       ...  \n",
       "ZWE          2015  0.029254 -0.148388  \n",
       "             2016  0.024596 -0.148388  \n",
       "             2017  0.022614 -0.148388  \n",
       "             2018  0.022107 -0.148388  \n",
       "             2019       NaN       NaN  \n",
       "\n",
       "[8692 rows x 8 columns]"
      ]
     },
     "execution_count": 11,
     "metadata": {},
     "output_type": "execute_result"
    }
   ],
   "source": [
    "dataset_raw"
   ]
  },
  {
   "cell_type": "code",
   "execution_count": 19,
   "metadata": {},
   "outputs": [
    {
     "data": {
      "text/plain": [
       "Country Code        \n",
       "ARG           ENI                                2015\n",
       "AUS           TI             1990,1991,1992,1993,1994\n",
       "BGR           ENI                                2015\n",
       "              KAOPEN              1990,1991,1992,1993\n",
       "BRA           ENI                                2015\n",
       "CHE           KAOPEN    1990,1991,1992,1993,1994,1995\n",
       "CHN           ENI                                2015\n",
       "COL           ENI                                2015\n",
       "              TI                                 1990\n",
       "DZA           ENI                                2015\n",
       "              TI                            2008,2009\n",
       "MYS           ENI                                2015\n",
       "THA           ENI                                2015\n",
       "VEN           ENI                 2012,2013,2014,2015\n",
       "              AFL                 2012,2013,2014,2015\n",
       "              TI                  1995,1998,1999,2001\n",
       "              TS                                 2015\n",
       "              CTS                                2015\n",
       "dtype: object"
      ]
     },
     "execution_count": 19,
     "metadata": {},
     "output_type": "execute_result"
    }
   ],
   "source": [
    "dataset = dataset_raw.loc[ix[util.ALL_COUNTRIES, 1990:2015], :].sort_index()\n",
    "def find_years(x):\n",
    "    return ','.join(map(str, x.index.get_level_values('Year')))\n",
    "\n",
    "missing = dataset.stack(dropna=False).isnull()\n",
    "missing.loc[missing].groupby(level=[0,2]).aggregate(find_years)"
   ]
  },
  {
   "cell_type": "code",
   "execution_count": 13,
   "metadata": {},
   "outputs": [
    {
     "name": "stdout",
     "output_type": "stream",
     "text": [
      "DZA {2008, 2009}\n",
      "VEN {2001, 1995, 1998, 1999}\n"
     ]
    }
   ],
   "source": [
    "for c, df in dataset.groupby(level='Country Code'):\n",
    "    df_not_na = df.dropna(axis='rows', how='any')\n",
    "    years = df_not_na.index.get_level_values('Year')\n",
    "    contiguous_years = range(years[0], years[-1]+1)\n",
    "    if any(years != contiguous_years):\n",
    "        missing = set(contiguous_years) - set(years)\n",
    "        print('%s %s' % (c, missing))\n"
   ]
  },
  {
   "cell_type": "code",
   "execution_count": 14,
   "metadata": {},
   "outputs": [],
   "source": [
    "country_years = defaultdict(lambda:(1990,2015), {\n",
    "    **{x:(1990,2014) for x in ['ARG', 'BRA', 'CHN', 'DZA', 'MYS', 'THA']},\n",
    "    'AUS': (1995,2015),\n",
    "    'BGR': (1994,2014),\n",
    "    'CHE': (1996,2014),\n",
    "    'COL': (1994,2014),\n",
    "    'VEN': (2002,2011),\n",
    "})\n",
    "country_years = {c: country_years[c] for c in util.ALL_COUNTRIES}\n",
    "data_subset = pd.concat([dataset.loc[ix[c, start:end], :]\n",
    "                        for c, (start, end) in country_years.items()])\n",
    "assert set(data_subset.index.get_level_values('Country Code')) == set(util.ALL_COUNTRIES)"
   ]
  },
  {
   "cell_type": "code",
   "execution_count": 15,
   "metadata": {},
   "outputs": [
    {
     "data": {
      "text/plain": [
       "Country Code    \n",
       "DZA           TI    2008,2009\n",
       "dtype: object"
      ]
     },
     "execution_count": 15,
     "metadata": {},
     "output_type": "execute_result"
    }
   ],
   "source": [
    "missing = data_subset.stack(dropna=False).isnull()\n",
    "missing.loc[missing].groupby(level=[0,2]).aggregate(find_years)"
   ]
  },
  {
   "cell_type": "code",
   "execution_count": 16,
   "metadata": {},
   "outputs": [
    {
     "name": "stdout",
     "output_type": "stream",
     "text": [
      "\\begin{tabular}{ll}\n",
      "\\toprule\n",
      "   Country & Date range \\\\\n",
      "\\midrule\n",
      "   Algeria &  1990-2014 \\\\\n",
      " Argentina &  1990-2014 \\\\\n",
      "    Brazil &  1990-2014 \\\\\n",
      "  Bulgaria &  1994-2014 \\\\\n",
      "     Chile &  1990-2015 \\\\\n",
      "     China &  1990-2014 \\\\\n",
      "  Colombia &  1994-2014 \\\\\n",
      "  Malaysia &  1990-2014 \\\\\n",
      "    Mexico &  1990-2015 \\\\\n",
      "  Thailand &  1990-2014 \\\\\n",
      "    Turkey &  1990-2015 \\\\\n",
      " Venezuela &  2002-2011 \\\\\n",
      "\\bottomrule\n",
      "\\end{tabular}\n",
      "\n",
      "\\begin{tabular}{ll}\n",
      "\\toprule\n",
      "        Country & Date range \\\\\n",
      "\\midrule\n",
      "      Australia &  1995-2015 \\\\\n",
      "         Canada &  1990-2015 \\\\\n",
      "         France &  1990-2015 \\\\\n",
      "        Germany &  1990-2015 \\\\\n",
      "          Japan &  1990-2015 \\\\\n",
      "    Netherlands &  1990-2015 \\\\\n",
      "       Portugal &  1990-2015 \\\\\n",
      "          Spain &  1990-2015 \\\\\n",
      "         Sweden &  1990-2015 \\\\\n",
      "    Switzerland &  1996-2014 \\\\\n",
      " United Kingdom &  1990-2015 \\\\\n",
      "  United States &  1990-2015 \\\\\n",
      "\\bottomrule\n",
      "\\end{tabular}\n",
      "\n"
     ]
    }
   ],
   "source": [
    "def format_date(code):\n",
    "    start, end = country_years[code]\n",
    "    return '%s-%s' % (start, end)\n",
    "    \n",
    "def sorted_names(codes):\n",
    "    name_map = {common_name(pycountry.countries.get(alpha_3=code)):code  for code in codes}\n",
    "    names = sorted(name_map.keys())\n",
    "    dates = map(format_date, (name_map[name] for name in names))\n",
    "    return pd.DataFrame({'Country': names, 'Date range': dates})\n",
    "\n",
    "print(sorted_names(tiba2018_middle_codes).to_latex(index=False))\n",
    "print(sorted_names(tiba2018_high_codes).to_latex(index=False))\n"
   ]
  },
  {
   "cell_type": "code",
   "execution_count": 17,
   "metadata": {},
   "outputs": [],
   "source": [
    "data_subset.to_csv(util.DATASET_SUBSET)"
   ]
  },
  {
   "cell_type": "code",
   "execution_count": null,
   "metadata": {},
   "outputs": [],
   "source": []
  }
 ],
 "metadata": {
  "kernelspec": {
   "display_name": "em-2020",
   "language": "python",
   "name": "em-2020"
  },
  "language_info": {
   "codemirror_mode": {
    "name": "ipython",
    "version": 3
   },
   "file_extension": ".py",
   "mimetype": "text/x-python",
   "name": "python",
   "nbconvert_exporter": "python",
   "pygments_lexer": "ipython3",
   "version": "3.7.5"
  }
 },
 "nbformat": 4,
 "nbformat_minor": 4
}
