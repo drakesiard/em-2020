{
 "cells": [
  {
   "cell_type": "markdown",
   "metadata": {
    "kernel": "SoS"
   },
   "source": [
    "# 4. Re-run the original model with log-differenced original data\n",
    "(not PPP-adjusted)"
   ]
  },
  {
   "cell_type": "code",
   "execution_count": 1,
   "metadata": {
    "kernel": "em-2020"
   },
   "outputs": [],
   "source": [
    "from IPython.display import display, HTML\n",
    "import matplotlib as mpl\n",
    "%matplotlib inline \n",
    "import matplotlib.pyplot as plt\n",
    "import numpy as np\n",
    "import scipy\n",
    "import os\n",
    "import pandas as pd\n",
    "import seaborn as sns\n",
    "sns.set(style='ticks', rc={'axes.grid':True,\n",
    "                           'xtick.labelsize': 'medium',\n",
    "                           'ytick.labelsize': 'medium',\n",
    "#                            'font.size': 15,\n",
    "                          })\n",
    "\n",
    "analysis_dir = os.getcwd()\n",
    "assert analysis_dir.endswith(os.path.join('em-2020','analysis'))\n",
    "plot_dir = os.path.realpath(os.path.join(analysis_dir, '..', 'tex', 'plots'))\n",
    "data_dir = os.path.realpath(os.path.join(analysis_dir, '..', 'data'))"
   ]
  },
  {
   "cell_type": "code",
   "execution_count": 2,
   "metadata": {
    "kernel": "R"
   },
   "outputs": [],
   "source": [
    "suppressMessages({\n",
    "library(lavaan)\n",
    "library(semPlot)\n",
    "library(semTools)\n",
    "library(MVN)\n",
    "library(Hmisc)\n",
    "library(data.table)\n",
    "library(dplyr)\n",
    "library(tseries)\n",
    "})"
   ]
  },
  {
   "cell_type": "code",
   "execution_count": 1,
   "metadata": {
    "kernel": "R"
   },
   "outputs": [
    {
     "name": "stderr",
     "output_type": "stream",
     "text": [
      "Variable data_dir does not exist\n"
     ]
    },
    {
     "ename": "ERROR",
     "evalue": "Error in file.path(data_dir, \"WB_BGD_current.csv\"): object 'data_dir' not found\n",
     "output_type": "error",
     "traceback": [
      "Error in file.path(data_dir, \"WB_BGD_current.csv\"): object 'data_dir' not found\nTraceback:\n",
      "1. read.csv(file.path(data_dir, \"WB_BGD_current.csv\"))",
      "2. read.table(file = file, header = header, sep = sep, quote = quote, \n .     dec = dec, fill = fill, comment.char = comment.char, ...)",
      "3. file.path(data_dir, \"WB_BGD_current.csv\")"
     ]
    }
   ],
   "source": [
    "%get data_dir --from em-2020\n",
    "cols <- c('year', 'ISG', 'TO', 'TI', 'P_GDP', 'EI')\n",
    "data.raw <- read.csv(file.path(data_dir, 'WB_BGD_current.csv'))[cols]\n",
    "\n",
    "log_cols <- c('EI', 'P_GDP', 'TI')\n",
    "data.log <- copy(data.raw)\n",
    "data.log[log_cols] <- log(data.raw[log_cols])\n",
    "data.logdiff <- cbind(data.raw[-1,'year', drop=FALSE], diff(as.matrix(subset(data.log, select=-year))))\n",
    "\n",
    "data <- subset(data.raw, year >= 1990 & year <= 2015)\n",
    "data.log <- subset(data.log, year >= 1990 & year <= 2015)\n",
    "data.logdiff <- subset(data.logdiff, year >= 1990 & year <= 2015)\n",
    "\n",
    "data.logdiff"
   ]
  },
  {
   "cell_type": "code",
   "execution_count": 4,
   "metadata": {
    "kernel": "R"
   },
   "outputs": [
    {
     "data": {
      "text/plain": [
       "\n",
       "Call:\n",
       "lm(formula = \"TI ~ ISG\", data = data.logdiff)\n",
       "\n",
       "Residuals:\n",
       "     Min       1Q   Median       3Q      Max \n",
       "-0.46799 -0.09914  0.00704  0.11271  0.54103 \n",
       "\n",
       "Coefficients:\n",
       "            Estimate Std. Error t value Pr(>|t|)\n",
       "(Intercept)  0.02427    0.04233   0.573    0.571\n",
       "ISG          0.02889    0.06808   0.424    0.675\n",
       "\n",
       "Residual standard error: 0.2173 on 28 degrees of freedom\n",
       "Multiple R-squared:  0.006391,\tAdjusted R-squared:  -0.02909 \n",
       "F-statistic: 0.1801 on 1 and 28 DF,  p-value: 0.6745\n"
      ]
     },
     "metadata": {},
     "output_type": "display_data"
    }
   ],
   "source": [
    "summary(lm('TI ~ ISG', data=data.logdiff))"
   ]
  },
  {
   "cell_type": "code",
   "execution_count": 5,
   "metadata": {
    "kernel": "R"
   },
   "outputs": [
    {
     "data": {
      "text/plain": [
       "\n",
       "Call:\n",
       "lm(formula = \"P_GDP ~ TO\", data = data.logdiff)\n",
       "\n",
       "Residuals:\n",
       "      Min        1Q    Median        3Q       Max \n",
       "-0.105803 -0.038457  0.005045  0.045312  0.123186 \n",
       "\n",
       "Coefficients:\n",
       "             Estimate Std. Error t value Pr(>|t|)    \n",
       "(Intercept)  0.055147   0.010595   5.205 1.58e-05 ***\n",
       "TO          -0.001168   0.003535  -0.330    0.744    \n",
       "---\n",
       "Signif. codes:  0 ‘***’ 0.001 ‘**’ 0.01 ‘*’ 0.05 ‘.’ 0.1 ‘ ’ 1\n",
       "\n",
       "Residual standard error: 0.05595 on 28 degrees of freedom\n",
       "Multiple R-squared:  0.00388,\tAdjusted R-squared:  -0.0317 \n",
       "F-statistic: 0.1091 on 1 and 28 DF,  p-value: 0.7437\n"
      ]
     },
     "metadata": {},
     "output_type": "display_data"
    }
   ],
   "source": [
    "summary(lm('P_GDP ~ TO', data=data.logdiff))"
   ]
  },
  {
   "cell_type": "code",
   "execution_count": 6,
   "metadata": {
    "kernel": "R"
   },
   "outputs": [
    {
     "data": {
      "text/plain": [
       "\n",
       "Call:\n",
       "lm(formula = \"EI ~ ISG + TO + TI + P_GDP\", data = data.logdiff)\n",
       "\n",
       "Residuals:\n",
       "     Min       1Q   Median       3Q      Max \n",
       "-0.06261 -0.01739 -0.00057  0.01337  0.05053 \n",
       "\n",
       "Coefficients:\n",
       "              Estimate Std. Error t value Pr(>|t|)    \n",
       "(Intercept)  0.0163557  0.0088034   1.858   0.0755 .  \n",
       "ISG          0.0131157  0.0105036   1.249   0.2238    \n",
       "TO           0.0016701  0.0019182   0.871   0.3926    \n",
       "TI           0.0001083  0.0250055   0.004   0.9966    \n",
       "P_GDP       -0.9071972  0.1112529  -8.154 2.25e-08 ***\n",
       "---\n",
       "Signif. codes:  0 ‘***’ 0.001 ‘**’ 0.01 ‘*’ 0.05 ‘.’ 0.1 ‘ ’ 1\n",
       "\n",
       "Residual standard error: 0.02823 on 24 degrees of freedom\n",
       "  (1 observation deleted due to missingness)\n",
       "Multiple R-squared:  0.8138,\tAdjusted R-squared:  0.7827 \n",
       "F-statistic: 26.22 on 4 and 24 DF,  p-value: 1.874e-08\n"
      ]
     },
     "metadata": {},
     "output_type": "display_data"
    }
   ],
   "source": [
    "summary(lm('EI ~ ISG + TO + TI + P_GDP', data=data.logdiff))"
   ]
  },
  {
   "cell_type": "code",
   "execution_count": 7,
   "metadata": {
    "kernel": "R"
   },
   "outputs": [
    {
     "name": "stdout",
     "output_type": "stream",
     "text": [
      "lavaan 0.6-5 ended normally after 69 iterations\n",
      "\n",
      "  Estimator                                         ML\n",
      "  Optimization method                           NLMINB\n",
      "  Number of free parameters                         12\n",
      "                                                      \n",
      "  Number of observations                            30\n",
      "  Number of missing patterns                         2\n",
      "                                                      \n",
      "Model Test User Model:\n",
      "                                              Standard      Robust\n",
      "  Test Statistic                                 7.118       8.115\n",
      "  Degrees of freedom                                 3           3\n",
      "  P-value (Chi-square)                           0.068       0.044\n",
      "  Scaling correction factor                                  0.877\n",
      "    for the Yuan-Bentler correction (Mplus variant) \n",
      "\n",
      "Model Test Baseline Model:\n",
      "\n",
      "  Test statistic                                56.169      52.820\n",
      "  Degrees of freedom                                 9           9\n",
      "  P-value                                        0.000       0.000\n",
      "  Scaling correction factor                                  1.063\n",
      "\n",
      "User Model versus Baseline Model:\n",
      "\n",
      "  Comparative Fit Index (CFI)                    0.913       0.883\n",
      "  Tucker-Lewis Index (TLI)                       0.738       0.650\n",
      "                                                                  \n",
      "  Robust Comparative Fit Index (CFI)                         0.904\n",
      "  Robust Tucker-Lewis Index (TLI)                            0.711\n",
      "\n",
      "Loglikelihood and Information Criteria:\n",
      "\n",
      "  Loglikelihood user model (H0)                114.276     114.276\n",
      "  Scaling correction factor                                  1.105\n",
      "      for the MLR correction                                      \n",
      "  Loglikelihood unrestricted model (H1)        117.835     117.835\n",
      "  Scaling correction factor                                  1.060\n",
      "      for the MLR correction                                      \n",
      "                                                                  \n",
      "  Akaike (AIC)                                -204.552    -204.552\n",
      "  Bayesian (BIC)                              -187.738    -187.738\n",
      "  Sample-size adjusted Bayesian (BIC)         -225.100    -225.100\n",
      "\n",
      "Root Mean Square Error of Approximation:\n",
      "\n",
      "  RMSEA                                          0.214       0.238\n",
      "  90 Percent confidence interval - lower         0.000       0.000\n",
      "  90 Percent confidence interval - upper         0.422       0.457\n",
      "  P-value RMSEA <= 0.05                          0.085       0.064\n",
      "                                                                  \n",
      "  Robust RMSEA                                               0.223\n",
      "  90 Percent confidence interval - lower                     0.000\n",
      "  90 Percent confidence interval - upper                     0.415\n",
      "\n",
      "Standardized Root Mean Square Residual:\n",
      "\n",
      "  SRMR                                           0.132       0.132\n",
      "\n",
      "Parameter Estimates:\n",
      "\n",
      "  Information                                      Observed\n",
      "  Observed information based on                     Hessian\n",
      "  Standard errors                        Robust.huber.white\n",
      "\n",
      "Regressions:\n",
      "                   Estimate  Std.Err  z-value  P(>|z|)   Std.lv  Std.all\n",
      "  EI ~                                                                  \n",
      "    ISG     (p__s)    0.013    0.010    1.343    0.179    0.013    0.135\n",
      "    TO   (p_ei_to)    0.002    0.001    1.123    0.262    0.002    0.085\n",
      "    TI   (p_ei_ti)    0.000    0.021    0.005    0.996    0.000    0.000\n",
      "    P_GD    (p__p)   -0.907    0.108   -8.379    0.000   -0.907   -0.867\n",
      "  TI ~                                                                  \n",
      "    ISG     (p_t_)    0.029    0.096    0.300    0.764    0.029    0.080\n",
      "  P_GDP ~                                                               \n",
      "    TO      (p_p_)   -0.001    0.003   -0.350    0.726   -0.001   -0.062\n",
      "\n",
      "Intercepts:\n",
      "                   Estimate  Std.Err  z-value  P(>|z|)   Std.lv  Std.all\n",
      "   .EI                0.016    0.009    1.762    0.078    0.016    0.289\n",
      "   .TI                0.024    0.045    0.536    0.592    0.024    0.115\n",
      "   .P_GDP             0.055    0.011    5.013    0.000    0.055    1.018\n",
      "\n",
      "Variances:\n",
      "                   Estimate  Std.Err  z-value  P(>|z|)   Std.lv  Std.all\n",
      "   .EI                0.001    0.000    3.542    0.000    0.001    0.205\n",
      "   .TI                0.044    0.013    3.470    0.001    0.044    0.994\n",
      "   .P_GDP             0.003    0.001    4.622    0.000    0.003    0.996\n",
      "\n",
      "Defined Parameters:\n",
      "                   Estimate  Std.Err  z-value  P(>|z|)   Std.lv  Std.all\n",
      "    p_ei_ti_isg       0.000    0.001    0.005    0.996    0.000    0.000\n",
      "    p_ei_pgdp_to      0.001    0.003    0.349    0.727    0.001    0.054\n",
      "    p_ei_isg_total    0.013    0.010    1.353    0.176    0.013    0.135\n",
      "    p_ei_to_total     0.003    0.004    0.759    0.448    0.003    0.139\n",
      "\n"
     ]
    }
   ],
   "source": [
    "model.path <- '\n",
    "## path model\n",
    "EI ~ p_ei_isg*ISG + p_ei_to*TO + p_ei_ti*TI + p_ei_pgdp*P_GDP\n",
    "TI ~ p_ti_isg*ISG\n",
    "P_GDP ~ p_pgdp_to*TO\n",
    "## indirect effect\n",
    "p_ei_ti_isg := p_ei_ti*p_ti_isg\n",
    "p_ei_pgdp_to := p_ei_pgdp*p_pgdp_to\n",
    "## total effect\n",
    "p_ei_isg_total := p_ei_isg + (p_ei_ti*p_ti_isg)\n",
    "p_ei_to_total := p_ei_to + (p_ei_pgdp*p_pgdp_to)\n",
    "'\n",
    "\n",
    "capture <- function(expr, file) {\n",
    "    writeLines(c('\\\\begin{verbatim}', \n",
    "                 capture.output(expr),\n",
    "                 '\\\\end{verbatim}'), con=file)\n",
    "}\n",
    "model.path.fit <- sem(model.path, data=data.logdiff, estimator='MLR', missing='ML', meanstructure=TRUE, em.fx.tol=1e-6)\n",
    "# capture(summary(model.path.fit, standardized=TRUE, header=TRUE,  fit.measures=TRUE, estimates=FALSE),\n",
    "#         '../tex/plots/model.logdiff.fit.summary.tex')\n",
    "# capture(summary(model.path.fit, standardized=TRUE, header=FALSE, estimates=TRUE),\n",
    "#         '../tex/plots/model.logdiff.fit.estimates.tex')\n",
    "summary(model.path.fit, standardized=TRUE, fit.measures=TRUE)"
   ]
  },
  {
   "cell_type": "code",
   "execution_count": 8,
   "metadata": {
    "kernel": "R"
   },
   "outputs": [],
   "source": [
    "soln.std <- as.data.frame(standardizedSolution(model.path.fit, se=TRUE, type='std.all', remove.def=FALSE))\n",
    "fit.measures <- as.data.frame(fitMeasures(model.path.fit))\n",
    "r.square <- lavInspect(model.path.fit, 'rsquare')\n",
    "n.x <- 3"
   ]
  },
  {
   "cell_type": "code",
   "execution_count": 9,
   "metadata": {
    "kernel": "em-2020"
   },
   "outputs": [
    {
     "name": "stderr",
     "output_type": "stream",
     "text": [
      "Variable soln.std is put to SoS as soln_std\n",
      "Variable r.square is put to SoS as r_square\n",
      "Variable fit.measures is put to SoS as fit_measures\n"
     ]
    },
    {
     "data": {
      "text/html": [
       "<div>\n",
       "<style scoped>\n",
       "    .dataframe tbody tr th:only-of-type {\n",
       "        vertical-align: middle;\n",
       "    }\n",
       "\n",
       "    .dataframe tbody tr th {\n",
       "        vertical-align: top;\n",
       "    }\n",
       "\n",
       "    .dataframe thead th {\n",
       "        text-align: right;\n",
       "    }\n",
       "</style>\n",
       "<table border=\"1\" class=\"dataframe\">\n",
       "  <thead>\n",
       "    <tr style=\"text-align: right;\">\n",
       "      <th></th>\n",
       "      <th>lhs</th>\n",
       "      <th>op</th>\n",
       "      <th>rhs</th>\n",
       "      <th>est.std</th>\n",
       "      <th>se</th>\n",
       "      <th>z</th>\n",
       "      <th>pvalue</th>\n",
       "      <th>ci.lower</th>\n",
       "      <th>ci.upper</th>\n",
       "    </tr>\n",
       "  </thead>\n",
       "  <tbody>\n",
       "    <tr>\n",
       "      <th>0</th>\n",
       "      <td>EI</td>\n",
       "      <td>~</td>\n",
       "      <td>ISG</td>\n",
       "      <td>0.135</td>\n",
       "      <td>0.103</td>\n",
       "      <td>1.305</td>\n",
       "      <td>0.192</td>\n",
       "      <td>-0.068</td>\n",
       "      <td>0.337</td>\n",
       "    </tr>\n",
       "    <tr>\n",
       "      <th>1</th>\n",
       "      <td>EI</td>\n",
       "      <td>~</td>\n",
       "      <td>TO</td>\n",
       "      <td>0.085</td>\n",
       "      <td>0.073</td>\n",
       "      <td>1.168</td>\n",
       "      <td>0.243</td>\n",
       "      <td>-0.058</td>\n",
       "      <td>0.228</td>\n",
       "    </tr>\n",
       "    <tr>\n",
       "      <th>2</th>\n",
       "      <td>EI</td>\n",
       "      <td>~</td>\n",
       "      <td>TI</td>\n",
       "      <td>0.000</td>\n",
       "      <td>0.080</td>\n",
       "      <td>0.005</td>\n",
       "      <td>0.996</td>\n",
       "      <td>-0.156</td>\n",
       "      <td>0.156</td>\n",
       "    </tr>\n",
       "    <tr>\n",
       "      <th>3</th>\n",
       "      <td>EI</td>\n",
       "      <td>~</td>\n",
       "      <td>P_GDP</td>\n",
       "      <td>-0.867</td>\n",
       "      <td>0.052</td>\n",
       "      <td>-16.769</td>\n",
       "      <td>0.000</td>\n",
       "      <td>-0.968</td>\n",
       "      <td>-0.766</td>\n",
       "    </tr>\n",
       "    <tr>\n",
       "      <th>4</th>\n",
       "      <td>TI</td>\n",
       "      <td>~</td>\n",
       "      <td>ISG</td>\n",
       "      <td>0.080</td>\n",
       "      <td>0.265</td>\n",
       "      <td>0.301</td>\n",
       "      <td>0.763</td>\n",
       "      <td>-0.440</td>\n",
       "      <td>0.600</td>\n",
       "    </tr>\n",
       "    <tr>\n",
       "      <th>5</th>\n",
       "      <td>P_GDP</td>\n",
       "      <td>~</td>\n",
       "      <td>TO</td>\n",
       "      <td>-0.062</td>\n",
       "      <td>0.177</td>\n",
       "      <td>-0.352</td>\n",
       "      <td>0.725</td>\n",
       "      <td>-0.409</td>\n",
       "      <td>0.284</td>\n",
       "    </tr>\n",
       "    <tr>\n",
       "      <th>6</th>\n",
       "      <td>EI</td>\n",
       "      <td>~~</td>\n",
       "      <td>EI</td>\n",
       "      <td>0.205</td>\n",
       "      <td>0.073</td>\n",
       "      <td>2.824</td>\n",
       "      <td>0.005</td>\n",
       "      <td>0.063</td>\n",
       "      <td>0.348</td>\n",
       "    </tr>\n",
       "    <tr>\n",
       "      <th>7</th>\n",
       "      <td>TI</td>\n",
       "      <td>~~</td>\n",
       "      <td>TI</td>\n",
       "      <td>0.994</td>\n",
       "      <td>0.042</td>\n",
       "      <td>23.435</td>\n",
       "      <td>0.000</td>\n",
       "      <td>0.911</td>\n",
       "      <td>1.077</td>\n",
       "    </tr>\n",
       "    <tr>\n",
       "      <th>8</th>\n",
       "      <td>P_GDP</td>\n",
       "      <td>~~</td>\n",
       "      <td>P_GDP</td>\n",
       "      <td>0.996</td>\n",
       "      <td>0.022</td>\n",
       "      <td>45.192</td>\n",
       "      <td>0.000</td>\n",
       "      <td>0.953</td>\n",
       "      <td>1.039</td>\n",
       "    </tr>\n",
       "    <tr>\n",
       "      <th>9</th>\n",
       "      <td>ISG</td>\n",
       "      <td>~~</td>\n",
       "      <td>ISG</td>\n",
       "      <td>1.000</td>\n",
       "      <td>0.000</td>\n",
       "      <td>NaN</td>\n",
       "      <td>NaN</td>\n",
       "      <td>1.000</td>\n",
       "      <td>1.000</td>\n",
       "    </tr>\n",
       "    <tr>\n",
       "      <th>10</th>\n",
       "      <td>ISG</td>\n",
       "      <td>~~</td>\n",
       "      <td>TO</td>\n",
       "      <td>0.223</td>\n",
       "      <td>0.000</td>\n",
       "      <td>NaN</td>\n",
       "      <td>NaN</td>\n",
       "      <td>0.223</td>\n",
       "      <td>0.223</td>\n",
       "    </tr>\n",
       "    <tr>\n",
       "      <th>11</th>\n",
       "      <td>TO</td>\n",
       "      <td>~~</td>\n",
       "      <td>TO</td>\n",
       "      <td>1.000</td>\n",
       "      <td>0.000</td>\n",
       "      <td>NaN</td>\n",
       "      <td>NaN</td>\n",
       "      <td>1.000</td>\n",
       "      <td>1.000</td>\n",
       "    </tr>\n",
       "    <tr>\n",
       "      <th>12</th>\n",
       "      <td>EI</td>\n",
       "      <td>~1</td>\n",
       "      <td></td>\n",
       "      <td>0.289</td>\n",
       "      <td>0.152</td>\n",
       "      <td>1.901</td>\n",
       "      <td>0.057</td>\n",
       "      <td>-0.009</td>\n",
       "      <td>0.586</td>\n",
       "    </tr>\n",
       "    <tr>\n",
       "      <th>13</th>\n",
       "      <td>TI</td>\n",
       "      <td>~1</td>\n",
       "      <td></td>\n",
       "      <td>0.115</td>\n",
       "      <td>0.217</td>\n",
       "      <td>0.532</td>\n",
       "      <td>0.595</td>\n",
       "      <td>-0.309</td>\n",
       "      <td>0.540</td>\n",
       "    </tr>\n",
       "    <tr>\n",
       "      <th>14</th>\n",
       "      <td>P_GDP</td>\n",
       "      <td>~1</td>\n",
       "      <td></td>\n",
       "      <td>1.018</td>\n",
       "      <td>0.221</td>\n",
       "      <td>4.605</td>\n",
       "      <td>0.000</td>\n",
       "      <td>0.585</td>\n",
       "      <td>1.452</td>\n",
       "    </tr>\n",
       "    <tr>\n",
       "      <th>15</th>\n",
       "      <td>ISG</td>\n",
       "      <td>~1</td>\n",
       "      <td></td>\n",
       "      <td>0.372</td>\n",
       "      <td>0.000</td>\n",
       "      <td>NaN</td>\n",
       "      <td>NaN</td>\n",
       "      <td>0.372</td>\n",
       "      <td>0.372</td>\n",
       "    </tr>\n",
       "    <tr>\n",
       "      <th>16</th>\n",
       "      <td>TO</td>\n",
       "      <td>~1</td>\n",
       "      <td></td>\n",
       "      <td>0.275</td>\n",
       "      <td>0.000</td>\n",
       "      <td>NaN</td>\n",
       "      <td>NaN</td>\n",
       "      <td>0.275</td>\n",
       "      <td>0.275</td>\n",
       "    </tr>\n",
       "    <tr>\n",
       "      <th>17</th>\n",
       "      <td>p_ei_ti_isg</td>\n",
       "      <td>:=</td>\n",
       "      <td>p_ei_ti*p_ti_isg</td>\n",
       "      <td>0.000</td>\n",
       "      <td>0.006</td>\n",
       "      <td>0.005</td>\n",
       "      <td>0.996</td>\n",
       "      <td>-0.012</td>\n",
       "      <td>0.013</td>\n",
       "    </tr>\n",
       "    <tr>\n",
       "      <th>18</th>\n",
       "      <td>p_ei_pgdp_to</td>\n",
       "      <td>:=</td>\n",
       "      <td>p_ei_pgdp*p_pgdp_to</td>\n",
       "      <td>0.054</td>\n",
       "      <td>0.152</td>\n",
       "      <td>0.354</td>\n",
       "      <td>0.723</td>\n",
       "      <td>-0.245</td>\n",
       "      <td>0.353</td>\n",
       "    </tr>\n",
       "    <tr>\n",
       "      <th>19</th>\n",
       "      <td>p_ei_isg_total</td>\n",
       "      <td>:=</td>\n",
       "      <td>p_ei_isg+(p_ei_ti*p_ti_isg)</td>\n",
       "      <td>0.135</td>\n",
       "      <td>0.103</td>\n",
       "      <td>1.309</td>\n",
       "      <td>0.190</td>\n",
       "      <td>-0.067</td>\n",
       "      <td>0.337</td>\n",
       "    </tr>\n",
       "    <tr>\n",
       "      <th>20</th>\n",
       "      <td>p_ei_to_total</td>\n",
       "      <td>:=</td>\n",
       "      <td>p_ei_to+(p_ei_pgdp*p_pgdp_to)</td>\n",
       "      <td>0.139</td>\n",
       "      <td>0.176</td>\n",
       "      <td>0.790</td>\n",
       "      <td>0.430</td>\n",
       "      <td>-0.206</td>\n",
       "      <td>0.485</td>\n",
       "    </tr>\n",
       "  </tbody>\n",
       "</table>\n",
       "</div>"
      ],
      "text/plain": [
       "               lhs  op                            rhs  est.std     se       z  \\\n",
       "0               EI   ~                            ISG    0.135  0.103   1.305   \n",
       "1               EI   ~                             TO    0.085  0.073   1.168   \n",
       "2               EI   ~                             TI    0.000  0.080   0.005   \n",
       "3               EI   ~                          P_GDP   -0.867  0.052 -16.769   \n",
       "4               TI   ~                            ISG    0.080  0.265   0.301   \n",
       "5            P_GDP   ~                             TO   -0.062  0.177  -0.352   \n",
       "6               EI  ~~                             EI    0.205  0.073   2.824   \n",
       "7               TI  ~~                             TI    0.994  0.042  23.435   \n",
       "8            P_GDP  ~~                          P_GDP    0.996  0.022  45.192   \n",
       "9              ISG  ~~                            ISG    1.000  0.000     NaN   \n",
       "10             ISG  ~~                             TO    0.223  0.000     NaN   \n",
       "11              TO  ~~                             TO    1.000  0.000     NaN   \n",
       "12              EI  ~1                                   0.289  0.152   1.901   \n",
       "13              TI  ~1                                   0.115  0.217   0.532   \n",
       "14           P_GDP  ~1                                   1.018  0.221   4.605   \n",
       "15             ISG  ~1                                   0.372  0.000     NaN   \n",
       "16              TO  ~1                                   0.275  0.000     NaN   \n",
       "17     p_ei_ti_isg  :=               p_ei_ti*p_ti_isg    0.000  0.006   0.005   \n",
       "18    p_ei_pgdp_to  :=            p_ei_pgdp*p_pgdp_to    0.054  0.152   0.354   \n",
       "19  p_ei_isg_total  :=    p_ei_isg+(p_ei_ti*p_ti_isg)    0.135  0.103   1.309   \n",
       "20   p_ei_to_total  :=  p_ei_to+(p_ei_pgdp*p_pgdp_to)    0.139  0.176   0.790   \n",
       "\n",
       "    pvalue  ci.lower  ci.upper  \n",
       "0    0.192    -0.068     0.337  \n",
       "1    0.243    -0.058     0.228  \n",
       "2    0.996    -0.156     0.156  \n",
       "3    0.000    -0.968    -0.766  \n",
       "4    0.763    -0.440     0.600  \n",
       "5    0.725    -0.409     0.284  \n",
       "6    0.005     0.063     0.348  \n",
       "7    0.000     0.911     1.077  \n",
       "8    0.000     0.953     1.039  \n",
       "9      NaN     1.000     1.000  \n",
       "10     NaN     0.223     0.223  \n",
       "11     NaN     1.000     1.000  \n",
       "12   0.057    -0.009     0.586  \n",
       "13   0.595    -0.309     0.540  \n",
       "14   0.000     0.585     1.452  \n",
       "15     NaN     0.372     0.372  \n",
       "16     NaN     0.275     0.275  \n",
       "17   0.996    -0.012     0.013  \n",
       "18   0.723    -0.245     0.353  \n",
       "19   0.190    -0.067     0.337  \n",
       "20   0.430    -0.206     0.485  "
      ]
     },
     "metadata": {},
     "output_type": "display_data"
    },
    {
     "data": {
      "text/plain": [
       "EI       0.794624\n",
       "TI       0.006391\n",
       "P_GDP    0.003880\n",
       "dtype: float64"
      ]
     },
     "metadata": {},
     "output_type": "display_data"
    }
   ],
   "source": [
    "%get soln.std --from R\n",
    "%get r.square --from R\n",
    "%get fit.measures --from R\n",
    "display(np.round(soln_std, 3))\n",
    "display(r_square)"
   ]
  },
  {
   "cell_type": "code",
   "execution_count": 10,
   "metadata": {
    "kernel": "em-2020"
   },
   "outputs": [
    {
     "name": "stderr",
     "output_type": "stream",
     "text": [
      "/home/drake/.virtualenvs/em-2020/lib/python3.7/site-packages/pandas/core/indexing.py:671: SettingWithCopyWarning: \n",
      "A value is trying to be set on a copy of a slice from a DataFrame\n",
      "\n",
      "See the caveats in the documentation: https://pandas.pydata.org/pandas-docs/stable/user_guide/indexing.html#returning-a-view-versus-a-copy\n",
      "  self._setitem_with_indexer(indexer, value)\n"
     ]
    },
    {
     "data": {
      "text/html": [
       "<div>\n",
       "<style scoped>\n",
       "    .dataframe tbody tr th:only-of-type {\n",
       "        vertical-align: middle;\n",
       "    }\n",
       "\n",
       "    .dataframe tbody tr th {\n",
       "        vertical-align: top;\n",
       "    }\n",
       "\n",
       "    .dataframe thead th {\n",
       "        text-align: right;\n",
       "    }\n",
       "</style>\n",
       "<table border=\"1\" class=\"dataframe\">\n",
       "  <thead>\n",
       "    <tr style=\"text-align: right;\">\n",
       "      <th></th>\n",
       "      <th>Equation</th>\n",
       "      <th>Dep. var.</th>\n",
       "      <th>Ind. var.</th>\n",
       "      <th>Coefficient</th>\n",
       "      <th>Est. (std.)</th>\n",
       "      <th>S.E. (std.)</th>\n",
       "      <th>p-value</th>\n",
       "      <th>$R^{2}$</th>\n",
       "    </tr>\n",
       "  </thead>\n",
       "  <tbody>\n",
       "    <tr>\n",
       "      <th>TI ~ ISG</th>\n",
       "      <td>1</td>\n",
       "      <td>TI</td>\n",
       "      <td>ISG</td>\n",
       "      <td>$P_{TI,ISG}$</td>\n",
       "      <td>0.080</td>\n",
       "      <td>0.265</td>\n",
       "      <td>0.763</td>\n",
       "      <td>0.006</td>\n",
       "    </tr>\n",
       "    <tr>\n",
       "      <th>P_GDP ~ TO</th>\n",
       "      <td>2</td>\n",
       "      <td>P\\_GDP</td>\n",
       "      <td>TO</td>\n",
       "      <td>$P_{P\\_GDP,TO}$</td>\n",
       "      <td>-0.062</td>\n",
       "      <td>0.177</td>\n",
       "      <td>0.725</td>\n",
       "      <td>0.004</td>\n",
       "    </tr>\n",
       "    <tr>\n",
       "      <th>EI ~ ISG</th>\n",
       "      <td>3</td>\n",
       "      <td>EI</td>\n",
       "      <td>ISG</td>\n",
       "      <td>$P_{EI,ISG}$</td>\n",
       "      <td>0.135</td>\n",
       "      <td>0.103</td>\n",
       "      <td>0.192</td>\n",
       "      <td>0.795</td>\n",
       "    </tr>\n",
       "    <tr>\n",
       "      <th>EI ~ TO</th>\n",
       "      <td></td>\n",
       "      <td>EI</td>\n",
       "      <td>TO</td>\n",
       "      <td>$P_{EI,TO}$</td>\n",
       "      <td>0.085</td>\n",
       "      <td>0.073</td>\n",
       "      <td>0.243</td>\n",
       "      <td></td>\n",
       "    </tr>\n",
       "    <tr>\n",
       "      <th>EI ~ TI</th>\n",
       "      <td></td>\n",
       "      <td>EI</td>\n",
       "      <td>TI</td>\n",
       "      <td>$P_{EI,TI}$</td>\n",
       "      <td>0.000</td>\n",
       "      <td>0.080</td>\n",
       "      <td>0.996</td>\n",
       "      <td></td>\n",
       "    </tr>\n",
       "    <tr>\n",
       "      <th>EI ~ P_GDP</th>\n",
       "      <td></td>\n",
       "      <td>EI</td>\n",
       "      <td>P\\_GDP</td>\n",
       "      <td>$P_{EI,P\\_GDP}$</td>\n",
       "      <td>-0.867</td>\n",
       "      <td>0.052</td>\n",
       "      <td>*</td>\n",
       "      <td></td>\n",
       "    </tr>\n",
       "  </tbody>\n",
       "</table>\n",
       "</div>"
      ],
      "text/plain": [
       "           Equation Dep. var. Ind. var.      Coefficient  Est. (std.)  \\\n",
       "TI ~ ISG          1        TI       ISG     $P_{TI,ISG}$        0.080   \n",
       "P_GDP ~ TO        2    P\\_GDP        TO  $P_{P\\_GDP,TO}$       -0.062   \n",
       "EI ~ ISG          3        EI       ISG     $P_{EI,ISG}$        0.135   \n",
       "EI ~ TO                    EI        TO      $P_{EI,TO}$        0.085   \n",
       "EI ~ TI                    EI        TI      $P_{EI,TI}$        0.000   \n",
       "EI ~ P_GDP                 EI    P\\_GDP  $P_{EI,P\\_GDP}$       -0.867   \n",
       "\n",
       "            S.E. (std.) p-value $R^{2}$  \n",
       "TI ~ ISG          0.265   0.763   0.006  \n",
       "P_GDP ~ TO        0.177   0.725   0.004  \n",
       "EI ~ ISG          0.103   0.192   0.795  \n",
       "EI ~ TO           0.073   0.243          \n",
       "EI ~ TI           0.080   0.996          \n",
       "EI ~ P_GDP        0.052       *          "
      ]
     },
     "metadata": {},
     "output_type": "display_data"
    },
    {
     "name": "stdout",
     "output_type": "stream",
     "text": [
      "\\begin{tabular}{llllrrll}\n",
      "\\toprule\n",
      "Equation & Dep. var. & Ind. var. &      Coefficient &  Est. (std.) &  S.E. (std.) & p-value & $R^{2}$ \\\\\n",
      "\\midrule\n",
      "       1 &        TI &       ISG &     $P_{TI,ISG}$ &        0.080 &        0.265 &   0.763 &   0.006 \\\\\n",
      "       2 &    P\\_GDP &        TO &  $P_{P\\_GDP,TO}$ &       -0.062 &        0.177 &   0.725 &   0.004 \\\\\n",
      "       3 &        EI &       ISG &     $P_{EI,ISG}$ &        0.135 &        0.103 &   0.192 &   0.795 \\\\\n",
      "         &        EI &        TO &      $P_{EI,TO}$ &        0.085 &        0.073 &   0.243 &         \\\\\n",
      "         &        EI &        TI &      $P_{EI,TI}$ &        0.000 &        0.080 &   0.996 &         \\\\\n",
      "         &        EI &    P\\_GDP &  $P_{EI,P\\_GDP}$ &       -0.867 &        0.052 &       * &         \\\\\n",
      "\\bottomrule\n",
      "\\end{tabular}\n",
      "\n"
     ]
    }
   ],
   "source": [
    "df = soln_std.query('(lhs != rhs) & (op == \"~\")').copy()\n",
    "df.index = np.where(df.op == '~', df.lhs.str.cat([df.op, df.rhs], sep=' '), df.lhs)\n",
    "df = df.loc[['TI ~ ISG', 'P_GDP ~ TO', 'EI ~ ISG', 'EI ~ TO', 'EI ~ TI', 'EI ~ P_GDP']]\n",
    "df['Equation'] = ['1', '2', '3', '', '', '']\n",
    "df['Dep. var.'] = df.lhs.str.replace('P_GDP', r'P\\_GDP')\n",
    "df['Ind. var.'] = df.rhs.str.replace('P_GDP', r'P\\_GDP')\n",
    "df['Coefficient'] = ('$P_{' + df.lhs + ',' + df.rhs + '}$').str.replace('P_GDP', r'P\\_GDP')\n",
    "df['Est. (std.)'] = np.round(df['est.std'],3)\n",
    "df['S.E. (std.)'] = np.round(df['se'],3)\n",
    "df['p-value'] = ['{:.3f}'.format(x) if x >= 0.001 else '*' for x in df['pvalue']]\n",
    "df['$R^{2}$'] = ''\n",
    "df['$R^{2}$'].iloc[0:3] = ['{:.3f}'.format(x) for x in r_square.loc[['TI', 'P_GDP', 'EI']]]\n",
    "df = df[['Equation', \n",
    "         'Dep. var.', 'Ind. var.', \n",
    "         'Coefficient', 'Est. (std.)', 'S.E. (std.)', 'p-value', '$R^{2}$']]\n",
    "display(df)\n",
    "print(df.to_latex(escape=False, index=False))"
   ]
  },
  {
   "cell_type": "code",
   "execution_count": 11,
   "metadata": {
    "kernel": "em-2020"
   },
   "outputs": [
    {
     "data": {
      "text/html": [
       "<div>\n",
       "<style scoped>\n",
       "    .dataframe tbody tr th:only-of-type {\n",
       "        vertical-align: middle;\n",
       "    }\n",
       "\n",
       "    .dataframe tbody tr th {\n",
       "        vertical-align: top;\n",
       "    }\n",
       "\n",
       "    .dataframe thead th {\n",
       "        text-align: right;\n",
       "    }\n",
       "</style>\n",
       "<table border=\"1\" class=\"dataframe\">\n",
       "  <thead>\n",
       "    <tr style=\"text-align: right;\">\n",
       "      <th></th>\n",
       "      <th>lhs</th>\n",
       "      <th>op</th>\n",
       "      <th>rhs</th>\n",
       "      <th>est.std</th>\n",
       "      <th>se</th>\n",
       "      <th>z</th>\n",
       "      <th>pvalue</th>\n",
       "      <th>ci.lower</th>\n",
       "      <th>ci.upper</th>\n",
       "    </tr>\n",
       "  </thead>\n",
       "  <tbody>\n",
       "    <tr>\n",
       "      <th>EI ~ ISG</th>\n",
       "      <td>EI</td>\n",
       "      <td>~</td>\n",
       "      <td>ISG</td>\n",
       "      <td>0.135</td>\n",
       "      <td>0.103</td>\n",
       "      <td>1.305</td>\n",
       "      <td>0.192</td>\n",
       "      <td>-0.068</td>\n",
       "      <td>0.337</td>\n",
       "    </tr>\n",
       "    <tr>\n",
       "      <th>EI ~ TO</th>\n",
       "      <td>EI</td>\n",
       "      <td>~</td>\n",
       "      <td>TO</td>\n",
       "      <td>0.085</td>\n",
       "      <td>0.073</td>\n",
       "      <td>1.168</td>\n",
       "      <td>0.243</td>\n",
       "      <td>-0.058</td>\n",
       "      <td>0.228</td>\n",
       "    </tr>\n",
       "    <tr>\n",
       "      <th>EI ~ TI</th>\n",
       "      <td>EI</td>\n",
       "      <td>~</td>\n",
       "      <td>TI</td>\n",
       "      <td>0.000</td>\n",
       "      <td>0.080</td>\n",
       "      <td>0.005</td>\n",
       "      <td>0.996</td>\n",
       "      <td>-0.156</td>\n",
       "      <td>0.156</td>\n",
       "    </tr>\n",
       "    <tr>\n",
       "      <th>EI ~ P_GDP</th>\n",
       "      <td>EI</td>\n",
       "      <td>~</td>\n",
       "      <td>P_GDP</td>\n",
       "      <td>-0.867</td>\n",
       "      <td>0.052</td>\n",
       "      <td>-16.769</td>\n",
       "      <td>0.000</td>\n",
       "      <td>-0.968</td>\n",
       "      <td>-0.766</td>\n",
       "    </tr>\n",
       "    <tr>\n",
       "      <th>TI ~ ISG</th>\n",
       "      <td>TI</td>\n",
       "      <td>~</td>\n",
       "      <td>ISG</td>\n",
       "      <td>0.080</td>\n",
       "      <td>0.265</td>\n",
       "      <td>0.301</td>\n",
       "      <td>0.763</td>\n",
       "      <td>-0.440</td>\n",
       "      <td>0.600</td>\n",
       "    </tr>\n",
       "    <tr>\n",
       "      <th>P_GDP ~ TO</th>\n",
       "      <td>P_GDP</td>\n",
       "      <td>~</td>\n",
       "      <td>TO</td>\n",
       "      <td>-0.062</td>\n",
       "      <td>0.177</td>\n",
       "      <td>-0.352</td>\n",
       "      <td>0.725</td>\n",
       "      <td>-0.409</td>\n",
       "      <td>0.284</td>\n",
       "    </tr>\n",
       "    <tr>\n",
       "      <th>p_ei_ti_isg</th>\n",
       "      <td>p_ei_ti_isg</td>\n",
       "      <td>:=</td>\n",
       "      <td>p_ei_ti*p_ti_isg</td>\n",
       "      <td>0.000</td>\n",
       "      <td>0.006</td>\n",
       "      <td>0.005</td>\n",
       "      <td>0.996</td>\n",
       "      <td>-0.012</td>\n",
       "      <td>0.013</td>\n",
       "    </tr>\n",
       "    <tr>\n",
       "      <th>p_ei_pgdp_to</th>\n",
       "      <td>p_ei_pgdp_to</td>\n",
       "      <td>:=</td>\n",
       "      <td>p_ei_pgdp*p_pgdp_to</td>\n",
       "      <td>0.054</td>\n",
       "      <td>0.152</td>\n",
       "      <td>0.354</td>\n",
       "      <td>0.723</td>\n",
       "      <td>-0.245</td>\n",
       "      <td>0.353</td>\n",
       "    </tr>\n",
       "    <tr>\n",
       "      <th>p_ei_isg_total</th>\n",
       "      <td>p_ei_isg_total</td>\n",
       "      <td>:=</td>\n",
       "      <td>p_ei_isg+(p_ei_ti*p_ti_isg)</td>\n",
       "      <td>0.135</td>\n",
       "      <td>0.103</td>\n",
       "      <td>1.309</td>\n",
       "      <td>0.190</td>\n",
       "      <td>-0.067</td>\n",
       "      <td>0.337</td>\n",
       "    </tr>\n",
       "    <tr>\n",
       "      <th>p_ei_to_total</th>\n",
       "      <td>p_ei_to_total</td>\n",
       "      <td>:=</td>\n",
       "      <td>p_ei_to+(p_ei_pgdp*p_pgdp_to)</td>\n",
       "      <td>0.139</td>\n",
       "      <td>0.176</td>\n",
       "      <td>0.790</td>\n",
       "      <td>0.430</td>\n",
       "      <td>-0.206</td>\n",
       "      <td>0.485</td>\n",
       "    </tr>\n",
       "  </tbody>\n",
       "</table>\n",
       "</div>"
      ],
      "text/plain": [
       "                           lhs  op                            rhs  est.std  \\\n",
       "EI ~ ISG                    EI   ~                            ISG    0.135   \n",
       "EI ~ TO                     EI   ~                             TO    0.085   \n",
       "EI ~ TI                     EI   ~                             TI    0.000   \n",
       "EI ~ P_GDP                  EI   ~                          P_GDP   -0.867   \n",
       "TI ~ ISG                    TI   ~                            ISG    0.080   \n",
       "P_GDP ~ TO               P_GDP   ~                             TO   -0.062   \n",
       "p_ei_ti_isg        p_ei_ti_isg  :=               p_ei_ti*p_ti_isg    0.000   \n",
       "p_ei_pgdp_to      p_ei_pgdp_to  :=            p_ei_pgdp*p_pgdp_to    0.054   \n",
       "p_ei_isg_total  p_ei_isg_total  :=    p_ei_isg+(p_ei_ti*p_ti_isg)    0.135   \n",
       "p_ei_to_total    p_ei_to_total  :=  p_ei_to+(p_ei_pgdp*p_pgdp_to)    0.139   \n",
       "\n",
       "                   se       z  pvalue  ci.lower  ci.upper  \n",
       "EI ~ ISG        0.103   1.305   0.192    -0.068     0.337  \n",
       "EI ~ TO         0.073   1.168   0.243    -0.058     0.228  \n",
       "EI ~ TI         0.080   0.005   0.996    -0.156     0.156  \n",
       "EI ~ P_GDP      0.052 -16.769   0.000    -0.968    -0.766  \n",
       "TI ~ ISG        0.265   0.301   0.763    -0.440     0.600  \n",
       "P_GDP ~ TO      0.177  -0.352   0.725    -0.409     0.284  \n",
       "p_ei_ti_isg     0.006   0.005   0.996    -0.012     0.013  \n",
       "p_ei_pgdp_to    0.152   0.354   0.723    -0.245     0.353  \n",
       "p_ei_isg_total  0.103   1.309   0.190    -0.067     0.337  \n",
       "p_ei_to_total   0.176   0.790   0.430    -0.206     0.485  "
      ]
     },
     "metadata": {},
     "output_type": "display_data"
    },
    {
     "data": {
      "text/html": [
       "<div>\n",
       "<style scoped>\n",
       "    .dataframe tbody tr th:only-of-type {\n",
       "        vertical-align: middle;\n",
       "    }\n",
       "\n",
       "    .dataframe tbody tr th {\n",
       "        vertical-align: top;\n",
       "    }\n",
       "\n",
       "    .dataframe thead th {\n",
       "        text-align: right;\n",
       "    }\n",
       "</style>\n",
       "<table border=\"1\" class=\"dataframe\">\n",
       "  <thead>\n",
       "    <tr style=\"text-align: right;\">\n",
       "      <th></th>\n",
       "      <th>Causal variable</th>\n",
       "      <th>DE coeff.</th>\n",
       "      <th>DE s.e.</th>\n",
       "      <th>DE p-value</th>\n",
       "      <th>IE coeff.</th>\n",
       "      <th>IE s.e.</th>\n",
       "      <th>IE p-value</th>\n",
       "      <th>TE coeff.</th>\n",
       "      <th>TE s.e.</th>\n",
       "      <th>TE p-value</th>\n",
       "    </tr>\n",
       "  </thead>\n",
       "  <tbody>\n",
       "    <tr>\n",
       "      <th>0</th>\n",
       "      <td>ISG</td>\n",
       "      <td>0.135</td>\n",
       "      <td>0.103</td>\n",
       "      <td>0.192</td>\n",
       "      <td>0.000</td>\n",
       "      <td>0.006</td>\n",
       "      <td>0.996</td>\n",
       "      <td>0.135</td>\n",
       "      <td>0.103</td>\n",
       "      <td>0.190</td>\n",
       "    </tr>\n",
       "    <tr>\n",
       "      <th>1</th>\n",
       "      <td>TO</td>\n",
       "      <td>0.085</td>\n",
       "      <td>0.073</td>\n",
       "      <td>0.243</td>\n",
       "      <td>0.054</td>\n",
       "      <td>0.152</td>\n",
       "      <td>0.723</td>\n",
       "      <td>0.139</td>\n",
       "      <td>0.176</td>\n",
       "      <td>0.430</td>\n",
       "    </tr>\n",
       "    <tr>\n",
       "      <th>2</th>\n",
       "      <td>TI</td>\n",
       "      <td>0.000</td>\n",
       "      <td>0.080</td>\n",
       "      <td>0.996</td>\n",
       "      <td></td>\n",
       "      <td></td>\n",
       "      <td></td>\n",
       "      <td>0.000</td>\n",
       "      <td>0.080</td>\n",
       "      <td>0.996</td>\n",
       "    </tr>\n",
       "    <tr>\n",
       "      <th>3</th>\n",
       "      <td>P\\_GDP</td>\n",
       "      <td>-0.867</td>\n",
       "      <td>0.052</td>\n",
       "      <td>*</td>\n",
       "      <td></td>\n",
       "      <td></td>\n",
       "      <td></td>\n",
       "      <td>-0.867</td>\n",
       "      <td>0.052</td>\n",
       "      <td>*</td>\n",
       "    </tr>\n",
       "  </tbody>\n",
       "</table>\n",
       "</div>"
      ],
      "text/plain": [
       "  Causal variable DE coeff. DE s.e. DE p-value IE coeff. IE s.e. IE p-value  \\\n",
       "0             ISG     0.135   0.103      0.192     0.000   0.006      0.996   \n",
       "1              TO     0.085   0.073      0.243     0.054   0.152      0.723   \n",
       "2              TI     0.000   0.080      0.996                                \n",
       "3          P\\_GDP    -0.867   0.052          *                                \n",
       "\n",
       "  TE coeff. TE s.e. TE p-value  \n",
       "0     0.135   0.103      0.190  \n",
       "1     0.139   0.176      0.430  \n",
       "2     0.000   0.080      0.996  \n",
       "3    -0.867   0.052          *  "
      ]
     },
     "metadata": {},
     "output_type": "display_data"
    },
    {
     "name": "stdout",
     "output_type": "stream",
     "text": [
      "\\begin{tabular}{llllllllll}\n",
      "\\toprule\n",
      "Causal variable & DE coeff. & DE s.e. & DE p-value & IE coeff. & IE s.e. & IE p-value & TE coeff. & TE s.e. & TE p-value \\\\\n",
      "\\midrule\n",
      "            ISG &     0.135 &   0.103 &      0.192 &     0.000 &   0.006 &      0.996 &     0.135 &   0.103 &      0.190 \\\\\n",
      "             TO &     0.085 &   0.073 &      0.243 &     0.054 &   0.152 &      0.723 &     0.139 &   0.176 &      0.430 \\\\\n",
      "             TI &     0.000 &   0.080 &      0.996 &           &         &            &     0.000 &   0.080 &      0.996 \\\\\n",
      "         P\\_GDP &    -0.867 &   0.052 &          * &           &         &            &    -0.867 &   0.052 &          * \\\\\n",
      "\\bottomrule\n",
      "\\end{tabular}\n",
      "\n"
     ]
    }
   ],
   "source": [
    "df = soln_std.query('(lhs != rhs) & (op in [\"~\", \":=\"])').copy()\n",
    "df.index = np.where(df.op == '~', df.lhs.str.cat([df.op, df.rhs], sep=' '), df.lhs)\n",
    "display(np.round(df, 3))\n",
    "out = pd.DataFrame({'Causal variable': ['ISG', 'TO', 'TI', 'P\\_GDP'], \n",
    "                    'DE coeff.': np.nan, 'DE s.e.': np.nan, 'DE p-value': np.nan,\n",
    "                    'IE coeff.': np.nan, 'IE s.e.': np.nan, 'IE p-value': np.nan,\n",
    "                    'TE coeff.': np.nan, 'TE s.e.': np.nan, 'TE p-value': np.nan})\n",
    "out.iloc[0:4, 1:4] = df.iloc[0:4, [3,4,6]].values\n",
    "out.iloc[0:2, 4:7] = df.iloc[6:8, [3,4,6]].values\n",
    "out.iloc[0:2, 7:10] = df.iloc[8:10, [3,4,6]].values\n",
    "out.iloc[2:4, 7:10] = df.iloc[2:4, [3,4,6]].values\n",
    "f3 = lambda x: '{:.3f}'.format(x) if np.isfinite(x) else ''\n",
    "out.iloc[:, [1,2,4,5,7,8]] = out.iloc[:, [1,2,4,5,7,8]].applymap(f3)\n",
    "f3p = lambda x: '{:.3f}'.format(x) if x >= 0.001 else '*' if np.isfinite(x) else ''\n",
    "out.iloc[:, [3,6,9]] = out.iloc[:, [3,6,9]].applymap(f3p)\n",
    "display(out)\n",
    "print(out.to_latex(escape=False, index=False))"
   ]
  },
  {
   "cell_type": "code",
   "execution_count": 12,
   "metadata": {
    "kernel": "em-2020"
   },
   "outputs": [
    {
     "data": {
      "text/html": [
       "<div>\n",
       "<style scoped>\n",
       "    .dataframe tbody tr th:only-of-type {\n",
       "        vertical-align: middle;\n",
       "    }\n",
       "\n",
       "    .dataframe tbody tr th {\n",
       "        vertical-align: top;\n",
       "    }\n",
       "\n",
       "    .dataframe thead th {\n",
       "        text-align: right;\n",
       "    }\n",
       "</style>\n",
       "<table border=\"1\" class=\"dataframe\">\n",
       "  <thead>\n",
       "    <tr style=\"text-align: right;\">\n",
       "      <th></th>\n",
       "      <th>value</th>\n",
       "      <th>cut-off</th>\n",
       "    </tr>\n",
       "  </thead>\n",
       "  <tbody>\n",
       "    <tr>\n",
       "      <th>$\\chi^2$</th>\n",
       "      <td>0.044</td>\n",
       "      <td>$&gt; 0.05$</td>\n",
       "    </tr>\n",
       "    <tr>\n",
       "      <th>RMSEA</th>\n",
       "      <td>0.223</td>\n",
       "      <td>$&lt;0.08$</td>\n",
       "    </tr>\n",
       "    <tr>\n",
       "      <th>CFI</th>\n",
       "      <td>0.904</td>\n",
       "      <td>$\\geq 0.90$</td>\n",
       "    </tr>\n",
       "    <tr>\n",
       "      <th>SRMR</th>\n",
       "      <td>0.132</td>\n",
       "      <td>$&lt;0.08$</td>\n",
       "    </tr>\n",
       "  </tbody>\n",
       "</table>\n",
       "</div>"
      ],
      "text/plain": [
       "          value      cut-off\n",
       "$\\chi^2$  0.044     $> 0.05$\n",
       "RMSEA     0.223      $<0.08$\n",
       "CFI       0.904  $\\geq 0.90$\n",
       "SRMR      0.132      $<0.08$"
      ]
     },
     "metadata": {},
     "output_type": "display_data"
    },
    {
     "name": "stdout",
     "output_type": "stream",
     "text": [
      "\\begin{tabular}{lrl}\n",
      "\\toprule\n",
      "{} &  value &      cut-off \\\\\n",
      "\\midrule\n",
      "$\\chi^2$ &  0.044 &     $> 0.05$ \\\\\n",
      "RMSEA    &  0.223 &      $<0.08$ \\\\\n",
      "CFI      &  0.904 &  $\\geq 0.90$ \\\\\n",
      "SRMR     &  0.132 &      $<0.08$ \\\\\n",
      "\\bottomrule\n",
      "\\end{tabular}\n",
      "\n"
     ]
    }
   ],
   "source": [
    "fit_table = fit_measures.loc[['pvalue.scaled', 'rmsea.robust', 'cfi.robust', 'srmr']]\n",
    "fit_table.index = [r'$\\chi^2$', 'RMSEA', 'CFI', 'SRMR']\n",
    "fit_table.columns = ['value']\n",
    "fit_table['cut-off'] = ['$> 0.05$', '$<0.08$', '$\\geq 0.90$', '$<0.08$']\n",
    "display(np.round(fit_table, 3))\n",
    "print(np.round(fit_table, 3).to_latex(escape=False))"
   ]
  },
  {
   "cell_type": "code",
   "execution_count": 13,
   "metadata": {
    "kernel": "R"
   },
   "outputs": [
    {
     "data": {
      "text/plain": [
       "      Min.    1st Qu.     Median       Mean    3rd Qu.       Max. \n",
       "-0.4338825 -0.0000002  0.0000000  0.0052105  0.0278550  0.3584065 "
      ]
     },
     "metadata": {},
     "output_type": "display_data"
    },
    {
     "data": {
      "image/png": "[encoded data removed]",
      "text/plain": [
       "plot without title"
      ]
     },
     "metadata": {
      "image/png": {
       "height": 420,
       "width": 420
      }
     },
     "output_type": "display_data"
    }
   ],
   "source": [
    "# Extract unique correlation residuals\n",
    "model.path.fit.resid <- as.data.frame(resid(model.path.fit, type='cor.bentler')$cov)\n",
    "resid <- model.path.fit.resid[lower.tri(model.path.fit.resid, diag=TRUE)]\n",
    "\n",
    "summary(resid)\n",
    "\n",
    "plot(resid[order(resid)], pch=16, xlab='', ylab='(Bentler) Correlation Residual')\n",
    "abline(h=c(0, -.1, .1), lty=c(1,3,3))"
   ]
  },
  {
   "cell_type": "code",
   "execution_count": 14,
   "metadata": {
    "kernel": "em-2020"
   },
   "outputs": [
    {
     "name": "stderr",
     "output_type": "stream",
     "text": [
      "Variable model.path.fit.resid is put to SoS as model_path_fit_resid\n"
     ]
    }
   ],
   "source": [
    "%get model.path.fit.resid --from R\n",
    "def plot_corr_resid(corr, figsize=None, **kwargs):\n",
    "    mask = 1 - np.tril(np.ones_like(corr, dtype=np.bool))\n",
    "    corr_text = np.vectorize('{:.3f}'.format)(corr)\n",
    "    if figsize is None:\n",
    "        figsize=np.array([1, 0.75]) * corr.shape[0] + np.array([kwargs.get('cbar', True) * 1.5, 0])\n",
    "    f, ax = plt.subplots(figsize=figsize)\n",
    "    cmap = sns.diverging_palette(10, 10, s=50, l=75, sep=100, as_cmap=True)\n",
    "\n",
    "    # Draw the heatmap with the mask and correct aspect ratio\n",
    "    sns.heatmap(corr, annot=corr_text, fmt='', mask=mask, cmap=cmap, vmin=-0.1, vmax=0.1, \n",
    "                square=False, linewidths=.25, **kwargs)\n",
    "    ax.set_yticklabels(ax.get_yticklabels(), fontdict={'verticalalignment': 'center'})\n",
    "\n",
    "def save_fig(file, **kwargs):\n",
    "    path = os.path.join(plot_dir, file)\n",
    "    plt.savefig(path, metadata={'CreationDate': None})"
   ]
  },
  {
   "cell_type": "code",
   "execution_count": 15,
   "metadata": {
    "kernel": "em-2020"
   },
   "outputs": [
    {
     "data": {
      "image/png": "[encoded data removed]",
      "text/plain": [
       "<Figure size 468x270 with 2 Axes>"
      ]
     },
     "metadata": {},
     "output_type": "display_data"
    }
   ],
   "source": [
    "plot_corr_resid(model_path_fit_resid)\n",
    "# save_fig('updated_correlation_residuals.pdf')"
   ]
  },
  {
   "cell_type": "code",
   "execution_count": 17,
   "metadata": {
    "kernel": "R"
   },
   "outputs": [
    {
     "data": {
      "text/plain": [
       "\n",
       "Call:\n",
       "lm(formula = data.logdiff$ISG ~ resid)\n",
       "\n",
       "Residuals:\n",
       "    Min      1Q  Median      3Q     Max \n",
       "-1.5365 -0.3109  0.1234  0.3534  1.0085 \n",
       "\n",
       "Coefficients:\n",
       "            Estimate Std. Error t value Pr(>|t|)  \n",
       "(Intercept)  0.21699    0.09918   2.188   0.0372 *\n",
       "resid       -4.68695    1.83488  -2.554   0.0164 *\n",
       "---\n",
       "Signif. codes:  0 ‘***’ 0.001 ‘**’ 0.01 ‘*’ 0.05 ‘.’ 0.1 ‘ ’ 1\n",
       "\n",
       "Residual standard error: 0.5432 on 28 degrees of freedom\n",
       "Multiple R-squared:  0.189,\tAdjusted R-squared:   0.16 \n",
       "F-statistic: 6.525 on 1 and 28 DF,  p-value: 0.01636\n"
      ]
     },
     "metadata": {},
     "output_type": "display_data"
    },
    {
     "data": {
      "image/png": "[encoded data removed]",
      "text/plain": [
       "plot without title"
      ]
     },
     "metadata": {
      "image/png": {
       "height": 420,
       "width": 420
      }
     },
     "output_type": "display_data"
    }
   ],
   "source": [
    "resid <- residuals_lavaan(model.path.fit)$P_GDP\n",
    "summary(lm(data.logdiff$ISG ~ resid))\n",
    "plot(data.logdiff$ISG, resid)"
   ]
  },
  {
   "cell_type": "code",
   "execution_count": 20,
   "metadata": {
    "kernel": "R"
   },
   "outputs": [
    {
     "data": {
      "text/plain": [
       "\n",
       "Call:\n",
       "lm(formula = P_GDP ~ ISG, data = data.logdiff)\n",
       "\n",
       "Residuals:\n",
       "      Min        1Q    Median        3Q       Max \n",
       "-0.110112 -0.038256  0.003465  0.038103  0.084228 \n",
       "\n",
       "Coefficients:\n",
       "             Estimate Std. Error t value Pr(>|t|)    \n",
       "(Intercept)  0.063248   0.009765   6.477 5.12e-07 ***\n",
       "ISG         -0.041612   0.015704  -2.650   0.0131 *  \n",
       "---\n",
       "Signif. codes:  0 ‘***’ 0.001 ‘**’ 0.01 ‘*’ 0.05 ‘.’ 0.1 ‘ ’ 1\n",
       "\n",
       "Residual standard error: 0.05012 on 28 degrees of freedom\n",
       "Multiple R-squared:  0.2005,\tAdjusted R-squared:  0.1719 \n",
       "F-statistic: 7.022 on 1 and 28 DF,  p-value: 0.01309\n"
      ]
     },
     "metadata": {},
     "output_type": "display_data"
    },
    {
     "data": {
      "image/png": "[encoded data removed]",
      "text/plain": [
       "Plot with title “”"
      ]
     },
     "metadata": {
      "image/png": {
       "height": 420,
       "width": 420
      }
     },
     "output_type": "display_data"
    },
    {
     "data": {
      "image/png": "[encoded data removed]",
      "text/plain": [
       "Plot with title “”"
      ]
     },
     "metadata": {
      "image/png": {
       "height": 420,
       "width": 420
      }
     },
     "output_type": "display_data"
    },
    {
     "data": {
      "image/png": "[encoded data removed]",
      "text/plain": [
       "Plot with title “”"
      ]
     },
     "metadata": {
      "image/png": {
       "height": 420,
       "width": 420
      }
     },
     "output_type": "display_data"
    },
    {
     "data": {
      "image/png": "[encoded data removed]",
      "text/plain": [
       "Plot with title “”"
      ]
     },
     "metadata": {
      "image/png": {
       "height": 420,
       "width": 420
      }
     },
     "output_type": "display_data"
    }
   ],
   "source": [
    "m <- lm(P_GDP ~ ISG, data=data.logdiff)\n",
    "summary(m)\n",
    "plot(m)"
   ]
  },
  {
   "cell_type": "code",
   "execution_count": 26,
   "metadata": {
    "kernel": "R"
   },
   "outputs": [
    {
     "data": {
      "text/html": [
       "<table>\n",
       "<caption>A data.frame: 1 × 6</caption>\n",
       "<thead>\n",
       "\t<tr><th></th><th scope=col>year</th><th scope=col>ISG</th><th scope=col>TO</th><th scope=col>TI</th><th scope=col>P_GDP</th><th scope=col>EI</th></tr>\n",
       "\t<tr><th></th><th scope=col>&lt;int&gt;</th><th scope=col>&lt;dbl&gt;</th><th scope=col>&lt;dbl&gt;</th><th scope=col>&lt;dbl&gt;</th><th scope=col>&lt;dbl&gt;</th><th scope=col>&lt;dbl&gt;</th></tr>\n",
       "</thead>\n",
       "<tbody>\n",
       "\t<tr><th scope=row>37</th><td>1996</td><td>-1.896908</td><td>-2.133408</td><td>-0.3900971</td><td>0.1808243</td><td>-0.1962229</td></tr>\n",
       "</tbody>\n",
       "</table>\n"
      ],
      "text/latex": [
       "A data.frame: 1 × 6\n",
       "\\begin{tabular}{r|llllll}\n",
       "  & year & ISG & TO & TI & P\\_GDP & EI\\\\\n",
       "  & <int> & <dbl> & <dbl> & <dbl> & <dbl> & <dbl>\\\\\n",
       "\\hline\n",
       "\t37 & 1996 & -1.896908 & -2.133408 & -0.3900971 & 0.1808243 & -0.1962229\\\\\n",
       "\\end{tabular}\n"
      ],
      "text/markdown": [
       "\n",
       "A data.frame: 1 × 6\n",
       "\n",
       "| <!--/--> | year &lt;int&gt; | ISG &lt;dbl&gt; | TO &lt;dbl&gt; | TI &lt;dbl&gt; | P_GDP &lt;dbl&gt; | EI &lt;dbl&gt; |\n",
       "|---|---|---|---|---|---|---|\n",
       "| 37 | 1996 | -1.896908 | -2.133408 | -0.3900971 | 0.1808243 | -0.1962229 |\n",
       "\n"
      ],
      "text/plain": [
       "   year ISG       TO        TI         P_GDP     EI        \n",
       "37 1996 -1.896908 -2.133408 -0.3900971 0.1808243 -0.1962229"
      ]
     },
     "metadata": {},
     "output_type": "display_data"
    }
   ],
   "source": [
    "data.logdiff['37',]"
   ]
  },
  {
   "cell_type": "code",
   "execution_count": null,
   "metadata": {
    "kernel": "R"
   },
   "outputs": [],
   "source": []
  }
 ],
 "metadata": {
  "kernelspec": {
   "display_name": "SoS",
   "language": "sos",
   "name": "sos"
  },
  "language_info": {
   "codemirror_mode": "sos",
   "file_extension": ".sos",
   "mimetype": "text/x-sos",
   "name": "sos",
   "nbconvert_exporter": "sos_notebook.converter.SoS_Exporter",
   "pygments_lexer": "sos"
  },
  "sos": {
   "kernels": [
    [
     "R",
     "ir",
     "R",
     "#DCDCDA",
     "r"
    ],
    [
     "em-2020",
     "em-2020",
     "Python3",
     "#FFD91A",
     {
      "name": "ipython",
      "version": 3
     }
    ]
   ],
   "version": "0.21.9"
  }
 },
 "nbformat": 4,
 "nbformat_minor": 4
}
