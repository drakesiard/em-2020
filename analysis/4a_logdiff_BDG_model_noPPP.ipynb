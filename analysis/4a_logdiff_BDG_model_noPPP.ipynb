{
 "cells": [
  {
   "cell_type": "markdown",
   "metadata": {
    "kernel": "SoS"
   },
   "source": [
    "# 4. Re-run the original model with log-differenced original data\n",
    "(not PPP-adjusted)"
   ]
  },
  {
   "cell_type": "code",
   "execution_count": 1,
   "metadata": {
    "kernel": "em-2020"
   },
   "outputs": [],
   "source": [
    "from IPython.display import display, HTML\n",
    "import matplotlib as mpl\n",
    "%matplotlib inline \n",
    "import matplotlib.pyplot as plt\n",
    "import numpy as np\n",
    "import scipy\n",
    "import os\n",
    "import pandas as pd\n",
    "import seaborn as sns\n",
    "sns.set(style='ticks', rc={'axes.grid':True,\n",
    "                           'xtick.labelsize': 'medium',\n",
    "                           'ytick.labelsize': 'medium',\n",
    "#                            'font.size': 15,\n",
    "                          })\n",
    "\n",
    "analysis_dir = os.getcwd()\n",
    "assert analysis_dir.endswith(os.path.join('em-2020','analysis'))\n",
    "plot_dir = os.path.realpath(os.path.join(analysis_dir, '..', 'tex', 'plots'))\n",
    "data_dir = os.path.realpath(os.path.join(analysis_dir, '..', 'data'))"
   ]
  },
  {
   "cell_type": "code",
   "execution_count": 2,
   "metadata": {
    "kernel": "R"
   },
   "outputs": [],
   "source": [
    "suppressMessages({\n",
    "library(lavaan)\n",
    "library(semPlot)\n",
    "library(semTools)\n",
    "library(MVN)\n",
    "library(Hmisc)\n",
    "library(data.table)\n",
    "library(dplyr)\n",
    "library(tseries)\n",
    "})"
   ]
  },
  {
   "cell_type": "code",
   "execution_count": 3,
   "metadata": {
    "kernel": "R"
   },
   "outputs": [
    {
     "data": {
      "text/html": [
       "<table>\n",
       "<caption>A data.frame: 26 × 6</caption>\n",
       "<thead>\n",
       "\t<tr><th></th><th scope=col>year</th><th scope=col>ISG</th><th scope=col>TO</th><th scope=col>TI</th><th scope=col>P_GDP</th><th scope=col>EI</th></tr>\n",
       "\t<tr><th></th><th scope=col>&lt;int&gt;</th><th scope=col>&lt;dbl&gt;</th><th scope=col>&lt;dbl&gt;</th><th scope=col>&lt;dbl&gt;</th><th scope=col>&lt;dbl&gt;</th><th scope=col>&lt;dbl&gt;</th></tr>\n",
       "</thead>\n",
       "<tbody>\n",
       "\t<tr><th scope=row>31</th><td>1990</td><td> 0.358918934</td><td> 0.64132799</td><td> 0.000000000</td><td> 0.069068355</td><td>-0.042025491</td></tr>\n",
       "\t<tr><th scope=row>32</th><td>1991</td><td> 0.973878700</td><td>-0.07667513</td><td> 0.045256592</td><td>-0.043742881</td><td> 0.006077837</td></tr>\n",
       "\t<tr><th scope=row>33</th><td>1992</td><td> 0.598385998</td><td> 1.04417862</td><td> 0.354016546</td><td> 0.001651597</td><td> 0.030042186</td></tr>\n",
       "\t<tr><th scope=row>34</th><td>1993</td><td> 1.216365518</td><td> 3.18757757</td><td>-0.408575531</td><td> 0.023261722</td><td> 0.009378746</td></tr>\n",
       "\t<tr><th scope=row>35</th><td>1994</td><td> 0.535736376</td><td>-0.25571852</td><td> 0.179201429</td><td>-0.003408544</td><td> 0.025496487</td></tr>\n",
       "\t<tr><th scope=row>36</th><td>1995</td><td> 0.110832024</td><td> 5.34363152</td><td> 0.568504735</td><td> 0.095121204</td><td>-0.032136731</td></tr>\n",
       "\t<tr><th scope=row>37</th><td>1996</td><td>-1.896907879</td><td>-2.13340835</td><td>-0.390097078</td><td> 0.180824324</td><td>-0.196222866</td></tr>\n",
       "\t<tr><th scope=row>38</th><td>1997</td><td> 0.178753522</td><td> 0.24942567</td><td> 0.075507553</td><td> 0.017034017</td><td> 0.005531040</td></tr>\n",
       "\t<tr><th scope=row>39</th><td>1998</td><td> 0.798072276</td><td> 1.55455001</td><td> 0.269332934</td><td> 0.014662869</td><td> 0.006160635</td></tr>\n",
       "\t<tr><th scope=row>40</th><td>1999</td><td>-0.284876834</td><td> 0.50787715</td><td> 0.142174489</td><td> 0.005175243</td><td>-0.012223069</td></tr>\n",
       "\t<tr><th scope=row>41</th><td>2000</td><td>-0.096482855</td><td> 0.93377380</td><td> 0.244598486</td><td> 0.020604030</td><td>-0.006000217</td></tr>\n",
       "\t<tr><th scope=row>42</th><td>2001</td><td> 0.304429192</td><td> 2.77630271</td><td>-0.075076026</td><td>-0.007284942</td><td> 0.078155873</td></tr>\n",
       "\t<tr><th scope=row>43</th><td>2002</td><td> 0.255442499</td><td>-3.13063635</td><td>-0.020548668</td><td>-0.004719577</td><td> 0.010126805</td></tr>\n",
       "\t<tr><th scope=row>44</th><td>2003</td><td>-0.365105587</td><td>-1.30949582</td><td> 0.095624695</td><td> 0.077373360</td><td>-0.042355071</td></tr>\n",
       "\t<tr><th scope=row>45</th><td>2004</td><td> 0.305571220</td><td>-0.79965075</td><td>-0.006309169</td><td> 0.062913928</td><td>-0.060726720</td></tr>\n",
       "\t<tr><th scope=row>46</th><td>2005</td><td> 0.520124213</td><td> 7.53870072</td><td> 0.084899444</td><td> 0.049602216</td><td>-0.026789565</td></tr>\n",
       "\t<tr><th scope=row>47</th><td>2006</td><td> 0.795476293</td><td> 3.71498957</td><td>-0.104069360</td><td> 0.020173475</td><td> 0.035349407</td></tr>\n",
       "\t<tr><th scope=row>48</th><td>2007</td><td> 0.405220496</td><td> 1.83045822</td><td>-0.036128724</td><td> 0.090747023</td><td>-0.059233802</td></tr>\n",
       "\t<tr><th scope=row>49</th><td>2008</td><td> 0.226460296</td><td> 2.67853138</td><td> 0.122602322</td><td> 0.129152718</td><td>-0.092208580</td></tr>\n",
       "\t<tr><th scope=row>50</th><td>2009</td><td> 0.568570878</td><td>-2.52811781</td><td>-0.023953241</td><td> 0.100705370</td><td>-0.061133856</td></tr>\n",
       "\t<tr><th scope=row>51</th><td>2010</td><td>-0.339095455</td><td>-2.28995355</td><td> 0.035718083</td><td> 0.106461808</td><td>-0.037966447</td></tr>\n",
       "\t<tr><th scope=row>52</th><td>2011</td><td> 0.088822874</td><td> 9.61800716</td><td>-0.111225635</td><td> 0.098203211</td><td>-0.072910660</td></tr>\n",
       "\t<tr><th scope=row>53</th><td>2012</td><td> 0.264659789</td><td> 0.69007291</td><td> 0.145711811</td><td> 0.024469103</td><td> 0.012163578</td></tr>\n",
       "\t<tr><th scope=row>54</th><td>2013</td><td> 0.997110775</td><td>-1.81452002</td><td>-0.155564108</td><td> 0.105984132</td><td>-0.096541088</td></tr>\n",
       "\t<tr><th scope=row>55</th><td>2014</td><td> 0.003976619</td><td>-1.78232253</td><td>-0.033560196</td><td> 0.130631686</td><td>-0.098766805</td></tr>\n",
       "\t<tr><th scope=row>56</th><td>2015</td><td> 0.520348050</td><td>-2.42808389</td><td> 0.148773009</td><td> 0.109600857</td><td>          NA</td></tr>\n",
       "</tbody>\n",
       "</table>\n"
      ],
      "text/latex": [
       "A data.frame: 26 × 6\n",
       "\\begin{tabular}{r|llllll}\n",
       "  & year & ISG & TO & TI & P\\_GDP & EI\\\\\n",
       "  & <int> & <dbl> & <dbl> & <dbl> & <dbl> & <dbl>\\\\\n",
       "\\hline\n",
       "\t31 & 1990 &  0.358918934 &  0.64132799 &  0.000000000 &  0.069068355 & -0.042025491\\\\\n",
       "\t32 & 1991 &  0.973878700 & -0.07667513 &  0.045256592 & -0.043742881 &  0.006077837\\\\\n",
       "\t33 & 1992 &  0.598385998 &  1.04417862 &  0.354016546 &  0.001651597 &  0.030042186\\\\\n",
       "\t34 & 1993 &  1.216365518 &  3.18757757 & -0.408575531 &  0.023261722 &  0.009378746\\\\\n",
       "\t35 & 1994 &  0.535736376 & -0.25571852 &  0.179201429 & -0.003408544 &  0.025496487\\\\\n",
       "\t36 & 1995 &  0.110832024 &  5.34363152 &  0.568504735 &  0.095121204 & -0.032136731\\\\\n",
       "\t37 & 1996 & -1.896907879 & -2.13340835 & -0.390097078 &  0.180824324 & -0.196222866\\\\\n",
       "\t38 & 1997 &  0.178753522 &  0.24942567 &  0.075507553 &  0.017034017 &  0.005531040\\\\\n",
       "\t39 & 1998 &  0.798072276 &  1.55455001 &  0.269332934 &  0.014662869 &  0.006160635\\\\\n",
       "\t40 & 1999 & -0.284876834 &  0.50787715 &  0.142174489 &  0.005175243 & -0.012223069\\\\\n",
       "\t41 & 2000 & -0.096482855 &  0.93377380 &  0.244598486 &  0.020604030 & -0.006000217\\\\\n",
       "\t42 & 2001 &  0.304429192 &  2.77630271 & -0.075076026 & -0.007284942 &  0.078155873\\\\\n",
       "\t43 & 2002 &  0.255442499 & -3.13063635 & -0.020548668 & -0.004719577 &  0.010126805\\\\\n",
       "\t44 & 2003 & -0.365105587 & -1.30949582 &  0.095624695 &  0.077373360 & -0.042355071\\\\\n",
       "\t45 & 2004 &  0.305571220 & -0.79965075 & -0.006309169 &  0.062913928 & -0.060726720\\\\\n",
       "\t46 & 2005 &  0.520124213 &  7.53870072 &  0.084899444 &  0.049602216 & -0.026789565\\\\\n",
       "\t47 & 2006 &  0.795476293 &  3.71498957 & -0.104069360 &  0.020173475 &  0.035349407\\\\\n",
       "\t48 & 2007 &  0.405220496 &  1.83045822 & -0.036128724 &  0.090747023 & -0.059233802\\\\\n",
       "\t49 & 2008 &  0.226460296 &  2.67853138 &  0.122602322 &  0.129152718 & -0.092208580\\\\\n",
       "\t50 & 2009 &  0.568570878 & -2.52811781 & -0.023953241 &  0.100705370 & -0.061133856\\\\\n",
       "\t51 & 2010 & -0.339095455 & -2.28995355 &  0.035718083 &  0.106461808 & -0.037966447\\\\\n",
       "\t52 & 2011 &  0.088822874 &  9.61800716 & -0.111225635 &  0.098203211 & -0.072910660\\\\\n",
       "\t53 & 2012 &  0.264659789 &  0.69007291 &  0.145711811 &  0.024469103 &  0.012163578\\\\\n",
       "\t54 & 2013 &  0.997110775 & -1.81452002 & -0.155564108 &  0.105984132 & -0.096541088\\\\\n",
       "\t55 & 2014 &  0.003976619 & -1.78232253 & -0.033560196 &  0.130631686 & -0.098766805\\\\\n",
       "\t56 & 2015 &  0.520348050 & -2.42808389 &  0.148773009 &  0.109600857 &           NA\\\\\n",
       "\\end{tabular}\n"
      ],
      "text/markdown": [
       "\n",
       "A data.frame: 26 × 6\n",
       "\n",
       "| <!--/--> | year &lt;int&gt; | ISG &lt;dbl&gt; | TO &lt;dbl&gt; | TI &lt;dbl&gt; | P_GDP &lt;dbl&gt; | EI &lt;dbl&gt; |\n",
       "|---|---|---|---|---|---|---|\n",
       "| 31 | 1990 |  0.358918934 |  0.64132799 |  0.000000000 |  0.069068355 | -0.042025491 |\n",
       "| 32 | 1991 |  0.973878700 | -0.07667513 |  0.045256592 | -0.043742881 |  0.006077837 |\n",
       "| 33 | 1992 |  0.598385998 |  1.04417862 |  0.354016546 |  0.001651597 |  0.030042186 |\n",
       "| 34 | 1993 |  1.216365518 |  3.18757757 | -0.408575531 |  0.023261722 |  0.009378746 |\n",
       "| 35 | 1994 |  0.535736376 | -0.25571852 |  0.179201429 | -0.003408544 |  0.025496487 |\n",
       "| 36 | 1995 |  0.110832024 |  5.34363152 |  0.568504735 |  0.095121204 | -0.032136731 |\n",
       "| 37 | 1996 | -1.896907879 | -2.13340835 | -0.390097078 |  0.180824324 | -0.196222866 |\n",
       "| 38 | 1997 |  0.178753522 |  0.24942567 |  0.075507553 |  0.017034017 |  0.005531040 |\n",
       "| 39 | 1998 |  0.798072276 |  1.55455001 |  0.269332934 |  0.014662869 |  0.006160635 |\n",
       "| 40 | 1999 | -0.284876834 |  0.50787715 |  0.142174489 |  0.005175243 | -0.012223069 |\n",
       "| 41 | 2000 | -0.096482855 |  0.93377380 |  0.244598486 |  0.020604030 | -0.006000217 |\n",
       "| 42 | 2001 |  0.304429192 |  2.77630271 | -0.075076026 | -0.007284942 |  0.078155873 |\n",
       "| 43 | 2002 |  0.255442499 | -3.13063635 | -0.020548668 | -0.004719577 |  0.010126805 |\n",
       "| 44 | 2003 | -0.365105587 | -1.30949582 |  0.095624695 |  0.077373360 | -0.042355071 |\n",
       "| 45 | 2004 |  0.305571220 | -0.79965075 | -0.006309169 |  0.062913928 | -0.060726720 |\n",
       "| 46 | 2005 |  0.520124213 |  7.53870072 |  0.084899444 |  0.049602216 | -0.026789565 |\n",
       "| 47 | 2006 |  0.795476293 |  3.71498957 | -0.104069360 |  0.020173475 |  0.035349407 |\n",
       "| 48 | 2007 |  0.405220496 |  1.83045822 | -0.036128724 |  0.090747023 | -0.059233802 |\n",
       "| 49 | 2008 |  0.226460296 |  2.67853138 |  0.122602322 |  0.129152718 | -0.092208580 |\n",
       "| 50 | 2009 |  0.568570878 | -2.52811781 | -0.023953241 |  0.100705370 | -0.061133856 |\n",
       "| 51 | 2010 | -0.339095455 | -2.28995355 |  0.035718083 |  0.106461808 | -0.037966447 |\n",
       "| 52 | 2011 |  0.088822874 |  9.61800716 | -0.111225635 |  0.098203211 | -0.072910660 |\n",
       "| 53 | 2012 |  0.264659789 |  0.69007291 |  0.145711811 |  0.024469103 |  0.012163578 |\n",
       "| 54 | 2013 |  0.997110775 | -1.81452002 | -0.155564108 |  0.105984132 | -0.096541088 |\n",
       "| 55 | 2014 |  0.003976619 | -1.78232253 | -0.033560196 |  0.130631686 | -0.098766805 |\n",
       "| 56 | 2015 |  0.520348050 | -2.42808389 |  0.148773009 |  0.109600857 |           NA |\n",
       "\n"
      ],
      "text/plain": [
       "   year ISG          TO          TI           P_GDP        EI          \n",
       "31 1990  0.358918934  0.64132799  0.000000000  0.069068355 -0.042025491\n",
       "32 1991  0.973878700 -0.07667513  0.045256592 -0.043742881  0.006077837\n",
       "33 1992  0.598385998  1.04417862  0.354016546  0.001651597  0.030042186\n",
       "34 1993  1.216365518  3.18757757 -0.408575531  0.023261722  0.009378746\n",
       "35 1994  0.535736376 -0.25571852  0.179201429 -0.003408544  0.025496487\n",
       "36 1995  0.110832024  5.34363152  0.568504735  0.095121204 -0.032136731\n",
       "37 1996 -1.896907879 -2.13340835 -0.390097078  0.180824324 -0.196222866\n",
       "38 1997  0.178753522  0.24942567  0.075507553  0.017034017  0.005531040\n",
       "39 1998  0.798072276  1.55455001  0.269332934  0.014662869  0.006160635\n",
       "40 1999 -0.284876834  0.50787715  0.142174489  0.005175243 -0.012223069\n",
       "41 2000 -0.096482855  0.93377380  0.244598486  0.020604030 -0.006000217\n",
       "42 2001  0.304429192  2.77630271 -0.075076026 -0.007284942  0.078155873\n",
       "43 2002  0.255442499 -3.13063635 -0.020548668 -0.004719577  0.010126805\n",
       "44 2003 -0.365105587 -1.30949582  0.095624695  0.077373360 -0.042355071\n",
       "45 2004  0.305571220 -0.79965075 -0.006309169  0.062913928 -0.060726720\n",
       "46 2005  0.520124213  7.53870072  0.084899444  0.049602216 -0.026789565\n",
       "47 2006  0.795476293  3.71498957 -0.104069360  0.020173475  0.035349407\n",
       "48 2007  0.405220496  1.83045822 -0.036128724  0.090747023 -0.059233802\n",
       "49 2008  0.226460296  2.67853138  0.122602322  0.129152718 -0.092208580\n",
       "50 2009  0.568570878 -2.52811781 -0.023953241  0.100705370 -0.061133856\n",
       "51 2010 -0.339095455 -2.28995355  0.035718083  0.106461808 -0.037966447\n",
       "52 2011  0.088822874  9.61800716 -0.111225635  0.098203211 -0.072910660\n",
       "53 2012  0.264659789  0.69007291  0.145711811  0.024469103  0.012163578\n",
       "54 2013  0.997110775 -1.81452002 -0.155564108  0.105984132 -0.096541088\n",
       "55 2014  0.003976619 -1.78232253 -0.033560196  0.130631686 -0.098766805\n",
       "56 2015  0.520348050 -2.42808389  0.148773009  0.109600857           NA"
      ]
     },
     "metadata": {},
     "output_type": "display_data"
    }
   ],
   "source": [
    "%get data_dir --from em-2020\n",
    "cols <- c('year', 'ISG', 'TO', 'TI', 'P_GDP', 'EI')\n",
    "data.raw <- read.csv(file.path(data_dir, 'WB_BGD_current.csv'))[cols]\n",
    "\n",
    "log_cols <- c('EI', 'P_GDP', 'TI')\n",
    "data.log <- copy(data.raw)\n",
    "data.log[log_cols] <- log(data.raw[log_cols])\n",
    "data.logdiff <- cbind(data.raw[-1,'year', drop=FALSE], diff(as.matrix(subset(data.log, select=-year))))\n",
    "\n",
    "data <- subset(data.raw, year >= 1990 & year <= 2015)\n",
    "data.log <- subset(data.log, year >= 1990 & year <= 2015)\n",
    "data.logdiff <- subset(data.logdiff, year >= 1990 & year <= 2015)\n",
    "\n",
    "data.logdiff"
   ]
  },
  {
   "cell_type": "code",
   "execution_count": 4,
   "metadata": {
    "kernel": "R"
   },
   "outputs": [
    {
     "data": {
      "text/plain": [
       "\n",
       "Call:\n",
       "lm(formula = \"TI ~ ISG\", data = data.logdiff)\n",
       "\n",
       "Residuals:\n",
       "     Min       1Q   Median       3Q      Max \n",
       "-0.48927 -0.08397 -0.00542  0.10014  0.53059 \n",
       "\n",
       "Coefficients:\n",
       "            Estimate Std. Error t value Pr(>|t|)\n",
       "(Intercept)  0.03362    0.04472   0.752    0.459\n",
       "ISG          0.03869    0.06921   0.559    0.581\n",
       "\n",
       "Residual standard error: 0.207 on 24 degrees of freedom\n",
       "Multiple R-squared:  0.01286,\tAdjusted R-squared:  -0.02828 \n",
       "F-statistic: 0.3126 on 1 and 24 DF,  p-value: 0.5813\n"
      ]
     },
     "metadata": {},
     "output_type": "display_data"
    }
   ],
   "source": [
    "summary(lm('TI ~ ISG', data=data.logdiff))"
   ]
  },
  {
   "cell_type": "code",
   "execution_count": 5,
   "metadata": {
    "kernel": "R"
   },
   "outputs": [
    {
     "data": {
      "text/plain": [
       "\n",
       "Call:\n",
       "lm(formula = \"P_GDP ~ TO\", data = data.logdiff)\n",
       "\n",
       "Residuals:\n",
       "     Min       1Q   Median       3Q      Max \n",
       "-0.10237 -0.04092  0.00433  0.04387  0.11820 \n",
       "\n",
       "Coefficients:\n",
       "             Estimate Std. Error t value Pr(>|t|)    \n",
       "(Intercept)  0.058479   0.011458   5.104  3.2e-05 ***\n",
       "TO          -0.001944   0.003579  -0.543    0.592    \n",
       "---\n",
       "Signif. codes:  0 ‘***’ 0.001 ‘**’ 0.01 ‘*’ 0.05 ‘.’ 0.1 ‘ ’ 1\n",
       "\n",
       "Residual standard error: 0.056 on 24 degrees of freedom\n",
       "Multiple R-squared:  0.01215,\tAdjusted R-squared:  -0.02901 \n",
       "F-statistic: 0.2951 on 1 and 24 DF,  p-value: 0.592\n"
      ]
     },
     "metadata": {},
     "output_type": "display_data"
    }
   ],
   "source": [
    "summary(lm('P_GDP ~ TO', data=data.logdiff))"
   ]
  },
  {
   "cell_type": "code",
   "execution_count": 6,
   "metadata": {
    "kernel": "R"
   },
   "outputs": [
    {
     "data": {
      "text/plain": [
       "\n",
       "Call:\n",
       "lm(formula = \"EI ~ ISG + TO + TI + P_GDP\", data = data.logdiff)\n",
       "\n",
       "Residuals:\n",
       "      Min        1Q    Median        3Q       Max \n",
       "-0.052516 -0.015500 -0.000254  0.010950  0.055404 \n",
       "\n",
       "Coefficients:\n",
       "             Estimate Std. Error t value Pr(>|t|)    \n",
       "(Intercept)  0.011467   0.009453   1.213    0.239    \n",
       "ISG          0.009589   0.010096   0.950    0.354    \n",
       "TO           0.001630   0.001683   0.968    0.345    \n",
       "TI           0.029927   0.025626   1.168    0.257    \n",
       "P_GDP       -0.835760   0.112324  -7.441 3.51e-07 ***\n",
       "---\n",
       "Signif. codes:  0 ‘***’ 0.001 ‘**’ 0.01 ‘*’ 0.05 ‘.’ 0.1 ‘ ’ 1\n",
       "\n",
       "Residual standard error: 0.02471 on 20 degrees of freedom\n",
       "  (1 observation deleted due to missingness)\n",
       "Multiple R-squared:  0.8433,\tAdjusted R-squared:  0.812 \n",
       "F-statistic: 26.91 on 4 and 20 DF,  p-value: 8.424e-08\n"
      ]
     },
     "metadata": {},
     "output_type": "display_data"
    }
   ],
   "source": [
    "summary(lm('EI ~ ISG + TO + TI + P_GDP', data=data.logdiff))"
   ]
  },
  {
   "cell_type": "code",
   "execution_count": 7,
   "metadata": {
    "kernel": "R"
   },
   "outputs": [
    {
     "name": "stdout",
     "output_type": "stream",
     "text": [
      "lavaan 0.6-5 ended normally after 69 iterations\n",
      "\n",
      "  Estimator                                         ML\n",
      "  Optimization method                           NLMINB\n",
      "  Number of free parameters                         12\n",
      "                                                      \n",
      "  Number of observations                            26\n",
      "  Number of missing patterns                         2\n",
      "                                                      \n",
      "Model Test User Model:\n",
      "                                              Standard      Robust\n",
      "  Test Statistic                                 8.864      13.153\n",
      "  Degrees of freedom                                 3           3\n",
      "  P-value (Chi-square)                           0.031       0.004\n",
      "  Scaling correction factor                                  0.674\n",
      "    for the Yuan-Bentler correction (Mplus variant) \n",
      "\n",
      "Model Test Baseline Model:\n",
      "\n",
      "  Test statistic                                55.853      54.343\n",
      "  Degrees of freedom                                 9           9\n",
      "  P-value                                        0.000       0.000\n",
      "  Scaling correction factor                                  1.028\n",
      "\n",
      "User Model versus Baseline Model:\n",
      "\n",
      "  Comparative Fit Index (CFI)                    0.875       0.776\n",
      "  Tucker-Lewis Index (TLI)                       0.625       0.328\n",
      "                                                                  \n",
      "  Robust Comparative Fit Index (CFI)                         0.853\n",
      "  Robust Tucker-Lewis Index (TLI)                            0.560\n",
      "\n",
      "Loglikelihood and Information Criteria:\n",
      "\n",
      "  Loglikelihood user model (H0)                104.013     104.013\n",
      "  Scaling correction factor                                  1.168\n",
      "      for the MLR correction                                      \n",
      "  Loglikelihood unrestricted model (H1)        108.445     108.445\n",
      "  Scaling correction factor                                  1.069\n",
      "      for the MLR correction                                      \n",
      "                                                                  \n",
      "  Akaike (AIC)                                -184.026    -184.026\n",
      "  Bayesian (BIC)                              -168.929    -168.929\n",
      "  Sample-size adjusted Bayesian (BIC)         -206.176    -206.176\n",
      "\n",
      "Root Mean Square Error of Approximation:\n",
      "\n",
      "  RMSEA                                          0.274       0.361\n",
      "  90 Percent confidence interval - lower         0.073       0.143\n",
      "  90 Percent confidence interval - upper         0.492       0.618\n",
      "  P-value RMSEA <= 0.05                          0.040       0.016\n",
      "                                                                  \n",
      "  Robust RMSEA                                               0.296\n",
      "  90 Percent confidence interval - lower                     0.145\n",
      "  90 Percent confidence interval - upper                     0.468\n",
      "\n",
      "Standardized Root Mean Square Residual:\n",
      "\n",
      "  SRMR                                           0.161       0.161\n",
      "\n",
      "Parameter Estimates:\n",
      "\n",
      "  Information                                      Observed\n",
      "  Observed information based on                     Hessian\n",
      "  Standard errors                        Robust.huber.white\n",
      "\n",
      "Regressions:\n",
      "                   Estimate  Std.Err  z-value  P(>|z|)   Std.lv  Std.all\n",
      "  EI ~                                                                  \n",
      "    ISG     (p__s)    0.010    0.009    1.085    0.278    0.010    0.108\n",
      "    TO   (p_ei_to)    0.002    0.001    1.197    0.231    0.002    0.096\n",
      "    TI   (p_ei_ti)    0.030    0.019    1.545    0.122    0.030    0.115\n",
      "    P_GD    (p__p)   -0.836    0.120   -6.949    0.000   -0.836   -0.869\n",
      "  TI ~                                                                  \n",
      "    ISG     (p_t_)    0.039    0.104    0.371    0.711    0.039    0.113\n",
      "  P_GDP ~                                                               \n",
      "    TO      (p_p_)   -0.002    0.003   -0.576    0.565   -0.002   -0.110\n",
      "\n",
      "Intercepts:\n",
      "                   Estimate  Std.Err  z-value  P(>|z|)   Std.lv  Std.all\n",
      "   .EI                0.011    0.011    1.055    0.292    0.011    0.220\n",
      "   .TI                0.034    0.048    0.696    0.486    0.034    0.168\n",
      "   .P_GDP             0.058    0.012    5.018    0.000    0.058    1.080\n",
      "\n",
      "Variances:\n",
      "                   Estimate  Std.Err  z-value  P(>|z|)   Std.lv  Std.all\n",
      "   .EI                0.000    0.000    2.933    0.003    0.000    0.180\n",
      "   .TI                0.040    0.014    2.879    0.004    0.040    0.987\n",
      "   .P_GDP             0.003    0.001    4.733    0.000    0.003    0.988\n",
      "\n",
      "Defined Parameters:\n",
      "                   Estimate  Std.Err  z-value  P(>|z|)   Std.lv  Std.all\n",
      "    p_ei_ti_isg       0.001    0.004    0.326    0.744    0.001    0.013\n",
      "    p_ei_pgdp_to      0.002    0.003    0.567    0.571    0.002    0.096\n",
      "    p_ei_isg_total    0.011    0.011    0.979    0.328    0.011    0.121\n",
      "    p_ei_to_total     0.003    0.004    0.925    0.355    0.003    0.192\n",
      "\n"
     ]
    }
   ],
   "source": [
    "model.path <- '\n",
    "## path model\n",
    "EI ~ p_ei_isg*ISG + p_ei_to*TO + p_ei_ti*TI + p_ei_pgdp*P_GDP\n",
    "TI ~ p_ti_isg*ISG\n",
    "P_GDP ~ p_pgdp_to*TO\n",
    "## indirect effect\n",
    "p_ei_ti_isg := p_ei_ti*p_ti_isg\n",
    "p_ei_pgdp_to := p_ei_pgdp*p_pgdp_to\n",
    "## total effect\n",
    "p_ei_isg_total := p_ei_isg + (p_ei_ti*p_ti_isg)\n",
    "p_ei_to_total := p_ei_to + (p_ei_pgdp*p_pgdp_to)\n",
    "'\n",
    "\n",
    "capture <- function(expr, file) {\n",
    "    writeLines(c('\\\\begin{verbatim}', \n",
    "                 capture.output(expr),\n",
    "                 '\\\\end{verbatim}'), con=file)\n",
    "}\n",
    "model.path.fit <- sem(model.path, data=data.logdiff, estimator='MLR', missing='ML', meanstructure=TRUE, em.fx.tol=1e-6)\n",
    "# capture(summary(model.path.fit, standardized=TRUE, header=TRUE,  fit.measures=TRUE, estimates=FALSE),\n",
    "#         '../tex/plots/model.logdiff.fit.summary.tex')\n",
    "# capture(summary(model.path.fit, standardized=TRUE, header=FALSE, estimates=TRUE),\n",
    "#         '../tex/plots/model.logdiff.fit.estimates.tex')\n",
    "summary(model.path.fit, standardized=TRUE, fit.measures=TRUE)"
   ]
  },
  {
   "cell_type": "code",
   "execution_count": 8,
   "metadata": {
    "kernel": "R"
   },
   "outputs": [],
   "source": [
    "soln.std <- as.data.frame(standardizedSolution(model.path.fit, se=TRUE, type='std.all', remove.def=FALSE))\n",
    "fit.measures <- as.data.frame(fitMeasures(model.path.fit))\n",
    "r.square <- lavInspect(model.path.fit, 'rsquare')\n",
    "n.x <- 3"
   ]
  },
  {
   "cell_type": "code",
   "execution_count": 9,
   "metadata": {
    "kernel": "em-2020"
   },
   "outputs": [
    {
     "name": "stderr",
     "output_type": "stream",
     "text": [
      "Variable soln.std is put to SoS as soln_std\n",
      "Variable r.square is put to SoS as r_square\n",
      "Variable fit.measures is put to SoS as fit_measures\n"
     ]
    },
    {
     "data": {
      "text/html": [
       "<div>\n",
       "<style scoped>\n",
       "    .dataframe tbody tr th:only-of-type {\n",
       "        vertical-align: middle;\n",
       "    }\n",
       "\n",
       "    .dataframe tbody tr th {\n",
       "        vertical-align: top;\n",
       "    }\n",
       "\n",
       "    .dataframe thead th {\n",
       "        text-align: right;\n",
       "    }\n",
       "</style>\n",
       "<table border=\"1\" class=\"dataframe\">\n",
       "  <thead>\n",
       "    <tr style=\"text-align: right;\">\n",
       "      <th></th>\n",
       "      <th>lhs</th>\n",
       "      <th>op</th>\n",
       "      <th>rhs</th>\n",
       "      <th>est.std</th>\n",
       "      <th>se</th>\n",
       "      <th>z</th>\n",
       "      <th>pvalue</th>\n",
       "      <th>ci.lower</th>\n",
       "      <th>ci.upper</th>\n",
       "    </tr>\n",
       "  </thead>\n",
       "  <tbody>\n",
       "    <tr>\n",
       "      <th>0</th>\n",
       "      <td>EI</td>\n",
       "      <td>~</td>\n",
       "      <td>ISG</td>\n",
       "      <td>0.108</td>\n",
       "      <td>0.102</td>\n",
       "      <td>1.063</td>\n",
       "      <td>0.288</td>\n",
       "      <td>-0.091</td>\n",
       "      <td>0.307</td>\n",
       "    </tr>\n",
       "    <tr>\n",
       "      <th>1</th>\n",
       "      <td>EI</td>\n",
       "      <td>~</td>\n",
       "      <td>TO</td>\n",
       "      <td>0.096</td>\n",
       "      <td>0.074</td>\n",
       "      <td>1.302</td>\n",
       "      <td>0.193</td>\n",
       "      <td>-0.049</td>\n",
       "      <td>0.241</td>\n",
       "    </tr>\n",
       "    <tr>\n",
       "      <th>2</th>\n",
       "      <td>EI</td>\n",
       "      <td>~</td>\n",
       "      <td>TI</td>\n",
       "      <td>0.115</td>\n",
       "      <td>0.085</td>\n",
       "      <td>1.351</td>\n",
       "      <td>0.177</td>\n",
       "      <td>-0.052</td>\n",
       "      <td>0.282</td>\n",
       "    </tr>\n",
       "    <tr>\n",
       "      <th>3</th>\n",
       "      <td>EI</td>\n",
       "      <td>~</td>\n",
       "      <td>P_GDP</td>\n",
       "      <td>-0.869</td>\n",
       "      <td>0.040</td>\n",
       "      <td>-21.968</td>\n",
       "      <td>0.000</td>\n",
       "      <td>-0.946</td>\n",
       "      <td>-0.791</td>\n",
       "    </tr>\n",
       "    <tr>\n",
       "      <th>4</th>\n",
       "      <td>TI</td>\n",
       "      <td>~</td>\n",
       "      <td>ISG</td>\n",
       "      <td>0.113</td>\n",
       "      <td>0.305</td>\n",
       "      <td>0.372</td>\n",
       "      <td>0.710</td>\n",
       "      <td>-0.484</td>\n",
       "      <td>0.711</td>\n",
       "    </tr>\n",
       "    <tr>\n",
       "      <th>5</th>\n",
       "      <td>P_GDP</td>\n",
       "      <td>~</td>\n",
       "      <td>TO</td>\n",
       "      <td>-0.110</td>\n",
       "      <td>0.188</td>\n",
       "      <td>-0.587</td>\n",
       "      <td>0.558</td>\n",
       "      <td>-0.478</td>\n",
       "      <td>0.258</td>\n",
       "    </tr>\n",
       "    <tr>\n",
       "      <th>6</th>\n",
       "      <td>EI</td>\n",
       "      <td>~~</td>\n",
       "      <td>EI</td>\n",
       "      <td>0.180</td>\n",
       "      <td>0.063</td>\n",
       "      <td>2.876</td>\n",
       "      <td>0.004</td>\n",
       "      <td>0.057</td>\n",
       "      <td>0.303</td>\n",
       "    </tr>\n",
       "    <tr>\n",
       "      <th>7</th>\n",
       "      <td>TI</td>\n",
       "      <td>~~</td>\n",
       "      <td>TI</td>\n",
       "      <td>0.987</td>\n",
       "      <td>0.069</td>\n",
       "      <td>14.278</td>\n",
       "      <td>0.000</td>\n",
       "      <td>0.852</td>\n",
       "      <td>1.123</td>\n",
       "    </tr>\n",
       "    <tr>\n",
       "      <th>8</th>\n",
       "      <td>P_GDP</td>\n",
       "      <td>~~</td>\n",
       "      <td>P_GDP</td>\n",
       "      <td>0.988</td>\n",
       "      <td>0.041</td>\n",
       "      <td>23.851</td>\n",
       "      <td>0.000</td>\n",
       "      <td>0.907</td>\n",
       "      <td>1.069</td>\n",
       "    </tr>\n",
       "    <tr>\n",
       "      <th>9</th>\n",
       "      <td>ISG</td>\n",
       "      <td>~~</td>\n",
       "      <td>ISG</td>\n",
       "      <td>1.000</td>\n",
       "      <td>0.000</td>\n",
       "      <td>NaN</td>\n",
       "      <td>NaN</td>\n",
       "      <td>1.000</td>\n",
       "      <td>1.000</td>\n",
       "    </tr>\n",
       "    <tr>\n",
       "      <th>10</th>\n",
       "      <td>ISG</td>\n",
       "      <td>~~</td>\n",
       "      <td>TO</td>\n",
       "      <td>0.205</td>\n",
       "      <td>0.000</td>\n",
       "      <td>NaN</td>\n",
       "      <td>NaN</td>\n",
       "      <td>0.205</td>\n",
       "      <td>0.205</td>\n",
       "    </tr>\n",
       "    <tr>\n",
       "      <th>11</th>\n",
       "      <td>TO</td>\n",
       "      <td>~~</td>\n",
       "      <td>TO</td>\n",
       "      <td>1.000</td>\n",
       "      <td>0.000</td>\n",
       "      <td>NaN</td>\n",
       "      <td>NaN</td>\n",
       "      <td>1.000</td>\n",
       "      <td>1.000</td>\n",
       "    </tr>\n",
       "    <tr>\n",
       "      <th>12</th>\n",
       "      <td>EI</td>\n",
       "      <td>~1</td>\n",
       "      <td></td>\n",
       "      <td>0.220</td>\n",
       "      <td>0.198</td>\n",
       "      <td>1.115</td>\n",
       "      <td>0.265</td>\n",
       "      <td>-0.167</td>\n",
       "      <td>0.607</td>\n",
       "    </tr>\n",
       "    <tr>\n",
       "      <th>13</th>\n",
       "      <td>TI</td>\n",
       "      <td>~1</td>\n",
       "      <td></td>\n",
       "      <td>0.168</td>\n",
       "      <td>0.243</td>\n",
       "      <td>0.691</td>\n",
       "      <td>0.490</td>\n",
       "      <td>-0.308</td>\n",
       "      <td>0.644</td>\n",
       "    </tr>\n",
       "    <tr>\n",
       "      <th>14</th>\n",
       "      <td>P_GDP</td>\n",
       "      <td>~1</td>\n",
       "      <td></td>\n",
       "      <td>1.080</td>\n",
       "      <td>0.218</td>\n",
       "      <td>4.957</td>\n",
       "      <td>0.000</td>\n",
       "      <td>0.653</td>\n",
       "      <td>1.508</td>\n",
       "    </tr>\n",
       "    <tr>\n",
       "      <th>15</th>\n",
       "      <td>ISG</td>\n",
       "      <td>~1</td>\n",
       "      <td></td>\n",
       "      <td>0.462</td>\n",
       "      <td>0.000</td>\n",
       "      <td>NaN</td>\n",
       "      <td>NaN</td>\n",
       "      <td>0.462</td>\n",
       "      <td>0.462</td>\n",
       "    </tr>\n",
       "    <tr>\n",
       "      <th>16</th>\n",
       "      <td>TO</td>\n",
       "      <td>~1</td>\n",
       "      <td></td>\n",
       "      <td>0.298</td>\n",
       "      <td>0.000</td>\n",
       "      <td>NaN</td>\n",
       "      <td>NaN</td>\n",
       "      <td>0.298</td>\n",
       "      <td>0.298</td>\n",
       "    </tr>\n",
       "    <tr>\n",
       "      <th>17</th>\n",
       "      <td>p_ei_ti_isg</td>\n",
       "      <td>:=</td>\n",
       "      <td>p_ei_ti*p_ti_isg</td>\n",
       "      <td>0.013</td>\n",
       "      <td>0.039</td>\n",
       "      <td>0.333</td>\n",
       "      <td>0.740</td>\n",
       "      <td>-0.064</td>\n",
       "      <td>0.090</td>\n",
       "    </tr>\n",
       "    <tr>\n",
       "      <th>18</th>\n",
       "      <td>p_ei_pgdp_to</td>\n",
       "      <td>:=</td>\n",
       "      <td>p_ei_pgdp*p_pgdp_to</td>\n",
       "      <td>0.096</td>\n",
       "      <td>0.162</td>\n",
       "      <td>0.593</td>\n",
       "      <td>0.553</td>\n",
       "      <td>-0.221</td>\n",
       "      <td>0.412</td>\n",
       "    </tr>\n",
       "    <tr>\n",
       "      <th>19</th>\n",
       "      <td>p_ei_isg_total</td>\n",
       "      <td>:=</td>\n",
       "      <td>p_ei_isg+(p_ei_ti*p_ti_isg)</td>\n",
       "      <td>0.121</td>\n",
       "      <td>0.123</td>\n",
       "      <td>0.981</td>\n",
       "      <td>0.327</td>\n",
       "      <td>-0.121</td>\n",
       "      <td>0.363</td>\n",
       "    </tr>\n",
       "    <tr>\n",
       "      <th>20</th>\n",
       "      <td>p_ei_to_total</td>\n",
       "      <td>:=</td>\n",
       "      <td>p_ei_to+(p_ei_pgdp*p_pgdp_to)</td>\n",
       "      <td>0.192</td>\n",
       "      <td>0.190</td>\n",
       "      <td>1.010</td>\n",
       "      <td>0.312</td>\n",
       "      <td>-0.180</td>\n",
       "      <td>0.564</td>\n",
       "    </tr>\n",
       "  </tbody>\n",
       "</table>\n",
       "</div>"
      ],
      "text/plain": [
       "               lhs  op                            rhs  est.std     se       z  \\\n",
       "0               EI   ~                            ISG    0.108  0.102   1.063   \n",
       "1               EI   ~                             TO    0.096  0.074   1.302   \n",
       "2               EI   ~                             TI    0.115  0.085   1.351   \n",
       "3               EI   ~                          P_GDP   -0.869  0.040 -21.968   \n",
       "4               TI   ~                            ISG    0.113  0.305   0.372   \n",
       "5            P_GDP   ~                             TO   -0.110  0.188  -0.587   \n",
       "6               EI  ~~                             EI    0.180  0.063   2.876   \n",
       "7               TI  ~~                             TI    0.987  0.069  14.278   \n",
       "8            P_GDP  ~~                          P_GDP    0.988  0.041  23.851   \n",
       "9              ISG  ~~                            ISG    1.000  0.000     NaN   \n",
       "10             ISG  ~~                             TO    0.205  0.000     NaN   \n",
       "11              TO  ~~                             TO    1.000  0.000     NaN   \n",
       "12              EI  ~1                                   0.220  0.198   1.115   \n",
       "13              TI  ~1                                   0.168  0.243   0.691   \n",
       "14           P_GDP  ~1                                   1.080  0.218   4.957   \n",
       "15             ISG  ~1                                   0.462  0.000     NaN   \n",
       "16              TO  ~1                                   0.298  0.000     NaN   \n",
       "17     p_ei_ti_isg  :=               p_ei_ti*p_ti_isg    0.013  0.039   0.333   \n",
       "18    p_ei_pgdp_to  :=            p_ei_pgdp*p_pgdp_to    0.096  0.162   0.593   \n",
       "19  p_ei_isg_total  :=    p_ei_isg+(p_ei_ti*p_ti_isg)    0.121  0.123   0.981   \n",
       "20   p_ei_to_total  :=  p_ei_to+(p_ei_pgdp*p_pgdp_to)    0.192  0.190   1.010   \n",
       "\n",
       "    pvalue  ci.lower  ci.upper  \n",
       "0    0.288    -0.091     0.307  \n",
       "1    0.193    -0.049     0.241  \n",
       "2    0.177    -0.052     0.282  \n",
       "3    0.000    -0.946    -0.791  \n",
       "4    0.710    -0.484     0.711  \n",
       "5    0.558    -0.478     0.258  \n",
       "6    0.004     0.057     0.303  \n",
       "7    0.000     0.852     1.123  \n",
       "8    0.000     0.907     1.069  \n",
       "9      NaN     1.000     1.000  \n",
       "10     NaN     0.205     0.205  \n",
       "11     NaN     1.000     1.000  \n",
       "12   0.265    -0.167     0.607  \n",
       "13   0.490    -0.308     0.644  \n",
       "14   0.000     0.653     1.508  \n",
       "15     NaN     0.462     0.462  \n",
       "16     NaN     0.298     0.298  \n",
       "17   0.740    -0.064     0.090  \n",
       "18   0.553    -0.221     0.412  \n",
       "19   0.327    -0.121     0.363  \n",
       "20   0.312    -0.180     0.564  "
      ]
     },
     "metadata": {},
     "output_type": "display_data"
    },
    {
     "data": {
      "text/plain": [
       "EI       0.819747\n",
       "TI       0.012856\n",
       "P_GDP    0.012146\n",
       "dtype: float64"
      ]
     },
     "metadata": {},
     "output_type": "display_data"
    }
   ],
   "source": [
    "%get soln.std --from R\n",
    "%get r.square --from R\n",
    "%get fit.measures --from R\n",
    "display(np.round(soln_std, 3))\n",
    "display(r_square)"
   ]
  },
  {
   "cell_type": "code",
   "execution_count": 10,
   "metadata": {
    "kernel": "em-2020"
   },
   "outputs": [
    {
     "name": "stderr",
     "output_type": "stream",
     "text": [
      "/home/drake/.virtualenvs/em-2020/lib/python3.7/site-packages/pandas/core/indexing.py:671: SettingWithCopyWarning: \n",
      "A value is trying to be set on a copy of a slice from a DataFrame\n",
      "\n",
      "See the caveats in the documentation: https://pandas.pydata.org/pandas-docs/stable/user_guide/indexing.html#returning-a-view-versus-a-copy\n",
      "  self._setitem_with_indexer(indexer, value)\n"
     ]
    },
    {
     "data": {
      "text/html": [
       "<div>\n",
       "<style scoped>\n",
       "    .dataframe tbody tr th:only-of-type {\n",
       "        vertical-align: middle;\n",
       "    }\n",
       "\n",
       "    .dataframe tbody tr th {\n",
       "        vertical-align: top;\n",
       "    }\n",
       "\n",
       "    .dataframe thead th {\n",
       "        text-align: right;\n",
       "    }\n",
       "</style>\n",
       "<table border=\"1\" class=\"dataframe\">\n",
       "  <thead>\n",
       "    <tr style=\"text-align: right;\">\n",
       "      <th></th>\n",
       "      <th>Equation</th>\n",
       "      <th>Dep. var.</th>\n",
       "      <th>Ind. var.</th>\n",
       "      <th>Coefficient</th>\n",
       "      <th>Est. (std.)</th>\n",
       "      <th>S.E. (std.)</th>\n",
       "      <th>p-value</th>\n",
       "      <th>$R^{2}$</th>\n",
       "    </tr>\n",
       "  </thead>\n",
       "  <tbody>\n",
       "    <tr>\n",
       "      <th>TI ~ ISG</th>\n",
       "      <td>1</td>\n",
       "      <td>TI</td>\n",
       "      <td>ISG</td>\n",
       "      <td>$P_{TI,ISG}$</td>\n",
       "      <td>0.113</td>\n",
       "      <td>0.305</td>\n",
       "      <td>0.710</td>\n",
       "      <td>0.013</td>\n",
       "    </tr>\n",
       "    <tr>\n",
       "      <th>P_GDP ~ TO</th>\n",
       "      <td>2</td>\n",
       "      <td>P\\_GDP</td>\n",
       "      <td>TO</td>\n",
       "      <td>$P_{P\\_GDP,TO}$</td>\n",
       "      <td>-0.110</td>\n",
       "      <td>0.188</td>\n",
       "      <td>0.558</td>\n",
       "      <td>0.012</td>\n",
       "    </tr>\n",
       "    <tr>\n",
       "      <th>EI ~ ISG</th>\n",
       "      <td>3</td>\n",
       "      <td>EI</td>\n",
       "      <td>ISG</td>\n",
       "      <td>$P_{EI,ISG}$</td>\n",
       "      <td>0.108</td>\n",
       "      <td>0.102</td>\n",
       "      <td>0.288</td>\n",
       "      <td>0.820</td>\n",
       "    </tr>\n",
       "    <tr>\n",
       "      <th>EI ~ TO</th>\n",
       "      <td></td>\n",
       "      <td>EI</td>\n",
       "      <td>TO</td>\n",
       "      <td>$P_{EI,TO}$</td>\n",
       "      <td>0.096</td>\n",
       "      <td>0.074</td>\n",
       "      <td>0.193</td>\n",
       "      <td></td>\n",
       "    </tr>\n",
       "    <tr>\n",
       "      <th>EI ~ TI</th>\n",
       "      <td></td>\n",
       "      <td>EI</td>\n",
       "      <td>TI</td>\n",
       "      <td>$P_{EI,TI}$</td>\n",
       "      <td>0.115</td>\n",
       "      <td>0.085</td>\n",
       "      <td>0.177</td>\n",
       "      <td></td>\n",
       "    </tr>\n",
       "    <tr>\n",
       "      <th>EI ~ P_GDP</th>\n",
       "      <td></td>\n",
       "      <td>EI</td>\n",
       "      <td>P\\_GDP</td>\n",
       "      <td>$P_{EI,P\\_GDP}$</td>\n",
       "      <td>-0.869</td>\n",
       "      <td>0.040</td>\n",
       "      <td>*</td>\n",
       "      <td></td>\n",
       "    </tr>\n",
       "  </tbody>\n",
       "</table>\n",
       "</div>"
      ],
      "text/plain": [
       "           Equation Dep. var. Ind. var.      Coefficient  Est. (std.)  \\\n",
       "TI ~ ISG          1        TI       ISG     $P_{TI,ISG}$        0.113   \n",
       "P_GDP ~ TO        2    P\\_GDP        TO  $P_{P\\_GDP,TO}$       -0.110   \n",
       "EI ~ ISG          3        EI       ISG     $P_{EI,ISG}$        0.108   \n",
       "EI ~ TO                    EI        TO      $P_{EI,TO}$        0.096   \n",
       "EI ~ TI                    EI        TI      $P_{EI,TI}$        0.115   \n",
       "EI ~ P_GDP                 EI    P\\_GDP  $P_{EI,P\\_GDP}$       -0.869   \n",
       "\n",
       "            S.E. (std.) p-value $R^{2}$  \n",
       "TI ~ ISG          0.305   0.710   0.013  \n",
       "P_GDP ~ TO        0.188   0.558   0.012  \n",
       "EI ~ ISG          0.102   0.288   0.820  \n",
       "EI ~ TO           0.074   0.193          \n",
       "EI ~ TI           0.085   0.177          \n",
       "EI ~ P_GDP        0.040       *          "
      ]
     },
     "metadata": {},
     "output_type": "display_data"
    },
    {
     "name": "stdout",
     "output_type": "stream",
     "text": [
      "\\begin{tabular}{llllrrll}\n",
      "\\toprule\n",
      "Equation & Dep. var. & Ind. var. &      Coefficient &  Est. (std.) &  S.E. (std.) & p-value & $R^{2}$ \\\\\n",
      "\\midrule\n",
      "       1 &        TI &       ISG &     $P_{TI,ISG}$ &        0.113 &        0.305 &   0.710 &   0.013 \\\\\n",
      "       2 &    P\\_GDP &        TO &  $P_{P\\_GDP,TO}$ &       -0.110 &        0.188 &   0.558 &   0.012 \\\\\n",
      "       3 &        EI &       ISG &     $P_{EI,ISG}$ &        0.108 &        0.102 &   0.288 &   0.820 \\\\\n",
      "         &        EI &        TO &      $P_{EI,TO}$ &        0.096 &        0.074 &   0.193 &         \\\\\n",
      "         &        EI &        TI &      $P_{EI,TI}$ &        0.115 &        0.085 &   0.177 &         \\\\\n",
      "         &        EI &    P\\_GDP &  $P_{EI,P\\_GDP}$ &       -0.869 &        0.040 &       * &         \\\\\n",
      "\\bottomrule\n",
      "\\end{tabular}\n",
      "\n"
     ]
    }
   ],
   "source": [
    "df = soln_std.query('(lhs != rhs) & (op == \"~\")').copy()\n",
    "df.index = np.where(df.op == '~', df.lhs.str.cat([df.op, df.rhs], sep=' '), df.lhs)\n",
    "df = df.loc[['TI ~ ISG', 'P_GDP ~ TO', 'EI ~ ISG', 'EI ~ TO', 'EI ~ TI', 'EI ~ P_GDP']]\n",
    "df['Equation'] = ['1', '2', '3', '', '', '']\n",
    "df['Dep. var.'] = df.lhs.str.replace('P_GDP', r'P\\_GDP')\n",
    "df['Ind. var.'] = df.rhs.str.replace('P_GDP', r'P\\_GDP')\n",
    "df['Coefficient'] = ('$P_{' + df.lhs + ',' + df.rhs + '}$').str.replace('P_GDP', r'P\\_GDP')\n",
    "df['Est. (std.)'] = np.round(df['est.std'],3)\n",
    "df['S.E. (std.)'] = np.round(df['se'],3)\n",
    "df['p-value'] = ['{:.3f}'.format(x) if x >= 0.001 else '*' for x in df['pvalue']]\n",
    "df['$R^{2}$'] = ''\n",
    "df['$R^{2}$'].iloc[0:3] = ['{:.3f}'.format(x) for x in r_square.loc[['TI', 'P_GDP', 'EI']]]\n",
    "df = df[['Equation', \n",
    "         'Dep. var.', 'Ind. var.', \n",
    "         'Coefficient', 'Est. (std.)', 'S.E. (std.)', 'p-value', '$R^{2}$']]\n",
    "display(df)\n",
    "print(df.to_latex(escape=False, index=False))"
   ]
  },
  {
   "cell_type": "code",
   "execution_count": 11,
   "metadata": {
    "kernel": "em-2020"
   },
   "outputs": [
    {
     "data": {
      "text/html": [
       "<div>\n",
       "<style scoped>\n",
       "    .dataframe tbody tr th:only-of-type {\n",
       "        vertical-align: middle;\n",
       "    }\n",
       "\n",
       "    .dataframe tbody tr th {\n",
       "        vertical-align: top;\n",
       "    }\n",
       "\n",
       "    .dataframe thead th {\n",
       "        text-align: right;\n",
       "    }\n",
       "</style>\n",
       "<table border=\"1\" class=\"dataframe\">\n",
       "  <thead>\n",
       "    <tr style=\"text-align: right;\">\n",
       "      <th></th>\n",
       "      <th>lhs</th>\n",
       "      <th>op</th>\n",
       "      <th>rhs</th>\n",
       "      <th>est.std</th>\n",
       "      <th>se</th>\n",
       "      <th>z</th>\n",
       "      <th>pvalue</th>\n",
       "      <th>ci.lower</th>\n",
       "      <th>ci.upper</th>\n",
       "    </tr>\n",
       "  </thead>\n",
       "  <tbody>\n",
       "    <tr>\n",
       "      <th>EI ~ ISG</th>\n",
       "      <td>EI</td>\n",
       "      <td>~</td>\n",
       "      <td>ISG</td>\n",
       "      <td>0.108</td>\n",
       "      <td>0.102</td>\n",
       "      <td>1.063</td>\n",
       "      <td>0.288</td>\n",
       "      <td>-0.091</td>\n",
       "      <td>0.307</td>\n",
       "    </tr>\n",
       "    <tr>\n",
       "      <th>EI ~ TO</th>\n",
       "      <td>EI</td>\n",
       "      <td>~</td>\n",
       "      <td>TO</td>\n",
       "      <td>0.096</td>\n",
       "      <td>0.074</td>\n",
       "      <td>1.302</td>\n",
       "      <td>0.193</td>\n",
       "      <td>-0.049</td>\n",
       "      <td>0.241</td>\n",
       "    </tr>\n",
       "    <tr>\n",
       "      <th>EI ~ TI</th>\n",
       "      <td>EI</td>\n",
       "      <td>~</td>\n",
       "      <td>TI</td>\n",
       "      <td>0.115</td>\n",
       "      <td>0.085</td>\n",
       "      <td>1.351</td>\n",
       "      <td>0.177</td>\n",
       "      <td>-0.052</td>\n",
       "      <td>0.282</td>\n",
       "    </tr>\n",
       "    <tr>\n",
       "      <th>EI ~ P_GDP</th>\n",
       "      <td>EI</td>\n",
       "      <td>~</td>\n",
       "      <td>P_GDP</td>\n",
       "      <td>-0.869</td>\n",
       "      <td>0.040</td>\n",
       "      <td>-21.968</td>\n",
       "      <td>0.000</td>\n",
       "      <td>-0.946</td>\n",
       "      <td>-0.791</td>\n",
       "    </tr>\n",
       "    <tr>\n",
       "      <th>TI ~ ISG</th>\n",
       "      <td>TI</td>\n",
       "      <td>~</td>\n",
       "      <td>ISG</td>\n",
       "      <td>0.113</td>\n",
       "      <td>0.305</td>\n",
       "      <td>0.372</td>\n",
       "      <td>0.710</td>\n",
       "      <td>-0.484</td>\n",
       "      <td>0.711</td>\n",
       "    </tr>\n",
       "    <tr>\n",
       "      <th>P_GDP ~ TO</th>\n",
       "      <td>P_GDP</td>\n",
       "      <td>~</td>\n",
       "      <td>TO</td>\n",
       "      <td>-0.110</td>\n",
       "      <td>0.188</td>\n",
       "      <td>-0.587</td>\n",
       "      <td>0.558</td>\n",
       "      <td>-0.478</td>\n",
       "      <td>0.258</td>\n",
       "    </tr>\n",
       "    <tr>\n",
       "      <th>p_ei_ti_isg</th>\n",
       "      <td>p_ei_ti_isg</td>\n",
       "      <td>:=</td>\n",
       "      <td>p_ei_ti*p_ti_isg</td>\n",
       "      <td>0.013</td>\n",
       "      <td>0.039</td>\n",
       "      <td>0.333</td>\n",
       "      <td>0.740</td>\n",
       "      <td>-0.064</td>\n",
       "      <td>0.090</td>\n",
       "    </tr>\n",
       "    <tr>\n",
       "      <th>p_ei_pgdp_to</th>\n",
       "      <td>p_ei_pgdp_to</td>\n",
       "      <td>:=</td>\n",
       "      <td>p_ei_pgdp*p_pgdp_to</td>\n",
       "      <td>0.096</td>\n",
       "      <td>0.162</td>\n",
       "      <td>0.593</td>\n",
       "      <td>0.553</td>\n",
       "      <td>-0.221</td>\n",
       "      <td>0.412</td>\n",
       "    </tr>\n",
       "    <tr>\n",
       "      <th>p_ei_isg_total</th>\n",
       "      <td>p_ei_isg_total</td>\n",
       "      <td>:=</td>\n",
       "      <td>p_ei_isg+(p_ei_ti*p_ti_isg)</td>\n",
       "      <td>0.121</td>\n",
       "      <td>0.123</td>\n",
       "      <td>0.981</td>\n",
       "      <td>0.327</td>\n",
       "      <td>-0.121</td>\n",
       "      <td>0.363</td>\n",
       "    </tr>\n",
       "    <tr>\n",
       "      <th>p_ei_to_total</th>\n",
       "      <td>p_ei_to_total</td>\n",
       "      <td>:=</td>\n",
       "      <td>p_ei_to+(p_ei_pgdp*p_pgdp_to)</td>\n",
       "      <td>0.192</td>\n",
       "      <td>0.190</td>\n",
       "      <td>1.010</td>\n",
       "      <td>0.312</td>\n",
       "      <td>-0.180</td>\n",
       "      <td>0.564</td>\n",
       "    </tr>\n",
       "  </tbody>\n",
       "</table>\n",
       "</div>"
      ],
      "text/plain": [
       "                           lhs  op                            rhs  est.std  \\\n",
       "EI ~ ISG                    EI   ~                            ISG    0.108   \n",
       "EI ~ TO                     EI   ~                             TO    0.096   \n",
       "EI ~ TI                     EI   ~                             TI    0.115   \n",
       "EI ~ P_GDP                  EI   ~                          P_GDP   -0.869   \n",
       "TI ~ ISG                    TI   ~                            ISG    0.113   \n",
       "P_GDP ~ TO               P_GDP   ~                             TO   -0.110   \n",
       "p_ei_ti_isg        p_ei_ti_isg  :=               p_ei_ti*p_ti_isg    0.013   \n",
       "p_ei_pgdp_to      p_ei_pgdp_to  :=            p_ei_pgdp*p_pgdp_to    0.096   \n",
       "p_ei_isg_total  p_ei_isg_total  :=    p_ei_isg+(p_ei_ti*p_ti_isg)    0.121   \n",
       "p_ei_to_total    p_ei_to_total  :=  p_ei_to+(p_ei_pgdp*p_pgdp_to)    0.192   \n",
       "\n",
       "                   se       z  pvalue  ci.lower  ci.upper  \n",
       "EI ~ ISG        0.102   1.063   0.288    -0.091     0.307  \n",
       "EI ~ TO         0.074   1.302   0.193    -0.049     0.241  \n",
       "EI ~ TI         0.085   1.351   0.177    -0.052     0.282  \n",
       "EI ~ P_GDP      0.040 -21.968   0.000    -0.946    -0.791  \n",
       "TI ~ ISG        0.305   0.372   0.710    -0.484     0.711  \n",
       "P_GDP ~ TO      0.188  -0.587   0.558    -0.478     0.258  \n",
       "p_ei_ti_isg     0.039   0.333   0.740    -0.064     0.090  \n",
       "p_ei_pgdp_to    0.162   0.593   0.553    -0.221     0.412  \n",
       "p_ei_isg_total  0.123   0.981   0.327    -0.121     0.363  \n",
       "p_ei_to_total   0.190   1.010   0.312    -0.180     0.564  "
      ]
     },
     "metadata": {},
     "output_type": "display_data"
    },
    {
     "data": {
      "text/html": [
       "<div>\n",
       "<style scoped>\n",
       "    .dataframe tbody tr th:only-of-type {\n",
       "        vertical-align: middle;\n",
       "    }\n",
       "\n",
       "    .dataframe tbody tr th {\n",
       "        vertical-align: top;\n",
       "    }\n",
       "\n",
       "    .dataframe thead th {\n",
       "        text-align: right;\n",
       "    }\n",
       "</style>\n",
       "<table border=\"1\" class=\"dataframe\">\n",
       "  <thead>\n",
       "    <tr style=\"text-align: right;\">\n",
       "      <th></th>\n",
       "      <th>Causal variable</th>\n",
       "      <th>DE coeff.</th>\n",
       "      <th>DE s.e.</th>\n",
       "      <th>DE p-value</th>\n",
       "      <th>IE coeff.</th>\n",
       "      <th>IE s.e.</th>\n",
       "      <th>IE p-value</th>\n",
       "      <th>TE coeff.</th>\n",
       "      <th>TE s.e.</th>\n",
       "      <th>TE p-value</th>\n",
       "    </tr>\n",
       "  </thead>\n",
       "  <tbody>\n",
       "    <tr>\n",
       "      <th>0</th>\n",
       "      <td>ISG</td>\n",
       "      <td>0.108</td>\n",
       "      <td>0.102</td>\n",
       "      <td>0.288</td>\n",
       "      <td>0.013</td>\n",
       "      <td>0.039</td>\n",
       "      <td>0.740</td>\n",
       "      <td>0.121</td>\n",
       "      <td>0.123</td>\n",
       "      <td>0.327</td>\n",
       "    </tr>\n",
       "    <tr>\n",
       "      <th>1</th>\n",
       "      <td>TO</td>\n",
       "      <td>0.096</td>\n",
       "      <td>0.074</td>\n",
       "      <td>0.193</td>\n",
       "      <td>0.096</td>\n",
       "      <td>0.162</td>\n",
       "      <td>0.553</td>\n",
       "      <td>0.192</td>\n",
       "      <td>0.190</td>\n",
       "      <td>0.312</td>\n",
       "    </tr>\n",
       "    <tr>\n",
       "      <th>2</th>\n",
       "      <td>TI</td>\n",
       "      <td>0.115</td>\n",
       "      <td>0.085</td>\n",
       "      <td>0.177</td>\n",
       "      <td></td>\n",
       "      <td></td>\n",
       "      <td></td>\n",
       "      <td>0.115</td>\n",
       "      <td>0.085</td>\n",
       "      <td>0.177</td>\n",
       "    </tr>\n",
       "    <tr>\n",
       "      <th>3</th>\n",
       "      <td>P\\_GDP</td>\n",
       "      <td>-0.869</td>\n",
       "      <td>0.040</td>\n",
       "      <td>*</td>\n",
       "      <td></td>\n",
       "      <td></td>\n",
       "      <td></td>\n",
       "      <td>-0.869</td>\n",
       "      <td>0.040</td>\n",
       "      <td>*</td>\n",
       "    </tr>\n",
       "  </tbody>\n",
       "</table>\n",
       "</div>"
      ],
      "text/plain": [
       "  Causal variable DE coeff. DE s.e. DE p-value IE coeff. IE s.e. IE p-value  \\\n",
       "0             ISG     0.108   0.102      0.288     0.013   0.039      0.740   \n",
       "1              TO     0.096   0.074      0.193     0.096   0.162      0.553   \n",
       "2              TI     0.115   0.085      0.177                                \n",
       "3          P\\_GDP    -0.869   0.040          *                                \n",
       "\n",
       "  TE coeff. TE s.e. TE p-value  \n",
       "0     0.121   0.123      0.327  \n",
       "1     0.192   0.190      0.312  \n",
       "2     0.115   0.085      0.177  \n",
       "3    -0.869   0.040          *  "
      ]
     },
     "metadata": {},
     "output_type": "display_data"
    },
    {
     "name": "stdout",
     "output_type": "stream",
     "text": [
      "\\begin{tabular}{llllllllll}\n",
      "\\toprule\n",
      "Causal variable & DE coeff. & DE s.e. & DE p-value & IE coeff. & IE s.e. & IE p-value & TE coeff. & TE s.e. & TE p-value \\\\\n",
      "\\midrule\n",
      "            ISG &     0.108 &   0.102 &      0.288 &     0.013 &   0.039 &      0.740 &     0.121 &   0.123 &      0.327 \\\\\n",
      "             TO &     0.096 &   0.074 &      0.193 &     0.096 &   0.162 &      0.553 &     0.192 &   0.190 &      0.312 \\\\\n",
      "             TI &     0.115 &   0.085 &      0.177 &           &         &            &     0.115 &   0.085 &      0.177 \\\\\n",
      "         P\\_GDP &    -0.869 &   0.040 &          * &           &         &            &    -0.869 &   0.040 &          * \\\\\n",
      "\\bottomrule\n",
      "\\end{tabular}\n",
      "\n"
     ]
    }
   ],
   "source": [
    "df = soln_std.query('(lhs != rhs) & (op in [\"~\", \":=\"])').copy()\n",
    "df.index = np.where(df.op == '~', df.lhs.str.cat([df.op, df.rhs], sep=' '), df.lhs)\n",
    "display(np.round(df, 3))\n",
    "out = pd.DataFrame({'Causal variable': ['ISG', 'TO', 'TI', 'P\\_GDP'], \n",
    "                    'DE coeff.': np.nan, 'DE s.e.': np.nan, 'DE p-value': np.nan,\n",
    "                    'IE coeff.': np.nan, 'IE s.e.': np.nan, 'IE p-value': np.nan,\n",
    "                    'TE coeff.': np.nan, 'TE s.e.': np.nan, 'TE p-value': np.nan})\n",
    "out.iloc[0:4, 1:4] = df.iloc[0:4, [3,4,6]].values\n",
    "out.iloc[0:2, 4:7] = df.iloc[6:8, [3,4,6]].values\n",
    "out.iloc[0:2, 7:10] = df.iloc[8:10, [3,4,6]].values\n",
    "out.iloc[2:4, 7:10] = df.iloc[2:4, [3,4,6]].values\n",
    "f3 = lambda x: '{:.3f}'.format(x) if np.isfinite(x) else ''\n",
    "out.iloc[:, [1,2,4,5,7,8]] = out.iloc[:, [1,2,4,5,7,8]].applymap(f3)\n",
    "f3p = lambda x: '{:.3f}'.format(x) if x >= 0.001 else '*' if np.isfinite(x) else ''\n",
    "out.iloc[:, [3,6,9]] = out.iloc[:, [3,6,9]].applymap(f3p)\n",
    "display(out)\n",
    "print(out.to_latex(escape=False, index=False))"
   ]
  },
  {
   "cell_type": "code",
   "execution_count": 12,
   "metadata": {
    "kernel": "em-2020"
   },
   "outputs": [
    {
     "data": {
      "text/html": [
       "<div>\n",
       "<style scoped>\n",
       "    .dataframe tbody tr th:only-of-type {\n",
       "        vertical-align: middle;\n",
       "    }\n",
       "\n",
       "    .dataframe tbody tr th {\n",
       "        vertical-align: top;\n",
       "    }\n",
       "\n",
       "    .dataframe thead th {\n",
       "        text-align: right;\n",
       "    }\n",
       "</style>\n",
       "<table border=\"1\" class=\"dataframe\">\n",
       "  <thead>\n",
       "    <tr style=\"text-align: right;\">\n",
       "      <th></th>\n",
       "      <th>value</th>\n",
       "      <th>cut-off</th>\n",
       "    </tr>\n",
       "  </thead>\n",
       "  <tbody>\n",
       "    <tr>\n",
       "      <th>$\\chi^2$</th>\n",
       "      <td>0.004</td>\n",
       "      <td>$&gt; 0.05$</td>\n",
       "    </tr>\n",
       "    <tr>\n",
       "      <th>RMSEA</th>\n",
       "      <td>0.296</td>\n",
       "      <td>$&lt;0.08$</td>\n",
       "    </tr>\n",
       "    <tr>\n",
       "      <th>CFI</th>\n",
       "      <td>0.853</td>\n",
       "      <td>$\\geq 0.90$</td>\n",
       "    </tr>\n",
       "    <tr>\n",
       "      <th>SRMR</th>\n",
       "      <td>0.161</td>\n",
       "      <td>$&lt;0.08$</td>\n",
       "    </tr>\n",
       "  </tbody>\n",
       "</table>\n",
       "</div>"
      ],
      "text/plain": [
       "          value      cut-off\n",
       "$\\chi^2$  0.004     $> 0.05$\n",
       "RMSEA     0.296      $<0.08$\n",
       "CFI       0.853  $\\geq 0.90$\n",
       "SRMR      0.161      $<0.08$"
      ]
     },
     "metadata": {},
     "output_type": "display_data"
    },
    {
     "name": "stdout",
     "output_type": "stream",
     "text": [
      "\\begin{tabular}{lrl}\n",
      "\\toprule\n",
      "{} &  value &      cut-off \\\\\n",
      "\\midrule\n",
      "$\\chi^2$ &  0.004 &     $> 0.05$ \\\\\n",
      "RMSEA    &  0.296 &      $<0.08$ \\\\\n",
      "CFI      &  0.853 &  $\\geq 0.90$ \\\\\n",
      "SRMR     &  0.161 &      $<0.08$ \\\\\n",
      "\\bottomrule\n",
      "\\end{tabular}\n",
      "\n"
     ]
    }
   ],
   "source": [
    "fit_table = fit_measures.loc[['pvalue.scaled', 'rmsea.robust', 'cfi.robust', 'srmr']]\n",
    "fit_table.index = [r'$\\chi^2$', 'RMSEA', 'CFI', 'SRMR']\n",
    "fit_table.columns = ['value']\n",
    "fit_table['cut-off'] = ['$> 0.05$', '$<0.08$', '$\\geq 0.90$', '$<0.08$']\n",
    "display(np.round(fit_table, 3))\n",
    "print(np.round(fit_table, 3).to_latex(escape=False))"
   ]
  },
  {
   "cell_type": "code",
   "execution_count": 13,
   "metadata": {
    "kernel": "R"
   },
   "outputs": [
    {
     "data": {
      "text/plain": [
       "      Min.    1st Qu.     Median       Mean    3rd Qu.       Max. \n",
       "-0.4813130 -0.0000001  0.0000000  0.0014377  0.0502748  0.3913814 "
      ]
     },
     "metadata": {},
     "output_type": "display_data"
    },
    {
     "data": {
      "image/png": "[encoded data removed]",
      "text/plain": [
       "plot without title"
      ]
     },
     "metadata": {
      "image/png": {
       "height": 420,
       "width": 420
      }
     },
     "output_type": "display_data"
    }
   ],
   "source": [
    "# Extract unique correlation residuals\n",
    "model.path.fit.resid <- as.data.frame(resid(model.path.fit, type='cor.bentler')$cov)\n",
    "resid <- model.path.fit.resid[lower.tri(model.path.fit.resid, diag=TRUE)]\n",
    "\n",
    "summary(resid)\n",
    "\n",
    "plot(resid[order(resid)], pch=16, xlab='', ylab='(Bentler) Correlation Residual')\n",
    "abline(h=c(0, -.1, .1), lty=c(1,3,3))"
   ]
  },
  {
   "cell_type": "code",
   "execution_count": 14,
   "metadata": {
    "kernel": "em-2020"
   },
   "outputs": [
    {
     "name": "stderr",
     "output_type": "stream",
     "text": [
      "Variable model.path.fit.resid is put to SoS as model_path_fit_resid\n"
     ]
    }
   ],
   "source": [
    "%get model.path.fit.resid --from R\n",
    "def plot_corr_resid(corr, figsize=None, **kwargs):\n",
    "    mask = 1 - np.tril(np.ones_like(corr, dtype=np.bool))\n",
    "    corr_text = np.vectorize('{:.3f}'.format)(corr)\n",
    "    if figsize is None:\n",
    "        figsize=np.array([1, 0.75]) * corr.shape[0] + np.array([kwargs.get('cbar', True) * 1.5, 0])\n",
    "    f, ax = plt.subplots(figsize=figsize)\n",
    "    cmap = sns.diverging_palette(10, 10, s=50, l=75, sep=100, as_cmap=True)\n",
    "\n",
    "    # Draw the heatmap with the mask and correct aspect ratio\n",
    "    sns.heatmap(corr, annot=corr_text, fmt='', mask=mask, cmap=cmap, vmin=-0.1, vmax=0.1, \n",
    "                square=False, linewidths=.25, **kwargs)\n",
    "    ax.set_yticklabels(ax.get_yticklabels(), fontdict={'verticalalignment': 'center'})\n",
    "\n",
    "def save_fig(file, **kwargs):\n",
    "    path = os.path.join(plot_dir, file)\n",
    "    plt.savefig(path, metadata={'CreationDate': None})"
   ]
  },
  {
   "cell_type": "code",
   "execution_count": 15,
   "metadata": {
    "kernel": "em-2020"
   },
   "outputs": [
    {
     "data": {
      "image/png": "[encoded data removed]",
      "text/plain": [
       "<Figure size 468x270 with 2 Axes>"
      ]
     },
     "metadata": {},
     "output_type": "display_data"
    }
   ],
   "source": [
    "plot_corr_resid(model_path_fit_resid)\n",
    "# save_fig('updated_correlation_residuals.pdf')"
   ]
  },
  {
   "cell_type": "code",
   "execution_count": 16,
   "metadata": {
    "kernel": "R"
   },
   "outputs": [
    {
     "data": {
      "text/plain": [
       "\n",
       "Call:\n",
       "lm(formula = data.logdiff$ISG ~ resid)\n",
       "\n",
       "Residuals:\n",
       "     Min       1Q   Median       3Q      Max \n",
       "-1.54372 -0.30269  0.09198  0.32052  0.95838 \n",
       "\n",
       "Coefficients:\n",
       "            Estimate Std. Error t value Pr(>|t|)  \n",
       "(Intercept)   0.2709     0.1048   2.586   0.0162 *\n",
       "resid        -5.2805     1.9474  -2.712   0.0122 *\n",
       "---\n",
       "Signif. codes:  0 ‘***’ 0.001 ‘**’ 0.01 ‘*’ 0.05 ‘.’ 0.1 ‘ ’ 1\n",
       "\n",
       "Residual standard error: 0.5342 on 24 degrees of freedom\n",
       "Multiple R-squared:  0.2345,\tAdjusted R-squared:  0.2026 \n",
       "F-statistic: 7.352 on 1 and 24 DF,  p-value: 0.01218\n"
      ]
     },
     "metadata": {},
     "output_type": "display_data"
    },
    {
     "data": {
      "image/png": "[encoded data removed]",
      "text/plain": [
       "plot without title"
      ]
     },
     "metadata": {
      "image/png": {
       "height": 420,
       "width": 420
      }
     },
     "output_type": "display_data"
    }
   ],
   "source": [
    "resid <- residuals_lavaan(model.path.fit)$P_GDP\n",
    "summary(lm(data.logdiff$ISG ~ resid))\n",
    "plot(data.logdiff$ISG, resid)"
   ]
  },
  {
   "cell_type": "code",
   "execution_count": 17,
   "metadata": {
    "kernel": "R"
   },
   "outputs": [
    {
     "data": {
      "text/plain": [
       "\n",
       "Call:\n",
       "lm(formula = P_GDP ~ ISG, data = data.logdiff)\n",
       "\n",
       "Residuals:\n",
       "      Min        1Q    Median        3Q       Max \n",
       "-0.077368 -0.042923  0.006152  0.032519  0.083041 \n",
       "\n",
       "Coefficients:\n",
       "            Estimate Std. Error t value Pr(>|t|)    \n",
       "(Intercept)  0.06930    0.01051   6.592  8.1e-07 ***\n",
       "ISG         -0.04649    0.01627  -2.858  0.00868 ** \n",
       "---\n",
       "Signif. codes:  0 ‘***’ 0.001 ‘**’ 0.01 ‘*’ 0.05 ‘.’ 0.1 ‘ ’ 1\n",
       "\n",
       "Residual standard error: 0.04866 on 24 degrees of freedom\n",
       "Multiple R-squared:  0.2539,\tAdjusted R-squared:  0.2228 \n",
       "F-statistic: 8.166 on 1 and 24 DF,  p-value: 0.008681\n"
      ]
     },
     "metadata": {},
     "output_type": "display_data"
    },
    {
     "data": {
      "image/png": "[encoded data removed]",
      "text/plain": [
       "Plot with title “”"
      ]
     },
     "metadata": {
      "image/png": {
       "height": 420,
       "width": 420
      }
     },
     "output_type": "display_data"
    },
    {
     "data": {
      "image/png": "[encoded data removed]",
      "text/plain": [
       "Plot with title “”"
      ]
     },
     "metadata": {
      "image/png": {
       "height": 420,
       "width": 420
      }
     },
     "output_type": "display_data"
    },
    {
     "data": {
      "image/png": "[encoded data removed]",
      "text/plain": [
       "Plot with title “”"
      ]
     },
     "metadata": {
      "image/png": {
       "height": 420,
       "width": 420
      }
     },
     "output_type": "display_data"
    },
    {
     "data": {
      "image/png": "[encoded data removed]",
      "text/plain": [
       "Plot with title “”"
      ]
     },
     "metadata": {
      "image/png": {
       "height": 420,
       "width": 420
      }
     },
     "output_type": "display_data"
    }
   ],
   "source": [
    "m <- lm(P_GDP ~ ISG, data=data.logdiff)\n",
    "summary(m)\n",
    "plot(m)"
   ]
  },
  {
   "cell_type": "code",
   "execution_count": 18,
   "metadata": {
    "kernel": "R"
   },
   "outputs": [
    {
     "data": {
      "text/html": [
       "<table>\n",
       "<caption>A data.frame: 1 × 6</caption>\n",
       "<thead>\n",
       "\t<tr><th></th><th scope=col>year</th><th scope=col>ISG</th><th scope=col>TO</th><th scope=col>TI</th><th scope=col>P_GDP</th><th scope=col>EI</th></tr>\n",
       "\t<tr><th></th><th scope=col>&lt;int&gt;</th><th scope=col>&lt;dbl&gt;</th><th scope=col>&lt;dbl&gt;</th><th scope=col>&lt;dbl&gt;</th><th scope=col>&lt;dbl&gt;</th><th scope=col>&lt;dbl&gt;</th></tr>\n",
       "</thead>\n",
       "<tbody>\n",
       "\t<tr><th scope=row>37</th><td>1996</td><td>-1.896908</td><td>-2.133408</td><td>-0.3900971</td><td>0.1808243</td><td>-0.1962229</td></tr>\n",
       "</tbody>\n",
       "</table>\n"
      ],
      "text/latex": [
       "A data.frame: 1 × 6\n",
       "\\begin{tabular}{r|llllll}\n",
       "  & year & ISG & TO & TI & P\\_GDP & EI\\\\\n",
       "  & <int> & <dbl> & <dbl> & <dbl> & <dbl> & <dbl>\\\\\n",
       "\\hline\n",
       "\t37 & 1996 & -1.896908 & -2.133408 & -0.3900971 & 0.1808243 & -0.1962229\\\\\n",
       "\\end{tabular}\n"
      ],
      "text/markdown": [
       "\n",
       "A data.frame: 1 × 6\n",
       "\n",
       "| <!--/--> | year &lt;int&gt; | ISG &lt;dbl&gt; | TO &lt;dbl&gt; | TI &lt;dbl&gt; | P_GDP &lt;dbl&gt; | EI &lt;dbl&gt; |\n",
       "|---|---|---|---|---|---|---|\n",
       "| 37 | 1996 | -1.896908 | -2.133408 | -0.3900971 | 0.1808243 | -0.1962229 |\n",
       "\n"
      ],
      "text/plain": [
       "   year ISG       TO        TI         P_GDP     EI        \n",
       "37 1996 -1.896908 -2.133408 -0.3900971 0.1808243 -0.1962229"
      ]
     },
     "metadata": {},
     "output_type": "display_data"
    }
   ],
   "source": [
    "data.logdiff['37',]"
   ]
  },
  {
   "cell_type": "code",
   "execution_count": null,
   "metadata": {
    "kernel": "R"
   },
   "outputs": [],
   "source": []
  }
 ],
 "metadata": {
  "kernelspec": {
   "display_name": "SoS",
   "language": "sos",
   "name": "sos"
  },
  "language_info": {
   "codemirror_mode": "sos",
   "file_extension": ".sos",
   "mimetype": "text/x-sos",
   "name": "sos",
   "nbconvert_exporter": "sos_notebook.converter.SoS_Exporter",
   "pygments_lexer": "sos"
  },
  "sos": {
   "kernels": [
    [
     "R",
     "ir",
     "R",
     "#DCDCDA",
     "r"
    ],
    [
     "em-2020",
     "em-2020",
     "Python3",
     "#FFD91A",
     {
      "name": "ipython",
      "version": 3
     }
    ]
   ],
   "version": "0.21.9"
  }
 },
 "nbformat": 4,
 "nbformat_minor": 4
}
