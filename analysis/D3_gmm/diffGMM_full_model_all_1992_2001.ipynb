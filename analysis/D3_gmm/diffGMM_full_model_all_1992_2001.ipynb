{
 "cells": [
  {
   "cell_type": "code",
   "execution_count": 1,
   "metadata": {
    "execution": {},
    "kernel": "em-2020",
    "papermill": {
     "duration": 1.338356,
     "end_time": "2020-09-24T22:18:36.799040",
     "exception": false,
     "start_time": "2020-09-24T22:18:35.460684",
     "status": "completed"
    },
    "tags": []
   },
   "outputs": [],
   "source": [
    "from functools import partial\n",
    "import numpy as np\n",
    "import os\n",
    "import pandas as pd\n",
    "import scipy\n",
    "\n",
    "import seaborn as sns\n",
    "import matplotlib as mpl\n",
    "import matplotlib.pyplot as plt\n",
    "\n",
    "\n",
    "import sys\n",
    "sys.path.append('../')\n",
    "import util\n",
    "\n",
    "save_fig = partial(util.save_fig, save=True)"
   ]
  },
  {
   "cell_type": "markdown",
   "metadata": {
    "kernel": "em-2020",
    "papermill": {
     "duration": 0.004821,
     "end_time": "2020-09-24T22:18:36.808897",
     "exception": false,
     "start_time": "2020-09-24T22:18:36.804076",
     "status": "completed"
    },
    "tags": []
   },
   "source": [
    "**Default parameters - will be replaced**"
   ]
  },
  {
   "cell_type": "code",
   "execution_count": 2,
   "metadata": {
    "execution": {},
    "kernel": "SoS",
    "papermill": {
     "duration": 0.055185,
     "end_time": "2020-09-24T22:18:36.868904",
     "exception": false,
     "start_time": "2020-09-24T22:18:36.813719",
     "status": "completed"
    },
    "tags": [
     "parameters"
    ]
   },
   "outputs": [],
   "source": [
    "### IGNORE THIS CELL, IT WILL BE OVERWRITTEN\n",
    "dataset_file = '/home/drake/workspace/em-2020/data/combined_dataset_all_final.csv'\n",
    "index_fields = ['Country', 'Year']\n",
    "data_fields = ['ENI' ,'POP', 'URB', 'AFL' , 'TI', 'CTS' ,'KAOPEN']\n",
    "prefix = 'template'\n",
    "start_year = 2005\n",
    "end_year = 2015\n",
    "exclude_countries = []\n",
    "pickle_file = '/home/drake/workspace/em-2020/analysis/D3_gmm/template_output.pickle.bz2'\n",
    "pdynmc_params = {\n",
    "    \"use.mc.diff\": True,\n",
    "    \"use.mc.lev\": False,\n",
    "    \"use.mc.nonlin\": True,\n",
    "    \"include.y\": True,\n",
    "    \"varname.y\": \"ENI\",\n",
    "    \"lagTerms.y\": 2,\n",
    "    \"fur.con\": True,\n",
    "    \"fur.con.diff\": True,\n",
    "    \"fur.con.lev\": False,\n",
    "    \"varname.reg.fur\": [\"POP\", \"AFL\", \"AFL2\", \"URB\", \"CTS\", \"TI\", \"KAOPEN\"],\n",
    "    \"lagTerms.reg.fur\": [0, 0, 0, 0, 0, 0, 0],\n",
    "    \"include.dum\": True,\n",
    "    \"dum.diff\": True,\n",
    "    \"dum.lev\": False,\n",
    "    \"w.mat\": \"iid.err\",\n",
    "    \"std.err\": \"corrected\",\n",
    "    \"estimation\": \"iterative\",\n",
    "    \"opt.meth\": \"BFGS\",\n",
    "    \"inst.stata\": False,\n",
    "}\n",
    "plm_formula = 'ENI ~ lag(ENI, 1:2) + POP + AFL + AFL2 + URB + CTS + TI + KAOPEN | lag(ENI, 2:99)'\n",
    "plm_params = {\n",
    "    'effect': 'twoways',\n",
    "    'model': 'twostep',\n",
    "    'collapse': False,\n",
    "    'transformation': 'd',\n",
    "}"
   ]
  },
  {
   "cell_type": "code",
   "execution_count": 3,
   "metadata": {
    "execution": {},
    "kernel": "SoS",
    "papermill": {
     "duration": 0.027874,
     "end_time": "2020-09-24T22:18:36.906319",
     "exception": false,
     "start_time": "2020-09-24T22:18:36.878445",
     "status": "completed"
    },
    "tags": [
     "injected-parameters"
    ]
   },
   "outputs": [],
   "source": [
    "# Parameters\n",
    "dataset_file = \"/home/drake/workspace/em-2020/data/combined_dataset_all_final.csv\"\n",
    "index_fields = [\"Country\", \"Year\"]\n",
    "data_fields = [\"ENI\", \"POP\", \"URB\", \"AFL\", \"TI\", \"TS\", \"CTS\", \"KAOPEN\"]\n",
    "prefix = \"template\"\n",
    "start_year = 1992\n",
    "end_year = 2001\n",
    "exclude_countries = []\n",
    "pdynmc_params = {\n",
    "    \"use.mc.diff\": True,\n",
    "    \"use.mc.lev\": False,\n",
    "    \"use.mc.nonlin\": False,\n",
    "    \"include.y\": True,\n",
    "    \"varname.y\": \"ENI\",\n",
    "    \"lagTerms.y\": 2,\n",
    "    \"fur.con\": True,\n",
    "    \"fur.con.diff\": True,\n",
    "    \"fur.con.lev\": False,\n",
    "    \"varname.reg.fur\": [\"POP\", \"AFL\", \"AFL2\", \"URB\", \"CTS\", \"TI\", \"KAOPEN\"],\n",
    "    \"lagTerms.reg.fur\": [0, 0, 0, 0, 0, 0, 0],\n",
    "    \"include.dum\": True,\n",
    "    \"dum.diff\": True,\n",
    "    \"dum.lev\": False,\n",
    "    \"w.mat\": \"iid.err\",\n",
    "    \"std.err\": \"corrected\",\n",
    "    \"estimation\": \"twostep\",\n",
    "    \"opt.meth\": \"none\",\n",
    "    \"inst.stata\": False,\n",
    "}\n",
    "pickle_file = \"/home/drake/workspace/em-2020/analysis/D3_gmm/diffGMM_full_model_all_1992_2001.pickle.bz2\"\n"
   ]
  },
  {
   "cell_type": "markdown",
   "metadata": {
    "kernel": "SoS",
    "papermill": {
     "duration": 0.009871,
     "end_time": "2020-09-24T22:18:36.934233",
     "exception": false,
     "start_time": "2020-09-24T22:18:36.924362",
     "status": "completed"
    },
    "tags": []
   },
   "source": [
    "**End of parameter section** "
   ]
  },
  {
   "cell_type": "code",
   "execution_count": 4,
   "metadata": {
    "execution": {},
    "kernel": "R",
    "papermill": {
     "duration": 1.809356,
     "end_time": "2020-09-24T22:18:38.751128",
     "exception": false,
     "start_time": "2020-09-24T22:18:36.941772",
     "status": "completed"
    },
    "tags": []
   },
   "outputs": [
    {
     "data": {
      "text/html": [
       "<table>\n",
       "<caption>A tibble: 6 × 3</caption>\n",
       "<thead>\n",
       "\t<tr><th scope=col>Country</th><th scope=col>min</th><th scope=col>max</th></tr>\n",
       "\t<tr><th scope=col>&lt;fct&gt;</th><th scope=col>&lt;int&gt;</th><th scope=col>&lt;int&gt;</th></tr>\n",
       "</thead>\n",
       "<tbody>\n",
       "\t<tr><td>ALB</td><td>1995</td><td>2001</td></tr>\n",
       "\t<tr><td>ARG</td><td>1992</td><td>2001</td></tr>\n",
       "\t<tr><td>AUS</td><td>1995</td><td>2001</td></tr>\n",
       "\t<tr><td>AUT</td><td>1992</td><td>2001</td></tr>\n",
       "\t<tr><td>AZE</td><td>2001</td><td>2001</td></tr>\n",
       "\t<tr><td>BEL</td><td>2000</td><td>2001</td></tr>\n",
       "</tbody>\n",
       "</table>\n"
      ],
      "text/latex": [
       "A tibble: 6 × 3\n",
       "\\begin{tabular}{lll}\n",
       " Country & min & max\\\\\n",
       " <fct> & <int> & <int>\\\\\n",
       "\\hline\n",
       "\t ALB & 1995 & 2001\\\\\n",
       "\t ARG & 1992 & 2001\\\\\n",
       "\t AUS & 1995 & 2001\\\\\n",
       "\t AUT & 1992 & 2001\\\\\n",
       "\t AZE & 2001 & 2001\\\\\n",
       "\t BEL & 2000 & 2001\\\\\n",
       "\\end{tabular}\n"
      ],
      "text/markdown": [
       "\n",
       "A tibble: 6 × 3\n",
       "\n",
       "| Country &lt;fct&gt; | min &lt;int&gt; | max &lt;int&gt; |\n",
       "|---|---|---|\n",
       "| ALB | 1995 | 2001 |\n",
       "| ARG | 1992 | 2001 |\n",
       "| AUS | 1995 | 2001 |\n",
       "| AUT | 1992 | 2001 |\n",
       "| AZE | 2001 | 2001 |\n",
       "| BEL | 2000 | 2001 |\n",
       "\n"
      ],
      "text/plain": [
       "  Country min  max \n",
       "1 ALB     1995 2001\n",
       "2 ARG     1992 2001\n",
       "3 AUS     1995 2001\n",
       "4 AUT     1992 2001\n",
       "5 AZE     2001 2001\n",
       "6 BEL     2000 2001"
      ]
     },
     "metadata": {},
     "output_type": "display_data"
    }
   ],
   "source": [
    "%get dataset_file index_fields data_fields start_year end_year exclude_countries \n",
    "%get pdynmc_params plm_formula plm_params\n",
    "\n",
    "# SoS mangles dict keys, for no apparent reason\n",
    "names(pdynmc_params) <- gsub('_', '.', names(pdynmc_params))\n",
    "names(plm_params) <- gsub('_', '.', names(plm_params))\n",
    "\n",
    "suppressMessages({\n",
    "library(dplyr)\n",
    "library(plm)\n",
    "library(pdynmc)\n",
    "})\n",
    "`%notin%` <- Negate(`%in%`)\n",
    "\n",
    "data.df <- subset(\n",
    "    read.csv(dataset_file), select=c(index_fields, data_fields),\n",
    "    subset=(Country %notin% exclude_countries) \n",
    "    & (start_year <= Year) & (Year <= end_year)\n",
    ")\n",
    "data.df['AFL2'] = data.df['AFL']^2\n",
    "data.panel <- pdata.frame(data.df, index = c(\"Country\", \"Year\"), drop.index = TRUE, row.names=TRUE)\n",
    "\n",
    "head(data.df %>% \n",
    "    group_by(Country) %>% \n",
    "    summarize(min=min(Year), max=max(Year), .groups='drop'))"
   ]
  },
  {
   "cell_type": "code",
   "execution_count": 5,
   "metadata": {
    "execution": {},
    "kernel": "R",
    "papermill": {
     "duration": 0.130006,
     "end_time": "2020-09-24T22:18:38.886650",
     "exception": false,
     "start_time": "2020-09-24T22:18:38.756644",
     "status": "completed"
    },
    "tags": []
   },
   "outputs": [
    {
     "data": {
      "text/html": [
       "<dl>\n",
       "\t<dt>$use.mc.diff</dt>\n",
       "\t\t<dd>TRUE</dd>\n",
       "\t<dt>$use.mc.lev</dt>\n",
       "\t\t<dd>FALSE</dd>\n",
       "\t<dt>$use.mc.nonlin</dt>\n",
       "\t\t<dd>FALSE</dd>\n",
       "\t<dt>$include.y</dt>\n",
       "\t\t<dd>TRUE</dd>\n",
       "\t<dt>$varname.y</dt>\n",
       "\t\t<dd>'ENI'</dd>\n",
       "\t<dt>$lagTerms.y</dt>\n",
       "\t\t<dd>2</dd>\n",
       "\t<dt>$fur.con</dt>\n",
       "\t\t<dd>TRUE</dd>\n",
       "\t<dt>$fur.con.diff</dt>\n",
       "\t\t<dd>TRUE</dd>\n",
       "\t<dt>$fur.con.lev</dt>\n",
       "\t\t<dd>FALSE</dd>\n",
       "\t<dt>$varname.reg.fur</dt>\n",
       "\t\t<dd><style>\n",
       ".list-inline {list-style: none; margin:0; padding: 0}\n",
       ".list-inline>li {display: inline-block}\n",
       ".list-inline>li:not(:last-child)::after {content: \"\\00b7\"; padding: 0 .5ex}\n",
       "</style>\n",
       "<ol class=list-inline><li>'POP'</li><li>'AFL'</li><li>'AFL2'</li><li>'URB'</li><li>'CTS'</li><li>'TI'</li><li>'KAOPEN'</li></ol>\n",
       "</dd>\n",
       "\t<dt>$lagTerms.reg.fur</dt>\n",
       "\t\t<dd><style>\n",
       ".list-inline {list-style: none; margin:0; padding: 0}\n",
       ".list-inline>li {display: inline-block}\n",
       ".list-inline>li:not(:last-child)::after {content: \"\\00b7\"; padding: 0 .5ex}\n",
       "</style>\n",
       "<ol class=list-inline><li>0</li><li>0</li><li>0</li><li>0</li><li>0</li><li>0</li><li>0</li></ol>\n",
       "</dd>\n",
       "\t<dt>$include.dum</dt>\n",
       "\t\t<dd>TRUE</dd>\n",
       "\t<dt>$dum.diff</dt>\n",
       "\t\t<dd>TRUE</dd>\n",
       "\t<dt>$dum.lev</dt>\n",
       "\t\t<dd>FALSE</dd>\n",
       "\t<dt>$w.mat</dt>\n",
       "\t\t<dd>'iid.err'</dd>\n",
       "\t<dt>$std.err</dt>\n",
       "\t\t<dd>'corrected'</dd>\n",
       "\t<dt>$estimation</dt>\n",
       "\t\t<dd>'twostep'</dd>\n",
       "\t<dt>$opt.meth</dt>\n",
       "\t\t<dd>'none'</dd>\n",
       "\t<dt>$inst.stata</dt>\n",
       "\t\t<dd>FALSE</dd>\n",
       "</dl>\n"
      ],
      "text/latex": [
       "\\begin{description}\n",
       "\\item[\\$use.mc.diff] TRUE\n",
       "\\item[\\$use.mc.lev] FALSE\n",
       "\\item[\\$use.mc.nonlin] FALSE\n",
       "\\item[\\$include.y] TRUE\n",
       "\\item[\\$varname.y] 'ENI'\n",
       "\\item[\\$lagTerms.y] 2\n",
       "\\item[\\$fur.con] TRUE\n",
       "\\item[\\$fur.con.diff] TRUE\n",
       "\\item[\\$fur.con.lev] FALSE\n",
       "\\item[\\$varname.reg.fur] \\begin{enumerate*}\n",
       "\\item 'POP'\n",
       "\\item 'AFL'\n",
       "\\item 'AFL2'\n",
       "\\item 'URB'\n",
       "\\item 'CTS'\n",
       "\\item 'TI'\n",
       "\\item 'KAOPEN'\n",
       "\\end{enumerate*}\n",
       "\n",
       "\\item[\\$lagTerms.reg.fur] \\begin{enumerate*}\n",
       "\\item 0\n",
       "\\item 0\n",
       "\\item 0\n",
       "\\item 0\n",
       "\\item 0\n",
       "\\item 0\n",
       "\\item 0\n",
       "\\end{enumerate*}\n",
       "\n",
       "\\item[\\$include.dum] TRUE\n",
       "\\item[\\$dum.diff] TRUE\n",
       "\\item[\\$dum.lev] FALSE\n",
       "\\item[\\$w.mat] 'iid.err'\n",
       "\\item[\\$std.err] 'corrected'\n",
       "\\item[\\$estimation] 'twostep'\n",
       "\\item[\\$opt.meth] 'none'\n",
       "\\item[\\$inst.stata] FALSE\n",
       "\\end{description}\n"
      ],
      "text/markdown": [
       "$use.mc.diff\n",
       ":   TRUE\n",
       "$use.mc.lev\n",
       ":   FALSE\n",
       "$use.mc.nonlin\n",
       ":   FALSE\n",
       "$include.y\n",
       ":   TRUE\n",
       "$varname.y\n",
       ":   'ENI'\n",
       "$lagTerms.y\n",
       ":   2\n",
       "$fur.con\n",
       ":   TRUE\n",
       "$fur.con.diff\n",
       ":   TRUE\n",
       "$fur.con.lev\n",
       ":   FALSE\n",
       "$varname.reg.fur\n",
       ":   1. 'POP'\n",
       "2. 'AFL'\n",
       "3. 'AFL2'\n",
       "4. 'URB'\n",
       "5. 'CTS'\n",
       "6. 'TI'\n",
       "7. 'KAOPEN'\n",
       "\n",
       "\n",
       "\n",
       "$lagTerms.reg.fur\n",
       ":   1. 0\n",
       "2. 0\n",
       "3. 0\n",
       "4. 0\n",
       "5. 0\n",
       "6. 0\n",
       "7. 0\n",
       "\n",
       "\n",
       "\n",
       "$include.dum\n",
       ":   TRUE\n",
       "$dum.diff\n",
       ":   TRUE\n",
       "$dum.lev\n",
       ":   FALSE\n",
       "$w.mat\n",
       ":   'iid.err'\n",
       "$std.err\n",
       ":   'corrected'\n",
       "$estimation\n",
       ":   'twostep'\n",
       "$opt.meth\n",
       ":   'none'\n",
       "$inst.stata\n",
       ":   FALSE\n",
       "\n",
       "\n"
      ],
      "text/plain": [
       "$use.mc.diff\n",
       "[1] TRUE\n",
       "\n",
       "$use.mc.lev\n",
       "[1] FALSE\n",
       "\n",
       "$use.mc.nonlin\n",
       "[1] FALSE\n",
       "\n",
       "$include.y\n",
       "[1] TRUE\n",
       "\n",
       "$varname.y\n",
       "[1] \"ENI\"\n",
       "\n",
       "$lagTerms.y\n",
       "[1] 2\n",
       "\n",
       "$fur.con\n",
       "[1] TRUE\n",
       "\n",
       "$fur.con.diff\n",
       "[1] TRUE\n",
       "\n",
       "$fur.con.lev\n",
       "[1] FALSE\n",
       "\n",
       "$varname.reg.fur\n",
       "[1] \"POP\"    \"AFL\"    \"AFL2\"   \"URB\"    \"CTS\"    \"TI\"     \"KAOPEN\"\n",
       "\n",
       "$lagTerms.reg.fur\n",
       "[1] 0 0 0 0 0 0 0\n",
       "\n",
       "$include.dum\n",
       "[1] TRUE\n",
       "\n",
       "$dum.diff\n",
       "[1] TRUE\n",
       "\n",
       "$dum.lev\n",
       "[1] FALSE\n",
       "\n",
       "$w.mat\n",
       "[1] \"iid.err\"\n",
       "\n",
       "$std.err\n",
       "[1] \"corrected\"\n",
       "\n",
       "$estimation\n",
       "[1] \"twostep\"\n",
       "\n",
       "$opt.meth\n",
       "[1] \"none\"\n",
       "\n",
       "$inst.stata\n",
       "[1] FALSE\n"
      ]
     },
     "metadata": {},
     "output_type": "display_data"
    }
   ],
   "source": [
    "pdynmc_params"
   ]
  },
  {
   "cell_type": "code",
   "execution_count": 6,
   "metadata": {
    "execution": {},
    "kernel": "R",
    "papermill": {
     "duration": 2.146702,
     "end_time": "2020-09-24T22:18:41.039377",
     "exception": false,
     "start_time": "2020-09-24T22:18:38.892675",
     "status": "completed"
    },
    "tags": []
   },
   "outputs": [
    {
     "data": {
      "text/plain": [
       "\n",
       "Dynamic linear panel estimation (twostep)\n",
       "Estimation steps: 2\n",
       "\n",
       "Coefficients:\n",
       "           Estimate Std.Err.rob z-value.rob Pr(>|z.rob|)    \n",
       "L1.ENI     0.639683    0.128166       4.991      < 2e-16 ***\n",
       "L2.ENI    -0.183795    0.084086      -2.186      0.02882 *  \n",
       "L0.POP     0.202776    0.253923       0.799      0.42429    \n",
       "L0.AFL    -0.631292    0.492892      -1.281      0.20019    \n",
       "L0.AFL2    0.004965    0.030252       0.164      0.86973    \n",
       "L0.URB     0.431087    0.360623       1.195      0.23209    \n",
       "L0.CTS     0.031591    0.021331       1.481      0.13861    \n",
       "L0.TI      0.045894    0.014421       3.183      0.00146 ** \n",
       "L0.KAOPEN -0.002946    0.008869      -0.332      0.73989    \n",
       "1995       0.016580    0.010350       1.602      0.10916    \n",
       "1996       0.026240    0.016844       1.558      0.11923    \n",
       "1997       0.012954    0.024506       0.529      0.59681    \n",
       "1998       0.016521    0.032982       0.501      0.61637    \n",
       "1999       0.010504    0.039486       0.266      0.79024    \n",
       "2000      -0.008873    0.047398      -0.187      0.85166    \n",
       "2001       0.010464    0.054570       0.192      0.84774    \n",
       "---\n",
       "Signif. codes:  0 ‘***’ 0.001 ‘**’ 0.01 ‘*’ 0.05 ‘.’ 0.1 ‘ ’ 1\n",
       "\n",
       " 49 total instruments are employed to estimate 16 parameters\n",
       " 35 linear (DIF) \n",
       " 7 further controls (DIF) \n",
       " 7 time dummies (DIF) \n",
       " \n",
       "J-Test (overid restrictions):  46.04 with 33 DF, pvalue: 0.0653\n",
       "F-Statistic (slope coeff):  317.28 with 9 DF, pvalue: <0.001\n",
       "F-Statistic (time dummies):  31.85 with 7 DF, pvalue: <0.001"
      ]
     },
     "metadata": {},
     "output_type": "display_data"
    }
   ],
   "source": [
    "pdynmc_base_params <- list(dat = data.df, \n",
    "                    varname.i = \"Country\", varname.t = \"Year\", varname.dum = \"Year\")\n",
    "\n",
    "pdynmc_fit <- do.call(pdynmc, modifyList(pdynmc_base_params, pdynmc_params))\n",
    "pdynmc_summary <- summary(pdynmc_fit)\n",
    "pdynmc_summary"
   ]
  },
  {
   "cell_type": "code",
   "execution_count": 7,
   "metadata": {
    "execution": {},
    "kernel": "R",
    "papermill": {
     "duration": 0.150074,
     "end_time": "2020-09-24T22:18:41.195644",
     "exception": false,
     "start_time": "2020-09-24T22:18:41.045570",
     "status": "completed"
    },
    "tags": []
   },
   "outputs": [
    {
     "data": {
      "text/plain": [
       "\n",
       "Call:\n",
       "lm(formula = residuals ~ fitted, data = pdynmc_resid)\n",
       "\n",
       "Residuals:\n",
       "     Min       1Q   Median       3Q      Max \n",
       "-0.24691 -0.02575 -0.00223  0.02565  0.30670 \n",
       "\n",
       "Coefficients:\n",
       "             Estimate Std. Error t value Pr(>|t|)    \n",
       "(Intercept) -0.018099   0.003229  -5.606 3.81e-08 ***\n",
       "fitted      -0.545043   0.056543  -9.639  < 2e-16 ***\n",
       "---\n",
       "Signif. codes:  0 ‘***’ 0.001 ‘**’ 0.01 ‘*’ 0.05 ‘.’ 0.1 ‘ ’ 1\n",
       "\n",
       "Residual standard error: 0.05432 on 412 degrees of freedom\n",
       "  (181 observations deleted due to missingness)\n",
       "Multiple R-squared:  0.184,\tAdjusted R-squared:  0.182 \n",
       "F-statistic: 92.92 on 1 and 412 DF,  p-value: < 2.2e-16\n"
      ]
     },
     "metadata": {},
     "output_type": "display_data"
    },
    {
     "data": {
      "image/png": "[encoded data removed]",
      "text/plain": [
       "Plot with title “Fitted Residual Plot of pdynmc_fit”"
      ]
     },
     "metadata": {
      "image/png": {
       "height": 420,
       "width": 420
      }
     },
     "output_type": "display_data"
    }
   ],
   "source": [
    "pdynmc_resid <- data.frame(residuals=unlist(residuals(pdynmc_fit)),\n",
    "                           fitted=unlist(fitted.values(pdynmc_fit)))\n",
    "resid.reg <- lm(residuals ~ fitted, data=pdynmc_resid)\n",
    "plot(pdynmc_fit)\n",
    "abline(resid.reg, col='darkred')\n",
    "summary(resid.reg)"
   ]
  },
  {
   "cell_type": "code",
   "execution_count": 8,
   "metadata": {
    "execution": {},
    "kernel": "R",
    "papermill": {
     "duration": 0.23096,
     "end_time": "2020-09-24T22:18:41.436055",
     "exception": false,
     "start_time": "2020-09-24T22:18:41.205095",
     "status": "completed"
    },
    "tags": []
   },
   "outputs": [
    {
     "data": {
      "text/plain": [
       "\n",
       "\tJ-Test of Hansen\n",
       "\n",
       "data:  2step GMM Estimation; H0: overidentifying restrictions valid\n",
       "chisq = 46.042, df = 33, p-value = 0.06526\n"
      ]
     },
     "metadata": {},
     "output_type": "display_data"
    },
    {
     "data": {
      "text/plain": [
       "\n",
       "\tArrelano and Bond (1991) serial correlation test of degree 1\n",
       "\n",
       "data:  2step GMM Estimation; H0: no serial correlation of order 1 in the error terms\n",
       "normal = -2.638, p-value = 0.008341\n"
      ]
     },
     "metadata": {},
     "output_type": "display_data"
    },
    {
     "name": "stderr",
     "output_type": "stream",
     "text": [
      "Warning message in mtest.fct(pdynmc_fit, t.order = 2):\n",
      "“Absolute value of denominator of test statistic was used in the computation.”\n"
     ]
    },
    {
     "data": {
      "text/plain": [
       "\n",
       "\tArrelano and Bond (1991) serial correlation test of degree 2\n",
       "\n",
       "data:  2step GMM Estimation; H0: no serial correlation of order 2 in the error terms\n",
       "normal = 0.15698, p-value = 0.8753\n"
      ]
     },
     "metadata": {},
     "output_type": "display_data"
    }
   ],
   "source": [
    "jtest.fct(pdynmc_fit)\n",
    "ser.corr1 <- mtest.fct(pdynmc_fit, t.order = 1)\n",
    "ser.corr1\n",
    "ser.corr2 <- mtest.fct(pdynmc_fit, t.order = 2)\n",
    "ser.corr2"
   ]
  },
  {
   "cell_type": "code",
   "execution_count": 9,
   "metadata": {
    "execution": {},
    "kernel": "R",
    "papermill": {
     "duration": 0.048103,
     "end_time": "2020-09-24T22:18:41.494315",
     "exception": false,
     "start_time": "2020-09-24T22:18:41.446212",
     "status": "completed"
    },
    "tags": []
   },
   "outputs": [
    {
     "data": {
      "text/html": [
       "<table>\n",
       "<caption>A data.frame: 5 × 4</caption>\n",
       "<thead>\n",
       "\t<tr><th></th><th scope=col>stat</th><th scope=col>test</th><th scope=col>p.value</th><th scope=col>result</th></tr>\n",
       "\t<tr><th></th><th scope=col>&lt;dbl&gt;</th><th scope=col>&lt;fct&gt;</th><th scope=col>&lt;dbl&gt;</th><th scope=col>&lt;fct&gt;</th></tr>\n",
       "</thead>\n",
       "<tbody>\n",
       "\t<tr><th scope=row>J-Test of Hansen</th><td> 46.041501</td><td>chisq </td><td>6.526480e-02</td><td>2step GMM Estimation; H0: overidentifying restrictions valid                 </td></tr>\n",
       "\t<tr><th scope=row>Wald test</th><td>317.277632</td><td>chisq </td><td>5.616337e-63</td><td>2step GMM Estimation; H0: slope parameters are jointly zero                  </td></tr>\n",
       "\t<tr><th scope=row>Wald test1</th><td> 31.853841</td><td>chisq </td><td>4.322964e-05</td><td>2step GMM Estimation; H0: time.dum parameters are jointly zero               </td></tr>\n",
       "\t<tr><th scope=row>Arrelano and Bond (1991) serial correlation test of degree 1</th><td> -2.637958</td><td>normal</td><td>8.340686e-03</td><td>2step GMM Estimation; H0: no serial correlation of order 1 in the error terms</td></tr>\n",
       "\t<tr><th scope=row>Arrelano and Bond (1991) serial correlation test of degree 2</th><td>  0.156978</td><td>normal</td><td>8.752622e-01</td><td>2step GMM Estimation; H0: no serial correlation of order 2 in the error terms</td></tr>\n",
       "</tbody>\n",
       "</table>\n"
      ],
      "text/latex": [
       "A data.frame: 5 × 4\n",
       "\\begin{tabular}{r|llll}\n",
       "  & stat & test & p.value & result\\\\\n",
       "  & <dbl> & <fct> & <dbl> & <fct>\\\\\n",
       "\\hline\n",
       "\tJ-Test of Hansen &  46.041501 & chisq  & 6.526480e-02 & 2step GMM Estimation; H0: overidentifying restrictions valid                 \\\\\n",
       "\tWald test & 317.277632 & chisq  & 5.616337e-63 & 2step GMM Estimation; H0: slope parameters are jointly zero                  \\\\\n",
       "\tWald test1 &  31.853841 & chisq  & 4.322964e-05 & 2step GMM Estimation; H0: time.dum parameters are jointly zero               \\\\\n",
       "\tArrelano and Bond (1991) serial correlation test of degree 1 &  -2.637958 & normal & 8.340686e-03 & 2step GMM Estimation; H0: no serial correlation of order 1 in the error terms\\\\\n",
       "\tArrelano and Bond (1991) serial correlation test of degree 2 &   0.156978 & normal & 8.752622e-01 & 2step GMM Estimation; H0: no serial correlation of order 2 in the error terms\\\\\n",
       "\\end{tabular}\n"
      ],
      "text/markdown": [
       "\n",
       "A data.frame: 5 × 4\n",
       "\n",
       "| <!--/--> | stat &lt;dbl&gt; | test &lt;fct&gt; | p.value &lt;dbl&gt; | result &lt;fct&gt; |\n",
       "|---|---|---|---|---|\n",
       "| J-Test of Hansen |  46.041501 | chisq  | 6.526480e-02 | 2step GMM Estimation; H0: overidentifying restrictions valid                  |\n",
       "| Wald test | 317.277632 | chisq  | 5.616337e-63 | 2step GMM Estimation; H0: slope parameters are jointly zero                   |\n",
       "| Wald test1 |  31.853841 | chisq  | 4.322964e-05 | 2step GMM Estimation; H0: time.dum parameters are jointly zero                |\n",
       "| Arrelano and Bond (1991) serial correlation test of degree 1 |  -2.637958 | normal | 8.340686e-03 | 2step GMM Estimation; H0: no serial correlation of order 1 in the error terms |\n",
       "| Arrelano and Bond (1991) serial correlation test of degree 2 |   0.156978 | normal | 8.752622e-01 | 2step GMM Estimation; H0: no serial correlation of order 2 in the error terms |\n",
       "\n"
      ],
      "text/plain": [
       "                                                             stat       test  \n",
       "J-Test of Hansen                                              46.041501 chisq \n",
       "Wald test                                                    317.277632 chisq \n",
       "Wald test1                                                    31.853841 chisq \n",
       "Arrelano and Bond (1991) serial correlation test of degree 1  -2.637958 normal\n",
       "Arrelano and Bond (1991) serial correlation test of degree 2   0.156978 normal\n",
       "                                                             p.value     \n",
       "J-Test of Hansen                                             6.526480e-02\n",
       "Wald test                                                    5.616337e-63\n",
       "Wald test1                                                   4.322964e-05\n",
       "Arrelano and Bond (1991) serial correlation test of degree 1 8.340686e-03\n",
       "Arrelano and Bond (1991) serial correlation test of degree 2 8.752622e-01\n",
       "                                                             result                                                                       \n",
       "J-Test of Hansen                                             2step GMM Estimation; H0: overidentifying restrictions valid                 \n",
       "Wald test                                                    2step GMM Estimation; H0: slope parameters are jointly zero                  \n",
       "Wald test1                                                   2step GMM Estimation; H0: time.dum parameters are jointly zero               \n",
       "Arrelano and Bond (1991) serial correlation test of degree 1 2step GMM Estimation; H0: no serial correlation of order 1 in the error terms\n",
       "Arrelano and Bond (1991) serial correlation test of degree 2 2step GMM Estimation; H0: no serial correlation of order 2 in the error terms"
      ]
     },
     "metadata": {},
     "output_type": "display_data"
    }
   ],
   "source": [
    "pdynmc_tests <- do.call(rbind, lapply(\n",
    "    list(pdynmc_summary$hansenj, pdynmc_summary$slopef, pdynmc_summary$time.dumf, ser.corr1, ser.corr2),\n",
    "    function(x) {\n",
    "        data.frame(stat=as.numeric(x$statistic), test=names(x$statistic),\n",
    "                   p.value=x$p.value, row.names=x$method, result=x$data.name)\n",
    "    }\n",
    "))\n",
    "pdynmc_tests"
   ]
  },
  {
   "cell_type": "code",
   "execution_count": 10,
   "metadata": {
    "execution": {},
    "kernel": "R",
    "papermill": {
     "duration": 0.036288,
     "end_time": "2020-09-24T22:18:41.541170",
     "exception": false,
     "start_time": "2020-09-24T22:18:41.504882",
     "status": "completed"
    },
    "tags": []
   },
   "outputs": [],
   "source": [
    "# plm.formula <- as.formula(plm_formula)\n",
    "# plm.params = modifyList(list(plm.formula,\n",
    "#                              data=data.panel),\n",
    "#                         plm_params)\n",
    "# z2 <- do.call(pgmm, plm.params)\n",
    "# z2$call <- plm.formula\n",
    "# summary(z2, robust = TRUE)"
   ]
  },
  {
   "cell_type": "code",
   "execution_count": 11,
   "metadata": {
    "execution": {},
    "kernel": "R",
    "papermill": {
     "duration": 0.037574,
     "end_time": "2020-09-24T22:18:41.589448",
     "exception": false,
     "start_time": "2020-09-24T22:18:41.551874",
     "status": "completed"
    },
    "tags": []
   },
   "outputs": [],
   "source": [
    "pdynmc_coef <- data.frame(pdynmc_summary$coefficients)"
   ]
  },
  {
   "cell_type": "code",
   "execution_count": 12,
   "metadata": {
    "execution": {},
    "kernel": "SoS",
    "papermill": {
     "duration": 0.205604,
     "end_time": "2020-09-24T22:18:41.805721",
     "exception": false,
     "start_time": "2020-09-24T22:18:41.600117",
     "status": "completed"
    },
    "tags": []
   },
   "outputs": [],
   "source": [
    "%get pdynmc_coef pdynmc_tests pdynmc_resid --from R\n",
    "import pickle\n",
    "import bz2\n",
    "\n",
    "with bz2.BZ2File(pickle_file, 'w') as fd:\n",
    "    pickle.dump({\n",
    "        'pdynmc_coef': pdynmc_coef,\n",
    "        'pdynmc_tests': pdynmc_tests,\n",
    "        'pdynmc_resid': pdynmc_resid,\n",
    "        'pdynmc_params': pdynmc_params,\n",
    "        'start_year': start_year,\n",
    "        'end_year': end_year,\n",
    "    }, fd)"
   ]
  },
  {
   "cell_type": "code",
   "execution_count": null,
   "metadata": {
    "kernel": "SoS",
    "papermill": {
     "duration": 0.010543,
     "end_time": "2020-09-24T22:18:41.828753",
     "exception": false,
     "start_time": "2020-09-24T22:18:41.818210",
     "status": "completed"
    },
    "tags": []
   },
   "outputs": [],
   "source": []
  }
 ],
 "metadata": {
  "kernelspec": {
   "display_name": "SoS",
   "language": "sos",
   "name": "sos"
  },
  "language_info": {
   "codemirror_mode": "sos",
   "file_extension": ".sos",
   "mimetype": "text/x-sos",
   "name": "sos",
   "nbconvert_exporter": "sos_notebook.converter.SoS_Exporter",
   "pygments_lexer": "sos"
  },
  "papermill": {
   "duration": 12.692129,
   "end_time": "2020-09-24T22:18:46.948193",
   "environment_variables": {},
   "exception": null,
   "input_path": "/home/drake/workspace/em-2020/analysis/D3_gmm_template.ipynb",
   "output_path": "/home/drake/workspace/em-2020/analysis/D3_gmm/diffGMM_full_model_all_1992_2001.ipynb",
   "parameters": {
    "data_fields": [
     "ENI",
     "POP",
     "URB",
     "AFL",
     "TI",
     "TS",
     "CTS",
     "KAOPEN"
    ],
    "dataset_file": "/home/drake/workspace/em-2020/data/combined_dataset_all_final.csv",
    "end_year": 2001,
    "exclude_countries": [],
    "index_fields": [
     "Country",
     "Year"
    ],
    "pdynmc_params": {
     "dum.diff": true,
     "dum.lev": false,
     "estimation": "twostep",
     "fur.con": true,
     "fur.con.diff": true,
     "fur.con.lev": false,
     "include.dum": true,
     "include.y": true,
     "inst.stata": false,
     "lagTerms.reg.fur": [
      0,
      0,
      0,
      0,
      0,
      0,
      0
     ],
     "lagTerms.y": 2,
     "opt.meth": "none",
     "std.err": "corrected",
     "use.mc.diff": true,
     "use.mc.lev": false,
     "use.mc.nonlin": false,
     "varname.reg.fur": [
      "POP",
      "AFL",
      "AFL2",
      "URB",
      "CTS",
      "TI",
      "KAOPEN"
     ],
     "varname.y": "ENI",
     "w.mat": "iid.err"
    },
    "pickle_file": "/home/drake/workspace/em-2020/analysis/D3_gmm/diffGMM_full_model_all_1992_2001.pickle.bz2",
    "prefix": "template",
    "start_year": 1992
   },
   "start_time": "2020-09-24T22:18:34.256064",
   "version": "2.1.3"
  },
  "sos": {
   "kernels": [
    [
     "R",
     "ir",
     "R",
     "",
     "r"
    ],
    [
     "SoS",
     "sos",
     "",
     "",
     "sos"
    ],
    [
     "em-2020",
     "em-2020",
     "python3",
     "",
     {
      "name": "ipython",
      "version": 3
     }
    ]
   ],
   "version": "0.21.19"
  }
 },
 "nbformat": 4,
 "nbformat_minor": 4
}