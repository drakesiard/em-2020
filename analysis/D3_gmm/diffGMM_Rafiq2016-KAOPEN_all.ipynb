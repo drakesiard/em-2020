{
 "cells": [
  {
   "cell_type": "code",
   "execution_count": 1,
   "metadata": {
    "execution": {},
    "kernel": "em-2020",
    "papermill": {
     "duration": 1.511258,
     "end_time": "2020-09-25T11:20:18.764929",
     "exception": false,
     "start_time": "2020-09-25T11:20:17.253671",
     "status": "completed"
    },
    "tags": []
   },
   "outputs": [],
   "source": [
    "from functools import partial\n",
    "import numpy as np\n",
    "import os\n",
    "import pandas as pd\n",
    "import scipy\n",
    "\n",
    "import seaborn as sns\n",
    "import matplotlib as mpl\n",
    "import matplotlib.pyplot as plt\n",
    "\n",
    "\n",
    "import sys\n",
    "sys.path.append('../')\n",
    "import util\n",
    "\n",
    "save_fig = partial(util.save_fig, save=True)"
   ]
  },
  {
   "cell_type": "markdown",
   "metadata": {
    "kernel": "em-2020",
    "papermill": {
     "duration": 0.004979,
     "end_time": "2020-09-25T11:20:18.774961",
     "exception": false,
     "start_time": "2020-09-25T11:20:18.769982",
     "status": "completed"
    },
    "tags": []
   },
   "source": [
    "**Default parameters - will be replaced**"
   ]
  },
  {
   "cell_type": "code",
   "execution_count": 2,
   "metadata": {
    "execution": {},
    "kernel": "SoS",
    "papermill": {
     "duration": 0.02853,
     "end_time": "2020-09-25T11:20:18.808188",
     "exception": false,
     "start_time": "2020-09-25T11:20:18.779658",
     "status": "completed"
    },
    "tags": [
     "parameters"
    ]
   },
   "outputs": [],
   "source": [
    "### IGNORE THIS CELL, IT WILL BE OVERWRITTEN\n",
    "dataset_file = '/home/drake/workspace/em-2020/data/combined_dataset_all_final.csv'\n",
    "index_fields = ['Country', 'Year']\n",
    "data_fields = ['ENI' ,'POP', 'URB', 'AFL' , 'TI', 'CTS' ,'KAOPEN']\n",
    "prefix = 'template'\n",
    "start_year = 2005\n",
    "end_year = 2015\n",
    "exclude_countries = []\n",
    "pickle_file = '/home/drake/workspace/em-2020/analysis/D3_gmm/template_output.pickle.bz2'\n",
    "pdynmc_params = {\n",
    "    \"use.mc.diff\": True,\n",
    "    \"use.mc.lev\": False,\n",
    "    \"use.mc.nonlin\": True,\n",
    "    \"include.y\": True,\n",
    "    \"varname.y\": \"ENI\",\n",
    "    \"lagTerms.y\": 2,\n",
    "    \"fur.con\": True,\n",
    "    \"fur.con.diff\": True,\n",
    "    \"fur.con.lev\": False,\n",
    "    \"varname.reg.fur\": [\"POP\", \"AFL\", \"AFL2\", \"URB\", \"CTS\", \"TI\", \"KAOPEN\"],\n",
    "    \"lagTerms.reg.fur\": [0, 0, 0, 0, 0, 0, 0],\n",
    "    \"include.dum\": True,\n",
    "    \"dum.diff\": True,\n",
    "    \"dum.lev\": False,\n",
    "    \"w.mat\": \"iid.err\",\n",
    "    \"std.err\": \"corrected\",\n",
    "    \"estimation\": \"iterative\",\n",
    "    \"opt.meth\": \"BFGS\",\n",
    "    \"inst.stata\": False,\n",
    "}\n",
    "plm_formula = 'ENI ~ lag(ENI, 1:2) + POP + AFL + AFL2 + URB + CTS + TI + KAOPEN | lag(ENI, 2:99)'\n",
    "plm_params = {\n",
    "    'effect': 'twoways',\n",
    "    'model': 'twostep',\n",
    "    'collapse': False,\n",
    "    'transformation': 'd',\n",
    "}"
   ]
  },
  {
   "cell_type": "code",
   "execution_count": 3,
   "metadata": {
    "execution": {},
    "kernel": "SoS",
    "papermill": {
     "duration": 0.012969,
     "end_time": "2020-09-25T11:20:18.826363",
     "exception": false,
     "start_time": "2020-09-25T11:20:18.813394",
     "status": "completed"
    },
    "tags": [
     "injected-parameters"
    ]
   },
   "outputs": [],
   "source": [
    "# Parameters\n",
    "dataset_file = \"/home/drake/workspace/em-2020/data/combined_dataset_all_final.csv\"\n",
    "index_fields = [\"Country\", \"Year\"]\n",
    "data_fields = [\"ENI\", \"POP\", \"URB\", \"AFL\", \"TI\", \"TS\", \"CTS\", \"KAOPEN\"]\n",
    "prefix = \"template\"\n",
    "start_year = 1996\n",
    "end_year = 2015\n",
    "exclude_countries = []\n",
    "pdynmc_params = {\n",
    "    \"use.mc.diff\": True,\n",
    "    \"use.mc.lev\": False,\n",
    "    \"use.mc.nonlin\": False,\n",
    "    \"include.y\": True,\n",
    "    \"varname.y\": \"ENI\",\n",
    "    \"lagTerms.y\": 2,\n",
    "    \"fur.con\": True,\n",
    "    \"fur.con.diff\": True,\n",
    "    \"fur.con.lev\": False,\n",
    "    \"varname.reg.fur\": [\"POP\", \"AFL\", \"AFL2\", \"URB\", \"TS\", \"KAOPEN\"],\n",
    "    \"lagTerms.reg.fur\": [0, 0, 0, 0, 0, 0],\n",
    "    \"include.dum\": True,\n",
    "    \"dum.diff\": True,\n",
    "    \"dum.lev\": False,\n",
    "    \"w.mat\": \"iid.err\",\n",
    "    \"std.err\": \"corrected\",\n",
    "    \"estimation\": \"twostep\",\n",
    "    \"opt.meth\": \"none\",\n",
    "    \"inst.stata\": False,\n",
    "}\n",
    "pickle_file = \"/home/drake/workspace/em-2020/analysis/D3_gmm/diffGMM_Rafiq2016-KAOPEN_all.pickle.bz2\"\n"
   ]
  },
  {
   "cell_type": "markdown",
   "metadata": {
    "kernel": "SoS",
    "papermill": {
     "duration": 0.004903,
     "end_time": "2020-09-25T11:20:18.836291",
     "exception": false,
     "start_time": "2020-09-25T11:20:18.831388",
     "status": "completed"
    },
    "tags": []
   },
   "source": [
    "**End of parameter section** "
   ]
  },
  {
   "cell_type": "code",
   "execution_count": 4,
   "metadata": {
    "execution": {},
    "kernel": "R",
    "papermill": {
     "duration": 2.025689,
     "end_time": "2020-09-25T11:20:20.866832",
     "exception": false,
     "start_time": "2020-09-25T11:20:18.841143",
     "status": "completed"
    },
    "tags": []
   },
   "outputs": [
    {
     "data": {
      "text/html": [
       "<table>\n",
       "<caption>A tibble: 6 × 3</caption>\n",
       "<thead>\n",
       "\t<tr><th scope=col>Country</th><th scope=col>min</th><th scope=col>max</th></tr>\n",
       "\t<tr><th scope=col>&lt;fct&gt;</th><th scope=col>&lt;int&gt;</th><th scope=col>&lt;int&gt;</th></tr>\n",
       "</thead>\n",
       "<tbody>\n",
       "\t<tr><td>ALB</td><td>1996</td><td>2011</td></tr>\n",
       "\t<tr><td>ARG</td><td>1996</td><td>2014</td></tr>\n",
       "\t<tr><td>ARM</td><td>2005</td><td>2014</td></tr>\n",
       "\t<tr><td>AUS</td><td>1996</td><td>2015</td></tr>\n",
       "\t<tr><td>AUT</td><td>1996</td><td>2015</td></tr>\n",
       "\t<tr><td>AZE</td><td>2001</td><td>2014</td></tr>\n",
       "</tbody>\n",
       "</table>\n"
      ],
      "text/latex": [
       "A tibble: 6 × 3\n",
       "\\begin{tabular}{lll}\n",
       " Country & min & max\\\\\n",
       " <fct> & <int> & <int>\\\\\n",
       "\\hline\n",
       "\t ALB & 1996 & 2011\\\\\n",
       "\t ARG & 1996 & 2014\\\\\n",
       "\t ARM & 2005 & 2014\\\\\n",
       "\t AUS & 1996 & 2015\\\\\n",
       "\t AUT & 1996 & 2015\\\\\n",
       "\t AZE & 2001 & 2014\\\\\n",
       "\\end{tabular}\n"
      ],
      "text/markdown": [
       "\n",
       "A tibble: 6 × 3\n",
       "\n",
       "| Country &lt;fct&gt; | min &lt;int&gt; | max &lt;int&gt; |\n",
       "|---|---|---|\n",
       "| ALB | 1996 | 2011 |\n",
       "| ARG | 1996 | 2014 |\n",
       "| ARM | 2005 | 2014 |\n",
       "| AUS | 1996 | 2015 |\n",
       "| AUT | 1996 | 2015 |\n",
       "| AZE | 2001 | 2014 |\n",
       "\n"
      ],
      "text/plain": [
       "  Country min  max \n",
       "1 ALB     1996 2011\n",
       "2 ARG     1996 2014\n",
       "3 ARM     2005 2014\n",
       "4 AUS     1996 2015\n",
       "5 AUT     1996 2015\n",
       "6 AZE     2001 2014"
      ]
     },
     "metadata": {},
     "output_type": "display_data"
    }
   ],
   "source": [
    "%get dataset_file index_fields data_fields start_year end_year exclude_countries \n",
    "%get pdynmc_params plm_formula plm_params\n",
    "\n",
    "# SoS mangles dict keys, for no apparent reason\n",
    "names(pdynmc_params) <- gsub('_', '.', names(pdynmc_params))\n",
    "names(plm_params) <- gsub('_', '.', names(plm_params))\n",
    "\n",
    "suppressMessages({\n",
    "library(dplyr)\n",
    "library(plm)\n",
    "library(pdynmc)\n",
    "})\n",
    "`%notin%` <- Negate(`%in%`)\n",
    "\n",
    "data.df <- subset(\n",
    "    read.csv(dataset_file), select=c(index_fields, data_fields),\n",
    "    subset=(Country %notin% exclude_countries) \n",
    "    & (start_year <= Year) & (Year <= end_year)\n",
    ")\n",
    "data.df['AFL2'] = data.df['AFL']^2\n",
    "data.panel <- pdata.frame(data.df, index = c(\"Country\", \"Year\"), drop.index = TRUE, row.names=TRUE)\n",
    "\n",
    "head(data.df %>% \n",
    "    group_by(Country) %>% \n",
    "    summarize(min=min(Year), max=max(Year), .groups='drop'))"
   ]
  },
  {
   "cell_type": "code",
   "execution_count": 5,
   "metadata": {
    "execution": {},
    "kernel": "R",
    "papermill": {
     "duration": 0.146765,
     "end_time": "2020-09-25T11:20:21.019096",
     "exception": false,
     "start_time": "2020-09-25T11:20:20.872331",
     "status": "completed"
    },
    "tags": []
   },
   "outputs": [
    {
     "data": {
      "text/html": [
       "<dl>\n",
       "\t<dt>$use.mc.diff</dt>\n",
       "\t\t<dd>TRUE</dd>\n",
       "\t<dt>$use.mc.lev</dt>\n",
       "\t\t<dd>FALSE</dd>\n",
       "\t<dt>$use.mc.nonlin</dt>\n",
       "\t\t<dd>FALSE</dd>\n",
       "\t<dt>$include.y</dt>\n",
       "\t\t<dd>TRUE</dd>\n",
       "\t<dt>$varname.y</dt>\n",
       "\t\t<dd>'ENI'</dd>\n",
       "\t<dt>$lagTerms.y</dt>\n",
       "\t\t<dd>2</dd>\n",
       "\t<dt>$fur.con</dt>\n",
       "\t\t<dd>TRUE</dd>\n",
       "\t<dt>$fur.con.diff</dt>\n",
       "\t\t<dd>TRUE</dd>\n",
       "\t<dt>$fur.con.lev</dt>\n",
       "\t\t<dd>FALSE</dd>\n",
       "\t<dt>$varname.reg.fur</dt>\n",
       "\t\t<dd><style>\n",
       ".list-inline {list-style: none; margin:0; padding: 0}\n",
       ".list-inline>li {display: inline-block}\n",
       ".list-inline>li:not(:last-child)::after {content: \"\\00b7\"; padding: 0 .5ex}\n",
       "</style>\n",
       "<ol class=list-inline><li>'POP'</li><li>'AFL'</li><li>'AFL2'</li><li>'URB'</li><li>'TS'</li><li>'KAOPEN'</li></ol>\n",
       "</dd>\n",
       "\t<dt>$lagTerms.reg.fur</dt>\n",
       "\t\t<dd><style>\n",
       ".list-inline {list-style: none; margin:0; padding: 0}\n",
       ".list-inline>li {display: inline-block}\n",
       ".list-inline>li:not(:last-child)::after {content: \"\\00b7\"; padding: 0 .5ex}\n",
       "</style>\n",
       "<ol class=list-inline><li>0</li><li>0</li><li>0</li><li>0</li><li>0</li><li>0</li></ol>\n",
       "</dd>\n",
       "\t<dt>$include.dum</dt>\n",
       "\t\t<dd>TRUE</dd>\n",
       "\t<dt>$dum.diff</dt>\n",
       "\t\t<dd>TRUE</dd>\n",
       "\t<dt>$dum.lev</dt>\n",
       "\t\t<dd>FALSE</dd>\n",
       "\t<dt>$w.mat</dt>\n",
       "\t\t<dd>'iid.err'</dd>\n",
       "\t<dt>$std.err</dt>\n",
       "\t\t<dd>'corrected'</dd>\n",
       "\t<dt>$estimation</dt>\n",
       "\t\t<dd>'twostep'</dd>\n",
       "\t<dt>$opt.meth</dt>\n",
       "\t\t<dd>'none'</dd>\n",
       "\t<dt>$inst.stata</dt>\n",
       "\t\t<dd>FALSE</dd>\n",
       "</dl>\n"
      ],
      "text/latex": [
       "\\begin{description}\n",
       "\\item[\\$use.mc.diff] TRUE\n",
       "\\item[\\$use.mc.lev] FALSE\n",
       "\\item[\\$use.mc.nonlin] FALSE\n",
       "\\item[\\$include.y] TRUE\n",
       "\\item[\\$varname.y] 'ENI'\n",
       "\\item[\\$lagTerms.y] 2\n",
       "\\item[\\$fur.con] TRUE\n",
       "\\item[\\$fur.con.diff] TRUE\n",
       "\\item[\\$fur.con.lev] FALSE\n",
       "\\item[\\$varname.reg.fur] \\begin{enumerate*}\n",
       "\\item 'POP'\n",
       "\\item 'AFL'\n",
       "\\item 'AFL2'\n",
       "\\item 'URB'\n",
       "\\item 'TS'\n",
       "\\item 'KAOPEN'\n",
       "\\end{enumerate*}\n",
       "\n",
       "\\item[\\$lagTerms.reg.fur] \\begin{enumerate*}\n",
       "\\item 0\n",
       "\\item 0\n",
       "\\item 0\n",
       "\\item 0\n",
       "\\item 0\n",
       "\\item 0\n",
       "\\end{enumerate*}\n",
       "\n",
       "\\item[\\$include.dum] TRUE\n",
       "\\item[\\$dum.diff] TRUE\n",
       "\\item[\\$dum.lev] FALSE\n",
       "\\item[\\$w.mat] 'iid.err'\n",
       "\\item[\\$std.err] 'corrected'\n",
       "\\item[\\$estimation] 'twostep'\n",
       "\\item[\\$opt.meth] 'none'\n",
       "\\item[\\$inst.stata] FALSE\n",
       "\\end{description}\n"
      ],
      "text/markdown": [
       "$use.mc.diff\n",
       ":   TRUE\n",
       "$use.mc.lev\n",
       ":   FALSE\n",
       "$use.mc.nonlin\n",
       ":   FALSE\n",
       "$include.y\n",
       ":   TRUE\n",
       "$varname.y\n",
       ":   'ENI'\n",
       "$lagTerms.y\n",
       ":   2\n",
       "$fur.con\n",
       ":   TRUE\n",
       "$fur.con.diff\n",
       ":   TRUE\n",
       "$fur.con.lev\n",
       ":   FALSE\n",
       "$varname.reg.fur\n",
       ":   1. 'POP'\n",
       "2. 'AFL'\n",
       "3. 'AFL2'\n",
       "4. 'URB'\n",
       "5. 'TS'\n",
       "6. 'KAOPEN'\n",
       "\n",
       "\n",
       "\n",
       "$lagTerms.reg.fur\n",
       ":   1. 0\n",
       "2. 0\n",
       "3. 0\n",
       "4. 0\n",
       "5. 0\n",
       "6. 0\n",
       "\n",
       "\n",
       "\n",
       "$include.dum\n",
       ":   TRUE\n",
       "$dum.diff\n",
       ":   TRUE\n",
       "$dum.lev\n",
       ":   FALSE\n",
       "$w.mat\n",
       ":   'iid.err'\n",
       "$std.err\n",
       ":   'corrected'\n",
       "$estimation\n",
       ":   'twostep'\n",
       "$opt.meth\n",
       ":   'none'\n",
       "$inst.stata\n",
       ":   FALSE\n",
       "\n",
       "\n"
      ],
      "text/plain": [
       "$use.mc.diff\n",
       "[1] TRUE\n",
       "\n",
       "$use.mc.lev\n",
       "[1] FALSE\n",
       "\n",
       "$use.mc.nonlin\n",
       "[1] FALSE\n",
       "\n",
       "$include.y\n",
       "[1] TRUE\n",
       "\n",
       "$varname.y\n",
       "[1] \"ENI\"\n",
       "\n",
       "$lagTerms.y\n",
       "[1] 2\n",
       "\n",
       "$fur.con\n",
       "[1] TRUE\n",
       "\n",
       "$fur.con.diff\n",
       "[1] TRUE\n",
       "\n",
       "$fur.con.lev\n",
       "[1] FALSE\n",
       "\n",
       "$varname.reg.fur\n",
       "[1] \"POP\"    \"AFL\"    \"AFL2\"   \"URB\"    \"TS\"     \"KAOPEN\"\n",
       "\n",
       "$lagTerms.reg.fur\n",
       "[1] 0 0 0 0 0 0\n",
       "\n",
       "$include.dum\n",
       "[1] TRUE\n",
       "\n",
       "$dum.diff\n",
       "[1] TRUE\n",
       "\n",
       "$dum.lev\n",
       "[1] FALSE\n",
       "\n",
       "$w.mat\n",
       "[1] \"iid.err\"\n",
       "\n",
       "$std.err\n",
       "[1] \"corrected\"\n",
       "\n",
       "$estimation\n",
       "[1] \"twostep\"\n",
       "\n",
       "$opt.meth\n",
       "[1] \"none\"\n",
       "\n",
       "$inst.stata\n",
       "[1] FALSE\n"
      ]
     },
     "metadata": {},
     "output_type": "display_data"
    }
   ],
   "source": [
    "pdynmc_params"
   ]
  },
  {
   "cell_type": "code",
   "execution_count": 6,
   "metadata": {
    "execution": {},
    "kernel": "R",
    "papermill": {
     "duration": 6.741741,
     "end_time": "2020-09-25T11:20:27.766909",
     "exception": false,
     "start_time": "2020-09-25T11:20:21.025168",
     "status": "completed"
    },
    "tags": []
   },
   "outputs": [
    {
     "data": {
      "text/plain": [
       "\n",
       "Dynamic linear panel estimation (twostep)\n",
       "Estimation steps: 2\n",
       "\n",
       "Coefficients:\n",
       "           Estimate Std.Err.rob z-value.rob Pr(>|z.rob|)    \n",
       "L1.ENI     0.540554    0.093614       5.774       <2e-16 ***\n",
       "L2.ENI     0.039913    0.040826       0.978       0.3281    \n",
       "L0.POP    -0.084902    0.231276      -0.367       0.7136    \n",
       "L0.AFL     0.311998    0.464434       0.672       0.5016    \n",
       "L0.AFL2   -0.044653    0.024491      -1.823       0.0683 .  \n",
       "L0.URB     0.031808    0.358797       0.089       0.9291    \n",
       "L0.TS      0.023888    0.021244       1.124       0.2610    \n",
       "L0.KAOPEN -0.001189    0.005797      -0.205       0.8376    \n",
       "1999       0.006255    0.008931       0.700       0.4839    \n",
       "2000      -0.006209    0.011449      -0.542       0.5878    \n",
       "2001       0.018992    0.015240       1.246       0.2128    \n",
       "2002       0.024084    0.018035       1.335       0.1819    \n",
       "2003       0.050195    0.020886       2.403       0.0163 *  \n",
       "2004       0.048759    0.024894       1.959       0.0501 .  \n",
       "2005       0.050409    0.029233       1.724       0.0847 .  \n",
       "2006       0.062240    0.035010       1.778       0.0754 .  \n",
       "2007       0.079511    0.041125       1.933       0.0532 .  \n",
       "2008       0.099901    0.046731       2.138       0.0325 *  \n",
       "2009       0.103290    0.049097       2.104       0.0354 *  \n",
       "2010       0.122935    0.053821       2.284       0.0224 *  \n",
       "2011       0.110089    0.056127       1.961       0.0499 *  \n",
       "2012       0.124864    0.061057       2.045       0.0408 *  \n",
       "2013       0.112348    0.064978       1.729       0.0838 .  \n",
       "2014       0.129520    0.069454       1.865       0.0622 .  \n",
       "2015       0.141797    0.074602       1.901       0.0573 .  \n",
       "---\n",
       "Signif. codes:  0 ‘***’ 0.001 ‘**’ 0.01 ‘*’ 0.05 ‘.’ 0.1 ‘ ’ 1\n",
       "\n",
       " 193 total instruments are employed to estimate 25 parameters\n",
       " 170 linear (DIF) \n",
       " 6 further controls (DIF) \n",
       " 17 time dummies (DIF) \n",
       " \n",
       "J-Test (overid restrictions):  76.59 with 168 DF, pvalue: 1\n",
       "F-Statistic (slope coeff):  355.39 with 8 DF, pvalue: <0.001\n",
       "F-Statistic (time dummies):  58.99 with 17 DF, pvalue: <0.001"
      ]
     },
     "metadata": {},
     "output_type": "display_data"
    }
   ],
   "source": [
    "pdynmc_base_params <- list(dat = data.df, \n",
    "                    varname.i = \"Country\", varname.t = \"Year\", varname.dum = \"Year\")\n",
    "\n",
    "pdynmc_fit <- do.call(pdynmc, modifyList(pdynmc_base_params, pdynmc_params))\n",
    "pdynmc_summary <- summary(pdynmc_fit)\n",
    "pdynmc_summary"
   ]
  },
  {
   "cell_type": "code",
   "execution_count": 7,
   "metadata": {
    "execution": {},
    "kernel": "R",
    "papermill": {
     "duration": 0.248486,
     "end_time": "2020-09-25T11:20:28.033251",
     "exception": false,
     "start_time": "2020-09-25T11:20:27.784765",
     "status": "completed"
    },
    "tags": []
   },
   "outputs": [
    {
     "data": {
      "text/plain": [
       "\n",
       "Call:\n",
       "lm(formula = residuals ~ fitted, data = pdynmc_resid)\n",
       "\n",
       "Residuals:\n",
       "     Min       1Q   Median       3Q      Max \n",
       "-0.42686 -0.02796 -0.00075  0.02909  0.24184 \n",
       "\n",
       "Coefficients:\n",
       "            Estimate Std. Error t value Pr(>|t|)    \n",
       "(Intercept) -0.02225    0.00215  -10.35   <2e-16 ***\n",
       "fitted      -0.51425    0.03506  -14.67   <2e-16 ***\n",
       "---\n",
       "Signif. codes:  0 ‘***’ 0.001 ‘**’ 0.01 ‘*’ 0.05 ‘.’ 0.1 ‘ ’ 1\n",
       "\n",
       "Residual standard error: 0.05428 on 1311 degrees of freedom\n",
       "  (217 observations deleted due to missingness)\n",
       "Multiple R-squared:  0.1409,\tAdjusted R-squared:  0.1403 \n",
       "F-statistic: 215.1 on 1 and 1311 DF,  p-value: < 2.2e-16\n"
      ]
     },
     "metadata": {},
     "output_type": "display_data"
    },
    {
     "data": {
      "image/png": "[encoded data removed]",
      "text/plain": [
       "Plot with title “Fitted Residual Plot of pdynmc_fit”"
      ]
     },
     "metadata": {
      "image/png": {
       "height": 420,
       "width": 420
      }
     },
     "output_type": "display_data"
    }
   ],
   "source": [
    "pdynmc_resid <- data.frame(residuals=unlist(residuals(pdynmc_fit)),\n",
    "                           fitted=unlist(fitted.values(pdynmc_fit)))\n",
    "resid.reg <- lm(residuals ~ fitted, data=pdynmc_resid)\n",
    "plot(pdynmc_fit)\n",
    "abline(resid.reg, col='darkred')\n",
    "summary(resid.reg)"
   ]
  },
  {
   "cell_type": "code",
   "execution_count": 8,
   "metadata": {
    "execution": {},
    "kernel": "R",
    "papermill": {
     "duration": 0.345483,
     "end_time": "2020-09-25T11:20:28.388956",
     "exception": false,
     "start_time": "2020-09-25T11:20:28.043473",
     "status": "completed"
    },
    "tags": []
   },
   "outputs": [
    {
     "data": {
      "text/plain": [
       "\n",
       "\tJ-Test of Hansen\n",
       "\n",
       "data:  2step GMM Estimation; H0: overidentifying restrictions valid\n",
       "chisq = 76.588, df = 168, p-value = 1\n"
      ]
     },
     "metadata": {},
     "output_type": "display_data"
    },
    {
     "data": {
      "text/plain": [
       "\n",
       "\tArrelano and Bond (1991) serial correlation test of degree 1\n",
       "\n",
       "data:  2step GMM Estimation; H0: no serial correlation of order 1 in the error terms\n",
       "normal = -4.7924, p-value = 1.648e-06\n"
      ]
     },
     "metadata": {},
     "output_type": "display_data"
    },
    {
     "data": {
      "text/plain": [
       "\n",
       "\tArrelano and Bond (1991) serial correlation test of degree 2\n",
       "\n",
       "data:  2step GMM Estimation; H0: no serial correlation of order 2 in the error terms\n",
       "normal = 1.171, p-value = 0.2416\n"
      ]
     },
     "metadata": {},
     "output_type": "display_data"
    }
   ],
   "source": [
    "jtest.fct(pdynmc_fit)\n",
    "ser.corr1 <- mtest.fct(pdynmc_fit, t.order = 1)\n",
    "ser.corr1\n",
    "ser.corr2 <- mtest.fct(pdynmc_fit, t.order = 2)\n",
    "ser.corr2"
   ]
  },
  {
   "cell_type": "code",
   "execution_count": 9,
   "metadata": {
    "execution": {},
    "kernel": "R",
    "papermill": {
     "duration": 0.04819,
     "end_time": "2020-09-25T11:20:28.446946",
     "exception": false,
     "start_time": "2020-09-25T11:20:28.398756",
     "status": "completed"
    },
    "tags": []
   },
   "outputs": [
    {
     "data": {
      "text/html": [
       "<table>\n",
       "<caption>A data.frame: 5 × 4</caption>\n",
       "<thead>\n",
       "\t<tr><th></th><th scope=col>stat</th><th scope=col>test</th><th scope=col>p.value</th><th scope=col>result</th></tr>\n",
       "\t<tr><th></th><th scope=col>&lt;dbl&gt;</th><th scope=col>&lt;fct&gt;</th><th scope=col>&lt;dbl&gt;</th><th scope=col>&lt;fct&gt;</th></tr>\n",
       "</thead>\n",
       "<tbody>\n",
       "\t<tr><th scope=row>J-Test of Hansen</th><td> 76.588101</td><td>chisq </td><td>1.000000e+00</td><td>2step GMM Estimation; H0: overidentifying restrictions valid                 </td></tr>\n",
       "\t<tr><th scope=row>Wald test</th><td>355.392646</td><td>chisq </td><td>6.392990e-72</td><td>2step GMM Estimation; H0: slope parameters are jointly zero                  </td></tr>\n",
       "\t<tr><th scope=row>Wald test1</th><td> 58.990388</td><td>chisq </td><td>1.540839e-06</td><td>2step GMM Estimation; H0: time.dum parameters are jointly zero               </td></tr>\n",
       "\t<tr><th scope=row>Arrelano and Bond (1991) serial correlation test of degree 1</th><td> -4.792373</td><td>normal</td><td>1.648203e-06</td><td>2step GMM Estimation; H0: no serial correlation of order 1 in the error terms</td></tr>\n",
       "\t<tr><th scope=row>Arrelano and Bond (1991) serial correlation test of degree 2</th><td>  1.170968</td><td>normal</td><td>2.416116e-01</td><td>2step GMM Estimation; H0: no serial correlation of order 2 in the error terms</td></tr>\n",
       "</tbody>\n",
       "</table>\n"
      ],
      "text/latex": [
       "A data.frame: 5 × 4\n",
       "\\begin{tabular}{r|llll}\n",
       "  & stat & test & p.value & result\\\\\n",
       "  & <dbl> & <fct> & <dbl> & <fct>\\\\\n",
       "\\hline\n",
       "\tJ-Test of Hansen &  76.588101 & chisq  & 1.000000e+00 & 2step GMM Estimation; H0: overidentifying restrictions valid                 \\\\\n",
       "\tWald test & 355.392646 & chisq  & 6.392990e-72 & 2step GMM Estimation; H0: slope parameters are jointly zero                  \\\\\n",
       "\tWald test1 &  58.990388 & chisq  & 1.540839e-06 & 2step GMM Estimation; H0: time.dum parameters are jointly zero               \\\\\n",
       "\tArrelano and Bond (1991) serial correlation test of degree 1 &  -4.792373 & normal & 1.648203e-06 & 2step GMM Estimation; H0: no serial correlation of order 1 in the error terms\\\\\n",
       "\tArrelano and Bond (1991) serial correlation test of degree 2 &   1.170968 & normal & 2.416116e-01 & 2step GMM Estimation; H0: no serial correlation of order 2 in the error terms\\\\\n",
       "\\end{tabular}\n"
      ],
      "text/markdown": [
       "\n",
       "A data.frame: 5 × 4\n",
       "\n",
       "| <!--/--> | stat &lt;dbl&gt; | test &lt;fct&gt; | p.value &lt;dbl&gt; | result &lt;fct&gt; |\n",
       "|---|---|---|---|---|\n",
       "| J-Test of Hansen |  76.588101 | chisq  | 1.000000e+00 | 2step GMM Estimation; H0: overidentifying restrictions valid                  |\n",
       "| Wald test | 355.392646 | chisq  | 6.392990e-72 | 2step GMM Estimation; H0: slope parameters are jointly zero                   |\n",
       "| Wald test1 |  58.990388 | chisq  | 1.540839e-06 | 2step GMM Estimation; H0: time.dum parameters are jointly zero                |\n",
       "| Arrelano and Bond (1991) serial correlation test of degree 1 |  -4.792373 | normal | 1.648203e-06 | 2step GMM Estimation; H0: no serial correlation of order 1 in the error terms |\n",
       "| Arrelano and Bond (1991) serial correlation test of degree 2 |   1.170968 | normal | 2.416116e-01 | 2step GMM Estimation; H0: no serial correlation of order 2 in the error terms |\n",
       "\n"
      ],
      "text/plain": [
       "                                                             stat       test  \n",
       "J-Test of Hansen                                              76.588101 chisq \n",
       "Wald test                                                    355.392646 chisq \n",
       "Wald test1                                                    58.990388 chisq \n",
       "Arrelano and Bond (1991) serial correlation test of degree 1  -4.792373 normal\n",
       "Arrelano and Bond (1991) serial correlation test of degree 2   1.170968 normal\n",
       "                                                             p.value     \n",
       "J-Test of Hansen                                             1.000000e+00\n",
       "Wald test                                                    6.392990e-72\n",
       "Wald test1                                                   1.540839e-06\n",
       "Arrelano and Bond (1991) serial correlation test of degree 1 1.648203e-06\n",
       "Arrelano and Bond (1991) serial correlation test of degree 2 2.416116e-01\n",
       "                                                             result                                                                       \n",
       "J-Test of Hansen                                             2step GMM Estimation; H0: overidentifying restrictions valid                 \n",
       "Wald test                                                    2step GMM Estimation; H0: slope parameters are jointly zero                  \n",
       "Wald test1                                                   2step GMM Estimation; H0: time.dum parameters are jointly zero               \n",
       "Arrelano and Bond (1991) serial correlation test of degree 1 2step GMM Estimation; H0: no serial correlation of order 1 in the error terms\n",
       "Arrelano and Bond (1991) serial correlation test of degree 2 2step GMM Estimation; H0: no serial correlation of order 2 in the error terms"
      ]
     },
     "metadata": {},
     "output_type": "display_data"
    }
   ],
   "source": [
    "pdynmc_tests <- do.call(rbind, lapply(\n",
    "    list(pdynmc_summary$hansenj, pdynmc_summary$slopef, pdynmc_summary$time.dumf, ser.corr1, ser.corr2),\n",
    "    function(x) {\n",
    "        data.frame(stat=as.numeric(x$statistic), test=names(x$statistic),\n",
    "                   p.value=x$p.value, row.names=x$method, result=x$data.name)\n",
    "    }\n",
    "))\n",
    "pdynmc_tests"
   ]
  },
  {
   "cell_type": "code",
   "execution_count": 10,
   "metadata": {
    "execution": {},
    "kernel": "R",
    "papermill": {
     "duration": 0.036426,
     "end_time": "2020-09-25T11:20:28.493659",
     "exception": false,
     "start_time": "2020-09-25T11:20:28.457233",
     "status": "completed"
    },
    "tags": []
   },
   "outputs": [],
   "source": [
    "# plm.formula <- as.formula(plm_formula)\n",
    "# plm.params = modifyList(list(plm.formula,\n",
    "#                              data=data.panel),\n",
    "#                         plm_params)\n",
    "# z2 <- do.call(pgmm, plm.params)\n",
    "# z2$call <- plm.formula\n",
    "# summary(z2, robust = TRUE)"
   ]
  },
  {
   "cell_type": "code",
   "execution_count": 11,
   "metadata": {
    "execution": {},
    "kernel": "R",
    "papermill": {
     "duration": 0.037636,
     "end_time": "2020-09-25T11:20:28.541868",
     "exception": false,
     "start_time": "2020-09-25T11:20:28.504232",
     "status": "completed"
    },
    "tags": []
   },
   "outputs": [],
   "source": [
    "pdynmc_coef <- data.frame(pdynmc_summary$coefficients)"
   ]
  },
  {
   "cell_type": "code",
   "execution_count": 12,
   "metadata": {
    "execution": {},
    "kernel": "SoS",
    "papermill": {
     "duration": 0.218971,
     "end_time": "2020-09-25T11:20:28.771595",
     "exception": false,
     "start_time": "2020-09-25T11:20:28.552624",
     "status": "completed"
    },
    "tags": []
   },
   "outputs": [],
   "source": [
    "%get pdynmc_coef pdynmc_tests pdynmc_resid --from R\n",
    "import pickle\n",
    "import bz2\n",
    "\n",
    "with bz2.BZ2File(pickle_file, 'w') as fd:\n",
    "    pickle.dump({\n",
    "        'pdynmc_coef': pdynmc_coef,\n",
    "        'pdynmc_tests': pdynmc_tests,\n",
    "        'pdynmc_resid': pdynmc_resid,\n",
    "        'pdynmc_params': pdynmc_params,\n",
    "        'start_year': start_year,\n",
    "        'end_year': end_year,\n",
    "    }, fd)"
   ]
  },
  {
   "cell_type": "code",
   "execution_count": null,
   "metadata": {
    "kernel": "SoS",
    "papermill": {
     "duration": 0.010022,
     "end_time": "2020-09-25T11:20:28.792051",
     "exception": false,
     "start_time": "2020-09-25T11:20:28.782029",
     "status": "completed"
    },
    "tags": []
   },
   "outputs": [],
   "source": []
  }
 ],
 "metadata": {
  "kernelspec": {
   "display_name": "SoS",
   "language": "sos",
   "name": "sos"
  },
  "language_info": {
   "codemirror_mode": "sos",
   "file_extension": ".sos",
   "mimetype": "text/x-sos",
   "name": "sos",
   "nbconvert_exporter": "sos_notebook.converter.SoS_Exporter",
   "pygments_lexer": "sos"
  },
  "papermill": {
   "duration": 17.96823,
   "end_time": "2020-09-25T11:20:33.909650",
   "environment_variables": {},
   "exception": null,
   "input_path": "/home/drake/workspace/em-2020/analysis/D3_gmm_template.ipynb",
   "output_path": "/home/drake/workspace/em-2020/analysis/D3_gmm/diffGMM_Rafiq2016-KAOPEN_all.ipynb",
   "parameters": {
    "data_fields": [
     "ENI",
     "POP",
     "URB",
     "AFL",
     "TI",
     "TS",
     "CTS",
     "KAOPEN"
    ],
    "dataset_file": "/home/drake/workspace/em-2020/data/combined_dataset_all_final.csv",
    "end_year": 2015,
    "exclude_countries": [],
    "index_fields": [
     "Country",
     "Year"
    ],
    "pdynmc_params": {
     "dum.diff": true,
     "dum.lev": false,
     "estimation": "twostep",
     "fur.con": true,
     "fur.con.diff": true,
     "fur.con.lev": false,
     "include.dum": true,
     "include.y": true,
     "inst.stata": false,
     "lagTerms.reg.fur": [
      0,
      0,
      0,
      0,
      0,
      0
     ],
     "lagTerms.y": 2,
     "opt.meth": "none",
     "std.err": "corrected",
     "use.mc.diff": true,
     "use.mc.lev": false,
     "use.mc.nonlin": false,
     "varname.reg.fur": [
      "POP",
      "AFL",
      "AFL2",
      "URB",
      "TS",
      "KAOPEN"
     ],
     "varname.y": "ENI",
     "w.mat": "iid.err"
    },
    "pickle_file": "/home/drake/workspace/em-2020/analysis/D3_gmm/diffGMM_Rafiq2016-KAOPEN_all.pickle.bz2",
    "prefix": "template",
    "start_year": 1996
   },
   "start_time": "2020-09-25T11:20:15.941420",
   "version": "2.1.3"
  },
  "sos": {
   "kernels": [
    [
     "R",
     "ir",
     "R",
     "",
     "r"
    ],
    [
     "SoS",
     "sos",
     "",
     "",
     "sos"
    ],
    [
     "em-2020",
     "em-2020",
     "python3",
     "",
     {
      "name": "ipython",
      "version": 3
     }
    ]
   ],
   "version": "0.21.19"
  }
 },
 "nbformat": 4,
 "nbformat_minor": 4
}