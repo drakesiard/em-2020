{
 "cells": [
  {
   "cell_type": "code",
   "execution_count": 1,
   "metadata": {
    "kernel": "em-2020"
   },
   "outputs": [],
   "source": [
    "from functools import partial\n",
    "import numpy as np\n",
    "import os\n",
    "import pandas as pd\n",
    "import scipy\n",
    "\n",
    "import seaborn as sns\n",
    "import matplotlib as mpl\n",
    "import matplotlib.pyplot as plt\n",
    "\n",
    "\n",
    "import util\n",
    "\n",
    "save_fig = partial(util.save_fig, save=True)"
   ]
  },
  {
   "cell_type": "code",
   "execution_count": 2,
   "metadata": {
    "kernel": "em-2020",
    "tags": [
     "parameters"
    ]
   },
   "outputs": [],
   "source": [
    "dataset_file = util.DATASET_SUBSET_FINAL\n",
    "prefix = 'template'\n",
    "idx = ['Country', 'Year']\n",
    "fields = ['ENI' ,'POP', 'URB', 'AFL' , 'TI', 'CTS' ,'KAOPEN']"
   ]
  },
  {
   "cell_type": "code",
   "execution_count": 3,
   "metadata": {
    "kernel": "em-2020"
   },
   "outputs": [],
   "source": [
    "%put dataset_file\n",
    "%put idx\n",
    "%put fields"
   ]
  },
  {
   "cell_type": "code",
   "execution_count": 4,
   "metadata": {
    "kernel": "R"
   },
   "outputs": [],
   "source": [
    "%get dataset_file\n",
    "%get idx\n",
    "%get fields\n",
    "suppressMessages({\n",
    "library(plm)\n",
    "#library(dplyr)\n",
    "})\n",
    "`%notin%` <- Negate(`%in%`)\n",
    " \n",
    "data <- subset(read.csv(dataset_file), select=c(idx, fields),\n",
    "               subset=(Country %notin% c('VEN', 'DZA'))\n",
    "#                 & (2000 <= Year) & (Year <= 2015)\n",
    "              )\n",
    "panel <- pdata.frame(data, index = c(\"Country\", \"Year\"), drop.index = TRUE, row.names=TRUE)"
   ]
  },
  {
   "cell_type": "code",
   "execution_count": 5,
   "metadata": {
    "kernel": "R"
   },
   "outputs": [
    {
     "name": "stderr",
     "output_type": "stream",
     "text": [
      "Warning message in cipstest(panel[[x]], type = \"trend\", model = \"mg\", lag = 3):\n",
      "“p-value greater than printed p-value”\n",
      "Warning message in cipstest(panel[[x]], type = \"trend\", model = \"mg\", lag = 3):\n",
      "“p-value greater than printed p-value”\n",
      "Warning message in cipstest(panel[[x]], type = \"trend\", model = \"mg\", lag = 3):\n",
      "“p-value greater than printed p-value”\n",
      "Warning message in cipstest(panel[[x]], type = \"trend\", model = \"mg\", lag = 3):\n",
      "“p-value greater than printed p-value”\n",
      "Warning message in cipstest(panel[[x]], type = \"trend\", model = \"mg\", lag = 3):\n",
      "“p-value greater than printed p-value”\n",
      "Warning message in cipstest(panel[[x]], type = \"trend\", model = \"mg\", lag = 3):\n",
      "“p-value greater than printed p-value”\n"
     ]
    },
    {
     "data": {
      "text/html": [
       "<table>\n",
       "<caption>A data.frame: 2 × 6</caption>\n",
       "<thead>\n",
       "\t<tr><th></th><th scope=col>ENI</th><th scope=col>POP</th><th scope=col>URB</th><th scope=col>AFL</th><th scope=col>TI</th><th scope=col>CTS</th></tr>\n",
       "\t<tr><th></th><th scope=col>&lt;dbl&gt;</th><th scope=col>&lt;dbl&gt;</th><th scope=col>&lt;dbl&gt;</th><th scope=col>&lt;dbl&gt;</th><th scope=col>&lt;dbl&gt;</th><th scope=col>&lt;dbl&gt;</th></tr>\n",
       "</thead>\n",
       "<tbody>\n",
       "\t<tr><th scope=row>statistic</th><td>-2.079356</td><td>-1.846366</td><td>-2.578466</td><td>-1.722006</td><td>-2.260126</td><td>-2.397524</td></tr>\n",
       "\t<tr><th scope=row>p.value</th><td> 0.100000</td><td> 0.100000</td><td> 0.100000</td><td> 0.100000</td><td> 0.100000</td><td> 0.100000</td></tr>\n",
       "</tbody>\n",
       "</table>\n"
      ],
      "text/latex": [
       "A data.frame: 2 × 6\n",
       "\\begin{tabular}{r|llllll}\n",
       "  & ENI & POP & URB & AFL & TI & CTS\\\\\n",
       "  & <dbl> & <dbl> & <dbl> & <dbl> & <dbl> & <dbl>\\\\\n",
       "\\hline\n",
       "\tstatistic & -2.079356 & -1.846366 & -2.578466 & -1.722006 & -2.260126 & -2.397524\\\\\n",
       "\tp.value &  0.100000 &  0.100000 &  0.100000 &  0.100000 &  0.100000 &  0.100000\\\\\n",
       "\\end{tabular}\n"
      ],
      "text/markdown": [
       "\n",
       "A data.frame: 2 × 6\n",
       "\n",
       "| <!--/--> | ENI &lt;dbl&gt; | POP &lt;dbl&gt; | URB &lt;dbl&gt; | AFL &lt;dbl&gt; | TI &lt;dbl&gt; | CTS &lt;dbl&gt; |\n",
       "|---|---|---|---|---|---|---|\n",
       "| statistic | -2.079356 | -1.846366 | -2.578466 | -1.722006 | -2.260126 | -2.397524 |\n",
       "| p.value |  0.100000 |  0.100000 |  0.100000 |  0.100000 |  0.100000 |  0.100000 |\n",
       "\n"
      ],
      "text/plain": [
       "          ENI       POP       URB       AFL       TI        CTS      \n",
       "statistic -2.079356 -1.846366 -2.578466 -1.722006 -2.260126 -2.397524\n",
       "p.value    0.100000  0.100000  0.100000  0.100000  0.100000  0.100000"
      ]
     },
     "metadata": {},
     "output_type": "display_data"
    }
   ],
   "source": [
    "cips_result <- as.data.frame(sapply(\n",
    "    c('ENI' ,'POP', 'URB', 'AFL' , 'TI', 'CTS'), \n",
    "    function(x){\n",
    "        res <- cipstest(panel[[x]], type='trend', model='mg', lag=3)\n",
    "#         return(as.numeric(res[c('statistic', 'p.value')]))\n",
    "        return(c(statistic=as.numeric(res$statistic), \n",
    "                 p.value=as.numeric(res$p.value)))\n",
    "    }))\n",
    "cips_result"
   ]
  },
  {
   "cell_type": "code",
   "execution_count": 6,
   "metadata": {
    "kernel": "R"
   },
   "outputs": [
    {
     "name": "stderr",
     "output_type": "stream",
     "text": [
      "Warning message in cipstest(panel[[x]], type = \"trend\", model = \"dmg\", lag = 3):\n",
      "“p-value greater than printed p-value”\n",
      "Warning message in cipstest(panel[[x]], type = \"trend\", model = \"dmg\", lag = 3):\n",
      "“p-value greater than printed p-value”\n",
      "Warning message in cipstest(panel[[x]], type = \"trend\", model = \"dmg\", lag = 3):\n",
      "“p-value greater than printed p-value”\n",
      "Warning message in cipstest(panel[[x]], type = \"trend\", model = \"dmg\", lag = 3):\n",
      "“p-value greater than printed p-value”\n",
      "Warning message in cipstest(panel[[x]], type = \"trend\", model = \"dmg\", lag = 3):\n",
      "“p-value greater than printed p-value”\n",
      "Warning message in cipstest(panel[[x]], type = \"trend\", model = \"dmg\", lag = 3):\n",
      "“p-value greater than printed p-value”\n"
     ]
    },
    {
     "data": {
      "text/html": [
       "<table>\n",
       "<caption>A data.frame: 2 × 6</caption>\n",
       "<thead>\n",
       "\t<tr><th></th><th scope=col>ENI</th><th scope=col>POP</th><th scope=col>URB</th><th scope=col>AFL</th><th scope=col>TI</th><th scope=col>CTS</th></tr>\n",
       "\t<tr><th></th><th scope=col>&lt;dbl&gt;</th><th scope=col>&lt;dbl&gt;</th><th scope=col>&lt;dbl&gt;</th><th scope=col>&lt;dbl&gt;</th><th scope=col>&lt;dbl&gt;</th><th scope=col>&lt;dbl&gt;</th></tr>\n",
       "</thead>\n",
       "<tbody>\n",
       "\t<tr><th scope=row>statistic</th><td>-1.234398</td><td>-0.5787239</td><td>-1.369577</td><td>-1.428646</td><td>-0.9719993</td><td>-1.289927</td></tr>\n",
       "\t<tr><th scope=row>p.value</th><td> 0.100000</td><td> 0.1000000</td><td> 0.100000</td><td> 0.100000</td><td> 0.1000000</td><td> 0.100000</td></tr>\n",
       "</tbody>\n",
       "</table>\n"
      ],
      "text/latex": [
       "A data.frame: 2 × 6\n",
       "\\begin{tabular}{r|llllll}\n",
       "  & ENI & POP & URB & AFL & TI & CTS\\\\\n",
       "  & <dbl> & <dbl> & <dbl> & <dbl> & <dbl> & <dbl>\\\\\n",
       "\\hline\n",
       "\tstatistic & -1.234398 & -0.5787239 & -1.369577 & -1.428646 & -0.9719993 & -1.289927\\\\\n",
       "\tp.value &  0.100000 &  0.1000000 &  0.100000 &  0.100000 &  0.1000000 &  0.100000\\\\\n",
       "\\end{tabular}\n"
      ],
      "text/markdown": [
       "\n",
       "A data.frame: 2 × 6\n",
       "\n",
       "| <!--/--> | ENI &lt;dbl&gt; | POP &lt;dbl&gt; | URB &lt;dbl&gt; | AFL &lt;dbl&gt; | TI &lt;dbl&gt; | CTS &lt;dbl&gt; |\n",
       "|---|---|---|---|---|---|---|\n",
       "| statistic | -1.234398 | -0.5787239 | -1.369577 | -1.428646 | -0.9719993 | -1.289927 |\n",
       "| p.value |  0.100000 |  0.1000000 |  0.100000 |  0.100000 |  0.1000000 |  0.100000 |\n",
       "\n"
      ],
      "text/plain": [
       "          ENI       POP        URB       AFL       TI         CTS      \n",
       "statistic -1.234398 -0.5787239 -1.369577 -1.428646 -0.9719993 -1.289927\n",
       "p.value    0.100000  0.1000000  0.100000  0.100000  0.1000000  0.100000"
      ]
     },
     "metadata": {},
     "output_type": "display_data"
    }
   ],
   "source": [
    "cips_result <- as.data.frame(sapply(\n",
    "    c('ENI' ,'POP', 'URB', 'AFL' , 'TI', 'CTS'), \n",
    "    function(x){\n",
    "        res <- cipstest(panel[[x]], type='trend', model='dmg', lag=3)\n",
    "#         return(as.numeric(res[c('statistic', 'p.value')]))\n",
    "        return(c(statistic=as.numeric(res$statistic), \n",
    "                 p.value=as.numeric(res$p.value)))\n",
    "    }))\n",
    "cips_result"
   ]
  },
  {
   "cell_type": "code",
   "execution_count": 7,
   "metadata": {
    "kernel": "R"
   },
   "outputs": [
    {
     "name": "stderr",
     "output_type": "stream",
     "text": [
      "Warning message in cipstest(panel[[x]], type = \"trend\", model = \"cmg\", lag = 3):\n",
      "“p-value greater than printed p-value”\n",
      "Warning message in cipstest(panel[[x]], type = \"trend\", model = \"cmg\", lag = 3):\n",
      "“p-value greater than printed p-value”\n",
      "Warning message in cipstest(panel[[x]], type = \"trend\", model = \"cmg\", lag = 3):\n",
      "“p-value greater than printed p-value”\n",
      "Warning message in cipstest(panel[[x]], type = \"trend\", model = \"cmg\", lag = 3):\n",
      "“p-value greater than printed p-value”\n",
      "Warning message in cipstest(panel[[x]], type = \"trend\", model = \"cmg\", lag = 3):\n",
      "“p-value greater than printed p-value”\n",
      "Warning message in cipstest(panel[[x]], type = \"trend\", model = \"cmg\", lag = 3):\n",
      "“p-value greater than printed p-value”\n"
     ]
    },
    {
     "data": {
      "text/html": [
       "<table>\n",
       "<caption>A data.frame: 2 × 6</caption>\n",
       "<thead>\n",
       "\t<tr><th></th><th scope=col>ENI</th><th scope=col>POP</th><th scope=col>URB</th><th scope=col>AFL</th><th scope=col>TI</th><th scope=col>CTS</th></tr>\n",
       "\t<tr><th></th><th scope=col>&lt;dbl&gt;</th><th scope=col>&lt;dbl&gt;</th><th scope=col>&lt;dbl&gt;</th><th scope=col>&lt;dbl&gt;</th><th scope=col>&lt;dbl&gt;</th><th scope=col>&lt;dbl&gt;</th></tr>\n",
       "</thead>\n",
       "<tbody>\n",
       "\t<tr><th scope=row>statistic</th><td>-1.675509</td><td>-1.300285</td><td>-1.598904</td><td>-1.746221</td><td>-1.858698</td><td>-1.614425</td></tr>\n",
       "\t<tr><th scope=row>p.value</th><td> 0.100000</td><td> 0.100000</td><td> 0.100000</td><td> 0.100000</td><td> 0.100000</td><td> 0.100000</td></tr>\n",
       "</tbody>\n",
       "</table>\n"
      ],
      "text/latex": [
       "A data.frame: 2 × 6\n",
       "\\begin{tabular}{r|llllll}\n",
       "  & ENI & POP & URB & AFL & TI & CTS\\\\\n",
       "  & <dbl> & <dbl> & <dbl> & <dbl> & <dbl> & <dbl>\\\\\n",
       "\\hline\n",
       "\tstatistic & -1.675509 & -1.300285 & -1.598904 & -1.746221 & -1.858698 & -1.614425\\\\\n",
       "\tp.value &  0.100000 &  0.100000 &  0.100000 &  0.100000 &  0.100000 &  0.100000\\\\\n",
       "\\end{tabular}\n"
      ],
      "text/markdown": [
       "\n",
       "A data.frame: 2 × 6\n",
       "\n",
       "| <!--/--> | ENI &lt;dbl&gt; | POP &lt;dbl&gt; | URB &lt;dbl&gt; | AFL &lt;dbl&gt; | TI &lt;dbl&gt; | CTS &lt;dbl&gt; |\n",
       "|---|---|---|---|---|---|---|\n",
       "| statistic | -1.675509 | -1.300285 | -1.598904 | -1.746221 | -1.858698 | -1.614425 |\n",
       "| p.value |  0.100000 |  0.100000 |  0.100000 |  0.100000 |  0.100000 |  0.100000 |\n",
       "\n"
      ],
      "text/plain": [
       "          ENI       POP       URB       AFL       TI        CTS      \n",
       "statistic -1.675509 -1.300285 -1.598904 -1.746221 -1.858698 -1.614425\n",
       "p.value    0.100000  0.100000  0.100000  0.100000  0.100000  0.100000"
      ]
     },
     "metadata": {},
     "output_type": "display_data"
    }
   ],
   "source": [
    "cips_result <- as.data.frame(sapply(\n",
    "    c('ENI' ,'POP', 'URB', 'AFL' , 'TI', 'CTS'), \n",
    "    function(x){\n",
    "        res <- cipstest(panel[[x]], type='trend', model='cmg', lag=3)\n",
    "#         return(as.numeric(res[c('statistic', 'p.value')]))\n",
    "        return(c(statistic=as.numeric(res$statistic), \n",
    "                 p.value=as.numeric(res$p.value)))\n",
    "    }))\n",
    "cips_result"
   ]
  },
  {
   "cell_type": "code",
   "execution_count": 8,
   "metadata": {
    "kernel": "em-2020"
   },
   "outputs": [
    {
     "data": {
      "text/html": [
       "<div>\n",
       "<style scoped>\n",
       "    .dataframe tbody tr th:only-of-type {\n",
       "        vertical-align: middle;\n",
       "    }\n",
       "\n",
       "    .dataframe tbody tr th {\n",
       "        vertical-align: top;\n",
       "    }\n",
       "\n",
       "    .dataframe thead th {\n",
       "        text-align: right;\n",
       "    }\n",
       "</style>\n",
       "<table border=\"1\" class=\"dataframe\">\n",
       "  <thead>\n",
       "    <tr style=\"text-align: right;\">\n",
       "      <th></th>\n",
       "      <th>ENI</th>\n",
       "      <th>POP</th>\n",
       "      <th>URB</th>\n",
       "      <th>AFL</th>\n",
       "      <th>TI</th>\n",
       "      <th>CTS</th>\n",
       "    </tr>\n",
       "  </thead>\n",
       "  <tbody>\n",
       "    <tr>\n",
       "      <th>statistic</th>\n",
       "      <td>-1.675509</td>\n",
       "      <td>-1.300285</td>\n",
       "      <td>-1.598904</td>\n",
       "      <td>-1.746221</td>\n",
       "      <td>-1.858698</td>\n",
       "      <td>-1.614425</td>\n",
       "    </tr>\n",
       "    <tr>\n",
       "      <th>p.value</th>\n",
       "      <td>0.100000</td>\n",
       "      <td>0.100000</td>\n",
       "      <td>0.100000</td>\n",
       "      <td>0.100000</td>\n",
       "      <td>0.100000</td>\n",
       "      <td>0.100000</td>\n",
       "    </tr>\n",
       "  </tbody>\n",
       "</table>\n",
       "</div>"
      ],
      "text/plain": [
       "                ENI       POP       URB       AFL        TI       CTS\n",
       "statistic -1.675509 -1.300285 -1.598904 -1.746221 -1.858698 -1.614425\n",
       "p.value    0.100000  0.100000  0.100000  0.100000  0.100000  0.100000"
      ]
     },
     "execution_count": 8,
     "metadata": {},
     "output_type": "execute_result"
    }
   ],
   "source": [
    "%get cips_result --from R\n",
    "cips_result"
   ]
  },
  {
   "cell_type": "code",
   "execution_count": 9,
   "metadata": {
    "kernel": "em-2020"
   },
   "outputs": [
    {
     "data": {
      "text/html": [
       "<div>\n",
       "<style scoped>\n",
       "    .dataframe tbody tr th:only-of-type {\n",
       "        vertical-align: middle;\n",
       "    }\n",
       "\n",
       "    .dataframe tbody tr th {\n",
       "        vertical-align: top;\n",
       "    }\n",
       "\n",
       "    .dataframe thead th {\n",
       "        text-align: right;\n",
       "    }\n",
       "</style>\n",
       "<table border=\"1\" class=\"dataframe\">\n",
       "  <thead>\n",
       "    <tr style=\"text-align: right;\">\n",
       "      <th></th>\n",
       "      <th>statistic</th>\n",
       "      <th>p-value</th>\n",
       "    </tr>\n",
       "  </thead>\n",
       "  <tbody>\n",
       "    <tr>\n",
       "      <th>ENI</th>\n",
       "      <td>-1.68</td>\n",
       "      <td>$\\geq 0.10$</td>\n",
       "    </tr>\n",
       "    <tr>\n",
       "      <th>POP</th>\n",
       "      <td>-1.30</td>\n",
       "      <td>$\\geq 0.10$</td>\n",
       "    </tr>\n",
       "    <tr>\n",
       "      <th>URB</th>\n",
       "      <td>-1.60</td>\n",
       "      <td>$\\geq 0.10$</td>\n",
       "    </tr>\n",
       "    <tr>\n",
       "      <th>AFL</th>\n",
       "      <td>-1.75</td>\n",
       "      <td>$\\geq 0.10$</td>\n",
       "    </tr>\n",
       "    <tr>\n",
       "      <th>TI</th>\n",
       "      <td>-1.86</td>\n",
       "      <td>$\\geq 0.10$</td>\n",
       "    </tr>\n",
       "    <tr>\n",
       "      <th>CTS</th>\n",
       "      <td>-1.61</td>\n",
       "      <td>$\\geq 0.10$</td>\n",
       "    </tr>\n",
       "  </tbody>\n",
       "</table>\n",
       "</div>"
      ],
      "text/plain": [
       "    statistic      p-value\n",
       "ENI     -1.68  $\\geq 0.10$\n",
       "POP     -1.30  $\\geq 0.10$\n",
       "URB     -1.60  $\\geq 0.10$\n",
       "AFL     -1.75  $\\geq 0.10$\n",
       "TI      -1.86  $\\geq 0.10$\n",
       "CTS     -1.61  $\\geq 0.10$"
      ]
     },
     "execution_count": 9,
     "metadata": {},
     "output_type": "execute_result"
    }
   ],
   "source": [
    "def p_scaler(p):\n",
    "    if p >= 0.1:\n",
    "        return '$\\geq 0.10$'\n",
    "    elif p <= 0.01:\n",
    "        return '$\\leq 0.01$'\n",
    "    else:\n",
    "        return '{:.2f}'.format(p)\n",
    "\n",
    "result = cips_result.T\n",
    "result.rename(columns={'p.value': 'p-value'}, inplace=True)\n",
    "result = result.apply({\n",
    "    'statistic': '{:.2f}'.format,\n",
    "    'p-value': p_scaler,\n",
    "})\n",
    "result"
   ]
  },
  {
   "cell_type": "code",
   "execution_count": 10,
   "metadata": {
    "kernel": "em-2020"
   },
   "outputs": [
    {
     "name": "stdout",
     "output_type": "stream",
     "text": [
      "\\begin{tabular}{lll}\n",
      "\\toprule\n",
      "{} & statistic &      p-value \\\\\n",
      "\\midrule\n",
      "ENI &     -1.68 &  $\\geq 0.10$ \\\\\n",
      "POP &     -1.30 &  $\\geq 0.10$ \\\\\n",
      "URB &     -1.60 &  $\\geq 0.10$ \\\\\n",
      "AFL &     -1.75 &  $\\geq 0.10$ \\\\\n",
      "TI  &     -1.86 &  $\\geq 0.10$ \\\\\n",
      "CTS &     -1.61 &  $\\geq 0.10$ \\\\\n",
      "\\bottomrule\n",
      "\\end{tabular}\n",
      "\n"
     ]
    }
   ],
   "source": [
    "print(result.to_latex(escape=False))"
   ]
  },
  {
   "cell_type": "code",
   "execution_count": 11,
   "metadata": {
    "kernel": "R"
   },
   "outputs": [
    {
     "data": {
      "text/html": [
       "<table>\n",
       "<caption>A data.frame: 2 × 6</caption>\n",
       "<thead>\n",
       "\t<tr><th></th><th scope=col>ENI</th><th scope=col>POP</th><th scope=col>URB</th><th scope=col>AFL</th><th scope=col>TI</th><th scope=col>CTS</th></tr>\n",
       "\t<tr><th></th><th scope=col>&lt;dbl&gt;</th><th scope=col>&lt;dbl&gt;</th><th scope=col>&lt;dbl&gt;</th><th scope=col>&lt;dbl&gt;</th><th scope=col>&lt;dbl&gt;</th><th scope=col>&lt;dbl&gt;</th></tr>\n",
       "</thead>\n",
       "<tbody>\n",
       "\t<tr><th scope=row>statistic</th><td>1.032223e+02</td><td>1.250910e+02</td><td>3.432162e+02</td><td>77.878507089</td><td>70.229878599</td><td>1.564510e+02</td></tr>\n",
       "\t<tr><th scope=row>p.value</th><td>1.155974e-06</td><td>1.050415e-09</td><td>5.556458e-48</td><td> 0.001236957</td><td> 0.007214226</td><td>1.629924e-14</td></tr>\n",
       "</tbody>\n",
       "</table>\n"
      ],
      "text/latex": [
       "A data.frame: 2 × 6\n",
       "\\begin{tabular}{r|llllll}\n",
       "  & ENI & POP & URB & AFL & TI & CTS\\\\\n",
       "  & <dbl> & <dbl> & <dbl> & <dbl> & <dbl> & <dbl>\\\\\n",
       "\\hline\n",
       "\tstatistic & 1.032223e+02 & 1.250910e+02 & 3.432162e+02 & 77.878507089 & 70.229878599 & 1.564510e+02\\\\\n",
       "\tp.value & 1.155974e-06 & 1.050415e-09 & 5.556458e-48 &  0.001236957 &  0.007214226 & 1.629924e-14\\\\\n",
       "\\end{tabular}\n"
      ],
      "text/markdown": [
       "\n",
       "A data.frame: 2 × 6\n",
       "\n",
       "| <!--/--> | ENI &lt;dbl&gt; | POP &lt;dbl&gt; | URB &lt;dbl&gt; | AFL &lt;dbl&gt; | TI &lt;dbl&gt; | CTS &lt;dbl&gt; |\n",
       "|---|---|---|---|---|---|---|\n",
       "| statistic | 1.032223e+02 | 1.250910e+02 | 3.432162e+02 | 77.878507089 | 70.229878599 | 1.564510e+02 |\n",
       "| p.value | 1.155974e-06 | 1.050415e-09 | 5.556458e-48 |  0.001236957 |  0.007214226 | 1.629924e-14 |\n",
       "\n"
      ],
      "text/plain": [
       "          ENI          POP          URB          AFL          TI          \n",
       "statistic 1.032223e+02 1.250910e+02 3.432162e+02 77.878507089 70.229878599\n",
       "p.value   1.155974e-06 1.050415e-09 5.556458e-48  0.001236957  0.007214226\n",
       "          CTS         \n",
       "statistic 1.564510e+02\n",
       "p.value   1.629924e-14"
      ]
     },
     "metadata": {},
     "output_type": "display_data"
    }
   ],
   "source": [
    "madwu_result <- as.data.frame(sapply(\n",
    "    c('ENI' ,'POP', 'URB', 'AFL' , 'TI', 'CTS'), \n",
    "    function(x){\n",
    "        res <- purtest(na.omit(panel[[x]]), pmax=4, exo='trend', test='madwu', lags='SIC')\n",
    "        return(c(statistic=as.numeric(res$statistic$statistic), \n",
    "                 p.value=as.numeric(res$statistic$p.value)))\n",
    "    }))\n",
    "madwu_result"
   ]
  },
  {
   "cell_type": "code",
   "execution_count": 12,
   "metadata": {
    "kernel": "em-2020"
   },
   "outputs": [
    {
     "data": {
      "text/html": [
       "<div>\n",
       "<style scoped>\n",
       "    .dataframe tbody tr th:only-of-type {\n",
       "        vertical-align: middle;\n",
       "    }\n",
       "\n",
       "    .dataframe tbody tr th {\n",
       "        vertical-align: top;\n",
       "    }\n",
       "\n",
       "    .dataframe thead th {\n",
       "        text-align: right;\n",
       "    }\n",
       "</style>\n",
       "<table border=\"1\" class=\"dataframe\">\n",
       "  <thead>\n",
       "    <tr style=\"text-align: right;\">\n",
       "      <th></th>\n",
       "      <th>ENI</th>\n",
       "      <th>POP</th>\n",
       "      <th>URB</th>\n",
       "      <th>AFL</th>\n",
       "      <th>TI</th>\n",
       "      <th>CTS</th>\n",
       "    </tr>\n",
       "  </thead>\n",
       "  <tbody>\n",
       "    <tr>\n",
       "      <th>statistic</th>\n",
       "      <td>103.222310</td>\n",
       "      <td>1.250910e+02</td>\n",
       "      <td>3.432162e+02</td>\n",
       "      <td>77.878507</td>\n",
       "      <td>70.229879</td>\n",
       "      <td>1.564510e+02</td>\n",
       "    </tr>\n",
       "    <tr>\n",
       "      <th>p.value</th>\n",
       "      <td>0.000001</td>\n",
       "      <td>1.050415e-09</td>\n",
       "      <td>5.556458e-48</td>\n",
       "      <td>0.001237</td>\n",
       "      <td>0.007214</td>\n",
       "      <td>1.629924e-14</td>\n",
       "    </tr>\n",
       "  </tbody>\n",
       "</table>\n",
       "</div>"
      ],
      "text/plain": [
       "                  ENI           POP           URB        AFL         TI  \\\n",
       "statistic  103.222310  1.250910e+02  3.432162e+02  77.878507  70.229879   \n",
       "p.value      0.000001  1.050415e-09  5.556458e-48   0.001237   0.007214   \n",
       "\n",
       "                    CTS  \n",
       "statistic  1.564510e+02  \n",
       "p.value    1.629924e-14  "
      ]
     },
     "execution_count": 12,
     "metadata": {},
     "output_type": "execute_result"
    }
   ],
   "source": [
    "%get madwu_result --from R \n",
    "madwu_result"
   ]
  },
  {
   "cell_type": "code",
   "execution_count": 13,
   "metadata": {
    "kernel": "em-2020"
   },
   "outputs": [
    {
     "data": {
      "text/html": [
       "<div>\n",
       "<style scoped>\n",
       "    .dataframe tbody tr th:only-of-type {\n",
       "        vertical-align: middle;\n",
       "    }\n",
       "\n",
       "    .dataframe tbody tr th {\n",
       "        vertical-align: top;\n",
       "    }\n",
       "\n",
       "    .dataframe thead th {\n",
       "        text-align: right;\n",
       "    }\n",
       "</style>\n",
       "<table border=\"1\" class=\"dataframe\">\n",
       "  <thead>\n",
       "    <tr style=\"text-align: right;\">\n",
       "      <th></th>\n",
       "      <th>statistic</th>\n",
       "      <th>p-value</th>\n",
       "    </tr>\n",
       "  </thead>\n",
       "  <tbody>\n",
       "    <tr>\n",
       "      <th>ENI</th>\n",
       "      <td>103.22</td>\n",
       "      <td>$\\leq 0.01$</td>\n",
       "    </tr>\n",
       "    <tr>\n",
       "      <th>POP</th>\n",
       "      <td>125.09</td>\n",
       "      <td>$\\leq 0.01$</td>\n",
       "    </tr>\n",
       "    <tr>\n",
       "      <th>URB</th>\n",
       "      <td>343.22</td>\n",
       "      <td>$\\leq 0.01$</td>\n",
       "    </tr>\n",
       "    <tr>\n",
       "      <th>AFL</th>\n",
       "      <td>77.88</td>\n",
       "      <td>$\\leq 0.01$</td>\n",
       "    </tr>\n",
       "    <tr>\n",
       "      <th>TI</th>\n",
       "      <td>70.23</td>\n",
       "      <td>$\\leq 0.01$</td>\n",
       "    </tr>\n",
       "    <tr>\n",
       "      <th>CTS</th>\n",
       "      <td>156.45</td>\n",
       "      <td>$\\leq 0.01$</td>\n",
       "    </tr>\n",
       "  </tbody>\n",
       "</table>\n",
       "</div>"
      ],
      "text/plain": [
       "    statistic      p-value\n",
       "ENI    103.22  $\\leq 0.01$\n",
       "POP    125.09  $\\leq 0.01$\n",
       "URB    343.22  $\\leq 0.01$\n",
       "AFL     77.88  $\\leq 0.01$\n",
       "TI      70.23  $\\leq 0.01$\n",
       "CTS    156.45  $\\leq 0.01$"
      ]
     },
     "execution_count": 13,
     "metadata": {},
     "output_type": "execute_result"
    }
   ],
   "source": [
    "result = madwu_result.T\n",
    "result.rename(columns={'p.value': 'p-value'}, inplace=True)\n",
    "result = result.apply({\n",
    "    'statistic': '{:.2f}'.format,\n",
    "    'p-value': p_scaler,\n",
    "})\n",
    "result"
   ]
  },
  {
   "cell_type": "code",
   "execution_count": 14,
   "metadata": {
    "kernel": "em-2020"
   },
   "outputs": [
    {
     "name": "stdout",
     "output_type": "stream",
     "text": [
      "\\begin{tabular}{lll}\n",
      "\\toprule\n",
      "{} & statistic &      p-value \\\\\n",
      "\\midrule\n",
      "ENI &    103.22 &  $\\leq 0.01$ \\\\\n",
      "POP &    125.09 &  $\\leq 0.01$ \\\\\n",
      "URB &    343.22 &  $\\leq 0.01$ \\\\\n",
      "AFL &     77.88 &  $\\leq 0.01$ \\\\\n",
      "TI  &     70.23 &  $\\leq 0.01$ \\\\\n",
      "CTS &    156.45 &  $\\leq 0.01$ \\\\\n",
      "\\bottomrule\n",
      "\\end{tabular}\n",
      "\n"
     ]
    }
   ],
   "source": [
    "print(result.to_latex(escape=False))"
   ]
  },
  {
   "cell_type": "code",
   "execution_count": 15,
   "metadata": {
    "kernel": "R"
   },
   "outputs": [
    {
     "data": {
      "text/html": [
       "<style>\n",
       ".dl-inline {width: auto; margin:0; padding: 0}\n",
       ".dl-inline>dt, .dl-inline>dd {float: none; width: auto; display: inline-block}\n",
       ".dl-inline>dt::after {content: \":\\0020\"; padding-right: .5ex}\n",
       ".dl-inline>dt:not(:first-of-type) {padding-left: .5ex}\n",
       "</style><dl class=dl-inline><dt>ENI</dt><dd>TRUE</dd><dt>POP</dt><dd>TRUE</dd><dt>URB</dt><dd>TRUE</dd><dt>AFL</dt><dd>TRUE</dd><dt>TI</dt><dd>TRUE</dd><dt>CTS</dt><dd>TRUE</dd><dt>KAOPEN</dt><dd>TRUE</dd></dl>\n"
      ],
      "text/latex": [
       "\\begin{description*}\n",
       "\\item[ENI] TRUE\n",
       "\\item[POP] TRUE\n",
       "\\item[URB] TRUE\n",
       "\\item[AFL] TRUE\n",
       "\\item[TI] TRUE\n",
       "\\item[CTS] TRUE\n",
       "\\item[KAOPEN] TRUE\n",
       "\\end{description*}\n"
      ],
      "text/markdown": [
       "ENI\n",
       ":   TRUEPOP\n",
       ":   TRUEURB\n",
       ":   TRUEAFL\n",
       ":   TRUETI\n",
       ":   TRUECTS\n",
       ":   TRUEKAOPEN\n",
       ":   TRUE\n",
       "\n"
      ],
      "text/plain": [
       "   ENI    POP    URB    AFL     TI    CTS KAOPEN \n",
       "  TRUE   TRUE   TRUE   TRUE   TRUE   TRUE   TRUE "
      ]
     },
     "metadata": {},
     "output_type": "display_data"
    },
    {
     "data": {
      "text/html": [
       "<style>\n",
       ".dl-inline {width: auto; margin:0; padding: 0}\n",
       ".dl-inline>dt, .dl-inline>dd {float: none; width: auto; display: inline-block}\n",
       ".dl-inline>dt::after {content: \":\\0020\"; padding-right: .5ex}\n",
       ".dl-inline>dt:not(:first-of-type) {padding-left: .5ex}\n",
       "</style><dl class=dl-inline><dt>ENI</dt><dd>TRUE</dd><dt>POP</dt><dd>TRUE</dd><dt>URB</dt><dd>TRUE</dd><dt>AFL</dt><dd>TRUE</dd><dt>TI</dt><dd>TRUE</dd><dt>CTS</dt><dd>TRUE</dd><dt>KAOPEN</dt><dd>TRUE</dd></dl>\n"
      ],
      "text/latex": [
       "\\begin{description*}\n",
       "\\item[ENI] TRUE\n",
       "\\item[POP] TRUE\n",
       "\\item[URB] TRUE\n",
       "\\item[AFL] TRUE\n",
       "\\item[TI] TRUE\n",
       "\\item[CTS] TRUE\n",
       "\\item[KAOPEN] TRUE\n",
       "\\end{description*}\n"
      ],
      "text/markdown": [
       "ENI\n",
       ":   TRUEPOP\n",
       ":   TRUEURB\n",
       ":   TRUEAFL\n",
       ":   TRUETI\n",
       ":   TRUECTS\n",
       ":   TRUEKAOPEN\n",
       ":   TRUE\n",
       "\n"
      ],
      "text/plain": [
       "   ENI    POP    URB    AFL     TI    CTS KAOPEN \n",
       "  TRUE   TRUE   TRUE   TRUE   TRUE   TRUE   TRUE "
      ]
     },
     "metadata": {},
     "output_type": "display_data"
    },
    {
     "data": {
      "text/html": [
       "<style>\n",
       ".dl-inline {width: auto; margin:0; padding: 0}\n",
       ".dl-inline>dt, .dl-inline>dd {float: none; width: auto; display: inline-block}\n",
       ".dl-inline>dt::after {content: \":\\0020\"; padding-right: .5ex}\n",
       ".dl-inline>dt:not(:first-of-type) {padding-left: .5ex}\n",
       "</style><dl class=dl-inline><dt>ENI</dt><dd>FALSE</dd><dt>POP</dt><dd>FALSE</dd><dt>URB</dt><dd>FALSE</dd><dt>AFL</dt><dd>FALSE</dd><dt>TI</dt><dd>FALSE</dd><dt>CTS</dt><dd>FALSE</dd><dt>KAOPEN</dt><dd>FALSE</dd></dl>\n"
      ],
      "text/latex": [
       "\\begin{description*}\n",
       "\\item[ENI] FALSE\n",
       "\\item[POP] FALSE\n",
       "\\item[URB] FALSE\n",
       "\\item[AFL] FALSE\n",
       "\\item[TI] FALSE\n",
       "\\item[CTS] FALSE\n",
       "\\item[KAOPEN] FALSE\n",
       "\\end{description*}\n"
      ],
      "text/markdown": [
       "ENI\n",
       ":   FALSEPOP\n",
       ":   FALSEURB\n",
       ":   FALSEAFL\n",
       ":   FALSETI\n",
       ":   FALSECTS\n",
       ":   FALSEKAOPEN\n",
       ":   FALSE\n",
       "\n"
      ],
      "text/plain": [
       "   ENI    POP    URB    AFL     TI    CTS KAOPEN \n",
       " FALSE  FALSE  FALSE  FALSE  FALSE  FALSE  FALSE "
      ]
     },
     "metadata": {},
     "output_type": "display_data"
    },
    {
     "data": {
      "text/html": [
       "<style>\n",
       ".dl-inline {width: auto; margin:0; padding: 0}\n",
       ".dl-inline>dt, .dl-inline>dd {float: none; width: auto; display: inline-block}\n",
       ".dl-inline>dt::after {content: \":\\0020\"; padding-right: .5ex}\n",
       ".dl-inline>dt:not(:first-of-type) {padding-left: .5ex}\n",
       "</style><dl class=dl-inline><dt>ENI</dt><dd>FALSE</dd><dt>POP</dt><dd>FALSE</dd><dt>URB</dt><dd>FALSE</dd><dt>AFL</dt><dd>FALSE</dd><dt>TI</dt><dd>FALSE</dd><dt>CTS</dt><dd>FALSE</dd><dt>KAOPEN</dt><dd>FALSE</dd></dl>\n"
      ],
      "text/latex": [
       "\\begin{description*}\n",
       "\\item[ENI] FALSE\n",
       "\\item[POP] FALSE\n",
       "\\item[URB] FALSE\n",
       "\\item[AFL] FALSE\n",
       "\\item[TI] FALSE\n",
       "\\item[CTS] FALSE\n",
       "\\item[KAOPEN] FALSE\n",
       "\\end{description*}\n"
      ],
      "text/markdown": [
       "ENI\n",
       ":   FALSEPOP\n",
       ":   FALSEURB\n",
       ":   FALSEAFL\n",
       ":   FALSETI\n",
       ":   FALSECTS\n",
       ":   FALSEKAOPEN\n",
       ":   FALSE\n",
       "\n"
      ],
      "text/plain": [
       "   ENI    POP    URB    AFL     TI    CTS KAOPEN \n",
       " FALSE  FALSE  FALSE  FALSE  FALSE  FALSE  FALSE "
      ]
     },
     "metadata": {},
     "output_type": "display_data"
    }
   ],
   "source": [
    "v <- pvar(panel)\n",
    "v$id.variation\n",
    "v$time.variation\n",
    "v$id.variation_anyNA\n",
    "v$time.variation_anyNA"
   ]
  },
  {
   "cell_type": "code",
   "execution_count": null,
   "metadata": {
    "kernel": "R"
   },
   "outputs": [],
   "source": []
  }
 ],
 "metadata": {
  "kernelspec": {
   "display_name": "SoS",
   "language": "sos",
   "name": "sos"
  },
  "language_info": {
   "codemirror_mode": "sos",
   "file_extension": ".sos",
   "mimetype": "text/x-sos",
   "name": "sos",
   "nbconvert_exporter": "sos_notebook.converter.SoS_Exporter",
   "pygments_lexer": "sos"
  },
  "sos": {
   "kernels": [
    [
     "R",
     "ir",
     "R",
     "",
     "r"
    ],
    [
     "em-2020",
     "em-2020",
     "python3",
     "",
     {
      "name": "ipython",
      "version": 3
     }
    ]
   ],
   "version": "0.21.19"
  }
 },
 "nbformat": 4,
 "nbformat_minor": 4
}
