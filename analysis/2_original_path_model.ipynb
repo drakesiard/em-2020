{
 "cells": [
  {
   "cell_type": "markdown",
   "metadata": {
    "kernel": "SoS"
   },
   "source": [
    "# 2. Reproduce the original model"
   ]
  },
  {
   "cell_type": "code",
   "execution_count": 2,
   "metadata": {
    "kernel": "SoS"
   },
   "outputs": [],
   "source": [
    "import pandas as pd"
   ]
  },
  {
   "cell_type": "code",
   "execution_count": 3,
   "metadata": {
    "kernel": "R"
   },
   "outputs": [],
   "source": [
    "suppressMessages({\n",
    "library(lavaan)\n",
    "library(semPlot)\n",
    "library(semTools)\n",
    "library(MVN)\n",
    "library(Hmisc)\n",
    "})"
   ]
  },
  {
   "cell_type": "code",
   "execution_count": 4,
   "metadata": {
    "kernel": "R"
   },
   "outputs": [],
   "source": [
    "data.raw <- read.csv('../data/WB_BGD_201805.csv')\n",
    "data <- subset(data.raw, year >= 1986 & year <= 2015)\n",
    "data.log <- log(data)"
   ]
  },
  {
   "cell_type": "code",
   "execution_count": 5,
   "metadata": {
    "kernel": "R"
   },
   "outputs": [
    {
     "data": {
      "text/plain": [
       "      year           ISG              TO            P_GDP       \n",
       " Min.   :1986   Min.   :20.05   Min.   :16.69   Min.   : 227.4  \n",
       " 1st Qu.:1993   1st Qu.:22.86   1st Qu.:22.93   1st Qu.: 293.2  \n",
       " Median :2000   Median :23.92   Median :28.30   Median : 401.6  \n",
       " Mean   :2000   Mean   :24.07   Mean   :30.56   Mean   : 498.8  \n",
       " 3rd Qu.:2008   3rd Qu.:25.90   3rd Qu.:39.48   3rd Qu.: 597.1  \n",
       " Max.   :2015   Max.   :28.15   Max.   :48.11   Max.   :1210.2  \n",
       "                                                                \n",
       "       EI               TI       \n",
       " Min.   :0.2049   Min.   : 93.0  \n",
       " 1st Qu.:0.3205   1st Qu.:138.0  \n",
       " Median :0.3463   Median :291.0  \n",
       " Mean   :0.3513   Mean   :239.2  \n",
       " 3rd Qu.:0.4179   3rd Qu.:317.5  \n",
       " Max.   :0.4893   Max.   :354.0  \n",
       " NA's   :1                       "
      ]
     },
     "metadata": {},
     "output_type": "display_data"
    },
    {
     "data": {
      "text/html": [
       "<table>\n",
       "<caption>A matrix: 5 × 5 of type dbl</caption>\n",
       "<thead>\n",
       "\t<tr><th></th><th scope=col>ISG</th><th scope=col>TO</th><th scope=col>TI</th><th scope=col>P_GDP</th><th scope=col>EI</th></tr>\n",
       "</thead>\n",
       "<tbody>\n",
       "\t<tr><th scope=row>ISG</th><td> 1.0000000</td><td> 0.9327355</td><td> 0.7972720</td><td> 0.8715645</td><td>-0.8552086</td></tr>\n",
       "\t<tr><th scope=row>TO</th><td> 0.9327355</td><td> 1.0000000</td><td> 0.8417575</td><td> 0.8757430</td><td>-0.9187085</td></tr>\n",
       "\t<tr><th scope=row>TI</th><td> 0.7972720</td><td> 0.8417575</td><td> 1.0000000</td><td> 0.6928933</td><td>-0.7820815</td></tr>\n",
       "\t<tr><th scope=row>P_GDP</th><td> 0.8715645</td><td> 0.8757430</td><td> 0.6928933</td><td> 1.0000000</td><td>-0.9492223</td></tr>\n",
       "\t<tr><th scope=row>EI</th><td>-0.8552086</td><td>-0.9187085</td><td>-0.7820815</td><td>-0.9492223</td><td> 1.0000000</td></tr>\n",
       "</tbody>\n",
       "</table>\n"
      ],
      "text/latex": [
       "A matrix: 5 × 5 of type dbl\n",
       "\\begin{tabular}{r|lllll}\n",
       "  & ISG & TO & TI & P\\_GDP & EI\\\\\n",
       "\\hline\n",
       "\tISG &  1.0000000 &  0.9327355 &  0.7972720 &  0.8715645 & -0.8552086\\\\\n",
       "\tTO &  0.9327355 &  1.0000000 &  0.8417575 &  0.8757430 & -0.9187085\\\\\n",
       "\tTI &  0.7972720 &  0.8417575 &  1.0000000 &  0.6928933 & -0.7820815\\\\\n",
       "\tP\\_GDP &  0.8715645 &  0.8757430 &  0.6928933 &  1.0000000 & -0.9492223\\\\\n",
       "\tEI & -0.8552086 & -0.9187085 & -0.7820815 & -0.9492223 &  1.0000000\\\\\n",
       "\\end{tabular}\n"
      ],
      "text/markdown": [
       "\n",
       "A matrix: 5 × 5 of type dbl\n",
       "\n",
       "| <!--/--> | ISG | TO | TI | P_GDP | EI |\n",
       "|---|---|---|---|---|---|\n",
       "| ISG |  1.0000000 |  0.9327355 |  0.7972720 |  0.8715645 | -0.8552086 |\n",
       "| TO |  0.9327355 |  1.0000000 |  0.8417575 |  0.8757430 | -0.9187085 |\n",
       "| TI |  0.7972720 |  0.8417575 |  1.0000000 |  0.6928933 | -0.7820815 |\n",
       "| P_GDP |  0.8715645 |  0.8757430 |  0.6928933 |  1.0000000 | -0.9492223 |\n",
       "| EI | -0.8552086 | -0.9187085 | -0.7820815 | -0.9492223 |  1.0000000 |\n",
       "\n"
      ],
      "text/plain": [
       "      ISG        TO         TI         P_GDP      EI        \n",
       "ISG    1.0000000  0.9327355  0.7972720  0.8715645 -0.8552086\n",
       "TO     0.9327355  1.0000000  0.8417575  0.8757430 -0.9187085\n",
       "TI     0.7972720  0.8417575  1.0000000  0.6928933 -0.7820815\n",
       "P_GDP  0.8715645  0.8757430  0.6928933  1.0000000 -0.9492223\n",
       "EI    -0.8552086 -0.9187085 -0.7820815 -0.9492223  1.0000000"
      ]
     },
     "metadata": {},
     "output_type": "display_data"
    }
   ],
   "source": [
    "summary(data)\n",
    "order = c('ISG', 'TO', 'TI', 'P_GDP', 'EI')\n",
    "cor(data, use='pairwise')[order, order]"
   ]
  },
  {
   "cell_type": "code",
   "execution_count": 6,
   "metadata": {
    "kernel": "R"
   },
   "outputs": [
    {
     "data": {
      "text/plain": [
       "\n",
       "Call:\n",
       "lm(formula = model.naive, data = data.log)\n",
       "\n",
       "Residuals:\n",
       "     Min       1Q   Median       3Q      Max \n",
       "-0.05058 -0.01766  0.00164  0.01890  0.05243 \n",
       "\n",
       "Coefficients:\n",
       "            Estimate Std. Error t value Pr(>|t|)    \n",
       "(Intercept)  1.38449    0.43939   3.151  0.00432 ** \n",
       "ISG          0.30369    0.18454   1.646  0.11287    \n",
       "TO           0.05433    0.07902   0.688  0.49834    \n",
       "TI           0.03439    0.02427   1.417  0.16945    \n",
       "P_GDP       -0.62350    0.03685 -16.919 7.68e-15 ***\n",
       "---\n",
       "Signif. codes:  0 ‘***’ 0.001 ‘**’ 0.01 ‘*’ 0.05 ‘.’ 0.1 ‘ ’ 1\n",
       "\n",
       "Residual standard error: 0.02855 on 24 degrees of freedom\n",
       "  (1 observation deleted due to missingness)\n",
       "Multiple R-squared:  0.9852,\tAdjusted R-squared:  0.9827 \n",
       "F-statistic: 399.2 on 4 and 24 DF,  p-value: < 2.2e-16\n"
      ]
     },
     "metadata": {},
     "output_type": "display_data"
    },
    {
     "data": {
      "text/html": [
       "-117.441750433924"
      ],
      "text/latex": [
       "-117.441750433924"
      ],
      "text/markdown": [
       "-117.441750433924"
      ],
      "text/plain": [
       "[1] -117.4418"
      ]
     },
     "metadata": {},
     "output_type": "display_data"
    },
    {
     "data": {
      "text/html": [
       "-109.237975454006"
      ],
      "text/latex": [
       "-109.237975454006"
      ],
      "text/markdown": [
       "-109.237975454006"
      ],
      "text/plain": [
       "[1] -109.238"
      ]
     },
     "metadata": {},
     "output_type": "display_data"
    }
   ],
   "source": [
    "model.naive <- 'EI ~ ISG + TO + TI + P_GDP'\n",
    "model.naive.fit <- lm(model.naive, data=data.log)\n",
    "summary(model.naive.fit)\n",
    "AIC(model.naive.fit)\n",
    "BIC(model.naive.fit)"
   ]
  },
  {
   "cell_type": "code",
   "execution_count": 22,
   "metadata": {
    "kernel": "R"
   },
   "outputs": [
    {
     "name": "stdout",
     "output_type": "stream",
     "text": [
      "lavaan 0.6-5 ended normally after 61 iterations\n",
      "\n",
      "  Estimator                                         ML\n",
      "  Optimization method                           NLMINB\n",
      "  Number of free parameters                         12\n",
      "                                                      \n",
      "                                                  Used       Total\n",
      "  Number of observations                            29          30\n",
      "                                                                  \n",
      "Model Test User Model:\n",
      "                                                      \n",
      "  Test statistic                                12.732\n",
      "  Degrees of freedom                                 3\n",
      "  P-value (Chi-square)                           0.005\n",
      "\n",
      "Model Test Baseline Model:\n",
      "\n",
      "  Test statistic                               226.802\n",
      "  Degrees of freedom                                 9\n",
      "  P-value                                        0.000\n",
      "\n",
      "User Model versus Baseline Model:\n",
      "\n",
      "  Comparative Fit Index (CFI)                    0.955\n",
      "  Tucker-Lewis Index (TLI)                       0.866\n",
      "\n",
      "Loglikelihood and Information Criteria:\n",
      "\n",
      "  Loglikelihood user model (H0)                 76.165\n",
      "  Loglikelihood unrestricted model (H1)         82.531\n",
      "                                                      \n",
      "  Akaike (AIC)                                -128.329\n",
      "  Bayesian (BIC)                              -111.922\n",
      "  Sample-size adjusted Bayesian (BIC)         -149.258\n",
      "\n",
      "Root Mean Square Error of Approximation:\n",
      "\n",
      "  RMSEA                                          0.334\n",
      "  90 Percent confidence interval - lower         0.160\n",
      "  90 Percent confidence interval - upper         0.533\n",
      "  P-value RMSEA <= 0.05                          0.008\n",
      "\n",
      "Standardized Root Mean Square Residual:\n",
      "\n",
      "  SRMR                                           0.038\n",
      "\n",
      "Parameter Estimates:\n",
      "\n",
      "  Information                                 Expected\n",
      "  Information saturated (h1) model          Structured\n",
      "  Standard errors                             Standard\n",
      "\n",
      "Regressions:\n",
      "                   Estimate  Std.Err  z-value  P(>|z|)   Std.lv  Std.all\n",
      "  EI ~                                                                  \n",
      "    ISG     (p__s)    0.304    0.180    1.684    0.092    0.304    0.128\n",
      "    TO   (p_ei_to)    0.054    0.061    0.889    0.374    0.054    0.083\n",
      "    TI   (p_ei_ti)    0.034    0.018    1.939    0.052    0.034    0.073\n",
      "    P_GD    (p__p)   -0.623    0.033  -18.756    0.000   -0.623   -1.230\n",
      "  TI ~                                                                  \n",
      "    ISG     (p_t_)    3.995    0.555    7.192    0.000    3.995    0.800\n",
      "  P_GDP ~                                                               \n",
      "    TO      (p_p_)    1.214    0.082   14.791    0.000    1.214    0.940\n",
      "\n",
      "Intercepts:\n",
      "                   Estimate  Std.Err  z-value  P(>|z|)   Std.lv  Std.all\n",
      "   .EI                1.384    0.410    3.379    0.001    1.384    6.440\n",
      "   .TI               -7.298    1.762   -4.142    0.000   -7.298  -16.084\n",
      "   .P_GDP             1.994    0.277    7.211    0.000    1.994    4.703\n",
      "\n",
      "Variances:\n",
      "                   Estimate  Std.Err  z-value  P(>|z|)   Std.lv  Std.all\n",
      "   .EI                0.001    0.000    3.808    0.000    0.001    0.015\n",
      "   .TI                0.074    0.019    3.808    0.000    0.074    0.359\n",
      "   .P_GDP             0.021    0.006    3.808    0.000    0.021    0.117\n",
      "\n",
      "Defined Parameters:\n",
      "                   Estimate  Std.Err  z-value  P(>|z|)   Std.lv  Std.all\n",
      "    p_ei_ti_isg       0.137    0.073    1.872    0.061    0.137    0.058\n",
      "    p_ei_pgdp_to     -0.757    0.065  -11.614    0.000   -0.757   -1.156\n",
      "    p_ei_isg_total    0.441    0.167    2.643    0.008    0.441    0.187\n",
      "    p_ei_to_total    -0.703    0.069  -10.219    0.000   -0.703   -1.073\n",
      "\n"
     ]
    }
   ],
   "source": [
    "model.path <- '\n",
    "## path model\n",
    "EI ~ p_ei_isg*ISG + p_ei_to*TO + p_ei_ti*TI + p_ei_pgdp*P_GDP\n",
    "TI ~ p_ti_isg*ISG\n",
    "P_GDP ~ p_pgdp_to*TO\n",
    "## indirect effect\n",
    "p_ei_ti_isg := p_ei_ti*p_ti_isg\n",
    "p_ei_pgdp_to := p_ei_pgdp*p_pgdp_to\n",
    "## total effect\n",
    "p_ei_isg_total := p_ei_isg + (p_ei_ti*p_ti_isg)\n",
    "p_ei_to_total := p_ei_to + (p_ei_pgdp*p_pgdp_to)\n",
    "'\n",
    "\n",
    "capture <- function(expr, file) {\n",
    "    writeLines(c('\\\\begin{verbatim}', \n",
    "                 capture.output(expr),\n",
    "                 '\\\\end{verbatim}'), con=file)\n",
    "}\n",
    "model.path.fit <- sem(model.path, data=data.log, estimator='ML', meanstructure=TRUE)\n",
    "capture(summary(model.path.fit, standardized=TRUE, header=TRUE,  fit.measures=TRUE, estimates=FALSE),\n",
    "        '../tex/plots/model.path.fit.summary.tex')\n",
    "capture(summary(model.path.fit, standardized=TRUE, header=FALSE, estimates=TRUE),\n",
    "        '../tex/plots/model.path.fit.estimates.tex')\n",
    "summary(model.path.fit, standardized=TRUE, fit.measures=TRUE)"
   ]
  },
  {
   "cell_type": "code",
   "execution_count": 23,
   "metadata": {
    "kernel": "R"
   },
   "outputs": [
    {
     "name": "stderr",
     "output_type": "stream",
     "text": [
      "Warning message in lav_model_hessian(lavmodel = lavmodel, lavsamplestats = lavsamplestats, :\n",
      "“lavaan WARNING: Hessian is not fully symmetric. Max diff = 1.06448313451218e-05”\n"
     ]
    },
    {
     "name": "stdout",
     "output_type": "stream",
     "text": [
      "lavaan 0.6-5 ended normally after 64 iterations\n",
      "\n",
      "  Estimator                                         ML\n",
      "  Optimization method                           NLMINB\n",
      "  Number of free parameters                         12\n",
      "                                                      \n",
      "  Number of observations                            30\n",
      "  Number of missing patterns                         2\n",
      "                                                      \n",
      "Model Test User Model:\n",
      "                                                      \n",
      "  Test statistic                                14.849\n",
      "  Degrees of freedom                                 3\n",
      "  P-value (Chi-square)                           0.002\n",
      "\n",
      "Model Test Baseline Model:\n",
      "\n",
      "  Test statistic                               226.218\n",
      "  Degrees of freedom                                 9\n",
      "  P-value                                        0.000\n",
      "\n",
      "User Model versus Baseline Model:\n",
      "\n",
      "  Comparative Fit Index (CFI)                    0.945\n",
      "  Tucker-Lewis Index (TLI)                       0.836\n",
      "\n",
      "Loglikelihood and Information Criteria:\n",
      "\n",
      "  Loglikelihood user model (H0)                 71.433\n",
      "  Loglikelihood unrestricted model (H1)         78.858\n",
      "                                                      \n",
      "  Akaike (AIC)                                -118.866\n",
      "  Bayesian (BIC)                              -102.052\n",
      "  Sample-size adjusted Bayesian (BIC)         -139.414\n",
      "\n",
      "Root Mean Square Error of Approximation:\n",
      "\n",
      "  RMSEA                                          0.363\n",
      "  90 Percent confidence interval - lower         0.193\n",
      "  90 Percent confidence interval - upper         0.556\n",
      "  P-value RMSEA <= 0.05                          0.003\n",
      "\n",
      "Standardized Root Mean Square Residual:\n",
      "\n",
      "  SRMR                                           0.041\n",
      "\n",
      "Parameter Estimates:\n",
      "\n",
      "  Information                                 Observed\n",
      "  Observed information based on                Hessian\n",
      "  Standard errors                             Standard\n",
      "\n",
      "Regressions:\n",
      "                   Estimate  Std.Err  z-value  P(>|z|)   Std.lv  Std.all\n",
      "  EI ~                                                                  \n",
      "    ISG     (p__s)    0.304    0.168    1.809    0.070    0.304    0.122\n",
      "    TO   (p_ei_to)    0.054    0.072    0.756    0.450    0.054    0.076\n",
      "    TI   (p_ei_ti)    0.034    0.022    1.557    0.119    0.034    0.066\n",
      "    P_GD    (p__p)   -0.623    0.034  -18.598    0.000   -0.623   -1.211\n",
      "  TI ~                                                                  \n",
      "    ISG     (p_t_)    3.871    0.522    7.409    0.000    3.871    0.804\n",
      "  P_GDP ~                                                               \n",
      "    TO      (p_p_)    1.279    0.096   13.316    0.000    1.279    0.925\n",
      "\n",
      "Intercepts:\n",
      "                   Estimate  Std.Err  z-value  P(>|z|)   Std.lv  Std.all\n",
      "   .EI                1.384    0.400    3.464    0.001    1.384    5.892\n",
      "   .TI               -6.910    1.660   -4.162    0.000   -6.910  -15.230\n",
      "   .P_GDP             1.796    0.325    5.532    0.000    1.796    3.937\n",
      "\n",
      "Variances:\n",
      "                   Estimate  Std.Err  z-value  P(>|z|)   Std.lv  Std.all\n",
      "   .EI                0.001    0.000    3.808    0.000    0.001    0.012\n",
      "   .TI                0.073    0.019    3.873    0.000    0.073    0.353\n",
      "   .P_GDP             0.030    0.008    3.873    0.000    0.030    0.145\n",
      "\n",
      "Defined Parameters:\n",
      "                   Estimate  Std.Err  z-value  P(>|z|)   Std.lv  Std.all\n",
      "    p_ei_ti_isg       0.133    0.087    1.524    0.128    0.133    0.053\n",
      "    p_ei_pgdp_to     -0.797    0.074  -10.827    0.000   -0.797   -1.120\n",
      "    p_ei_isg_total    0.437    0.201    2.176    0.030    0.437    0.175\n",
      "    p_ei_to_total    -0.743    0.082   -9.007    0.000   -0.743   -1.044\n",
      "\n"
     ]
    }
   ],
   "source": [
    "model.path.fit.fiml <- sem(model.path, data=data.log, estimator='ML', missing='FIML', meanstructure=TRUE)\n",
    "capture(summary(model.path.fit.fiml, standardized=TRUE, header=TRUE,  fit.measures=TRUE, estimates=FALSE),\n",
    "        '../tex/plots/model.path.fit.fiml.summary.tex')\n",
    "capture(summary(model.path.fit.fiml, standardized=TRUE, header=FALSE, estimates=TRUE),\n",
    "        '../tex/plots/model.path.fit.fiml.estimates.tex')\n",
    "summary(model.path.fit.fiml, standardized=TRUE, fit.measures=TRUE)"
   ]
  },
  {
   "cell_type": "code",
   "execution_count": 27,
   "metadata": {
    "kernel": "R"
   },
   "outputs": [
    {
     "data": {
      "text/html": [
       "<table>\n",
       "<caption>A data.frame: 21 × 9</caption>\n",
       "<thead>\n",
       "\t<tr><th scope=col>lhs</th><th scope=col>op</th><th scope=col>rhs</th><th scope=col>est.std</th><th scope=col>se</th><th scope=col>z</th><th scope=col>pvalue</th><th scope=col>ci.lower</th><th scope=col>ci.upper</th></tr>\n",
       "\t<tr><th scope=col>&lt;chr&gt;</th><th scope=col>&lt;chr&gt;</th><th scope=col>&lt;chr&gt;</th><th scope=col>&lt;dbl&gt;</th><th scope=col>&lt;dbl&gt;</th><th scope=col>&lt;dbl&gt;</th><th scope=col>&lt;dbl&gt;</th><th scope=col>&lt;dbl&gt;</th><th scope=col>&lt;dbl&gt;</th></tr>\n",
       "</thead>\n",
       "<tbody>\n",
       "\t<tr><td>EI            </td><td>~ </td><td>ISG                          </td><td>  0.12842398</td><td>0.076783916</td><td>  1.6725375</td><td>9.441837e-02</td><td> -0.022069728</td><td>  0.27891769</td></tr>\n",
       "\t<tr><td>EI            </td><td>~ </td><td>TO                           </td><td>  0.08293692</td><td>0.093525271</td><td>  0.8867862</td><td>3.751940e-01</td><td> -0.100369239</td><td>  0.26624309</td></tr>\n",
       "\t<tr><td>EI            </td><td>~ </td><td>TI                           </td><td>  0.07257781</td><td>0.038559621</td><td>  1.8822231</td><td>5.980573e-02</td><td> -0.002997660</td><td>  0.14815328</td></tr>\n",
       "\t<tr><td>EI            </td><td>~ </td><td>P_GDP                        </td><td> -1.22991644</td><td>0.062097956</td><td>-19.8060695</td><td>0.000000e+00</td><td> -1.351626200</td><td> -1.10820668</td></tr>\n",
       "\t<tr><td>TI            </td><td>~ </td><td>ISG                          </td><td>  0.80047348</td><td>0.054994817</td><td> 14.5554349</td><td>0.000000e+00</td><td>  0.692685623</td><td>  0.90826134</td></tr>\n",
       "\t<tr><td>P_GDP         </td><td>~ </td><td>TO                           </td><td>  0.93966019</td><td>0.016242382</td><td> 57.8523630</td><td>0.000000e+00</td><td>  0.907825701</td><td>  0.97149467</td></tr>\n",
       "\t<tr><td>EI            </td><td>~~</td><td>EI                           </td><td>  0.01459472</td><td>0.004400238</td><td>  3.3168027</td><td>9.105391e-04</td><td>  0.005970414</td><td>  0.02321903</td></tr>\n",
       "\t<tr><td>TI            </td><td>~~</td><td>TI                           </td><td>  0.35924220</td><td>0.088043785</td><td>  4.0802676</td><td>4.498389e-05</td><td>  0.186679553</td><td>  0.53180485</td></tr>\n",
       "\t<tr><td>P_GDP         </td><td>~~</td><td>P_GDP                        </td><td>  0.11703874</td><td>0.030524639</td><td>  3.8342382</td><td>1.259540e-04</td><td>  0.057211543</td><td>  0.17686593</td></tr>\n",
       "\t<tr><td>ISG           </td><td>~~</td><td>ISG                          </td><td>  1.00000000</td><td>0.000000000</td><td>         NA</td><td>          NA</td><td>  1.000000000</td><td>  1.00000000</td></tr>\n",
       "\t<tr><td>ISG           </td><td>~~</td><td>TO                           </td><td>  0.94743160</td><td>0.000000000</td><td>         NA</td><td>          NA</td><td>  0.947431595</td><td>  0.94743160</td></tr>\n",
       "\t<tr><td>TO            </td><td>~~</td><td>TO                           </td><td>  1.00000000</td><td>0.000000000</td><td>         NA</td><td>          NA</td><td>  1.000000000</td><td>  1.00000000</td></tr>\n",
       "\t<tr><td>EI            </td><td>~1</td><td>                             </td><td>  6.43965535</td><td>1.950895964</td><td>  3.3008707</td><td>9.638529e-04</td><td>  2.615969522</td><td> 10.26334118</td></tr>\n",
       "\t<tr><td>TI            </td><td>~1</td><td>                             </td><td>-16.08412969</td><td>2.566059478</td><td> -6.2680268</td><td>3.656517e-10</td><td>-21.113513850</td><td>-11.05474553</td></tr>\n",
       "\t<tr><td>P_GDP         </td><td>~1</td><td>                             </td><td>  4.70276269</td><td>0.934752461</td><td>  5.0310247</td><td>4.878654e-07</td><td>  2.870681535</td><td>  6.53484385</td></tr>\n",
       "\t<tr><td>ISG           </td><td>~1</td><td>                             </td><td> 34.87678584</td><td>0.000000000</td><td>         NA</td><td>          NA</td><td> 34.876785839</td><td> 34.87678584</td></tr>\n",
       "\t<tr><td>TO            </td><td>~1</td><td>                             </td><td> 10.21683522</td><td>0.000000000</td><td>         NA</td><td>          NA</td><td> 10.216835219</td><td> 10.21683522</td></tr>\n",
       "\t<tr><td>p_ei_ti_isg   </td><td>:=</td><td>p_ei_ti*p_ti_isg             </td><td>  0.05809661</td><td>0.031400608</td><td>  1.8501748</td><td>6.428837e-02</td><td> -0.003447448</td><td>  0.11964067</td></tr>\n",
       "\t<tr><td>p_ei_pgdp_to  </td><td>:=</td><td>p_ei_pgdp*p_pgdp_to          </td><td> -1.15570351</td><td>0.062524234</td><td>-18.4840890</td><td>0.000000e+00</td><td> -1.278248759</td><td> -1.03315826</td></tr>\n",
       "\t<tr><td>p_ei_isg_total</td><td>:=</td><td>p_ei_isg+(p_ei_ti*p_ti_isg)  </td><td>  0.18652059</td><td>0.071935400</td><td>  2.5928902</td><td>9.517315e-03</td><td>  0.045529801</td><td>  0.32751139</td></tr>\n",
       "\t<tr><td>p_ei_to_total </td><td>:=</td><td>p_ei_to+(p_ei_pgdp*p_pgdp_to)</td><td> -1.07276659</td><td>0.070820003</td><td>-15.1477908</td><td>0.000000e+00</td><td> -1.211571243</td><td> -0.93396193</td></tr>\n",
       "</tbody>\n",
       "</table>\n"
      ],
      "text/latex": [
       "A data.frame: 21 × 9\n",
       "\\begin{tabular}{lllllllll}\n",
       " lhs & op & rhs & est.std & se & z & pvalue & ci.lower & ci.upper\\\\\n",
       " <chr> & <chr> & <chr> & <dbl> & <dbl> & <dbl> & <dbl> & <dbl> & <dbl>\\\\\n",
       "\\hline\n",
       "\t EI             & \\textasciitilde{}  & ISG                           &   0.12842398 & 0.076783916 &   1.6725375 & 9.441837e-02 &  -0.022069728 &   0.27891769\\\\\n",
       "\t EI             & \\textasciitilde{}  & TO                            &   0.08293692 & 0.093525271 &   0.8867862 & 3.751940e-01 &  -0.100369239 &   0.26624309\\\\\n",
       "\t EI             & \\textasciitilde{}  & TI                            &   0.07257781 & 0.038559621 &   1.8822231 & 5.980573e-02 &  -0.002997660 &   0.14815328\\\\\n",
       "\t EI             & \\textasciitilde{}  & P\\_GDP                         &  -1.22991644 & 0.062097956 & -19.8060695 & 0.000000e+00 &  -1.351626200 &  -1.10820668\\\\\n",
       "\t TI             & \\textasciitilde{}  & ISG                           &   0.80047348 & 0.054994817 &  14.5554349 & 0.000000e+00 &   0.692685623 &   0.90826134\\\\\n",
       "\t P\\_GDP          & \\textasciitilde{}  & TO                            &   0.93966019 & 0.016242382 &  57.8523630 & 0.000000e+00 &   0.907825701 &   0.97149467\\\\\n",
       "\t EI             & \\textasciitilde{}\\textasciitilde{} & EI                            &   0.01459472 & 0.004400238 &   3.3168027 & 9.105391e-04 &   0.005970414 &   0.02321903\\\\\n",
       "\t TI             & \\textasciitilde{}\\textasciitilde{} & TI                            &   0.35924220 & 0.088043785 &   4.0802676 & 4.498389e-05 &   0.186679553 &   0.53180485\\\\\n",
       "\t P\\_GDP          & \\textasciitilde{}\\textasciitilde{} & P\\_GDP                         &   0.11703874 & 0.030524639 &   3.8342382 & 1.259540e-04 &   0.057211543 &   0.17686593\\\\\n",
       "\t ISG            & \\textasciitilde{}\\textasciitilde{} & ISG                           &   1.00000000 & 0.000000000 &          NA &           NA &   1.000000000 &   1.00000000\\\\\n",
       "\t ISG            & \\textasciitilde{}\\textasciitilde{} & TO                            &   0.94743160 & 0.000000000 &          NA &           NA &   0.947431595 &   0.94743160\\\\\n",
       "\t TO             & \\textasciitilde{}\\textasciitilde{} & TO                            &   1.00000000 & 0.000000000 &          NA &           NA &   1.000000000 &   1.00000000\\\\\n",
       "\t EI             & \\textasciitilde{}1 &                               &   6.43965535 & 1.950895964 &   3.3008707 & 9.638529e-04 &   2.615969522 &  10.26334118\\\\\n",
       "\t TI             & \\textasciitilde{}1 &                               & -16.08412969 & 2.566059478 &  -6.2680268 & 3.656517e-10 & -21.113513850 & -11.05474553\\\\\n",
       "\t P\\_GDP          & \\textasciitilde{}1 &                               &   4.70276269 & 0.934752461 &   5.0310247 & 4.878654e-07 &   2.870681535 &   6.53484385\\\\\n",
       "\t ISG            & \\textasciitilde{}1 &                               &  34.87678584 & 0.000000000 &          NA &           NA &  34.876785839 &  34.87678584\\\\\n",
       "\t TO             & \\textasciitilde{}1 &                               &  10.21683522 & 0.000000000 &          NA &           NA &  10.216835219 &  10.21683522\\\\\n",
       "\t p\\_ei\\_ti\\_isg    & := & p\\_ei\\_ti*p\\_ti\\_isg              &   0.05809661 & 0.031400608 &   1.8501748 & 6.428837e-02 &  -0.003447448 &   0.11964067\\\\\n",
       "\t p\\_ei\\_pgdp\\_to   & := & p\\_ei\\_pgdp*p\\_pgdp\\_to           &  -1.15570351 & 0.062524234 & -18.4840890 & 0.000000e+00 &  -1.278248759 &  -1.03315826\\\\\n",
       "\t p\\_ei\\_isg\\_total & := & p\\_ei\\_isg+(p\\_ei\\_ti*p\\_ti\\_isg)   &   0.18652059 & 0.071935400 &   2.5928902 & 9.517315e-03 &   0.045529801 &   0.32751139\\\\\n",
       "\t p\\_ei\\_to\\_total  & := & p\\_ei\\_to+(p\\_ei\\_pgdp*p\\_pgdp\\_to) &  -1.07276659 & 0.070820003 & -15.1477908 & 0.000000e+00 &  -1.211571243 &  -0.93396193\\\\\n",
       "\\end{tabular}\n"
      ],
      "text/markdown": [
       "\n",
       "A data.frame: 21 × 9\n",
       "\n",
       "| lhs &lt;chr&gt; | op &lt;chr&gt; | rhs &lt;chr&gt; | est.std &lt;dbl&gt; | se &lt;dbl&gt; | z &lt;dbl&gt; | pvalue &lt;dbl&gt; | ci.lower &lt;dbl&gt; | ci.upper &lt;dbl&gt; |\n",
       "|---|---|---|---|---|---|---|---|---|\n",
       "| EI             | ~  | ISG                           |   0.12842398 | 0.076783916 |   1.6725375 | 9.441837e-02 |  -0.022069728 |   0.27891769 |\n",
       "| EI             | ~  | TO                            |   0.08293692 | 0.093525271 |   0.8867862 | 3.751940e-01 |  -0.100369239 |   0.26624309 |\n",
       "| EI             | ~  | TI                            |   0.07257781 | 0.038559621 |   1.8822231 | 5.980573e-02 |  -0.002997660 |   0.14815328 |\n",
       "| EI             | ~  | P_GDP                         |  -1.22991644 | 0.062097956 | -19.8060695 | 0.000000e+00 |  -1.351626200 |  -1.10820668 |\n",
       "| TI             | ~  | ISG                           |   0.80047348 | 0.054994817 |  14.5554349 | 0.000000e+00 |   0.692685623 |   0.90826134 |\n",
       "| P_GDP          | ~  | TO                            |   0.93966019 | 0.016242382 |  57.8523630 | 0.000000e+00 |   0.907825701 |   0.97149467 |\n",
       "| EI             | ~~ | EI                            |   0.01459472 | 0.004400238 |   3.3168027 | 9.105391e-04 |   0.005970414 |   0.02321903 |\n",
       "| TI             | ~~ | TI                            |   0.35924220 | 0.088043785 |   4.0802676 | 4.498389e-05 |   0.186679553 |   0.53180485 |\n",
       "| P_GDP          | ~~ | P_GDP                         |   0.11703874 | 0.030524639 |   3.8342382 | 1.259540e-04 |   0.057211543 |   0.17686593 |\n",
       "| ISG            | ~~ | ISG                           |   1.00000000 | 0.000000000 |          NA |           NA |   1.000000000 |   1.00000000 |\n",
       "| ISG            | ~~ | TO                            |   0.94743160 | 0.000000000 |          NA |           NA |   0.947431595 |   0.94743160 |\n",
       "| TO             | ~~ | TO                            |   1.00000000 | 0.000000000 |          NA |           NA |   1.000000000 |   1.00000000 |\n",
       "| EI             | ~1 | <!----> |   6.43965535 | 1.950895964 |   3.3008707 | 9.638529e-04 |   2.615969522 |  10.26334118 |\n",
       "| TI             | ~1 | <!----> | -16.08412969 | 2.566059478 |  -6.2680268 | 3.656517e-10 | -21.113513850 | -11.05474553 |\n",
       "| P_GDP          | ~1 | <!----> |   4.70276269 | 0.934752461 |   5.0310247 | 4.878654e-07 |   2.870681535 |   6.53484385 |\n",
       "| ISG            | ~1 | <!----> |  34.87678584 | 0.000000000 |          NA |           NA |  34.876785839 |  34.87678584 |\n",
       "| TO             | ~1 | <!----> |  10.21683522 | 0.000000000 |          NA |           NA |  10.216835219 |  10.21683522 |\n",
       "| p_ei_ti_isg    | := | p_ei_ti*p_ti_isg              |   0.05809661 | 0.031400608 |   1.8501748 | 6.428837e-02 |  -0.003447448 |   0.11964067 |\n",
       "| p_ei_pgdp_to   | := | p_ei_pgdp*p_pgdp_to           |  -1.15570351 | 0.062524234 | -18.4840890 | 0.000000e+00 |  -1.278248759 |  -1.03315826 |\n",
       "| p_ei_isg_total | := | p_ei_isg+(p_ei_ti*p_ti_isg)   |   0.18652059 | 0.071935400 |   2.5928902 | 9.517315e-03 |   0.045529801 |   0.32751139 |\n",
       "| p_ei_to_total  | := | p_ei_to+(p_ei_pgdp*p_pgdp_to) |  -1.07276659 | 0.070820003 | -15.1477908 | 0.000000e+00 |  -1.211571243 |  -0.93396193 |\n",
       "\n"
      ],
      "text/plain": [
       "   lhs            op rhs                           est.std      se         \n",
       "1  EI             ~  ISG                             0.12842398 0.076783916\n",
       "2  EI             ~  TO                              0.08293692 0.093525271\n",
       "3  EI             ~  TI                              0.07257781 0.038559621\n",
       "4  EI             ~  P_GDP                          -1.22991644 0.062097956\n",
       "5  TI             ~  ISG                             0.80047348 0.054994817\n",
       "6  P_GDP          ~  TO                              0.93966019 0.016242382\n",
       "7  EI             ~~ EI                              0.01459472 0.004400238\n",
       "8  TI             ~~ TI                              0.35924220 0.088043785\n",
       "9  P_GDP          ~~ P_GDP                           0.11703874 0.030524639\n",
       "10 ISG            ~~ ISG                             1.00000000 0.000000000\n",
       "11 ISG            ~~ TO                              0.94743160 0.000000000\n",
       "12 TO             ~~ TO                              1.00000000 0.000000000\n",
       "13 EI             ~1                                 6.43965535 1.950895964\n",
       "14 TI             ~1                               -16.08412969 2.566059478\n",
       "15 P_GDP          ~1                                 4.70276269 0.934752461\n",
       "16 ISG            ~1                                34.87678584 0.000000000\n",
       "17 TO             ~1                                10.21683522 0.000000000\n",
       "18 p_ei_ti_isg    := p_ei_ti*p_ti_isg                0.05809661 0.031400608\n",
       "19 p_ei_pgdp_to   := p_ei_pgdp*p_pgdp_to            -1.15570351 0.062524234\n",
       "20 p_ei_isg_total := p_ei_isg+(p_ei_ti*p_ti_isg)     0.18652059 0.071935400\n",
       "21 p_ei_to_total  := p_ei_to+(p_ei_pgdp*p_pgdp_to)  -1.07276659 0.070820003\n",
       "   z           pvalue       ci.lower      ci.upper    \n",
       "1    1.6725375 9.441837e-02  -0.022069728   0.27891769\n",
       "2    0.8867862 3.751940e-01  -0.100369239   0.26624309\n",
       "3    1.8822231 5.980573e-02  -0.002997660   0.14815328\n",
       "4  -19.8060695 0.000000e+00  -1.351626200  -1.10820668\n",
       "5   14.5554349 0.000000e+00   0.692685623   0.90826134\n",
       "6   57.8523630 0.000000e+00   0.907825701   0.97149467\n",
       "7    3.3168027 9.105391e-04   0.005970414   0.02321903\n",
       "8    4.0802676 4.498389e-05   0.186679553   0.53180485\n",
       "9    3.8342382 1.259540e-04   0.057211543   0.17686593\n",
       "10          NA           NA   1.000000000   1.00000000\n",
       "11          NA           NA   0.947431595   0.94743160\n",
       "12          NA           NA   1.000000000   1.00000000\n",
       "13   3.3008707 9.638529e-04   2.615969522  10.26334118\n",
       "14  -6.2680268 3.656517e-10 -21.113513850 -11.05474553\n",
       "15   5.0310247 4.878654e-07   2.870681535   6.53484385\n",
       "16          NA           NA  34.876785839  34.87678584\n",
       "17          NA           NA  10.216835219  10.21683522\n",
       "18   1.8501748 6.428837e-02  -0.003447448   0.11964067\n",
       "19 -18.4840890 0.000000e+00  -1.278248759  -1.03315826\n",
       "20   2.5928902 9.517315e-03   0.045529801   0.32751139\n",
       "21 -15.1477908 0.000000e+00  -1.211571243  -0.93396193"
      ]
     },
     "metadata": {},
     "output_type": "display_data"
    }
   ],
   "source": [
    "soln.std <- as.data.frame(standardizedSolution(model.path.fit, type='std.all', remove.def=FALSE))\n",
    "soln.std"
   ]
  },
  {
   "cell_type": "code",
   "execution_count": 34,
   "metadata": {
    "kernel": "SoS"
   },
   "outputs": [
    {
     "name": "stderr",
     "output_type": "stream",
     "text": [
      "Variable soln.std is put to SoS as soln_std\n"
     ]
    },
    {
     "data": {
      "text/html": [
       "<div>\n",
       "<style scoped>\n",
       "    .dataframe tbody tr th:only-of-type {\n",
       "        vertical-align: middle;\n",
       "    }\n",
       "\n",
       "    .dataframe tbody tr th {\n",
       "        vertical-align: top;\n",
       "    }\n",
       "\n",
       "    .dataframe thead th {\n",
       "        text-align: right;\n",
       "    }\n",
       "</style>\n",
       "<table border=\"1\" class=\"dataframe\">\n",
       "  <thead>\n",
       "    <tr style=\"text-align: right;\">\n",
       "      <th></th>\n",
       "      <th>lhs</th>\n",
       "      <th>op</th>\n",
       "      <th>rhs</th>\n",
       "      <th>est.std</th>\n",
       "      <th>se</th>\n",
       "      <th>z</th>\n",
       "      <th>pvalue</th>\n",
       "      <th>ci.lower</th>\n",
       "      <th>ci.upper</th>\n",
       "    </tr>\n",
       "  </thead>\n",
       "  <tbody>\n",
       "    <tr>\n",
       "      <th>0</th>\n",
       "      <td>EI</td>\n",
       "      <td>~</td>\n",
       "      <td>ISG</td>\n",
       "      <td>0.128424</td>\n",
       "      <td>0.076784</td>\n",
       "      <td>1.672538</td>\n",
       "      <td>0.094418</td>\n",
       "      <td>-0.022070</td>\n",
       "      <td>0.278918</td>\n",
       "    </tr>\n",
       "    <tr>\n",
       "      <th>1</th>\n",
       "      <td>EI</td>\n",
       "      <td>~</td>\n",
       "      <td>TO</td>\n",
       "      <td>0.082937</td>\n",
       "      <td>0.093525</td>\n",
       "      <td>0.886786</td>\n",
       "      <td>0.375194</td>\n",
       "      <td>-0.100369</td>\n",
       "      <td>0.266243</td>\n",
       "    </tr>\n",
       "    <tr>\n",
       "      <th>2</th>\n",
       "      <td>EI</td>\n",
       "      <td>~</td>\n",
       "      <td>TI</td>\n",
       "      <td>0.072578</td>\n",
       "      <td>0.038560</td>\n",
       "      <td>1.882223</td>\n",
       "      <td>0.059806</td>\n",
       "      <td>-0.002998</td>\n",
       "      <td>0.148153</td>\n",
       "    </tr>\n",
       "    <tr>\n",
       "      <th>3</th>\n",
       "      <td>EI</td>\n",
       "      <td>~</td>\n",
       "      <td>P_GDP</td>\n",
       "      <td>-1.229916</td>\n",
       "      <td>0.062098</td>\n",
       "      <td>-19.806070</td>\n",
       "      <td>0.000000</td>\n",
       "      <td>-1.351626</td>\n",
       "      <td>-1.108207</td>\n",
       "    </tr>\n",
       "    <tr>\n",
       "      <th>4</th>\n",
       "      <td>TI</td>\n",
       "      <td>~</td>\n",
       "      <td>ISG</td>\n",
       "      <td>0.800473</td>\n",
       "      <td>0.054995</td>\n",
       "      <td>14.555435</td>\n",
       "      <td>0.000000</td>\n",
       "      <td>0.692686</td>\n",
       "      <td>0.908261</td>\n",
       "    </tr>\n",
       "    <tr>\n",
       "      <th>5</th>\n",
       "      <td>P_GDP</td>\n",
       "      <td>~</td>\n",
       "      <td>TO</td>\n",
       "      <td>0.939660</td>\n",
       "      <td>0.016242</td>\n",
       "      <td>57.852363</td>\n",
       "      <td>0.000000</td>\n",
       "      <td>0.907826</td>\n",
       "      <td>0.971495</td>\n",
       "    </tr>\n",
       "    <tr>\n",
       "      <th>17</th>\n",
       "      <td>p_ei_ti_isg</td>\n",
       "      <td>:=</td>\n",
       "      <td>p_ei_ti*p_ti_isg</td>\n",
       "      <td>0.058097</td>\n",
       "      <td>0.031401</td>\n",
       "      <td>1.850175</td>\n",
       "      <td>0.064288</td>\n",
       "      <td>-0.003447</td>\n",
       "      <td>0.119641</td>\n",
       "    </tr>\n",
       "    <tr>\n",
       "      <th>18</th>\n",
       "      <td>p_ei_pgdp_to</td>\n",
       "      <td>:=</td>\n",
       "      <td>p_ei_pgdp*p_pgdp_to</td>\n",
       "      <td>-1.155704</td>\n",
       "      <td>0.062524</td>\n",
       "      <td>-18.484089</td>\n",
       "      <td>0.000000</td>\n",
       "      <td>-1.278249</td>\n",
       "      <td>-1.033158</td>\n",
       "    </tr>\n",
       "    <tr>\n",
       "      <th>19</th>\n",
       "      <td>p_ei_isg_total</td>\n",
       "      <td>:=</td>\n",
       "      <td>p_ei_isg+(p_ei_ti*p_ti_isg)</td>\n",
       "      <td>0.186521</td>\n",
       "      <td>0.071935</td>\n",
       "      <td>2.592890</td>\n",
       "      <td>0.009517</td>\n",
       "      <td>0.045530</td>\n",
       "      <td>0.327511</td>\n",
       "    </tr>\n",
       "    <tr>\n",
       "      <th>20</th>\n",
       "      <td>p_ei_to_total</td>\n",
       "      <td>:=</td>\n",
       "      <td>p_ei_to+(p_ei_pgdp*p_pgdp_to)</td>\n",
       "      <td>-1.072767</td>\n",
       "      <td>0.070820</td>\n",
       "      <td>-15.147791</td>\n",
       "      <td>0.000000</td>\n",
       "      <td>-1.211571</td>\n",
       "      <td>-0.933962</td>\n",
       "    </tr>\n",
       "  </tbody>\n",
       "</table>\n",
       "</div>"
      ],
      "text/plain": [
       "               lhs  op                            rhs   est.std        se          z    pvalue  ci.lower  ci.upper\n",
       "0               EI   ~                            ISG  0.128424  0.076784   1.672538  0.094418 -0.022070  0.278918\n",
       "1               EI   ~                             TO  0.082937  0.093525   0.886786  0.375194 -0.100369  0.266243\n",
       "2               EI   ~                             TI  0.072578  0.038560   1.882223  0.059806 -0.002998  0.148153\n",
       "3               EI   ~                          P_GDP -1.229916  0.062098 -19.806070  0.000000 -1.351626 -1.108207\n",
       "4               TI   ~                            ISG  0.800473  0.054995  14.555435  0.000000  0.692686  0.908261\n",
       "5            P_GDP   ~                             TO  0.939660  0.016242  57.852363  0.000000  0.907826  0.971495\n",
       "17     p_ei_ti_isg  :=               p_ei_ti*p_ti_isg  0.058097  0.031401   1.850175  0.064288 -0.003447  0.119641\n",
       "18    p_ei_pgdp_to  :=            p_ei_pgdp*p_pgdp_to -1.155704  0.062524 -18.484089  0.000000 -1.278249 -1.033158\n",
       "19  p_ei_isg_total  :=    p_ei_isg+(p_ei_ti*p_ti_isg)  0.186521  0.071935   2.592890  0.009517  0.045530  0.327511\n",
       "20   p_ei_to_total  :=  p_ei_to+(p_ei_pgdp*p_pgdp_to) -1.072767  0.070820 -15.147791  0.000000 -1.211571 -0.933962"
      ]
     },
     "execution_count": 34,
     "metadata": {},
     "output_type": "execute_result"
    }
   ],
   "source": [
    "%get soln.std --from R\n",
    "df = soln_std.query('(lhs != rhs) & (op in (\"~\",\":=\"))')\n",
    "df"
   ]
  },
  {
   "cell_type": "code",
   "execution_count": 11,
   "metadata": {
    "kernel": "R"
   },
   "outputs": [
    {
     "data": {
      "text/plain": [
       "      Min.    1st Qu.     Median       Mean    3rd Qu.       Max. \n",
       "-9.920e-02 -3.000e-08  0.000e+00  6.120e-03  8.749e-04  1.125e-01 "
      ]
     },
     "metadata": {},
     "output_type": "display_data"
    },
    {
     "data": {
      "image/png": "[encoded data removed]",
      "text/plain": [
       "plot without title"
      ]
     },
     "metadata": {
      "image/png": {
       "height": 420,
       "width": 420
      }
     },
     "output_type": "display_data"
    }
   ],
   "source": [
    "# Extract unique correlation residuals\n",
    "fitCorResiduals <- resid(model.path.fit, type='cor')$cov\n",
    "fitCorResidualsUnique <- fitCorResiduals[lower.tri(fitCorResiduals, diag=TRUE)]\n",
    "\n",
    "summary(fitCorResidualsUnique)\n",
    "\n",
    "plot(fitCorResidualsUnique[order(fitCorResidualsUnique)], pch=16,\n",
    "     xlab='', ylab='Correlation Residual')\n",
    "abline(h=c(0, -.1, .1), lty=c(1,3,3)) "
   ]
  },
  {
   "cell_type": "code",
   "execution_count": 12,
   "metadata": {
    "kernel": "R"
   },
   "outputs": [
    {
     "ename": "ERROR",
     "evalue": "Error in model.frame.default(formula = data.log$P_GDP ~ residuals_lavaan(model.path.fit)$P_GDP, : variable lengths differ (found for 'residuals_lavaan(model.path.fit)$P_GDP')\n",
     "output_type": "error",
     "traceback": [
      "Error in model.frame.default(formula = data.log$P_GDP ~ residuals_lavaan(model.path.fit)$P_GDP, : variable lengths differ (found for 'residuals_lavaan(model.path.fit)$P_GDP')\nTraceback:\n",
      "1. summary(lm(data.log$P_GDP ~ residuals_lavaan(model.path.fit)$P_GDP))",
      "2. lm(data.log$P_GDP ~ residuals_lavaan(model.path.fit)$P_GDP)",
      "3. eval(mf, parent.frame())",
      "4. eval(mf, parent.frame())",
      "5. stats::model.frame(formula = data.log$P_GDP ~ residuals_lavaan(model.path.fit)$P_GDP, \n .     drop.unused.levels = TRUE)",
      "6. model.frame.default(formula = data.log$P_GDP ~ residuals_lavaan(model.path.fit)$P_GDP, \n .     drop.unused.levels = TRUE)"
     ]
    }
   ],
   "source": [
    "summary(lm(data.log$P_GDP ~ residuals_lavaan(model.path.fit)$P_GDP))\n",
    "plot(data.log$P_GDP, residuals_lavaan(model.path.fit)$P_GDP)"
   ]
  },
  {
   "cell_type": "code",
   "execution_count": null,
   "metadata": {
    "kernel": "R"
   },
   "outputs": [],
   "source": [
    "varTable(model.path.fit)"
   ]
  },
  {
   "cell_type": "code",
   "execution_count": null,
   "metadata": {
    "kernel": "R"
   },
   "outputs": [],
   "source": [
    "resid(model.path.fit, type='raw')\n",
    "resid(model.path.fit, type='cor')\n",
    "resid(model.path.fit, type='normalized')\n"
   ]
  },
  {
   "cell_type": "code",
   "execution_count": null,
   "metadata": {
    "kernel": "R"
   },
   "outputs": [],
   "source": []
  }
 ],
 "metadata": {
  "kernelspec": {
   "display_name": "SoS",
   "language": "sos",
   "name": "sos"
  },
  "language_info": {
   "codemirror_mode": "sos",
   "file_extension": ".sos",
   "mimetype": "text/x-sos",
   "name": "sos",
   "nbconvert_exporter": "sos_notebook.converter.SoS_Exporter",
   "pygments_lexer": "sos"
  },
  "sos": {
   "kernels": [
    [
     "R",
     "ir",
     "R",
     "#DCDCDA",
     "r"
    ],
    [
     "SoS",
     "sos",
     "",
     "",
     "sos"
    ]
   ],
   "version": "0.21.9"
  }
 },
 "nbformat": 4,
 "nbformat_minor": 4
}
