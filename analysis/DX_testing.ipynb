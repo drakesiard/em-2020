{
 "cells": [
  {
   "cell_type": "code",
   "execution_count": 8,
   "metadata": {
    "kernel": "R"
   },
   "outputs": [],
   "source": [
    "library(plm)\n",
    "library(pdynmc)\n",
    "\n",
    "data(EmplUK, package = \"plm\")\n",
    "dat <- EmplUK\n",
    "dat[,c(4:7)] <- log(dat[,c(4:7)])\n",
    "\n",
    "dat.panel <- pdata.frame(dat, index = c(\"firm\", \"year\"), drop.index = TRUE, row.names=TRUE)\n",
    "\n"
   ]
  },
  {
   "cell_type": "code",
   "execution_count": 9,
   "metadata": {
    "kernel": "R"
   },
   "outputs": [
    {
     "data": {
      "text/plain": [
       "Twoways effects Two steps model\n",
       "\n",
       "Call:\n",
       "pgmm(formula = emp ~ lag(emp, 1:2) + lag(wage, 0:1) + lag(capital, \n",
       "    0:2) + lag(output, 0:2) | lag(emp, 2:99), data = dat.panel, \n",
       "    effect = \"twoways\", model = \"twosteps\")\n",
       "\n",
       "Unbalanced Panel: n = 140, T = 7-9, N = 1031\n",
       "\n",
       "Number of Observations Used: 611\n",
       "\n",
       "Residuals:\n",
       "     Min.   1st Qu.    Median      Mean   3rd Qu.      Max. \n",
       "-0.687507 -0.029383  0.000000 -0.000311  0.030857  0.633822 \n",
       "\n",
       "Coefficients:\n",
       "                    Estimate Std. Error z-value  Pr(>|z|)    \n",
       "lag(emp, 1:2)1      0.628709   0.090454  6.9506 3.638e-12 ***\n",
       "lag(emp, 1:2)2     -0.065188   0.026501 -2.4598  0.013900 *  \n",
       "lag(wage, 0:1)0    -0.525760   0.053769 -9.7781 < 2.2e-16 ***\n",
       "lag(wage, 0:1)1     0.311290   0.094012  3.3112  0.000929 ***\n",
       "lag(capital, 0:2)0  0.278362   0.044908  6.1984 5.702e-10 ***\n",
       "lag(capital, 0:2)1  0.014100   0.052805  0.2670  0.789459    \n",
       "lag(capital, 0:2)2 -0.040248   0.025804 -1.5598  0.118809    \n",
       "lag(output, 0:2)0   0.591923   0.116211  5.0935 3.515e-07 ***\n",
       "lag(output, 0:2)1  -0.565985   0.139674 -4.0522 5.074e-05 ***\n",
       "lag(output, 0:2)2   0.100543   0.112675  0.8923  0.372217    \n",
       "---\n",
       "Signif. codes:  0 ‘***’ 0.001 ‘**’ 0.01 ‘*’ 0.05 ‘.’ 0.1 ‘ ’ 1\n",
       "\n",
       "Sargan test: chisq(25) = 31.38142 (p-value = 0.1767)\n",
       "Autocorrelation test (1): normal = -2.99977 (p-value = 0.0027018)\n",
       "Autocorrelation test (2): normal = -0.4157541 (p-value = 0.67759)\n",
       "Wald test for coefficients: chisq(10) = 667.0498 (p-value = < 2.22e-16)\n",
       "Wald test for time dummies: chisq(6) = 24.93988 (p-value = 0.00035032)"
      ]
     },
     "metadata": {},
     "output_type": "display_data"
    }
   ],
   "source": [
    "# EmplUK.panel <- pdata.frame\n",
    "# z1 <- pgmm(log(emp) ~ lag(log(emp), 1:2) + lag(log(wage), 0:1)+ lag(log(capital), 0:2) + lag(log(output), 0:2) | lag(log(emp), 2:99),\n",
    "#            data = EmplUK, effect = \"twoways\", model = \"twosteps\")\n",
    "z1 <- pgmm(emp ~ lag(emp, 1:2) + lag(wage, 0:1)+ lag(capital, 0:2) + lag(output, 0:2) | lag(emp, 2:99),\n",
    "           data = dat.panel, effect = \"twoways\", model = \"twosteps\")\n",
    "\n",
    "summary(z1, robust = FALSE)"
   ]
  },
  {
   "cell_type": "code",
   "execution_count": 19,
   "metadata": {
    "kernel": "R"
   },
   "outputs": [
    {
     "data": {
      "text/plain": [
       "\n",
       "Dynamic linear panel estimation (twostep)\n",
       "Estimation steps: 2\n",
       "\n",
       "Coefficients:\n",
       "           Estimate Std.Err.rob z-value.rob Pr(>|z.rob|)    \n",
       "L1.emp      0.62871     0.19341       3.251      0.00115 ** \n",
       "L2.emp     -0.06519     0.04505      -1.447      0.14790    \n",
       "L0.wage    -0.52576     0.15461      -3.401      0.00067 ***\n",
       "L1.wage     0.31129     0.20300       1.533      0.12528    \n",
       "L0.capital  0.27836     0.07280       3.824      0.00013 ***\n",
       "L1.capital  0.01410     0.09246       0.152      0.87919    \n",
       "L2.capital -0.04025     0.04327      -0.930      0.35237    \n",
       "L0.output   0.59192     0.17309       3.420      0.00063 ***\n",
       "L1.output  -0.56599     0.26110      -2.168      0.03016 *  \n",
       "L2.output   0.10054     0.16110       0.624      0.53263    \n",
       "1979        0.01122     0.01168       0.960      0.33706    \n",
       "1980        0.02307     0.02006       1.150      0.25014    \n",
       "1981       -0.02136     0.03324      -0.642      0.52087    \n",
       "1982       -0.03112     0.03397      -0.916      0.35967    \n",
       "1983       -0.01799     0.03693      -0.487      0.62626    \n",
       "1984       -0.02337     0.03661      -0.638      0.52347    \n",
       "---\n",
       "Signif. codes:  0 ‘***’ 0.001 ‘**’ 0.01 ‘*’ 0.05 ‘.’ 0.1 ‘ ’ 1\n",
       "\n",
       " 41 total instruments are employed to estimate 16 parameters\n",
       " 27 linear (DIF) \n",
       " 8 further controls (DIF) \n",
       " 6 time dummies (DIF) \n",
       " \n",
       "J-Test (overid restrictions):  31.38 with 25 DF, pvalue: 0.1767\n",
       "F-Statistic (slope coeff):  265.3 with 10 DF, pvalue: <0.001\n",
       "F-Statistic (time dummies):  15.4 with 6 DF, pvalue: 0.0174"
      ]
     },
     "metadata": {},
     "output_type": "display_data"
    }
   ],
   "source": [
    "\n",
    "\n",
    "m1 <- pdynmc(dat = dat, varname.i = \"firm\", varname.t = \"year\",\n",
    "             use.mc.diff = TRUE, use.mc.lev = FALSE, use.mc.nonlin = FALSE,\n",
    "             include.y = TRUE, varname.y = \"emp\", lagTerms.y = 2,\n",
    "             fur.con = TRUE, fur.con.diff = TRUE, fur.con.lev = FALSE,\n",
    "             varname.reg.fur = c(\"wage\", \"capital\", \"output\"),\n",
    "             lagTerms.reg.fur = c(1,2,2),\n",
    "             include.dum = TRUE, dum.diff = TRUE, dum.lev = FALSE, varname.dum = \"year\",\n",
    "             w.mat = \"iid.err\", std.err = \"corrected\",estimation = \"twostep\", opt.meth = \"none\")\n",
    "summary(m1)"
   ]
  },
  {
   "cell_type": "code",
   "execution_count": null,
   "metadata": {},
   "outputs": [],
   "source": []
  }
 ],
 "metadata": {
  "kernelspec": {
   "display_name": "R",
   "language": "R",
   "name": "ir"
  },
  "language_info": {
   "codemirror_mode": "r",
   "file_extension": ".r",
   "mimetype": "text/x-r-source",
   "name": "R",
   "pygments_lexer": "r",
   "version": "3.6.3"
  }
 },
 "nbformat": 4,
 "nbformat_minor": 4
}
