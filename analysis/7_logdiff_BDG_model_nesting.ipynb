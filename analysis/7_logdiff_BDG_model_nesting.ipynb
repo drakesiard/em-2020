{
 "cells": [
  {
   "cell_type": "markdown",
   "metadata": {
    "kernel": "SoS"
   },
   "source": [
    "# 4. Re-run the original model with log-differenced updated data\n",
    "(PPP-adjusted)"
   ]
  },
  {
   "cell_type": "code",
   "execution_count": 3,
   "metadata": {
    "kernel": "em-2020"
   },
   "outputs": [],
   "source": [
    "from IPython.display import display, HTML\n",
    "import matplotlib as mpl\n",
    "%matplotlib inline \n",
    "import matplotlib.pyplot as plt\n",
    "import numpy as np\n",
    "import scipy\n",
    "import os\n",
    "import pandas as pd\n",
    "import seaborn as sns\n",
    "sns.set(style='ticks', rc={'axes.grid':True,\n",
    "                           'xtick.labelsize': 'medium',\n",
    "                           'ytick.labelsize': 'medium',\n",
    "#                            'font.size': 15,\n",
    "                          })\n",
    "\n",
    "analysis_dir = os.getcwd()\n",
    "assert analysis_dir.endswith(os.path.join('em-2020','analysis'))\n",
    "plot_dir = os.path.realpath(os.path.join(analysis_dir, '..', 'tex', 'plots'))\n",
    "data_dir = os.path.realpath(os.path.join(analysis_dir, '..', 'data'))"
   ]
  },
  {
   "cell_type": "code",
   "execution_count": 4,
   "metadata": {
    "kernel": "R"
   },
   "outputs": [],
   "source": [
    "suppressMessages({\n",
    "library(lavaan)\n",
    "library(semPlot)\n",
    "library(semTools)\n",
    "library(MVN)\n",
    "library(Hmisc)\n",
    "library(data.table)\n",
    "library(dplyr)\n",
    "library(tseries)\n",
    "})"
   ]
  },
  {
   "cell_type": "code",
   "execution_count": 5,
   "metadata": {
    "kernel": "R"
   },
   "outputs": [
    {
     "data": {
      "text/html": [
       "<table>\n",
       "<caption>A data.frame: 26 × 6</caption>\n",
       "<thead>\n",
       "\t<tr><th></th><th scope=col>year</th><th scope=col>ISG</th><th scope=col>TO</th><th scope=col>TI</th><th scope=col>P_GDPb</th><th scope=col>EIb</th></tr>\n",
       "\t<tr><th></th><th scope=col>&lt;int&gt;</th><th scope=col>&lt;dbl&gt;</th><th scope=col>&lt;dbl&gt;</th><th scope=col>&lt;dbl&gt;</th><th scope=col>&lt;dbl&gt;</th><th scope=col>&lt;dbl&gt;</th></tr>\n",
       "</thead>\n",
       "<tbody>\n",
       "\t<tr><th scope=row>31</th><td>1990</td><td> 0.358918934</td><td> 0.64132799</td><td> 0.000000000</td><td>        NA</td><td>          NA</td></tr>\n",
       "\t<tr><th scope=row>32</th><td>1991</td><td> 0.973878700</td><td>-0.07667513</td><td> 0.045256592</td><td>0.04426397</td><td>-0.081929018</td></tr>\n",
       "\t<tr><th scope=row>33</th><td>1992</td><td> 0.598385998</td><td> 1.04417862</td><td> 0.354016546</td><td>0.05320042</td><td>-0.021506640</td></tr>\n",
       "\t<tr><th scope=row>34</th><td>1993</td><td> 1.216365518</td><td> 3.18757757</td><td>-0.408575531</td><td>0.04777324</td><td>-0.015132773</td></tr>\n",
       "\t<tr><th scope=row>35</th><td>1994</td><td> 0.535736376</td><td>-0.25571852</td><td> 0.179201429</td><td>0.03789186</td><td>-0.015803917</td></tr>\n",
       "\t<tr><th scope=row>36</th><td>1995</td><td> 0.110832024</td><td> 5.34363152</td><td> 0.568504735</td><td>0.04935107</td><td> 0.013633404</td></tr>\n",
       "\t<tr><th scope=row>37</th><td>1996</td><td>-1.896907879</td><td>-2.13340835</td><td>-0.390097078</td><td>0.04107603</td><td>-0.056474572</td></tr>\n",
       "\t<tr><th scope=row>38</th><td>1997</td><td> 0.178753522</td><td> 0.24942567</td><td> 0.075507553</td><td>0.03990177</td><td>-0.017336717</td></tr>\n",
       "\t<tr><th scope=row>39</th><td>1998</td><td> 0.798072276</td><td> 1.55455001</td><td> 0.269332934</td><td>0.04089365</td><td>-0.020070144</td></tr>\n",
       "\t<tr><th scope=row>40</th><td>1999</td><td>-0.284876834</td><td> 0.50787715</td><td> 0.142174489</td><td>0.03975114</td><td>-0.046798965</td></tr>\n",
       "\t<tr><th scope=row>41</th><td>2000</td><td>-0.096482855</td><td> 0.93377380</td><td> 0.244598486</td><td>0.05416422</td><td>-0.039560405</td></tr>\n",
       "\t<tr><th scope=row>42</th><td>2001</td><td> 0.304429192</td><td> 2.77630271</td><td>-0.075076026</td><td>0.05236025</td><td> 0.018510676</td></tr>\n",
       "\t<tr><th scope=row>43</th><td>2002</td><td> 0.255442499</td><td>-3.13063635</td><td>-0.020548668</td><td>0.03510798</td><td>-0.029700752</td></tr>\n",
       "\t<tr><th scope=row>44</th><td>2003</td><td>-0.365105587</td><td>-1.30949582</td><td> 0.095624695</td><td>0.04739473</td><td>-0.012376440</td></tr>\n",
       "\t<tr><th scope=row>45</th><td>2004</td><td> 0.305571220</td><td>-0.79965075</td><td>-0.006309169</td><td>0.06148295</td><td>-0.059295740</td></tr>\n",
       "\t<tr><th scope=row>46</th><td>2005</td><td> 0.520124213</td><td> 7.53870072</td><td> 0.084899444</td><td>0.07913893</td><td>-0.056326280</td></tr>\n",
       "\t<tr><th scope=row>47</th><td>2006</td><td> 0.795476293</td><td> 3.71498957</td><td>-0.104069360</td><td>0.08092951</td><td>-0.025406628</td></tr>\n",
       "\t<tr><th scope=row>48</th><td>2007</td><td> 0.405220496</td><td> 1.83045822</td><td>-0.036128724</td><td>0.08244830</td><td>-0.050935075</td></tr>\n",
       "\t<tr><th scope=row>49</th><td>2008</td><td> 0.226460296</td><td> 2.67853138</td><td> 0.122602322</td><td>0.06620702</td><td>-0.029262882</td></tr>\n",
       "\t<tr><th scope=row>50</th><td>2009</td><td> 0.568570878</td><td>-2.52811781</td><td>-0.023953241</td><td>0.04564636</td><td>-0.006074848</td></tr>\n",
       "\t<tr><th scope=row>51</th><td>2010</td><td>-0.339095455</td><td>-2.28995355</td><td> 0.035718083</td><td>0.05455823</td><td> 0.013937132</td></tr>\n",
       "\t<tr><th scope=row>52</th><td>2011</td><td> 0.088822874</td><td> 9.61800716</td><td>-0.111225635</td><td>0.07187155</td><td>-0.046579001</td></tr>\n",
       "\t<tr><th scope=row>53</th><td>2012</td><td> 0.264659789</td><td> 0.69007291</td><td> 0.145711811</td><td>0.07062347</td><td>-0.033990787</td></tr>\n",
       "\t<tr><th scope=row>54</th><td>2013</td><td> 0.997110775</td><td>-1.81452002</td><td>-0.155564108</td><td>0.06422711</td><td>-0.054784070</td></tr>\n",
       "\t<tr><th scope=row>55</th><td>2014</td><td> 0.003976619</td><td>-1.78232253</td><td>-0.033560196</td><td>0.06616100</td><td>-0.034296122</td></tr>\n",
       "\t<tr><th scope=row>56</th><td>2015</td><td> 0.520348050</td><td>-2.42808389</td><td> 0.148773009</td><td>0.06293288</td><td>          NA</td></tr>\n",
       "</tbody>\n",
       "</table>\n"
      ],
      "text/latex": [
       "A data.frame: 26 × 6\n",
       "\\begin{tabular}{r|llllll}\n",
       "  & year & ISG & TO & TI & P\\_GDPb & EIb\\\\\n",
       "  & <int> & <dbl> & <dbl> & <dbl> & <dbl> & <dbl>\\\\\n",
       "\\hline\n",
       "\t31 & 1990 &  0.358918934 &  0.64132799 &  0.000000000 &         NA &           NA\\\\\n",
       "\t32 & 1991 &  0.973878700 & -0.07667513 &  0.045256592 & 0.04426397 & -0.081929018\\\\\n",
       "\t33 & 1992 &  0.598385998 &  1.04417862 &  0.354016546 & 0.05320042 & -0.021506640\\\\\n",
       "\t34 & 1993 &  1.216365518 &  3.18757757 & -0.408575531 & 0.04777324 & -0.015132773\\\\\n",
       "\t35 & 1994 &  0.535736376 & -0.25571852 &  0.179201429 & 0.03789186 & -0.015803917\\\\\n",
       "\t36 & 1995 &  0.110832024 &  5.34363152 &  0.568504735 & 0.04935107 &  0.013633404\\\\\n",
       "\t37 & 1996 & -1.896907879 & -2.13340835 & -0.390097078 & 0.04107603 & -0.056474572\\\\\n",
       "\t38 & 1997 &  0.178753522 &  0.24942567 &  0.075507553 & 0.03990177 & -0.017336717\\\\\n",
       "\t39 & 1998 &  0.798072276 &  1.55455001 &  0.269332934 & 0.04089365 & -0.020070144\\\\\n",
       "\t40 & 1999 & -0.284876834 &  0.50787715 &  0.142174489 & 0.03975114 & -0.046798965\\\\\n",
       "\t41 & 2000 & -0.096482855 &  0.93377380 &  0.244598486 & 0.05416422 & -0.039560405\\\\\n",
       "\t42 & 2001 &  0.304429192 &  2.77630271 & -0.075076026 & 0.05236025 &  0.018510676\\\\\n",
       "\t43 & 2002 &  0.255442499 & -3.13063635 & -0.020548668 & 0.03510798 & -0.029700752\\\\\n",
       "\t44 & 2003 & -0.365105587 & -1.30949582 &  0.095624695 & 0.04739473 & -0.012376440\\\\\n",
       "\t45 & 2004 &  0.305571220 & -0.79965075 & -0.006309169 & 0.06148295 & -0.059295740\\\\\n",
       "\t46 & 2005 &  0.520124213 &  7.53870072 &  0.084899444 & 0.07913893 & -0.056326280\\\\\n",
       "\t47 & 2006 &  0.795476293 &  3.71498957 & -0.104069360 & 0.08092951 & -0.025406628\\\\\n",
       "\t48 & 2007 &  0.405220496 &  1.83045822 & -0.036128724 & 0.08244830 & -0.050935075\\\\\n",
       "\t49 & 2008 &  0.226460296 &  2.67853138 &  0.122602322 & 0.06620702 & -0.029262882\\\\\n",
       "\t50 & 2009 &  0.568570878 & -2.52811781 & -0.023953241 & 0.04564636 & -0.006074848\\\\\n",
       "\t51 & 2010 & -0.339095455 & -2.28995355 &  0.035718083 & 0.05455823 &  0.013937132\\\\\n",
       "\t52 & 2011 &  0.088822874 &  9.61800716 & -0.111225635 & 0.07187155 & -0.046579001\\\\\n",
       "\t53 & 2012 &  0.264659789 &  0.69007291 &  0.145711811 & 0.07062347 & -0.033990787\\\\\n",
       "\t54 & 2013 &  0.997110775 & -1.81452002 & -0.155564108 & 0.06422711 & -0.054784070\\\\\n",
       "\t55 & 2014 &  0.003976619 & -1.78232253 & -0.033560196 & 0.06616100 & -0.034296122\\\\\n",
       "\t56 & 2015 &  0.520348050 & -2.42808389 &  0.148773009 & 0.06293288 &           NA\\\\\n",
       "\\end{tabular}\n"
      ],
      "text/markdown": [
       "\n",
       "A data.frame: 26 × 6\n",
       "\n",
       "| <!--/--> | year &lt;int&gt; | ISG &lt;dbl&gt; | TO &lt;dbl&gt; | TI &lt;dbl&gt; | P_GDPb &lt;dbl&gt; | EIb &lt;dbl&gt; |\n",
       "|---|---|---|---|---|---|---|\n",
       "| 31 | 1990 |  0.358918934 |  0.64132799 |  0.000000000 |         NA |           NA |\n",
       "| 32 | 1991 |  0.973878700 | -0.07667513 |  0.045256592 | 0.04426397 | -0.081929018 |\n",
       "| 33 | 1992 |  0.598385998 |  1.04417862 |  0.354016546 | 0.05320042 | -0.021506640 |\n",
       "| 34 | 1993 |  1.216365518 |  3.18757757 | -0.408575531 | 0.04777324 | -0.015132773 |\n",
       "| 35 | 1994 |  0.535736376 | -0.25571852 |  0.179201429 | 0.03789186 | -0.015803917 |\n",
       "| 36 | 1995 |  0.110832024 |  5.34363152 |  0.568504735 | 0.04935107 |  0.013633404 |\n",
       "| 37 | 1996 | -1.896907879 | -2.13340835 | -0.390097078 | 0.04107603 | -0.056474572 |\n",
       "| 38 | 1997 |  0.178753522 |  0.24942567 |  0.075507553 | 0.03990177 | -0.017336717 |\n",
       "| 39 | 1998 |  0.798072276 |  1.55455001 |  0.269332934 | 0.04089365 | -0.020070144 |\n",
       "| 40 | 1999 | -0.284876834 |  0.50787715 |  0.142174489 | 0.03975114 | -0.046798965 |\n",
       "| 41 | 2000 | -0.096482855 |  0.93377380 |  0.244598486 | 0.05416422 | -0.039560405 |\n",
       "| 42 | 2001 |  0.304429192 |  2.77630271 | -0.075076026 | 0.05236025 |  0.018510676 |\n",
       "| 43 | 2002 |  0.255442499 | -3.13063635 | -0.020548668 | 0.03510798 | -0.029700752 |\n",
       "| 44 | 2003 | -0.365105587 | -1.30949582 |  0.095624695 | 0.04739473 | -0.012376440 |\n",
       "| 45 | 2004 |  0.305571220 | -0.79965075 | -0.006309169 | 0.06148295 | -0.059295740 |\n",
       "| 46 | 2005 |  0.520124213 |  7.53870072 |  0.084899444 | 0.07913893 | -0.056326280 |\n",
       "| 47 | 2006 |  0.795476293 |  3.71498957 | -0.104069360 | 0.08092951 | -0.025406628 |\n",
       "| 48 | 2007 |  0.405220496 |  1.83045822 | -0.036128724 | 0.08244830 | -0.050935075 |\n",
       "| 49 | 2008 |  0.226460296 |  2.67853138 |  0.122602322 | 0.06620702 | -0.029262882 |\n",
       "| 50 | 2009 |  0.568570878 | -2.52811781 | -0.023953241 | 0.04564636 | -0.006074848 |\n",
       "| 51 | 2010 | -0.339095455 | -2.28995355 |  0.035718083 | 0.05455823 |  0.013937132 |\n",
       "| 52 | 2011 |  0.088822874 |  9.61800716 | -0.111225635 | 0.07187155 | -0.046579001 |\n",
       "| 53 | 2012 |  0.264659789 |  0.69007291 |  0.145711811 | 0.07062347 | -0.033990787 |\n",
       "| 54 | 2013 |  0.997110775 | -1.81452002 | -0.155564108 | 0.06422711 | -0.054784070 |\n",
       "| 55 | 2014 |  0.003976619 | -1.78232253 | -0.033560196 | 0.06616100 | -0.034296122 |\n",
       "| 56 | 2015 |  0.520348050 | -2.42808389 |  0.148773009 | 0.06293288 |           NA |\n",
       "\n"
      ],
      "text/plain": [
       "   year ISG          TO          TI           P_GDPb     EIb         \n",
       "31 1990  0.358918934  0.64132799  0.000000000         NA           NA\n",
       "32 1991  0.973878700 -0.07667513  0.045256592 0.04426397 -0.081929018\n",
       "33 1992  0.598385998  1.04417862  0.354016546 0.05320042 -0.021506640\n",
       "34 1993  1.216365518  3.18757757 -0.408575531 0.04777324 -0.015132773\n",
       "35 1994  0.535736376 -0.25571852  0.179201429 0.03789186 -0.015803917\n",
       "36 1995  0.110832024  5.34363152  0.568504735 0.04935107  0.013633404\n",
       "37 1996 -1.896907879 -2.13340835 -0.390097078 0.04107603 -0.056474572\n",
       "38 1997  0.178753522  0.24942567  0.075507553 0.03990177 -0.017336717\n",
       "39 1998  0.798072276  1.55455001  0.269332934 0.04089365 -0.020070144\n",
       "40 1999 -0.284876834  0.50787715  0.142174489 0.03975114 -0.046798965\n",
       "41 2000 -0.096482855  0.93377380  0.244598486 0.05416422 -0.039560405\n",
       "42 2001  0.304429192  2.77630271 -0.075076026 0.05236025  0.018510676\n",
       "43 2002  0.255442499 -3.13063635 -0.020548668 0.03510798 -0.029700752\n",
       "44 2003 -0.365105587 -1.30949582  0.095624695 0.04739473 -0.012376440\n",
       "45 2004  0.305571220 -0.79965075 -0.006309169 0.06148295 -0.059295740\n",
       "46 2005  0.520124213  7.53870072  0.084899444 0.07913893 -0.056326280\n",
       "47 2006  0.795476293  3.71498957 -0.104069360 0.08092951 -0.025406628\n",
       "48 2007  0.405220496  1.83045822 -0.036128724 0.08244830 -0.050935075\n",
       "49 2008  0.226460296  2.67853138  0.122602322 0.06620702 -0.029262882\n",
       "50 2009  0.568570878 -2.52811781 -0.023953241 0.04564636 -0.006074848\n",
       "51 2010 -0.339095455 -2.28995355  0.035718083 0.05455823  0.013937132\n",
       "52 2011  0.088822874  9.61800716 -0.111225635 0.07187155 -0.046579001\n",
       "53 2012  0.264659789  0.69007291  0.145711811 0.07062347 -0.033990787\n",
       "54 2013  0.997110775 -1.81452002 -0.155564108 0.06422711 -0.054784070\n",
       "55 2014  0.003976619 -1.78232253 -0.033560196 0.06616100 -0.034296122\n",
       "56 2015  0.520348050 -2.42808389  0.148773009 0.06293288           NA"
      ]
     },
     "metadata": {},
     "output_type": "display_data"
    }
   ],
   "source": [
    "%get data_dir --from em-2020\n",
    "cols <- c('year', 'ISG', 'TO', 'TI', 'P_GDPb', 'EIb')\n",
    "data.raw <- read.csv(file.path(data_dir, 'WB_BGD_current.csv'))[cols]\n",
    "\n",
    "log_cols <- c('EIb', 'P_GDPb', 'TI')\n",
    "data.log <- copy(data.raw)\n",
    "data.log[log_cols] <- log(data.raw[log_cols])\n",
    "data.logdiff <- cbind(data.raw[-1,'year', drop=FALSE], diff(as.matrix(subset(data.log, select=-year))))\n",
    "\n",
    "data <- subset(data.raw, year >= 1990 & year <= 2015)\n",
    "data.log <- subset(data.log, year >= 1990 & year <= 2015)\n",
    "data.logdiff <- subset(data.logdiff, year >= 1990 & year <= 2015)\n",
    "\n",
    "data.logdiff"
   ]
  },
  {
   "cell_type": "code",
   "execution_count": 6,
   "metadata": {
    "kernel": "R"
   },
   "outputs": [
    {
     "data": {
      "text/plain": [
       "\n",
       "Call:\n",
       "lm(formula = \"TI ~ ISG\", data = data.logdiff)\n",
       "\n",
       "Residuals:\n",
       "     Min       1Q   Median       3Q      Max \n",
       "-0.48927 -0.08397 -0.00542  0.10014  0.53059 \n",
       "\n",
       "Coefficients:\n",
       "            Estimate Std. Error t value Pr(>|t|)\n",
       "(Intercept)  0.03362    0.04472   0.752    0.459\n",
       "ISG          0.03869    0.06921   0.559    0.581\n",
       "\n",
       "Residual standard error: 0.207 on 24 degrees of freedom\n",
       "Multiple R-squared:  0.01286,\tAdjusted R-squared:  -0.02828 \n",
       "F-statistic: 0.3126 on 1 and 24 DF,  p-value: 0.5813\n"
      ]
     },
     "metadata": {},
     "output_type": "display_data"
    }
   ],
   "source": [
    "summary(lm('TI ~ ISG', data=data.logdiff))"
   ]
  },
  {
   "cell_type": "code",
   "execution_count": 39,
   "metadata": {
    "kernel": "R"
   },
   "outputs": [
    {
     "data": {
      "text/html": [
       "0.00140482842305768"
      ],
      "text/latex": [
       "0.00140482842305768"
      ],
      "text/markdown": [
       "0.00140482842305768"
      ],
      "text/plain": [
       "[1] 0.001404828"
      ]
     },
     "metadata": {},
     "output_type": "display_data"
    },
    {
     "data": {
      "text/plain": [
       "\n",
       "Call:\n",
       "lm(formula = \"EIb ~ ISG\", data = data.logdiff)\n",
       "\n",
       "Residuals:\n",
       "      Min        1Q    Median        3Q       Max \n",
       "-0.052488 -0.018330  0.000001  0.013820  0.047990 \n",
       "\n",
       "Coefficients:\n",
       "              Estimate Std. Error t value Pr(>|t|)    \n",
       "(Intercept) -2.950e-02  5.694e-03  -5.181 3.41e-05 ***\n",
       "ISG          5.684e-05  8.626e-03   0.007    0.995    \n",
       "---\n",
       "Signif. codes:  0 ‘***’ 0.001 ‘**’ 0.01 ‘*’ 0.05 ‘.’ 0.1 ‘ ’ 1\n",
       "\n",
       "Residual standard error: 0.02569 on 22 degrees of freedom\n",
       "  (2 observations deleted due to missingness)\n",
       "Multiple R-squared:  1.974e-06,\tAdjusted R-squared:  -0.04545 \n",
       "F-statistic: 4.342e-05 on 1 and 22 DF,  p-value: 0.9948\n"
      ]
     },
     "metadata": {},
     "output_type": "display_data"
    },
    {
     "data": {
      "image/png": "[encoded data removed]",
      "text/plain": [
       "plot without title"
      ]
     },
     "metadata": {
      "image/png": {
       "height": 420,
       "width": 420
      }
     },
     "output_type": "display_data"
    },
    {
     "data": {
      "image/png": "[encoded data removed]",
      "text/plain": [
       "Plot with title “”"
      ]
     },
     "metadata": {
      "image/png": {
       "height": 420,
       "width": 420
      }
     },
     "output_type": "display_data"
    },
    {
     "data": {
      "image/png": "[encoded data removed]",
      "text/plain": [
       "Plot with title “”"
      ]
     },
     "metadata": {
      "image/png": {
       "height": 420,
       "width": 420
      }
     },
     "output_type": "display_data"
    },
    {
     "data": {
      "image/png": "[encoded data removed]",
      "text/plain": [
       "Plot with title “”"
      ]
     },
     "metadata": {
      "image/png": {
       "height": 420,
       "width": 420
      }
     },
     "output_type": "display_data"
    },
    {
     "data": {
      "image/png": "[encoded data removed]",
      "text/plain": [
       "Plot with title “”"
      ]
     },
     "metadata": {
      "image/png": {
       "height": 420,
       "width": 420
      }
     },
     "output_type": "display_data"
    }
   ],
   "source": [
    "with(data.logdiff, {plot(EIb, ISG); cor(EIb, ISG, use='pairwise.complete.obs')})\n",
    "summary(lm('EIb ~ ISG', data=data.logdiff))\n",
    "plot(lm('EIb ~ ISG', data=data.logdiff))"
   ]
  },
  {
   "cell_type": "code",
   "execution_count": 8,
   "metadata": {
    "kernel": "R"
   },
   "outputs": [
    {
     "data": {
      "text/plain": [
       "\n",
       "Call:\n",
       "lm(formula = \"P_GDPb ~ TO\", data = data.logdiff)\n",
       "\n",
       "Residuals:\n",
       "      Min        1Q    Median        3Q       Max \n",
       "-0.015948 -0.012304 -0.002614  0.010253  0.025051 \n",
       "\n",
       "Coefficients:\n",
       "             Estimate Std. Error t value Pr(>|t|)    \n",
       "(Intercept) 0.0537131  0.0027073  19.840 5.76e-16 ***\n",
       "TO          0.0020126  0.0008299   2.425   0.0236 *  \n",
       "---\n",
       "Signif. codes:  0 ‘***’ 0.001 ‘**’ 0.01 ‘*’ 0.05 ‘.’ 0.1 ‘ ’ 1\n",
       "\n",
       "Residual standard error: 0.01298 on 23 degrees of freedom\n",
       "  (1 observation deleted due to missingness)\n",
       "Multiple R-squared:  0.2036,\tAdjusted R-squared:  0.169 \n",
       "F-statistic: 5.881 on 1 and 23 DF,  p-value: 0.02356\n"
      ]
     },
     "metadata": {},
     "output_type": "display_data"
    }
   ],
   "source": [
    "summary(lm('P_GDPb ~ TO', data=data.logdiff))"
   ]
  },
  {
   "cell_type": "code",
   "execution_count": 9,
   "metadata": {
    "kernel": "R"
   },
   "outputs": [
    {
     "data": {
      "text/plain": [
       "\n",
       "Call:\n",
       "lm(formula = \"EIb ~ ISG + TO + TI + P_GDPb\", data = data.logdiff)\n",
       "\n",
       "Residuals:\n",
       "      Min        1Q    Median        3Q       Max \n",
       "-0.057370 -0.014397 -0.000563  0.014938  0.048453 \n",
       "\n",
       "Coefficients:\n",
       "              Estimate Std. Error t value Pr(>|t|)\n",
       "(Intercept) -0.0047019  0.0239286  -0.196    0.846\n",
       "ISG          0.0004422  0.0089744   0.049    0.961\n",
       "TO           0.0007217  0.0020045   0.360    0.723\n",
       "TI           0.0267926  0.0263886   1.015    0.323\n",
       "P_GDPb      -0.4844747  0.4390350  -1.103    0.284\n",
       "\n",
       "Residual standard error: 0.02575 on 19 degrees of freedom\n",
       "  (2 observations deleted due to missingness)\n",
       "Multiple R-squared:  0.1324,\tAdjusted R-squared:  -0.05027 \n",
       "F-statistic: 0.7248 on 4 and 19 DF,  p-value: 0.5858\n"
      ]
     },
     "metadata": {},
     "output_type": "display_data"
    }
   ],
   "source": [
    "summary(lm('EIb ~ ISG + TO + TI + P_GDPb', data=data.logdiff))"
   ]
  },
  {
   "cell_type": "code",
   "execution_count": 10,
   "metadata": {
    "kernel": "R"
   },
   "outputs": [
    {
     "name": "stdout",
     "output_type": "stream",
     "text": [
      "lavaan 0.6-5 ended normally after 52 iterations\n",
      "\n",
      "  Estimator                                         ML\n",
      "  Optimization method                           NLMINB\n",
      "  Number of free parameters                         12\n",
      "                                                      \n",
      "  Number of observations                            26\n",
      "  Number of missing patterns                         3\n",
      "                                                      \n",
      "Model Test User Model:\n",
      "                                              Standard      Robust\n",
      "  Test Statistic                                 1.553       1.670\n",
      "  Degrees of freedom                                 3           3\n",
      "  P-value (Chi-square)                           0.670       0.644\n",
      "  Scaling correction factor                                  0.930\n",
      "    for the Yuan-Bentler correction (Mplus variant) \n",
      "\n",
      "Parameter Estimates:\n",
      "\n",
      "  Information                                      Observed\n",
      "  Observed information based on                     Hessian\n",
      "  Standard errors                        Robust.huber.white\n",
      "\n",
      "Regressions:\n",
      "                   Estimate  Std.Err  z-value  P(>|z|)   Std.lv  Std.all\n",
      "  EIb ~                                                                 \n",
      "    ISG    (p_b_s)    0.000    0.009    0.051    0.959    0.000    0.011\n",
      "    TO  (p_eib_to)    0.001    0.002    0.458    0.647    0.001    0.091\n",
      "    TI  (p_eib_ti)    0.027    0.021    1.299    0.194    0.027    0.221\n",
      "    P_G    (p_b_p)   -0.484    0.324   -1.494    0.135   -0.484   -0.277\n",
      "  TI ~                                                                  \n",
      "    ISG     (p_t_)    0.039    0.104    0.371    0.711    0.039    0.113\n",
      "  P_GDPb ~                                                              \n",
      "    TO      (p_p_)    0.002    0.001    3.179    0.001    0.002    0.444\n",
      "\n",
      "Intercepts:\n",
      "                   Estimate  Std.Err  z-value  P(>|z|)   Std.lv  Std.all\n",
      "   .EIb              -0.005    0.019   -0.250    0.803   -0.005   -0.193\n",
      "   .TI                0.034    0.048    0.696    0.486    0.034    0.168\n",
      "   .P_GDPb            0.054    0.003   21.173    0.000    0.054    3.865\n",
      "\n",
      "Variances:\n",
      "                   Estimate  Std.Err  z-value  P(>|z|)   Std.lv  Std.all\n",
      "   .EIb               0.001    0.000    3.112    0.002    0.001    0.889\n",
      "   .TI                0.040    0.014    2.879    0.004    0.040    0.987\n",
      "   .P_GDPb            0.000    0.000    5.501    0.000    0.000    0.803\n",
      "\n",
      "Defined Parameters:\n",
      "                   Estimate  Std.Err  z-value  P(>|z|)   Std.lv  Std.all\n",
      "    p_eib_ti_isg      0.001    0.003    0.315    0.753    0.001    0.025\n",
      "    p_eib_pgdpb_to   -0.001    0.001   -1.493    0.136   -0.001   -0.123\n",
      "    p_eib_isg_totl    0.001    0.010    0.151    0.880    0.001    0.036\n",
      "    p_eib_to_total   -0.000    0.001   -0.173    0.863   -0.000   -0.032\n",
      "\n"
     ]
    }
   ],
   "source": [
    "model.path <- '\n",
    "## path model\n",
    "EIb ~ p_eib_isg*ISG + p_eib_to*TO + p_eib_ti*TI + p_eib_pgdpb*P_GDPb\n",
    "TI ~ p_ti_isg*ISG\n",
    "P_GDPb ~ p_pgdpb_to*TO\n",
    "## indirect effect\n",
    "p_eib_ti_isg := p_eib_ti*p_ti_isg\n",
    "p_eib_pgdpb_to := p_eib_pgdpb*p_pgdpb_to\n",
    "## total effect\n",
    "p_eib_isg_total := p_eib_isg + (p_eib_ti*p_ti_isg)\n",
    "p_eib_to_total := p_eib_to + (p_eib_pgdpb*p_pgdpb_to)\n",
    "'\n",
    "\n",
    "capture <- function(expr, file) {\n",
    "    writeLines(c('\\\\begin{verbatim}', \n",
    "                 capture.output(expr),\n",
    "                 '\\\\end{verbatim}'), con=file)\n",
    "}\n",
    "model.path.fit <- sem(model.path, data=data.logdiff, estimator='MLR', missing='ML', meanstructure=TRUE)\n",
    "summary(model.path.fit, standardized=TRUE, fit.measures=FALSE)"
   ]
  },
  {
   "cell_type": "code",
   "execution_count": 11,
   "metadata": {
    "kernel": "R"
   },
   "outputs": [],
   "source": [
    "soln.std <- as.data.frame(standardizedSolution(model.path.fit, se=TRUE, type='std.all', remove.def=FALSE))\n",
    "fit.measures <- as.data.frame(fitMeasures(model.path.fit))\n",
    "r.square <- lavInspect(model.path.fit, 'rsquare')\n",
    "n.x <- 3"
   ]
  },
  {
   "cell_type": "code",
   "execution_count": 12,
   "metadata": {
    "kernel": "em-2020"
   },
   "outputs": [
    {
     "name": "stderr",
     "output_type": "stream",
     "text": [
      "Variable soln.std is put to SoS as soln_std\n",
      "Variable r.square is put to SoS as r_square\n",
      "Variable fit.measures is put to SoS as fit_measures\n"
     ]
    },
    {
     "data": {
      "text/html": [
       "<div>\n",
       "<style scoped>\n",
       "    .dataframe tbody tr th:only-of-type {\n",
       "        vertical-align: middle;\n",
       "    }\n",
       "\n",
       "    .dataframe tbody tr th {\n",
       "        vertical-align: top;\n",
       "    }\n",
       "\n",
       "    .dataframe thead th {\n",
       "        text-align: right;\n",
       "    }\n",
       "</style>\n",
       "<table border=\"1\" class=\"dataframe\">\n",
       "  <thead>\n",
       "    <tr style=\"text-align: right;\">\n",
       "      <th></th>\n",
       "      <th>lhs</th>\n",
       "      <th>op</th>\n",
       "      <th>rhs</th>\n",
       "      <th>est.std</th>\n",
       "      <th>se</th>\n",
       "      <th>z</th>\n",
       "      <th>pvalue</th>\n",
       "      <th>ci.lower</th>\n",
       "      <th>ci.upper</th>\n",
       "    </tr>\n",
       "  </thead>\n",
       "  <tbody>\n",
       "    <tr>\n",
       "      <th>0</th>\n",
       "      <td>EIb</td>\n",
       "      <td>~</td>\n",
       "      <td>ISG</td>\n",
       "      <td>0.011</td>\n",
       "      <td>0.210</td>\n",
       "      <td>0.051</td>\n",
       "      <td>0.960</td>\n",
       "      <td>-0.401</td>\n",
       "      <td>0.423</td>\n",
       "    </tr>\n",
       "    <tr>\n",
       "      <th>1</th>\n",
       "      <td>EIb</td>\n",
       "      <td>~</td>\n",
       "      <td>TO</td>\n",
       "      <td>0.091</td>\n",
       "      <td>0.197</td>\n",
       "      <td>0.462</td>\n",
       "      <td>0.644</td>\n",
       "      <td>-0.295</td>\n",
       "      <td>0.477</td>\n",
       "    </tr>\n",
       "    <tr>\n",
       "      <th>2</th>\n",
       "      <td>EIb</td>\n",
       "      <td>~</td>\n",
       "      <td>TI</td>\n",
       "      <td>0.221</td>\n",
       "      <td>0.180</td>\n",
       "      <td>1.227</td>\n",
       "      <td>0.220</td>\n",
       "      <td>-0.132</td>\n",
       "      <td>0.573</td>\n",
       "    </tr>\n",
       "    <tr>\n",
       "      <th>3</th>\n",
       "      <td>EIb</td>\n",
       "      <td>~</td>\n",
       "      <td>P_GDPb</td>\n",
       "      <td>-0.277</td>\n",
       "      <td>0.194</td>\n",
       "      <td>-1.431</td>\n",
       "      <td>0.153</td>\n",
       "      <td>-0.656</td>\n",
       "      <td>0.102</td>\n",
       "    </tr>\n",
       "    <tr>\n",
       "      <th>4</th>\n",
       "      <td>TI</td>\n",
       "      <td>~</td>\n",
       "      <td>ISG</td>\n",
       "      <td>0.113</td>\n",
       "      <td>0.305</td>\n",
       "      <td>0.372</td>\n",
       "      <td>0.710</td>\n",
       "      <td>-0.484</td>\n",
       "      <td>0.711</td>\n",
       "    </tr>\n",
       "    <tr>\n",
       "      <th>5</th>\n",
       "      <td>P_GDPb</td>\n",
       "      <td>~</td>\n",
       "      <td>TO</td>\n",
       "      <td>0.444</td>\n",
       "      <td>0.115</td>\n",
       "      <td>3.877</td>\n",
       "      <td>0.000</td>\n",
       "      <td>0.220</td>\n",
       "      <td>0.669</td>\n",
       "    </tr>\n",
       "    <tr>\n",
       "      <th>6</th>\n",
       "      <td>EIb</td>\n",
       "      <td>~~</td>\n",
       "      <td>EIb</td>\n",
       "      <td>0.889</td>\n",
       "      <td>0.106</td>\n",
       "      <td>8.369</td>\n",
       "      <td>0.000</td>\n",
       "      <td>0.680</td>\n",
       "      <td>1.097</td>\n",
       "    </tr>\n",
       "    <tr>\n",
       "      <th>7</th>\n",
       "      <td>TI</td>\n",
       "      <td>~~</td>\n",
       "      <td>TI</td>\n",
       "      <td>0.987</td>\n",
       "      <td>0.069</td>\n",
       "      <td>14.278</td>\n",
       "      <td>0.000</td>\n",
       "      <td>0.852</td>\n",
       "      <td>1.123</td>\n",
       "    </tr>\n",
       "    <tr>\n",
       "      <th>8</th>\n",
       "      <td>P_GDPb</td>\n",
       "      <td>~~</td>\n",
       "      <td>P_GDPb</td>\n",
       "      <td>0.803</td>\n",
       "      <td>0.102</td>\n",
       "      <td>7.882</td>\n",
       "      <td>0.000</td>\n",
       "      <td>0.603</td>\n",
       "      <td>1.002</td>\n",
       "    </tr>\n",
       "    <tr>\n",
       "      <th>9</th>\n",
       "      <td>ISG</td>\n",
       "      <td>~~</td>\n",
       "      <td>ISG</td>\n",
       "      <td>1.000</td>\n",
       "      <td>0.000</td>\n",
       "      <td>NaN</td>\n",
       "      <td>NaN</td>\n",
       "      <td>1.000</td>\n",
       "      <td>1.000</td>\n",
       "    </tr>\n",
       "    <tr>\n",
       "      <th>10</th>\n",
       "      <td>ISG</td>\n",
       "      <td>~~</td>\n",
       "      <td>TO</td>\n",
       "      <td>0.205</td>\n",
       "      <td>0.000</td>\n",
       "      <td>NaN</td>\n",
       "      <td>NaN</td>\n",
       "      <td>0.205</td>\n",
       "      <td>0.205</td>\n",
       "    </tr>\n",
       "    <tr>\n",
       "      <th>11</th>\n",
       "      <td>TO</td>\n",
       "      <td>~~</td>\n",
       "      <td>TO</td>\n",
       "      <td>1.000</td>\n",
       "      <td>0.000</td>\n",
       "      <td>NaN</td>\n",
       "      <td>NaN</td>\n",
       "      <td>1.000</td>\n",
       "      <td>1.000</td>\n",
       "    </tr>\n",
       "    <tr>\n",
       "      <th>12</th>\n",
       "      <td>EIb</td>\n",
       "      <td>~1</td>\n",
       "      <td></td>\n",
       "      <td>-0.193</td>\n",
       "      <td>0.773</td>\n",
       "      <td>-0.250</td>\n",
       "      <td>0.802</td>\n",
       "      <td>-1.708</td>\n",
       "      <td>1.321</td>\n",
       "    </tr>\n",
       "    <tr>\n",
       "      <th>13</th>\n",
       "      <td>TI</td>\n",
       "      <td>~1</td>\n",
       "      <td></td>\n",
       "      <td>0.168</td>\n",
       "      <td>0.243</td>\n",
       "      <td>0.691</td>\n",
       "      <td>0.490</td>\n",
       "      <td>-0.308</td>\n",
       "      <td>0.644</td>\n",
       "    </tr>\n",
       "    <tr>\n",
       "      <th>14</th>\n",
       "      <td>P_GDPb</td>\n",
       "      <td>~1</td>\n",
       "      <td></td>\n",
       "      <td>3.865</td>\n",
       "      <td>0.401</td>\n",
       "      <td>9.644</td>\n",
       "      <td>0.000</td>\n",
       "      <td>3.079</td>\n",
       "      <td>4.650</td>\n",
       "    </tr>\n",
       "    <tr>\n",
       "      <th>15</th>\n",
       "      <td>ISG</td>\n",
       "      <td>~1</td>\n",
       "      <td></td>\n",
       "      <td>0.462</td>\n",
       "      <td>0.000</td>\n",
       "      <td>NaN</td>\n",
       "      <td>NaN</td>\n",
       "      <td>0.462</td>\n",
       "      <td>0.462</td>\n",
       "    </tr>\n",
       "    <tr>\n",
       "      <th>16</th>\n",
       "      <td>TO</td>\n",
       "      <td>~1</td>\n",
       "      <td></td>\n",
       "      <td>0.298</td>\n",
       "      <td>0.000</td>\n",
       "      <td>NaN</td>\n",
       "      <td>NaN</td>\n",
       "      <td>0.298</td>\n",
       "      <td>0.298</td>\n",
       "    </tr>\n",
       "    <tr>\n",
       "      <th>17</th>\n",
       "      <td>p_eib_ti_isg</td>\n",
       "      <td>:=</td>\n",
       "      <td>p_eib_ti*p_ti_isg</td>\n",
       "      <td>0.025</td>\n",
       "      <td>0.079</td>\n",
       "      <td>0.316</td>\n",
       "      <td>0.752</td>\n",
       "      <td>-0.130</td>\n",
       "      <td>0.180</td>\n",
       "    </tr>\n",
       "    <tr>\n",
       "      <th>18</th>\n",
       "      <td>p_eib_pgdpb_to</td>\n",
       "      <td>:=</td>\n",
       "      <td>p_eib_pgdpb*p_pgdpb_to</td>\n",
       "      <td>-0.123</td>\n",
       "      <td>0.087</td>\n",
       "      <td>-1.407</td>\n",
       "      <td>0.160</td>\n",
       "      <td>-0.295</td>\n",
       "      <td>0.048</td>\n",
       "    </tr>\n",
       "    <tr>\n",
       "      <th>19</th>\n",
       "      <td>p_eib_isg_total</td>\n",
       "      <td>:=</td>\n",
       "      <td>p_eib_isg+(p_eib_ti*p_ti_isg)</td>\n",
       "      <td>0.036</td>\n",
       "      <td>0.238</td>\n",
       "      <td>0.150</td>\n",
       "      <td>0.881</td>\n",
       "      <td>-0.430</td>\n",
       "      <td>0.502</td>\n",
       "    </tr>\n",
       "    <tr>\n",
       "      <th>20</th>\n",
       "      <td>p_eib_to_total</td>\n",
       "      <td>:=</td>\n",
       "      <td>p_eib_to+(p_eib_pgdpb*p_pgdpb_to)</td>\n",
       "      <td>-0.032</td>\n",
       "      <td>0.186</td>\n",
       "      <td>-0.171</td>\n",
       "      <td>0.864</td>\n",
       "      <td>-0.397</td>\n",
       "      <td>0.334</td>\n",
       "    </tr>\n",
       "  </tbody>\n",
       "</table>\n",
       "</div>"
      ],
      "text/plain": [
       "                lhs  op                                rhs  est.std     se  \\\n",
       "0               EIb   ~                                ISG    0.011  0.210   \n",
       "1               EIb   ~                                 TO    0.091  0.197   \n",
       "2               EIb   ~                                 TI    0.221  0.180   \n",
       "3               EIb   ~                             P_GDPb   -0.277  0.194   \n",
       "4                TI   ~                                ISG    0.113  0.305   \n",
       "5            P_GDPb   ~                                 TO    0.444  0.115   \n",
       "6               EIb  ~~                                EIb    0.889  0.106   \n",
       "7                TI  ~~                                 TI    0.987  0.069   \n",
       "8            P_GDPb  ~~                             P_GDPb    0.803  0.102   \n",
       "9               ISG  ~~                                ISG    1.000  0.000   \n",
       "10              ISG  ~~                                 TO    0.205  0.000   \n",
       "11               TO  ~~                                 TO    1.000  0.000   \n",
       "12              EIb  ~1                                      -0.193  0.773   \n",
       "13               TI  ~1                                       0.168  0.243   \n",
       "14           P_GDPb  ~1                                       3.865  0.401   \n",
       "15              ISG  ~1                                       0.462  0.000   \n",
       "16               TO  ~1                                       0.298  0.000   \n",
       "17     p_eib_ti_isg  :=                  p_eib_ti*p_ti_isg    0.025  0.079   \n",
       "18   p_eib_pgdpb_to  :=             p_eib_pgdpb*p_pgdpb_to   -0.123  0.087   \n",
       "19  p_eib_isg_total  :=      p_eib_isg+(p_eib_ti*p_ti_isg)    0.036  0.238   \n",
       "20   p_eib_to_total  :=  p_eib_to+(p_eib_pgdpb*p_pgdpb_to)   -0.032  0.186   \n",
       "\n",
       "         z  pvalue  ci.lower  ci.upper  \n",
       "0    0.051   0.960    -0.401     0.423  \n",
       "1    0.462   0.644    -0.295     0.477  \n",
       "2    1.227   0.220    -0.132     0.573  \n",
       "3   -1.431   0.153    -0.656     0.102  \n",
       "4    0.372   0.710    -0.484     0.711  \n",
       "5    3.877   0.000     0.220     0.669  \n",
       "6    8.369   0.000     0.680     1.097  \n",
       "7   14.278   0.000     0.852     1.123  \n",
       "8    7.882   0.000     0.603     1.002  \n",
       "9      NaN     NaN     1.000     1.000  \n",
       "10     NaN     NaN     0.205     0.205  \n",
       "11     NaN     NaN     1.000     1.000  \n",
       "12  -0.250   0.802    -1.708     1.321  \n",
       "13   0.691   0.490    -0.308     0.644  \n",
       "14   9.644   0.000     3.079     4.650  \n",
       "15     NaN     NaN     0.462     0.462  \n",
       "16     NaN     NaN     0.298     0.298  \n",
       "17   0.316   0.752    -0.130     0.180  \n",
       "18  -1.407   0.160    -0.295     0.048  \n",
       "19   0.150   0.881    -0.430     0.502  \n",
       "20  -0.171   0.864    -0.397     0.334  "
      ]
     },
     "metadata": {},
     "output_type": "display_data"
    },
    {
     "data": {
      "text/plain": [
       "EIb       0.111469\n",
       "TI        0.012856\n",
       "P_GDPb    0.197394\n",
       "dtype: float64"
      ]
     },
     "metadata": {},
     "output_type": "display_data"
    }
   ],
   "source": [
    "%get soln.std --from R\n",
    "%get r.square --from R\n",
    "%get fit.measures --from R\n",
    "display(np.round(soln_std, 3))\n",
    "display(r_square)"
   ]
  },
  {
   "cell_type": "code",
   "execution_count": 13,
   "metadata": {
    "kernel": "em-2020"
   },
   "outputs": [
    {
     "name": "stderr",
     "output_type": "stream",
     "text": [
      "/home/drake/.virtualenvs/em-2020/lib/python3.7/site-packages/pandas/core/indexing.py:671: SettingWithCopyWarning: \n",
      "A value is trying to be set on a copy of a slice from a DataFrame\n",
      "\n",
      "See the caveats in the documentation: https://pandas.pydata.org/pandas-docs/stable/user_guide/indexing.html#returning-a-view-versus-a-copy\n",
      "  self._setitem_with_indexer(indexer, value)\n"
     ]
    },
    {
     "data": {
      "text/html": [
       "<div>\n",
       "<style scoped>\n",
       "    .dataframe tbody tr th:only-of-type {\n",
       "        vertical-align: middle;\n",
       "    }\n",
       "\n",
       "    .dataframe tbody tr th {\n",
       "        vertical-align: top;\n",
       "    }\n",
       "\n",
       "    .dataframe thead th {\n",
       "        text-align: right;\n",
       "    }\n",
       "</style>\n",
       "<table border=\"1\" class=\"dataframe\">\n",
       "  <thead>\n",
       "    <tr style=\"text-align: right;\">\n",
       "      <th></th>\n",
       "      <th>Equation</th>\n",
       "      <th>Dep. var.</th>\n",
       "      <th>Ind. var.</th>\n",
       "      <th>Coefficient</th>\n",
       "      <th>Est. (std.)</th>\n",
       "      <th>S.E. (std.)</th>\n",
       "      <th>p-value</th>\n",
       "      <th>$R^{2}$</th>\n",
       "    </tr>\n",
       "  </thead>\n",
       "  <tbody>\n",
       "    <tr>\n",
       "      <th>TI ~ ISG</th>\n",
       "      <td>1</td>\n",
       "      <td>TI</td>\n",
       "      <td>ISG</td>\n",
       "      <td>$P_{TI,ISG}$</td>\n",
       "      <td>0.113</td>\n",
       "      <td>0.305</td>\n",
       "      <td>0.710</td>\n",
       "      <td>0.013</td>\n",
       "    </tr>\n",
       "    <tr>\n",
       "      <th>P_GDPb ~ TO</th>\n",
       "      <td>2</td>\n",
       "      <td>P\\_GDPb</td>\n",
       "      <td>TO</td>\n",
       "      <td>$P_{P\\_GDPb,TO}$</td>\n",
       "      <td>0.444</td>\n",
       "      <td>0.115</td>\n",
       "      <td>*</td>\n",
       "      <td>0.197</td>\n",
       "    </tr>\n",
       "    <tr>\n",
       "      <th>EIb ~ ISG</th>\n",
       "      <td>3</td>\n",
       "      <td>EIb</td>\n",
       "      <td>ISG</td>\n",
       "      <td>$P_{EIb,ISG}$</td>\n",
       "      <td>0.011</td>\n",
       "      <td>0.210</td>\n",
       "      <td>0.960</td>\n",
       "      <td>0.111</td>\n",
       "    </tr>\n",
       "    <tr>\n",
       "      <th>EIb ~ TO</th>\n",
       "      <td></td>\n",
       "      <td>EIb</td>\n",
       "      <td>TO</td>\n",
       "      <td>$P_{EIb,TO}$</td>\n",
       "      <td>0.091</td>\n",
       "      <td>0.197</td>\n",
       "      <td>0.644</td>\n",
       "      <td></td>\n",
       "    </tr>\n",
       "    <tr>\n",
       "      <th>EIb ~ TI</th>\n",
       "      <td></td>\n",
       "      <td>EIb</td>\n",
       "      <td>TI</td>\n",
       "      <td>$P_{EIb,TI}$</td>\n",
       "      <td>0.221</td>\n",
       "      <td>0.180</td>\n",
       "      <td>0.220</td>\n",
       "      <td></td>\n",
       "    </tr>\n",
       "    <tr>\n",
       "      <th>EIb ~ P_GDPb</th>\n",
       "      <td></td>\n",
       "      <td>EIb</td>\n",
       "      <td>P\\_GDPb</td>\n",
       "      <td>$P_{EIb,P\\_GDPb}$</td>\n",
       "      <td>-0.277</td>\n",
       "      <td>0.194</td>\n",
       "      <td>0.153</td>\n",
       "      <td></td>\n",
       "    </tr>\n",
       "  </tbody>\n",
       "</table>\n",
       "</div>"
      ],
      "text/plain": [
       "             Equation Dep. var. Ind. var.        Coefficient  Est. (std.)  \\\n",
       "TI ~ ISG            1        TI       ISG       $P_{TI,ISG}$        0.113   \n",
       "P_GDPb ~ TO         2   P\\_GDPb        TO   $P_{P\\_GDPb,TO}$        0.444   \n",
       "EIb ~ ISG           3       EIb       ISG      $P_{EIb,ISG}$        0.011   \n",
       "EIb ~ TO                    EIb        TO       $P_{EIb,TO}$        0.091   \n",
       "EIb ~ TI                    EIb        TI       $P_{EIb,TI}$        0.221   \n",
       "EIb ~ P_GDPb                EIb   P\\_GDPb  $P_{EIb,P\\_GDPb}$       -0.277   \n",
       "\n",
       "              S.E. (std.) p-value $R^{2}$  \n",
       "TI ~ ISG            0.305   0.710   0.013  \n",
       "P_GDPb ~ TO         0.115       *   0.197  \n",
       "EIb ~ ISG           0.210   0.960   0.111  \n",
       "EIb ~ TO            0.197   0.644          \n",
       "EIb ~ TI            0.180   0.220          \n",
       "EIb ~ P_GDPb        0.194   0.153          "
      ]
     },
     "metadata": {},
     "output_type": "display_data"
    },
    {
     "name": "stdout",
     "output_type": "stream",
     "text": [
      "\\begin{tabular}{llllrrll}\n",
      "\\toprule\n",
      "Equation & Dep. var. & Ind. var. &        Coefficient &  Est. (std.) &  S.E. (std.) & p-value & $R^{2}$ \\\\\n",
      "\\midrule\n",
      "       1 &        TI &       ISG &       $P_{TI,ISG}$ &        0.113 &        0.305 &   0.710 &   0.013 \\\\\n",
      "       2 &   P\\_GDPb &        TO &   $P_{P\\_GDPb,TO}$ &        0.444 &        0.115 &       * &   0.197 \\\\\n",
      "       3 &       EIb &       ISG &      $P_{EIb,ISG}$ &        0.011 &        0.210 &   0.960 &   0.111 \\\\\n",
      "         &       EIb &        TO &       $P_{EIb,TO}$ &        0.091 &        0.197 &   0.644 &         \\\\\n",
      "         &       EIb &        TI &       $P_{EIb,TI}$ &        0.221 &        0.180 &   0.220 &         \\\\\n",
      "         &       EIb &   P\\_GDPb &  $P_{EIb,P\\_GDPb}$ &       -0.277 &        0.194 &   0.153 &         \\\\\n",
      "\\bottomrule\n",
      "\\end{tabular}\n",
      "\n"
     ]
    }
   ],
   "source": [
    "df = soln_std.query('(lhs != rhs) & (op == \"~\")').copy()\n",
    "df.index = np.where(df.op == '~', df.lhs.str.cat([df.op, df.rhs], sep=' '), df.lhs)\n",
    "df = df.loc[['TI ~ ISG', 'P_GDPb ~ TO', 'EIb ~ ISG', 'EIb ~ TO', 'EIb ~ TI', 'EIb ~ P_GDPb']]\n",
    "df['Equation'] = ['1', '2', '3', '', '', '']\n",
    "df['Dep. var.'] = df.lhs.str.replace('P_GDPb', r'P\\_GDPb')\n",
    "df['Ind. var.'] = df.rhs.str.replace('P_GDPb', r'P\\_GDPb')\n",
    "df['Coefficient'] = ('$P_{' + df.lhs + ',' + df.rhs + '}$').str.replace('P_GDPb', r'P\\_GDPb')\n",
    "df['Est. (std.)'] = np.round(df['est.std'],3)\n",
    "df['S.E. (std.)'] = np.round(df['se'],3)\n",
    "df['p-value'] = ['{:.3f}'.format(x) if x >= 0.001 else '*' for x in df['pvalue']]\n",
    "df['$R^{2}$'] = ''\n",
    "df['$R^{2}$'].iloc[0:3] = ['{:.3f}'.format(x) for x in r_square.loc[['TI', 'P_GDPb', 'EIb']]]\n",
    "df = df[['Equation', \n",
    "         'Dep. var.', 'Ind. var.', \n",
    "         'Coefficient', 'Est. (std.)', 'S.E. (std.)', 'p-value', '$R^{2}$']]\n",
    "display(df)\n",
    "print(df.to_latex(escape=False, index=False))"
   ]
  },
  {
   "cell_type": "code",
   "execution_count": 14,
   "metadata": {
    "kernel": "em-2020"
   },
   "outputs": [
    {
     "data": {
      "text/html": [
       "<div>\n",
       "<style scoped>\n",
       "    .dataframe tbody tr th:only-of-type {\n",
       "        vertical-align: middle;\n",
       "    }\n",
       "\n",
       "    .dataframe tbody tr th {\n",
       "        vertical-align: top;\n",
       "    }\n",
       "\n",
       "    .dataframe thead th {\n",
       "        text-align: right;\n",
       "    }\n",
       "</style>\n",
       "<table border=\"1\" class=\"dataframe\">\n",
       "  <thead>\n",
       "    <tr style=\"text-align: right;\">\n",
       "      <th></th>\n",
       "      <th>lhs</th>\n",
       "      <th>op</th>\n",
       "      <th>rhs</th>\n",
       "      <th>est.std</th>\n",
       "      <th>se</th>\n",
       "      <th>z</th>\n",
       "      <th>pvalue</th>\n",
       "      <th>ci.lower</th>\n",
       "      <th>ci.upper</th>\n",
       "    </tr>\n",
       "  </thead>\n",
       "  <tbody>\n",
       "    <tr>\n",
       "      <th>EIb ~ ISG</th>\n",
       "      <td>EIb</td>\n",
       "      <td>~</td>\n",
       "      <td>ISG</td>\n",
       "      <td>0.011</td>\n",
       "      <td>0.210</td>\n",
       "      <td>0.051</td>\n",
       "      <td>0.960</td>\n",
       "      <td>-0.401</td>\n",
       "      <td>0.423</td>\n",
       "    </tr>\n",
       "    <tr>\n",
       "      <th>EIb ~ TO</th>\n",
       "      <td>EIb</td>\n",
       "      <td>~</td>\n",
       "      <td>TO</td>\n",
       "      <td>0.091</td>\n",
       "      <td>0.197</td>\n",
       "      <td>0.462</td>\n",
       "      <td>0.644</td>\n",
       "      <td>-0.295</td>\n",
       "      <td>0.477</td>\n",
       "    </tr>\n",
       "    <tr>\n",
       "      <th>EIb ~ TI</th>\n",
       "      <td>EIb</td>\n",
       "      <td>~</td>\n",
       "      <td>TI</td>\n",
       "      <td>0.221</td>\n",
       "      <td>0.180</td>\n",
       "      <td>1.227</td>\n",
       "      <td>0.220</td>\n",
       "      <td>-0.132</td>\n",
       "      <td>0.573</td>\n",
       "    </tr>\n",
       "    <tr>\n",
       "      <th>EIb ~ P_GDPb</th>\n",
       "      <td>EIb</td>\n",
       "      <td>~</td>\n",
       "      <td>P_GDPb</td>\n",
       "      <td>-0.277</td>\n",
       "      <td>0.194</td>\n",
       "      <td>-1.431</td>\n",
       "      <td>0.153</td>\n",
       "      <td>-0.656</td>\n",
       "      <td>0.102</td>\n",
       "    </tr>\n",
       "    <tr>\n",
       "      <th>TI ~ ISG</th>\n",
       "      <td>TI</td>\n",
       "      <td>~</td>\n",
       "      <td>ISG</td>\n",
       "      <td>0.113</td>\n",
       "      <td>0.305</td>\n",
       "      <td>0.372</td>\n",
       "      <td>0.710</td>\n",
       "      <td>-0.484</td>\n",
       "      <td>0.711</td>\n",
       "    </tr>\n",
       "    <tr>\n",
       "      <th>P_GDPb ~ TO</th>\n",
       "      <td>P_GDPb</td>\n",
       "      <td>~</td>\n",
       "      <td>TO</td>\n",
       "      <td>0.444</td>\n",
       "      <td>0.115</td>\n",
       "      <td>3.877</td>\n",
       "      <td>0.000</td>\n",
       "      <td>0.220</td>\n",
       "      <td>0.669</td>\n",
       "    </tr>\n",
       "    <tr>\n",
       "      <th>p_eib_ti_isg</th>\n",
       "      <td>p_eib_ti_isg</td>\n",
       "      <td>:=</td>\n",
       "      <td>p_eib_ti*p_ti_isg</td>\n",
       "      <td>0.025</td>\n",
       "      <td>0.079</td>\n",
       "      <td>0.316</td>\n",
       "      <td>0.752</td>\n",
       "      <td>-0.130</td>\n",
       "      <td>0.180</td>\n",
       "    </tr>\n",
       "    <tr>\n",
       "      <th>p_eib_pgdpb_to</th>\n",
       "      <td>p_eib_pgdpb_to</td>\n",
       "      <td>:=</td>\n",
       "      <td>p_eib_pgdpb*p_pgdpb_to</td>\n",
       "      <td>-0.123</td>\n",
       "      <td>0.087</td>\n",
       "      <td>-1.407</td>\n",
       "      <td>0.160</td>\n",
       "      <td>-0.295</td>\n",
       "      <td>0.048</td>\n",
       "    </tr>\n",
       "    <tr>\n",
       "      <th>p_eib_isg_total</th>\n",
       "      <td>p_eib_isg_total</td>\n",
       "      <td>:=</td>\n",
       "      <td>p_eib_isg+(p_eib_ti*p_ti_isg)</td>\n",
       "      <td>0.036</td>\n",
       "      <td>0.238</td>\n",
       "      <td>0.150</td>\n",
       "      <td>0.881</td>\n",
       "      <td>-0.430</td>\n",
       "      <td>0.502</td>\n",
       "    </tr>\n",
       "    <tr>\n",
       "      <th>p_eib_to_total</th>\n",
       "      <td>p_eib_to_total</td>\n",
       "      <td>:=</td>\n",
       "      <td>p_eib_to+(p_eib_pgdpb*p_pgdpb_to)</td>\n",
       "      <td>-0.032</td>\n",
       "      <td>0.186</td>\n",
       "      <td>-0.171</td>\n",
       "      <td>0.864</td>\n",
       "      <td>-0.397</td>\n",
       "      <td>0.334</td>\n",
       "    </tr>\n",
       "  </tbody>\n",
       "</table>\n",
       "</div>"
      ],
      "text/plain": [
       "                             lhs  op                                rhs  \\\n",
       "EIb ~ ISG                    EIb   ~                                ISG   \n",
       "EIb ~ TO                     EIb   ~                                 TO   \n",
       "EIb ~ TI                     EIb   ~                                 TI   \n",
       "EIb ~ P_GDPb                 EIb   ~                             P_GDPb   \n",
       "TI ~ ISG                      TI   ~                                ISG   \n",
       "P_GDPb ~ TO               P_GDPb   ~                                 TO   \n",
       "p_eib_ti_isg        p_eib_ti_isg  :=                  p_eib_ti*p_ti_isg   \n",
       "p_eib_pgdpb_to    p_eib_pgdpb_to  :=             p_eib_pgdpb*p_pgdpb_to   \n",
       "p_eib_isg_total  p_eib_isg_total  :=      p_eib_isg+(p_eib_ti*p_ti_isg)   \n",
       "p_eib_to_total    p_eib_to_total  :=  p_eib_to+(p_eib_pgdpb*p_pgdpb_to)   \n",
       "\n",
       "                 est.std     se      z  pvalue  ci.lower  ci.upper  \n",
       "EIb ~ ISG          0.011  0.210  0.051   0.960    -0.401     0.423  \n",
       "EIb ~ TO           0.091  0.197  0.462   0.644    -0.295     0.477  \n",
       "EIb ~ TI           0.221  0.180  1.227   0.220    -0.132     0.573  \n",
       "EIb ~ P_GDPb      -0.277  0.194 -1.431   0.153    -0.656     0.102  \n",
       "TI ~ ISG           0.113  0.305  0.372   0.710    -0.484     0.711  \n",
       "P_GDPb ~ TO        0.444  0.115  3.877   0.000     0.220     0.669  \n",
       "p_eib_ti_isg       0.025  0.079  0.316   0.752    -0.130     0.180  \n",
       "p_eib_pgdpb_to    -0.123  0.087 -1.407   0.160    -0.295     0.048  \n",
       "p_eib_isg_total    0.036  0.238  0.150   0.881    -0.430     0.502  \n",
       "p_eib_to_total    -0.032  0.186 -0.171   0.864    -0.397     0.334  "
      ]
     },
     "metadata": {},
     "output_type": "display_data"
    },
    {
     "data": {
      "text/html": [
       "<div>\n",
       "<style scoped>\n",
       "    .dataframe tbody tr th:only-of-type {\n",
       "        vertical-align: middle;\n",
       "    }\n",
       "\n",
       "    .dataframe tbody tr th {\n",
       "        vertical-align: top;\n",
       "    }\n",
       "\n",
       "    .dataframe thead th {\n",
       "        text-align: right;\n",
       "    }\n",
       "</style>\n",
       "<table border=\"1\" class=\"dataframe\">\n",
       "  <thead>\n",
       "    <tr style=\"text-align: right;\">\n",
       "      <th></th>\n",
       "      <th>Causal variable</th>\n",
       "      <th>DE coeff.</th>\n",
       "      <th>DE s.e.</th>\n",
       "      <th>DE p-value</th>\n",
       "      <th>IE coeff.</th>\n",
       "      <th>IE s.e.</th>\n",
       "      <th>IE p-value</th>\n",
       "      <th>TE coeff.</th>\n",
       "      <th>TE s.e.</th>\n",
       "      <th>TE p-value</th>\n",
       "    </tr>\n",
       "  </thead>\n",
       "  <tbody>\n",
       "    <tr>\n",
       "      <th>0</th>\n",
       "      <td>ISG</td>\n",
       "      <td>0.011</td>\n",
       "      <td>0.210</td>\n",
       "      <td>0.960</td>\n",
       "      <td>0.025</td>\n",
       "      <td>0.079</td>\n",
       "      <td>0.752</td>\n",
       "      <td>0.036</td>\n",
       "      <td>0.238</td>\n",
       "      <td>0.881</td>\n",
       "    </tr>\n",
       "    <tr>\n",
       "      <th>1</th>\n",
       "      <td>TO</td>\n",
       "      <td>0.091</td>\n",
       "      <td>0.197</td>\n",
       "      <td>0.644</td>\n",
       "      <td>-0.123</td>\n",
       "      <td>0.087</td>\n",
       "      <td>0.160</td>\n",
       "      <td>-0.032</td>\n",
       "      <td>0.186</td>\n",
       "      <td>0.864</td>\n",
       "    </tr>\n",
       "    <tr>\n",
       "      <th>2</th>\n",
       "      <td>TI</td>\n",
       "      <td>0.221</td>\n",
       "      <td>0.180</td>\n",
       "      <td>0.220</td>\n",
       "      <td></td>\n",
       "      <td></td>\n",
       "      <td></td>\n",
       "      <td>0.221</td>\n",
       "      <td>0.180</td>\n",
       "      <td>0.220</td>\n",
       "    </tr>\n",
       "    <tr>\n",
       "      <th>3</th>\n",
       "      <td>P\\_GDPb</td>\n",
       "      <td>-0.277</td>\n",
       "      <td>0.194</td>\n",
       "      <td>0.153</td>\n",
       "      <td></td>\n",
       "      <td></td>\n",
       "      <td></td>\n",
       "      <td>-0.277</td>\n",
       "      <td>0.194</td>\n",
       "      <td>0.153</td>\n",
       "    </tr>\n",
       "  </tbody>\n",
       "</table>\n",
       "</div>"
      ],
      "text/plain": [
       "  Causal variable DE coeff. DE s.e. DE p-value IE coeff. IE s.e. IE p-value  \\\n",
       "0             ISG     0.011   0.210      0.960     0.025   0.079      0.752   \n",
       "1              TO     0.091   0.197      0.644    -0.123   0.087      0.160   \n",
       "2              TI     0.221   0.180      0.220                                \n",
       "3         P\\_GDPb    -0.277   0.194      0.153                                \n",
       "\n",
       "  TE coeff. TE s.e. TE p-value  \n",
       "0     0.036   0.238      0.881  \n",
       "1    -0.032   0.186      0.864  \n",
       "2     0.221   0.180      0.220  \n",
       "3    -0.277   0.194      0.153  "
      ]
     },
     "metadata": {},
     "output_type": "display_data"
    },
    {
     "name": "stdout",
     "output_type": "stream",
     "text": [
      "\\begin{tabular}{llllllllll}\n",
      "\\toprule\n",
      "Causal variable & DE coeff. & DE s.e. & DE p-value & IE coeff. & IE s.e. & IE p-value & TE coeff. & TE s.e. & TE p-value \\\\\n",
      "\\midrule\n",
      "            ISG &     0.011 &   0.210 &      0.960 &     0.025 &   0.079 &      0.752 &     0.036 &   0.238 &      0.881 \\\\\n",
      "             TO &     0.091 &   0.197 &      0.644 &    -0.123 &   0.087 &      0.160 &    -0.032 &   0.186 &      0.864 \\\\\n",
      "             TI &     0.221 &   0.180 &      0.220 &           &         &            &     0.221 &   0.180 &      0.220 \\\\\n",
      "        P\\_GDPb &    -0.277 &   0.194 &      0.153 &           &         &            &    -0.277 &   0.194 &      0.153 \\\\\n",
      "\\bottomrule\n",
      "\\end{tabular}\n",
      "\n"
     ]
    }
   ],
   "source": [
    "df = soln_std.query('(lhs != rhs) & (op in [\"~\", \":=\"])').copy()\n",
    "df.index = np.where(df.op == '~', df.lhs.str.cat([df.op, df.rhs], sep=' '), df.lhs)\n",
    "display(np.round(df, 3))\n",
    "out = pd.DataFrame({'Causal variable': ['ISG', 'TO', 'TI', 'P\\_GDPb'], \n",
    "                    'DE coeff.': np.nan, 'DE s.e.': np.nan, 'DE p-value': np.nan,\n",
    "                    'IE coeff.': np.nan, 'IE s.e.': np.nan, 'IE p-value': np.nan,\n",
    "                    'TE coeff.': np.nan, 'TE s.e.': np.nan, 'TE p-value': np.nan})\n",
    "out.iloc[0:4, 1:4] = df.iloc[0:4, [3,4,6]].values\n",
    "out.iloc[0:2, 4:7] = df.iloc[6:8, [3,4,6]].values\n",
    "out.iloc[0:2, 7:10] = df.iloc[8:10, [3,4,6]].values\n",
    "out.iloc[2:4, 7:10] = df.iloc[2:4, [3,4,6]].values\n",
    "f3 = lambda x: '{:.3f}'.format(x) if np.isfinite(x) else ''\n",
    "out.iloc[:, [1,2,4,5,7,8]] = out.iloc[:, [1,2,4,5,7,8]].applymap(f3)\n",
    "f3p = lambda x: '{:.3f}'.format(x) if x >= 0.001 else '*' if np.isfinite(x) else ''\n",
    "out.iloc[:, [3,6,9]] = out.iloc[:, [3,6,9]].applymap(f3p)\n",
    "display(out)\n",
    "print(out.to_latex(escape=False, index=False))"
   ]
  },
  {
   "cell_type": "code",
   "execution_count": 15,
   "metadata": {
    "kernel": "em-2020"
   },
   "outputs": [
    {
     "data": {
      "text/html": [
       "<div>\n",
       "<style scoped>\n",
       "    .dataframe tbody tr th:only-of-type {\n",
       "        vertical-align: middle;\n",
       "    }\n",
       "\n",
       "    .dataframe tbody tr th {\n",
       "        vertical-align: top;\n",
       "    }\n",
       "\n",
       "    .dataframe thead th {\n",
       "        text-align: right;\n",
       "    }\n",
       "</style>\n",
       "<table border=\"1\" class=\"dataframe\">\n",
       "  <thead>\n",
       "    <tr style=\"text-align: right;\">\n",
       "      <th></th>\n",
       "      <th>value</th>\n",
       "      <th>cut-off</th>\n",
       "    </tr>\n",
       "  </thead>\n",
       "  <tbody>\n",
       "    <tr>\n",
       "      <th>$\\chi^2$</th>\n",
       "      <td>0.644</td>\n",
       "      <td>$&gt; 0.05$</td>\n",
       "    </tr>\n",
       "    <tr>\n",
       "      <th>RMSEA</th>\n",
       "      <td>0.000</td>\n",
       "      <td>$&lt;0.08$</td>\n",
       "    </tr>\n",
       "    <tr>\n",
       "      <th>CFI</th>\n",
       "      <td>1.000</td>\n",
       "      <td>$\\geq 0.90$</td>\n",
       "    </tr>\n",
       "    <tr>\n",
       "      <th>SRMR</th>\n",
       "      <td>0.043</td>\n",
       "      <td>$&lt;0.08$</td>\n",
       "    </tr>\n",
       "  </tbody>\n",
       "</table>\n",
       "</div>"
      ],
      "text/plain": [
       "          value      cut-off\n",
       "$\\chi^2$  0.644     $> 0.05$\n",
       "RMSEA     0.000      $<0.08$\n",
       "CFI       1.000  $\\geq 0.90$\n",
       "SRMR      0.043      $<0.08$"
      ]
     },
     "metadata": {},
     "output_type": "display_data"
    },
    {
     "name": "stdout",
     "output_type": "stream",
     "text": [
      "\\begin{tabular}{lrl}\n",
      "\\toprule\n",
      "{} &  value &      cut-off \\\\\n",
      "\\midrule\n",
      "$\\chi^2$ &  0.644 &     $> 0.05$ \\\\\n",
      "RMSEA    &  0.000 &      $<0.08$ \\\\\n",
      "CFI      &  1.000 &  $\\geq 0.90$ \\\\\n",
      "SRMR     &  0.043 &      $<0.08$ \\\\\n",
      "\\bottomrule\n",
      "\\end{tabular}\n",
      "\n"
     ]
    }
   ],
   "source": [
    "fit_table = fit_measures.loc[['pvalue.scaled', 'rmsea.robust', 'cfi.robust', 'srmr']]\n",
    "fit_table.index = [r'$\\chi^2$', 'RMSEA', 'CFI', 'SRMR']\n",
    "fit_table.columns = ['value']\n",
    "fit_table['cut-off'] = ['$> 0.05$', '$<0.08$', '$\\geq 0.90$', '$<0.08$']\n",
    "display(np.round(fit_table, 3))\n",
    "print(np.round(fit_table, 3).to_latex(escape=False))"
   ]
  },
  {
   "cell_type": "code",
   "execution_count": 16,
   "metadata": {
    "kernel": "R"
   },
   "outputs": [
    {
     "data": {
      "text/plain": [
       "     Min.   1st Qu.    Median      Mean   3rd Qu.      Max. \n",
       "-0.113341 -0.000925  0.000000  0.007177  0.018185  0.109706 "
      ]
     },
     "metadata": {},
     "output_type": "display_data"
    },
    {
     "data": {
      "image/png": "[encoded data removed]",
      "text/plain": [
       "plot without title"
      ]
     },
     "metadata": {
      "image/png": {
       "height": 420,
       "width": 420
      }
     },
     "output_type": "display_data"
    }
   ],
   "source": [
    "# Extract unique correlation residuals\n",
    "model.path.fit.resid <- as.data.frame(resid(model.path.fit, type='cor.bentler')$cov)\n",
    "resid <- model.path.fit.resid[lower.tri(model.path.fit.resid, diag=TRUE)]\n",
    "\n",
    "summary(resid)\n",
    "\n",
    "plot(resid[order(resid)], pch=16, xlab='', ylab='(Bentler) Correlation Residual')\n",
    "abline(h=c(0, -.1, .1), lty=c(1,3,3))"
   ]
  },
  {
   "cell_type": "code",
   "execution_count": 17,
   "metadata": {
    "kernel": "em-2020"
   },
   "outputs": [
    {
     "name": "stderr",
     "output_type": "stream",
     "text": [
      "Variable model.path.fit.resid is put to SoS as model_path_fit_resid\n"
     ]
    }
   ],
   "source": [
    "%get model.path.fit.resid --from R\n",
    "def plot_corr_resid(corr, figsize=None, **kwargs):\n",
    "    mask = 1 - np.tril(np.ones_like(corr, dtype=np.bool))\n",
    "    corr_text = np.vectorize('{:.3f}'.format)(corr)\n",
    "    if figsize is None:\n",
    "        figsize=np.array([1, 0.75]) * corr.shape[0] + np.array([kwargs.get('cbar', True) * 1.5, 0])\n",
    "    f, ax = plt.subplots(figsize=figsize)\n",
    "    cmap = sns.diverging_palette(10, 10, s=50, l=75, sep=100, as_cmap=True)\n",
    "\n",
    "    # Draw the heatmap with the mask and correct aspect ratio\n",
    "    sns.heatmap(corr, annot=corr_text, fmt='', mask=mask, cmap=cmap, vmin=-0.1, vmax=0.1, \n",
    "                square=False, linewidths=.25, **kwargs)\n",
    "    ax.set_yticklabels(ax.get_yticklabels(), fontdict={'verticalalignment': 'center'})\n",
    "\n",
    "def save_fig(file, **kwargs):\n",
    "    path = os.path.join(plot_dir, file)\n",
    "    plt.savefig(path, metadata={'CreationDate': None})"
   ]
  },
  {
   "cell_type": "code",
   "execution_count": 18,
   "metadata": {
    "kernel": "em-2020"
   },
   "outputs": [
    {
     "data": {
      "image/png": "[encoded data removed]",
      "text/plain": [
       "<Figure size 468x270 with 2 Axes>"
      ]
     },
     "metadata": {},
     "output_type": "display_data"
    }
   ],
   "source": [
    "plot_corr_resid(model_path_fit_resid)\n",
    "# save_fig('updated_correlation_residuals.pdf')"
   ]
  },
  {
   "cell_type": "code",
   "execution_count": 19,
   "metadata": {
    "kernel": "R"
   },
   "outputs": [
    {
     "data": {
      "text/plain": [
       "\n",
       "Call:\n",
       "lm(formula = data.logdiff$EIb ~ resid)\n",
       "\n",
       "Residuals:\n",
       "       Min         1Q     Median         3Q        Max \n",
       "-0.0024363 -0.0004655  0.0001039  0.0007077  0.0017855 \n",
       "\n",
       "Coefficients:\n",
       "              Estimate Std. Error t value Pr(>|t|)    \n",
       "(Intercept) -0.0297131  0.0002239  -132.7   <2e-16 ***\n",
       "resid        0.9985802  0.0090977   109.8   <2e-16 ***\n",
       "---\n",
       "Signif. codes:  0 ‘***’ 0.001 ‘**’ 0.01 ‘*’ 0.05 ‘.’ 0.1 ‘ ’ 1\n",
       "\n",
       "Residual standard error: 0.001097 on 22 degrees of freedom\n",
       "  (2 observations deleted due to missingness)\n",
       "Multiple R-squared:  0.9982,\tAdjusted R-squared:  0.9981 \n",
       "F-statistic: 1.205e+04 on 1 and 22 DF,  p-value: < 2.2e-16\n"
      ]
     },
     "metadata": {},
     "output_type": "display_data"
    },
    {
     "data": {
      "image/png": "[encoded data removed]",
      "text/plain": [
       "plot without title"
      ]
     },
     "metadata": {
      "image/png": {
       "height": 420,
       "width": 420
      }
     },
     "output_type": "display_data"
    }
   ],
   "source": [
    "resid <- residuals_lavaan(model.path.fit)$EIb\n",
    "fitted <- fitted_lavaan(model.path.fit)$EIb\n",
    "resid <- data.logdiff$EIb - fitted\n",
    "summary(lm(data.logdiff$EIb ~ resid))\n",
    "plot(data.logdiff$EIb, resid)"
   ]
  },
  {
   "cell_type": "code",
   "execution_count": null,
   "metadata": {
    "kernel": "R"
   },
   "outputs": [],
   "source": []
  }
 ],
 "metadata": {
  "kernelspec": {
   "display_name": "SoS",
   "language": "sos",
   "name": "sos"
  },
  "language_info": {
   "codemirror_mode": "sos",
   "file_extension": ".sos",
   "mimetype": "text/x-sos",
   "name": "sos",
   "nbconvert_exporter": "sos_notebook.converter.SoS_Exporter",
   "pygments_lexer": "sos"
  },
  "sos": {
   "kernels": [
    [
     "R",
     "ir",
     "R",
     "#DCDCDA",
     "r"
    ],
    [
     "em-2020",
     "em-2020",
     "Python3",
     "#FFD91A",
     {
      "name": "ipython",
      "version": 3
     }
    ]
   ],
   "version": "0.21.9"
  }
 },
 "nbformat": 4,
 "nbformat_minor": 4
}
