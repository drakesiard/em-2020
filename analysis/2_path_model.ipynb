{
 "cells": [
  {
   "cell_type": "code",
   "execution_count": 1,
   "metadata": {},
   "outputs": [
    {
     "name": "stderr",
     "output_type": "stream",
     "text": [
      "This is lavaan 0.6-5\n",
      "lavaan is BETA software! Please report any bugs.\n",
      "Registered S3 methods overwritten by 'huge':\n",
      "  method    from   \n",
      "  plot.sim  BDgraph\n",
      "  print.sim BDgraph\n",
      "Registered S3 methods overwritten by 'car':\n",
      "  method                          from\n",
      "  influence.merMod                lme4\n",
      "  cooks.distance.influence.merMod lme4\n",
      "  dfbeta.influence.merMod         lme4\n",
      "  dfbetas.influence.merMod        lme4\n",
      "Registered S3 method overwritten by 'GGally':\n",
      "  method from   \n",
      "  +.gg   ggplot2\n",
      "sROC 0.1-2 loaded\n"
     ]
    }
   ],
   "source": [
    "library(lavaan)\n",
    "library(semPlot)\n",
    "library(MVN)"
   ]
  },
  {
   "cell_type": "code",
   "execution_count": 2,
   "metadata": {},
   "outputs": [],
   "source": [
    "data.raw <- read.csv('../data/WB_BGD_201805.csv')\n",
    "data <- subset(data.raw, year >= 1986 & year <= 2015)\n",
    "data.log <- log(data)"
   ]
  },
  {
   "cell_type": "code",
   "execution_count": 3,
   "metadata": {},
   "outputs": [
    {
     "data": {
      "text/plain": [
       "      year           ISG              TO            P_GDP       \n",
       " Min.   :1986   Min.   :20.05   Min.   :16.69   Min.   : 227.4  \n",
       " 1st Qu.:1993   1st Qu.:22.86   1st Qu.:22.93   1st Qu.: 293.2  \n",
       " Median :2000   Median :23.92   Median :28.30   Median : 401.6  \n",
       " Mean   :2000   Mean   :24.07   Mean   :30.56   Mean   : 498.8  \n",
       " 3rd Qu.:2008   3rd Qu.:25.90   3rd Qu.:39.48   3rd Qu.: 597.1  \n",
       " Max.   :2015   Max.   :28.15   Max.   :48.11   Max.   :1210.2  \n",
       "                                                                \n",
       "       EI               TI       \n",
       " Min.   :0.2049   Min.   : 93.0  \n",
       " 1st Qu.:0.3205   1st Qu.:138.0  \n",
       " Median :0.3463   Median :291.0  \n",
       " Mean   :0.3513   Mean   :239.2  \n",
       " 3rd Qu.:0.4179   3rd Qu.:317.5  \n",
       " Max.   :0.4893   Max.   :354.0  \n",
       " NA's   :1                       "
      ]
     },
     "metadata": {},
     "output_type": "display_data"
    },
    {
     "data": {
      "text/html": [
       "<table>\n",
       "<caption>A matrix: 5 × 5 of type dbl</caption>\n",
       "<thead>\n",
       "\t<tr><th></th><th scope=col>ISG</th><th scope=col>TO</th><th scope=col>TI</th><th scope=col>P_GDP</th><th scope=col>EI</th></tr>\n",
       "</thead>\n",
       "<tbody>\n",
       "\t<tr><th scope=row>ISG</th><td> 1.0000000</td><td> 0.9327355</td><td> 0.7972720</td><td> 0.8715645</td><td>-0.8552086</td></tr>\n",
       "\t<tr><th scope=row>TO</th><td> 0.9327355</td><td> 1.0000000</td><td> 0.8417575</td><td> 0.8757430</td><td>-0.9187085</td></tr>\n",
       "\t<tr><th scope=row>TI</th><td> 0.7972720</td><td> 0.8417575</td><td> 1.0000000</td><td> 0.6928933</td><td>-0.7820815</td></tr>\n",
       "\t<tr><th scope=row>P_GDP</th><td> 0.8715645</td><td> 0.8757430</td><td> 0.6928933</td><td> 1.0000000</td><td>-0.9492223</td></tr>\n",
       "\t<tr><th scope=row>EI</th><td>-0.8552086</td><td>-0.9187085</td><td>-0.7820815</td><td>-0.9492223</td><td> 1.0000000</td></tr>\n",
       "</tbody>\n",
       "</table>\n"
      ],
      "text/latex": [
       "A matrix: 5 × 5 of type dbl\n",
       "\\begin{tabular}{r|lllll}\n",
       "  & ISG & TO & TI & P\\_GDP & EI\\\\\n",
       "\\hline\n",
       "\tISG &  1.0000000 &  0.9327355 &  0.7972720 &  0.8715645 & -0.8552086\\\\\n",
       "\tTO &  0.9327355 &  1.0000000 &  0.8417575 &  0.8757430 & -0.9187085\\\\\n",
       "\tTI &  0.7972720 &  0.8417575 &  1.0000000 &  0.6928933 & -0.7820815\\\\\n",
       "\tP\\_GDP &  0.8715645 &  0.8757430 &  0.6928933 &  1.0000000 & -0.9492223\\\\\n",
       "\tEI & -0.8552086 & -0.9187085 & -0.7820815 & -0.9492223 &  1.0000000\\\\\n",
       "\\end{tabular}\n"
      ],
      "text/markdown": [
       "\n",
       "A matrix: 5 × 5 of type dbl\n",
       "\n",
       "| <!--/--> | ISG | TO | TI | P_GDP | EI |\n",
       "|---|---|---|---|---|---|\n",
       "| ISG |  1.0000000 |  0.9327355 |  0.7972720 |  0.8715645 | -0.8552086 |\n",
       "| TO |  0.9327355 |  1.0000000 |  0.8417575 |  0.8757430 | -0.9187085 |\n",
       "| TI |  0.7972720 |  0.8417575 |  1.0000000 |  0.6928933 | -0.7820815 |\n",
       "| P_GDP |  0.8715645 |  0.8757430 |  0.6928933 |  1.0000000 | -0.9492223 |\n",
       "| EI | -0.8552086 | -0.9187085 | -0.7820815 | -0.9492223 |  1.0000000 |\n",
       "\n"
      ],
      "text/plain": [
       "      ISG        TO         TI         P_GDP      EI        \n",
       "ISG    1.0000000  0.9327355  0.7972720  0.8715645 -0.8552086\n",
       "TO     0.9327355  1.0000000  0.8417575  0.8757430 -0.9187085\n",
       "TI     0.7972720  0.8417575  1.0000000  0.6928933 -0.7820815\n",
       "P_GDP  0.8715645  0.8757430  0.6928933  1.0000000 -0.9492223\n",
       "EI    -0.8552086 -0.9187085 -0.7820815 -0.9492223  1.0000000"
      ]
     },
     "metadata": {},
     "output_type": "display_data"
    }
   ],
   "source": [
    "summary(data)\n",
    "order = c('ISG', 'TO', 'TI', 'P_GDP', 'EI')\n",
    "cor(data, use='pairwise')[order, order]"
   ]
  },
  {
   "cell_type": "code",
   "execution_count": 4,
   "metadata": {},
   "outputs": [],
   "source": [
    "library(MVN)"
   ]
  },
  {
   "cell_type": "code",
   "execution_count": 5,
   "metadata": {},
   "outputs": [
    {
     "data": {
      "text/html": [
       "-117.441750433924"
      ],
      "text/latex": [
       "-117.441750433924"
      ],
      "text/markdown": [
       "-117.441750433924"
      ],
      "text/plain": [
       "[1] -117.4418"
      ]
     },
     "metadata": {},
     "output_type": "display_data"
    },
    {
     "data": {
      "text/html": [
       "-109.237975454006"
      ],
      "text/latex": [
       "-109.237975454006"
      ],
      "text/markdown": [
       "-109.237975454006"
      ],
      "text/plain": [
       "[1] -109.238"
      ]
     },
     "metadata": {},
     "output_type": "display_data"
    }
   ],
   "source": [
    "model.naive <- 'EI ~ ISG + TO + TI + P_GDP'\n",
    "model.naive.fit <- lm(model.naive, data=data.log)\n",
    "AIC(model.naive.fit)\n",
    "BIC(model.naive.fit)"
   ]
  },
  {
   "cell_type": "code",
   "execution_count": 6,
   "metadata": {},
   "outputs": [
    {
     "name": "stdout",
     "output_type": "stream",
     "text": [
      "lavaan 0.6-5 ended normally after 64 iterations\n",
      "\n",
      "  Estimator                                         ML\n",
      "  Optimization method                           NLMINB\n",
      "  Number of free parameters                         12\n",
      "                                                      \n",
      "  Number of observations                            30\n",
      "  Number of missing patterns                         2\n",
      "                                                      \n",
      "Model Test User Model:\n",
      "                                                      \n",
      "  Test statistic                                14.849\n",
      "  Degrees of freedom                                 3\n",
      "  P-value (Chi-square)                           0.002\n",
      "\n",
      "Model Test Baseline Model:\n",
      "\n",
      "  Test statistic                               226.218\n",
      "  Degrees of freedom                                 9\n",
      "  P-value                                        0.000\n",
      "\n",
      "User Model versus Baseline Model:\n",
      "\n",
      "  Comparative Fit Index (CFI)                    0.945\n",
      "  Tucker-Lewis Index (TLI)                       0.836\n",
      "\n",
      "Loglikelihood and Information Criteria:\n",
      "\n",
      "  Loglikelihood user model (H0)                 71.433\n",
      "  Loglikelihood unrestricted model (H1)         78.858\n",
      "                                                      \n",
      "  Akaike (AIC)                                -118.866\n",
      "  Bayesian (BIC)                              -102.052\n",
      "  Sample-size adjusted Bayesian (BIC)         -139.414\n",
      "\n",
      "Root Mean Square Error of Approximation:\n",
      "\n",
      "  RMSEA                                          0.363\n",
      "  90 Percent confidence interval - lower         0.193\n",
      "  90 Percent confidence interval - upper         0.556\n",
      "  P-value RMSEA <= 0.05                          0.003\n",
      "\n",
      "Standardized Root Mean Square Residual:\n",
      "\n",
      "  SRMR                                           0.041\n",
      "\n",
      "Parameter Estimates:\n",
      "\n",
      "  Information                              First.order\n",
      "  Information saturated (h1) model          Structured\n",
      "  Standard errors                             Standard\n",
      "\n",
      "Regressions:\n",
      "                   Estimate  Std.Err  z-value  P(>|z|)   Std.lv  Std.all\n",
      "  EI ~                                                                  \n",
      "    ISG     (p__s)    0.304    0.356    0.853    0.394    0.304    0.122\n",
      "    TO   (p_ei_to)    0.054    0.119    0.458    0.647    0.054    0.076\n",
      "    TI   (p_ei_ti)    0.034    0.026    1.301    0.193    0.034    0.066\n",
      "    P_GD    (p__p)   -0.623    0.059  -10.651    0.000   -0.623   -1.211\n",
      "  TI ~                                                                  \n",
      "    ISG     (p_t_)    3.871    1.341    2.887    0.004    3.871    0.804\n",
      "  P_GDP ~                                                               \n",
      "    TO      (p_p_)    1.279    0.199    6.410    0.000    1.279    0.925\n",
      "\n",
      "Intercepts:\n",
      "                   Estimate  Std.Err  z-value  P(>|z|)   Std.lv  Std.all\n",
      "   .EI                1.384    0.776    1.784    0.074    1.384    5.892\n",
      "   .TI               -6.910    4.226   -1.635    0.102   -6.910  -15.230\n",
      "   .P_GDP             1.796    0.689    2.608    0.009    1.796    3.937\n",
      "\n",
      "Variances:\n",
      "                   Estimate  Std.Err  z-value  P(>|z|)   Std.lv  Std.all\n",
      "   .EI                0.001    0.000    2.010    0.044    0.001    0.012\n",
      "   .TI                0.073    0.024    3.091    0.002    0.073    0.353\n",
      "   .P_GDP             0.030    0.010    2.988    0.003    0.030    0.145\n",
      "\n",
      "Defined Parameters:\n",
      "                   Estimate  Std.Err  z-value  P(>|z|)   Std.lv  Std.all\n",
      "    p_ei_ti_isg       0.133    0.106    1.260    0.208    0.133    0.053\n",
      "    p_ei_pgdp_to     -0.797    0.155   -5.133    0.000   -0.797   -1.120\n",
      "    p_ei_isg_total    0.437    0.366    1.194    0.233    0.437    0.175\n",
      "    p_ei_to_total    -0.743    0.151   -4.910    0.000   -0.743   -1.044\n",
      "\n"
     ]
    }
   ],
   "source": [
    "model.path <- '\n",
    "## path model\n",
    "EI ~ p_ei_isg*ISG + p_ei_to*TO + p_ei_ti*TI + p_ei_pgdp*P_GDP\n",
    "TI ~ p_ti_isg*ISG\n",
    "P_GDP ~ p_pgdp_to*TO\n",
    "## indirect effect (a*b)\n",
    "p_ei_ti_isg := p_ei_ti*p_ti_isg\n",
    "p_ei_pgdp_to := p_ei_pgdp*p_pgdp_to\n",
    "## total effect\n",
    "p_ei_isg_total := p_ei_isg + (p_ei_ti*p_ti_isg)\n",
    "p_ei_to_total := p_ei_to + (p_ei_pgdp*p_pgdp_to)\n",
    "'\n",
    "\n",
    "model.path.fit <- sem(model.path, data=data.log, estimator='MLF', missing='ML')\n",
    "summary(model.path.fit, standardized=TRUE, fit.measures=TRUE)"
   ]
  },
  {
   "cell_type": "code",
   "execution_count": 7,
   "metadata": {},
   "outputs": [
    {
     "data": {
      "text/html": [
       "<table>\n",
       "<caption>A lavaan.data.frame: 21 × 9</caption>\n",
       "<thead>\n",
       "\t<tr><th scope=col>lhs</th><th scope=col>op</th><th scope=col>rhs</th><th scope=col>est.std</th><th scope=col>se</th><th scope=col>z</th><th scope=col>pvalue</th><th scope=col>ci.lower</th><th scope=col>ci.upper</th></tr>\n",
       "\t<tr><th scope=col>&lt;chr&gt;</th><th scope=col>&lt;chr&gt;</th><th scope=col>&lt;chr&gt;</th><th scope=col>&lt;dbl&gt;</th><th scope=col>&lt;dbl&gt;</th><th scope=col>&lt;dbl&gt;</th><th scope=col>&lt;dbl&gt;</th><th scope=col>&lt;dbl&gt;</th><th scope=col>&lt;dbl&gt;</th></tr>\n",
       "</thead>\n",
       "<tbody>\n",
       "\t<tr><td>EI            </td><td>~ </td><td>ISG                          </td><td>  0.12182679</td><td>0.14379568</td><td>  0.8472215</td><td>3.968717e-01</td><td> -0.160007564</td><td> 0.40366115</td></tr>\n",
       "\t<tr><td>EI            </td><td>~ </td><td>TO                           </td><td>  0.07631719</td><td>0.16539022</td><td>  0.4614371</td><td>6.444850e-01</td><td> -0.247841678</td><td> 0.40047605</td></tr>\n",
       "\t<tr><td>EI            </td><td>~ </td><td>TI                           </td><td>  0.06639991</td><td>0.05277651</td><td>  1.2581336</td><td>2.083434e-01</td><td> -0.037040159</td><td> 0.16983997</td></tr>\n",
       "\t<tr><td>EI            </td><td>~ </td><td>P_GDP                        </td><td> -1.21088741</td><td>0.10468954</td><td>-11.5664599</td><td>0.000000e+00</td><td> -1.416075143</td><td>-1.00569967</td></tr>\n",
       "\t<tr><td>TI            </td><td>~ </td><td>ISG                          </td><td>  0.80413801</td><td>0.10421405</td><td>  7.7162148</td><td>1.199041e-14</td><td>  0.599882219</td><td> 1.00839379</td></tr>\n",
       "\t<tr><td>P_GDP         </td><td>~ </td><td>TO                           </td><td>  0.92482561</td><td>0.03853501</td><td> 23.9996225</td><td>0.000000e+00</td><td>  0.849298390</td><td> 1.00035284</td></tr>\n",
       "\t<tr><td>EI            </td><td>~~</td><td>EI                           </td><td>  0.01221976</td><td>0.00775111</td><td>  1.5765170</td><td>1.149067e-01</td><td> -0.002972140</td><td> 0.02741165</td></tr>\n",
       "\t<tr><td>TI            </td><td>~~</td><td>TI                           </td><td>  0.35336207</td><td>0.16760496</td><td>  2.1083032</td><td>3.500477e-02</td><td>  0.024862387</td><td> 0.68186175</td></tr>\n",
       "\t<tr><td>P_GDP         </td><td>~~</td><td>P_GDP                        </td><td>  0.14469758</td><td>0.07127632</td><td>  2.0300933</td><td>4.234705e-02</td><td>  0.004998561</td><td> 0.28439660</td></tr>\n",
       "\t<tr><td>ISG           </td><td>~~</td><td>ISG                          </td><td>  1.00000000</td><td>0.00000000</td><td>         NA</td><td>          NA</td><td>  1.000000000</td><td> 1.00000000</td></tr>\n",
       "\t<tr><td>ISG           </td><td>~~</td><td>TO                           </td><td>  0.94509656</td><td>0.00000000</td><td>         NA</td><td>          NA</td><td>  0.945096564</td><td> 0.94509656</td></tr>\n",
       "\t<tr><td>TO            </td><td>~~</td><td>TO                           </td><td>  1.00000000</td><td>0.00000000</td><td>         NA</td><td>          NA</td><td>  1.000000000</td><td> 1.00000000</td></tr>\n",
       "\t<tr><td>EI            </td><td>~1</td><td>                             </td><td>  5.89244938</td><td>3.35130653</td><td>  1.7582544</td><td>7.870424e-02</td><td> -0.675990717</td><td>12.46088948</td></tr>\n",
       "\t<tr><td>TI            </td><td>~1</td><td>                             </td><td>-15.23017685</td><td>5.88342749</td><td> -2.5886572</td><td>9.635096e-03</td><td>-26.761482827</td><td>-3.69887087</td></tr>\n",
       "\t<tr><td>P_GDP         </td><td>~1</td><td>                             </td><td>  3.93693785</td><td>1.98117351</td><td>  1.9871747</td><td>4.690304e-02</td><td>  0.053909120</td><td> 7.81996659</td></tr>\n",
       "\t<tr><td>ISG           </td><td>~1</td><td>                             </td><td> 33.70025871</td><td>0.00000000</td><td>         NA</td><td>          NA</td><td> 33.700258712</td><td>33.70025871</td></tr>\n",
       "\t<tr><td>TO            </td><td>~1</td><td>                             </td><td> 10.19855765</td><td>0.00000000</td><td>         NA</td><td>          NA</td><td> 10.198557649</td><td>10.19855765</td></tr>\n",
       "\t<tr><td>p_ei_ti_isg   </td><td>:=</td><td>p_ei_ti*p_ti_isg             </td><td>  0.05339469</td><td>0.04294481</td><td>  1.2433329</td><td>2.137452e-01</td><td> -0.030775585</td><td> 0.13756496</td></tr>\n",
       "\t<tr><td>p_ei_pgdp_to  </td><td>:=</td><td>p_ei_pgdp*p_pgdp_to          </td><td> -1.11985969</td><td>0.11709582</td><td> -9.5636183</td><td>0.000000e+00</td><td> -1.349363275</td><td>-0.89035611</td></tr>\n",
       "\t<tr><td>p_ei_isg_total</td><td>:=</td><td>p_ei_isg+(p_ei_ti*p_ti_isg)  </td><td>  0.17522148</td><td>0.14861215</td><td>  1.1790522</td><td>2.383774e-01</td><td> -0.116052984</td><td> 0.46649595</td></tr>\n",
       "\t<tr><td>p_ei_to_total </td><td>:=</td><td>p_ei_to+(p_ei_pgdp*p_pgdp_to)</td><td> -1.04354251</td><td>0.13828015</td><td> -7.5465823</td><td>4.463097e-14</td><td> -1.314566613</td><td>-0.77251840</td></tr>\n",
       "</tbody>\n",
       "</table>\n"
      ],
      "text/latex": [
       "A lavaan.data.frame: 21 × 9\n",
       "\\begin{tabular}{r|lllllllll}\n",
       " lhs & op & rhs & est.std & se & z & pvalue & ci.lower & ci.upper\\\\\n",
       " <chr> & <chr> & <chr> & <dbl> & <dbl> & <dbl> & <dbl> & <dbl> & <dbl>\\\\\n",
       "\\hline\n",
       "\t EI             & \\textasciitilde{}  & ISG                           &   0.12182679 & 0.14379568 &   0.8472215 & 3.968717e-01 &  -0.160007564 &  0.40366115\\\\\n",
       "\t EI             & \\textasciitilde{}  & TO                            &   0.07631719 & 0.16539022 &   0.4614371 & 6.444850e-01 &  -0.247841678 &  0.40047605\\\\\n",
       "\t EI             & \\textasciitilde{}  & TI                            &   0.06639991 & 0.05277651 &   1.2581336 & 2.083434e-01 &  -0.037040159 &  0.16983997\\\\\n",
       "\t EI             & \\textasciitilde{}  & P\\_GDP                         &  -1.21088741 & 0.10468954 & -11.5664599 & 0.000000e+00 &  -1.416075143 & -1.00569967\\\\\n",
       "\t TI             & \\textasciitilde{}  & ISG                           &   0.80413801 & 0.10421405 &   7.7162148 & 1.199041e-14 &   0.599882219 &  1.00839379\\\\\n",
       "\t P\\_GDP          & \\textasciitilde{}  & TO                            &   0.92482561 & 0.03853501 &  23.9996225 & 0.000000e+00 &   0.849298390 &  1.00035284\\\\\n",
       "\t EI             & \\textasciitilde{}\\textasciitilde{} & EI                            &   0.01221976 & 0.00775111 &   1.5765170 & 1.149067e-01 &  -0.002972140 &  0.02741165\\\\\n",
       "\t TI             & \\textasciitilde{}\\textasciitilde{} & TI                            &   0.35336207 & 0.16760496 &   2.1083032 & 3.500477e-02 &   0.024862387 &  0.68186175\\\\\n",
       "\t P\\_GDP          & \\textasciitilde{}\\textasciitilde{} & P\\_GDP                         &   0.14469758 & 0.07127632 &   2.0300933 & 4.234705e-02 &   0.004998561 &  0.28439660\\\\\n",
       "\t ISG            & \\textasciitilde{}\\textasciitilde{} & ISG                           &   1.00000000 & 0.00000000 &          NA &           NA &   1.000000000 &  1.00000000\\\\\n",
       "\t ISG            & \\textasciitilde{}\\textasciitilde{} & TO                            &   0.94509656 & 0.00000000 &          NA &           NA &   0.945096564 &  0.94509656\\\\\n",
       "\t TO             & \\textasciitilde{}\\textasciitilde{} & TO                            &   1.00000000 & 0.00000000 &          NA &           NA &   1.000000000 &  1.00000000\\\\\n",
       "\t EI             & \\textasciitilde{}1 &                               &   5.89244938 & 3.35130653 &   1.7582544 & 7.870424e-02 &  -0.675990717 & 12.46088948\\\\\n",
       "\t TI             & \\textasciitilde{}1 &                               & -15.23017685 & 5.88342749 &  -2.5886572 & 9.635096e-03 & -26.761482827 & -3.69887087\\\\\n",
       "\t P\\_GDP          & \\textasciitilde{}1 &                               &   3.93693785 & 1.98117351 &   1.9871747 & 4.690304e-02 &   0.053909120 &  7.81996659\\\\\n",
       "\t ISG            & \\textasciitilde{}1 &                               &  33.70025871 & 0.00000000 &          NA &           NA &  33.700258712 & 33.70025871\\\\\n",
       "\t TO             & \\textasciitilde{}1 &                               &  10.19855765 & 0.00000000 &          NA &           NA &  10.198557649 & 10.19855765\\\\\n",
       "\t p\\_ei\\_ti\\_isg    & := & p\\_ei\\_ti*p\\_ti\\_isg              &   0.05339469 & 0.04294481 &   1.2433329 & 2.137452e-01 &  -0.030775585 &  0.13756496\\\\\n",
       "\t p\\_ei\\_pgdp\\_to   & := & p\\_ei\\_pgdp*p\\_pgdp\\_to           &  -1.11985969 & 0.11709582 &  -9.5636183 & 0.000000e+00 &  -1.349363275 & -0.89035611\\\\\n",
       "\t p\\_ei\\_isg\\_total & := & p\\_ei\\_isg+(p\\_ei\\_ti*p\\_ti\\_isg)   &   0.17522148 & 0.14861215 &   1.1790522 & 2.383774e-01 &  -0.116052984 &  0.46649595\\\\\n",
       "\t p\\_ei\\_to\\_total  & := & p\\_ei\\_to+(p\\_ei\\_pgdp*p\\_pgdp\\_to) &  -1.04354251 & 0.13828015 &  -7.5465823 & 4.463097e-14 &  -1.314566613 & -0.77251840\\\\\n",
       "\\end{tabular}\n"
      ],
      "text/markdown": [
       "\n",
       "A lavaan.data.frame: 21 × 9\n",
       "\n",
       "| lhs &lt;chr&gt; | op &lt;chr&gt; | rhs &lt;chr&gt; | est.std &lt;dbl&gt; | se &lt;dbl&gt; | z &lt;dbl&gt; | pvalue &lt;dbl&gt; | ci.lower &lt;dbl&gt; | ci.upper &lt;dbl&gt; |\n",
       "|---|---|---|---|---|---|---|---|---|\n",
       "| EI             | ~  | ISG                           |   0.12182679 | 0.14379568 |   0.8472215 | 3.968717e-01 |  -0.160007564 |  0.40366115 |\n",
       "| EI             | ~  | TO                            |   0.07631719 | 0.16539022 |   0.4614371 | 6.444850e-01 |  -0.247841678 |  0.40047605 |\n",
       "| EI             | ~  | TI                            |   0.06639991 | 0.05277651 |   1.2581336 | 2.083434e-01 |  -0.037040159 |  0.16983997 |\n",
       "| EI             | ~  | P_GDP                         |  -1.21088741 | 0.10468954 | -11.5664599 | 0.000000e+00 |  -1.416075143 | -1.00569967 |\n",
       "| TI             | ~  | ISG                           |   0.80413801 | 0.10421405 |   7.7162148 | 1.199041e-14 |   0.599882219 |  1.00839379 |\n",
       "| P_GDP          | ~  | TO                            |   0.92482561 | 0.03853501 |  23.9996225 | 0.000000e+00 |   0.849298390 |  1.00035284 |\n",
       "| EI             | ~~ | EI                            |   0.01221976 | 0.00775111 |   1.5765170 | 1.149067e-01 |  -0.002972140 |  0.02741165 |\n",
       "| TI             | ~~ | TI                            |   0.35336207 | 0.16760496 |   2.1083032 | 3.500477e-02 |   0.024862387 |  0.68186175 |\n",
       "| P_GDP          | ~~ | P_GDP                         |   0.14469758 | 0.07127632 |   2.0300933 | 4.234705e-02 |   0.004998561 |  0.28439660 |\n",
       "| ISG            | ~~ | ISG                           |   1.00000000 | 0.00000000 |          NA |           NA |   1.000000000 |  1.00000000 |\n",
       "| ISG            | ~~ | TO                            |   0.94509656 | 0.00000000 |          NA |           NA |   0.945096564 |  0.94509656 |\n",
       "| TO             | ~~ | TO                            |   1.00000000 | 0.00000000 |          NA |           NA |   1.000000000 |  1.00000000 |\n",
       "| EI             | ~1 | <!----> |   5.89244938 | 3.35130653 |   1.7582544 | 7.870424e-02 |  -0.675990717 | 12.46088948 |\n",
       "| TI             | ~1 | <!----> | -15.23017685 | 5.88342749 |  -2.5886572 | 9.635096e-03 | -26.761482827 | -3.69887087 |\n",
       "| P_GDP          | ~1 | <!----> |   3.93693785 | 1.98117351 |   1.9871747 | 4.690304e-02 |   0.053909120 |  7.81996659 |\n",
       "| ISG            | ~1 | <!----> |  33.70025871 | 0.00000000 |          NA |           NA |  33.700258712 | 33.70025871 |\n",
       "| TO             | ~1 | <!----> |  10.19855765 | 0.00000000 |          NA |           NA |  10.198557649 | 10.19855765 |\n",
       "| p_ei_ti_isg    | := | p_ei_ti*p_ti_isg              |   0.05339469 | 0.04294481 |   1.2433329 | 2.137452e-01 |  -0.030775585 |  0.13756496 |\n",
       "| p_ei_pgdp_to   | := | p_ei_pgdp*p_pgdp_to           |  -1.11985969 | 0.11709582 |  -9.5636183 | 0.000000e+00 |  -1.349363275 | -0.89035611 |\n",
       "| p_ei_isg_total | := | p_ei_isg+(p_ei_ti*p_ti_isg)   |   0.17522148 | 0.14861215 |   1.1790522 | 2.383774e-01 |  -0.116052984 |  0.46649595 |\n",
       "| p_ei_to_total  | := | p_ei_to+(p_ei_pgdp*p_pgdp_to) |  -1.04354251 | 0.13828015 |  -7.5465823 | 4.463097e-14 |  -1.314566613 | -0.77251840 |\n",
       "\n"
      ],
      "text/plain": [
       "   lhs            op rhs                           est.std      se        \n",
       "1  EI             ~  ISG                             0.12182679 0.14379568\n",
       "2  EI             ~  TO                              0.07631719 0.16539022\n",
       "3  EI             ~  TI                              0.06639991 0.05277651\n",
       "4  EI             ~  P_GDP                          -1.21088741 0.10468954\n",
       "5  TI             ~  ISG                             0.80413801 0.10421405\n",
       "6  P_GDP          ~  TO                              0.92482561 0.03853501\n",
       "7  EI             ~~ EI                              0.01221976 0.00775111\n",
       "8  TI             ~~ TI                              0.35336207 0.16760496\n",
       "9  P_GDP          ~~ P_GDP                           0.14469758 0.07127632\n",
       "10 ISG            ~~ ISG                             1.00000000 0.00000000\n",
       "11 ISG            ~~ TO                              0.94509656 0.00000000\n",
       "12 TO             ~~ TO                              1.00000000 0.00000000\n",
       "13 EI             ~1                                 5.89244938 3.35130653\n",
       "14 TI             ~1                               -15.23017685 5.88342749\n",
       "15 P_GDP          ~1                                 3.93693785 1.98117351\n",
       "16 ISG            ~1                                33.70025871 0.00000000\n",
       "17 TO             ~1                                10.19855765 0.00000000\n",
       "18 p_ei_ti_isg    := p_ei_ti*p_ti_isg                0.05339469 0.04294481\n",
       "19 p_ei_pgdp_to   := p_ei_pgdp*p_pgdp_to            -1.11985969 0.11709582\n",
       "20 p_ei_isg_total := p_ei_isg+(p_ei_ti*p_ti_isg)     0.17522148 0.14861215\n",
       "21 p_ei_to_total  := p_ei_to+(p_ei_pgdp*p_pgdp_to)  -1.04354251 0.13828015\n",
       "   z           pvalue       ci.lower      ci.upper   \n",
       "1    0.8472215 3.968717e-01  -0.160007564  0.40366115\n",
       "2    0.4614371 6.444850e-01  -0.247841678  0.40047605\n",
       "3    1.2581336 2.083434e-01  -0.037040159  0.16983997\n",
       "4  -11.5664599 0.000000e+00  -1.416075143 -1.00569967\n",
       "5    7.7162148 1.199041e-14   0.599882219  1.00839379\n",
       "6   23.9996225 0.000000e+00   0.849298390  1.00035284\n",
       "7    1.5765170 1.149067e-01  -0.002972140  0.02741165\n",
       "8    2.1083032 3.500477e-02   0.024862387  0.68186175\n",
       "9    2.0300933 4.234705e-02   0.004998561  0.28439660\n",
       "10          NA           NA   1.000000000  1.00000000\n",
       "11          NA           NA   0.945096564  0.94509656\n",
       "12          NA           NA   1.000000000  1.00000000\n",
       "13   1.7582544 7.870424e-02  -0.675990717 12.46088948\n",
       "14  -2.5886572 9.635096e-03 -26.761482827 -3.69887087\n",
       "15   1.9871747 4.690304e-02   0.053909120  7.81996659\n",
       "16          NA           NA  33.700258712 33.70025871\n",
       "17          NA           NA  10.198557649 10.19855765\n",
       "18   1.2433329 2.137452e-01  -0.030775585  0.13756496\n",
       "19  -9.5636183 0.000000e+00  -1.349363275 -0.89035611\n",
       "20   1.1790522 2.383774e-01  -0.116052984  0.46649595\n",
       "21  -7.5465823 4.463097e-14  -1.314566613 -0.77251840"
      ]
     },
     "metadata": {},
     "output_type": "display_data"
    }
   ],
   "source": [
    "standardizedSolution(model.path.fit, type='std.all', remove.def=FALSE)"
   ]
  },
  {
   "cell_type": "code",
   "execution_count": 8,
   "metadata": {},
   "outputs": [
    {
     "data": {
      "text/plain": [
       "      Min.    1st Qu.     Median       Mean    3rd Qu.       Max. \n",
       "-1.040e-01 -6.429e-04  0.000e+00  5.356e-03  2.000e-08  1.155e-01 "
      ]
     },
     "metadata": {},
     "output_type": "display_data"
    },
    {
     "name": "stdout",
     "output_type": "stream",
     "text": [
      "\n",
      "  The decimal point is 1 digit(s) to the left of the |\n",
      "\n",
      "  -1 | 0\n",
      "  -0 | \n",
      "  -0 | 40000\n",
      "   0 | 0000003\n",
      "   0 | 9\n",
      "   1 | 2\n",
      "\n"
     ]
    },
    {
     "data": {
      "image/png": "[encoded data removed]",
      "text/plain": [
       "plot without title"
      ]
     },
     "metadata": {},
     "output_type": "display_data"
    }
   ],
   "source": [
    "# Extract unique correlation residuals\n",
    "fitCorResiduals <- resid(model.path.fit, type='cor')$cov\n",
    "fitCorResidualsUnique <- fitCorResiduals[lower.tri(fitCorResiduals, diag=TRUE)]\n",
    "\n",
    "# View summary and stem-and-leaf plot\n",
    "summary(fitCorResidualsUnique)\n",
    "stem(fitCorResidualsUnique)\n",
    "\n",
    "plot(fitCorResidualsUnique[order(fitCorResidualsUnique)], pch=16,\n",
    "  xlab='', ylab='Correlation Residual')\n",
    "  abline(h=c(0, -.1, .1), lty=c(1,2,2)) "
   ]
  },
  {
   "cell_type": "code",
   "execution_count": 9,
   "metadata": {},
   "outputs": [
    {
     "data": {
      "text/html": [
       "<dl>\n",
       "\t<dt>$type</dt>\n",
       "\t\t<dd>'cor.bollen'</dd>\n",
       "\t<dt>$cov</dt>\n",
       "\t\t<dd><table>\n",
       "<caption>A lavaan.matrix.symmetric: 5 × 5 of type dbl</caption>\n",
       "<thead>\n",
       "\t<tr><th></th><th scope=col>EI</th><th scope=col>TI</th><th scope=col>P_GDP</th><th scope=col>ISG</th><th scope=col>TO</th></tr>\n",
       "</thead>\n",
       "<tbody>\n",
       "\t<tr><th scope=row>EI</th><td>-1.110223e-16</td><td>-1.039708e-01</td><td>-1.285723e-03</td><td>-4.310946e-02</td><td>-1.650847e-03</td></tr>\n",
       "\t<tr><th scope=row>TI</th><td>-1.039708e-01</td><td> 2.220446e-16</td><td> 8.673152e-02</td><td>-9.273085e-09</td><td> 1.154984e-01</td></tr>\n",
       "\t<tr><th scope=row>P_GDP</th><td>-1.285723e-03</td><td> 8.673152e-02</td><td> 0.000000e+00</td><td> 2.812850e-02</td><td> 4.940609e-08</td></tr>\n",
       "\t<tr><th scope=row>ISG</th><td>-4.310946e-02</td><td>-9.273085e-09</td><td> 2.812850e-02</td><td> 0.000000e+00</td><td> 0.000000e+00</td></tr>\n",
       "\t<tr><th scope=row>TO</th><td>-1.650847e-03</td><td> 1.154984e-01</td><td> 4.940609e-08</td><td> 0.000000e+00</td><td> 0.000000e+00</td></tr>\n",
       "</tbody>\n",
       "</table>\n",
       "</dd>\n",
       "\t<dt>$mean</dt>\n",
       "\t\t<dd><dl class=dl-horizontal>\n",
       "\t<dt>EI</dt>\n",
       "\t\t<dd>1.90272456190854e-06</dd>\n",
       "\t<dt>TI</dt>\n",
       "\t\t<dd>5.36676552087556e-08</dd>\n",
       "\t<dt>P_GDP</dt>\n",
       "\t\t<dd>1.39018307976357e-08</dd>\n",
       "\t<dt>ISG</dt>\n",
       "\t\t<dd>0</dd>\n",
       "\t<dt>TO</dt>\n",
       "\t\t<dd>0</dd>\n",
       "</dl>\n",
       "</dd>\n",
       "</dl>\n"
      ],
      "text/latex": [
       "\\begin{description}\n",
       "\\item[\\$type] 'cor.bollen'\n",
       "\\item[\\$cov] A lavaan.matrix.symmetric: 5 × 5 of type dbl\n",
       "\\begin{tabular}{r|lllll}\n",
       "  & EI & TI & P\\_GDP & ISG & TO\\\\\n",
       "\\hline\n",
       "\tEI & -1.110223e-16 & -1.039708e-01 & -1.285723e-03 & -4.310946e-02 & -1.650847e-03\\\\\n",
       "\tTI & -1.039708e-01 &  2.220446e-16 &  8.673152e-02 & -9.273085e-09 &  1.154984e-01\\\\\n",
       "\tP\\_GDP & -1.285723e-03 &  8.673152e-02 &  0.000000e+00 &  2.812850e-02 &  4.940609e-08\\\\\n",
       "\tISG & -4.310946e-02 & -9.273085e-09 &  2.812850e-02 &  0.000000e+00 &  0.000000e+00\\\\\n",
       "\tTO & -1.650847e-03 &  1.154984e-01 &  4.940609e-08 &  0.000000e+00 &  0.000000e+00\\\\\n",
       "\\end{tabular}\n",
       "\n",
       "\\item[\\$mean] \\begin{description*}\n",
       "\\item[EI] 1.90272456190854e-06\n",
       "\\item[TI] 5.36676552087556e-08\n",
       "\\item[P\\textbackslash{}\\_GDP] 1.39018307976357e-08\n",
       "\\item[ISG] 0\n",
       "\\item[TO] 0\n",
       "\\end{description*}\n",
       "\n",
       "\\end{description}\n"
      ],
      "text/markdown": [
       "$type\n",
       ":   'cor.bollen'\n",
       "$cov\n",
       ":   \n",
       "A lavaan.matrix.symmetric: 5 × 5 of type dbl\n",
       "\n",
       "| <!--/--> | EI | TI | P_GDP | ISG | TO |\n",
       "|---|---|---|---|---|---|\n",
       "| EI | -1.110223e-16 | -1.039708e-01 | -1.285723e-03 | -4.310946e-02 | -1.650847e-03 |\n",
       "| TI | -1.039708e-01 |  2.220446e-16 |  8.673152e-02 | -9.273085e-09 |  1.154984e-01 |\n",
       "| P_GDP | -1.285723e-03 |  8.673152e-02 |  0.000000e+00 |  2.812850e-02 |  4.940609e-08 |\n",
       "| ISG | -4.310946e-02 | -9.273085e-09 |  2.812850e-02 |  0.000000e+00 |  0.000000e+00 |\n",
       "| TO | -1.650847e-03 |  1.154984e-01 |  4.940609e-08 |  0.000000e+00 |  0.000000e+00 |\n",
       "\n",
       "\n",
       "$mean\n",
       ":   EI\n",
       ":   1.90272456190854e-06TI\n",
       ":   5.36676552087556e-08P_GDP\n",
       ":   1.39018307976357e-08ISG\n",
       ":   0TO\n",
       ":   0\n",
       "\n",
       "\n",
       "\n",
       "\n"
      ],
      "text/plain": [
       "$type\n",
       "[1] \"cor.bollen\"\n",
       "\n",
       "$cov\n",
       "      EI     TI     P_GDP  ISG    TO    \n",
       "EI     0.000                            \n",
       "TI    -0.104  0.000                     \n",
       "P_GDP -0.001  0.087  0.000              \n",
       "ISG   -0.043  0.000  0.028  0.000       \n",
       "TO    -0.002  0.115  0.000  0.000  0.000\n",
       "\n",
       "$mean\n",
       "   EI    TI P_GDP   ISG    TO \n",
       "    0     0     0     0     0 \n"
      ]
     },
     "metadata": {},
     "output_type": "display_data"
    }
   ],
   "source": [
    "resid(model.path.fit, type='cor')"
   ]
  },
  {
   "cell_type": "code",
   "execution_count": 10,
   "metadata": {},
   "outputs": [
    {
     "data": {
      "text/html": [
       "<table>\n",
       "<caption>A lavaan.matrix.symmetric: 5 × 5 of type dbl</caption>\n",
       "<thead>\n",
       "\t<tr><th></th><th scope=col>EI</th><th scope=col>TI</th><th scope=col>P_GDP</th><th scope=col>ISG</th><th scope=col>TO</th></tr>\n",
       "</thead>\n",
       "<tbody>\n",
       "\t<tr><th scope=row>EI</th><td>-1.110223e-16</td><td>-1.039708e-01</td><td>-1.285723e-03</td><td>-4.310946e-02</td><td>-1.650847e-03</td></tr>\n",
       "\t<tr><th scope=row>TI</th><td>-1.039708e-01</td><td> 2.220446e-16</td><td> 8.673152e-02</td><td>-9.273085e-09</td><td> 1.154984e-01</td></tr>\n",
       "\t<tr><th scope=row>P_GDP</th><td>-1.285723e-03</td><td> 8.673152e-02</td><td> 0.000000e+00</td><td> 2.812850e-02</td><td> 4.940609e-08</td></tr>\n",
       "\t<tr><th scope=row>ISG</th><td>-4.310946e-02</td><td>-9.273085e-09</td><td> 2.812850e-02</td><td> 0.000000e+00</td><td> 0.000000e+00</td></tr>\n",
       "\t<tr><th scope=row>TO</th><td>-1.650847e-03</td><td> 1.154984e-01</td><td> 4.940609e-08</td><td> 0.000000e+00</td><td> 0.000000e+00</td></tr>\n",
       "</tbody>\n",
       "</table>\n"
      ],
      "text/latex": [
       "A lavaan.matrix.symmetric: 5 × 5 of type dbl\n",
       "\\begin{tabular}{r|lllll}\n",
       "  & EI & TI & P\\_GDP & ISG & TO\\\\\n",
       "\\hline\n",
       "\tEI & -1.110223e-16 & -1.039708e-01 & -1.285723e-03 & -4.310946e-02 & -1.650847e-03\\\\\n",
       "\tTI & -1.039708e-01 &  2.220446e-16 &  8.673152e-02 & -9.273085e-09 &  1.154984e-01\\\\\n",
       "\tP\\_GDP & -1.285723e-03 &  8.673152e-02 &  0.000000e+00 &  2.812850e-02 &  4.940609e-08\\\\\n",
       "\tISG & -4.310946e-02 & -9.273085e-09 &  2.812850e-02 &  0.000000e+00 &  0.000000e+00\\\\\n",
       "\tTO & -1.650847e-03 &  1.154984e-01 &  4.940609e-08 &  0.000000e+00 &  0.000000e+00\\\\\n",
       "\\end{tabular}\n"
      ],
      "text/markdown": [
       "\n",
       "A lavaan.matrix.symmetric: 5 × 5 of type dbl\n",
       "\n",
       "| <!--/--> | EI | TI | P_GDP | ISG | TO |\n",
       "|---|---|---|---|---|---|\n",
       "| EI | -1.110223e-16 | -1.039708e-01 | -1.285723e-03 | -4.310946e-02 | -1.650847e-03 |\n",
       "| TI | -1.039708e-01 |  2.220446e-16 |  8.673152e-02 | -9.273085e-09 |  1.154984e-01 |\n",
       "| P_GDP | -1.285723e-03 |  8.673152e-02 |  0.000000e+00 |  2.812850e-02 |  4.940609e-08 |\n",
       "| ISG | -4.310946e-02 | -9.273085e-09 |  2.812850e-02 |  0.000000e+00 |  0.000000e+00 |\n",
       "| TO | -1.650847e-03 |  1.154984e-01 |  4.940609e-08 |  0.000000e+00 |  0.000000e+00 |\n",
       "\n"
      ],
      "text/plain": [
       "      EI            TI            P_GDP         ISG           TO           \n",
       "EI    -1.110223e-16 -1.039708e-01 -1.285723e-03 -4.310946e-02 -1.650847e-03\n",
       "TI    -1.039708e-01  2.220446e-16  8.673152e-02 -9.273085e-09  1.154984e-01\n",
       "P_GDP -1.285723e-03  8.673152e-02  0.000000e+00  2.812850e-02  4.940609e-08\n",
       "ISG   -4.310946e-02 -9.273085e-09  2.812850e-02  0.000000e+00  0.000000e+00\n",
       "TO    -1.650847e-03  1.154984e-01  4.940609e-08  0.000000e+00  0.000000e+00"
      ]
     },
     "metadata": {},
     "output_type": "display_data"
    }
   ],
   "source": [
    "fitCorResiduals"
   ]
  },
  {
   "cell_type": "code",
   "execution_count": 11,
   "metadata": {},
   "outputs": [
    {
     "data": {
      "text/html": [
       "<dl>\n",
       "\t<dt>$type</dt>\n",
       "\t\t<dd>'raw'</dd>\n",
       "\t<dt>$cov</dt>\n",
       "\t\t<dd><table>\n",
       "<caption>A lavaan.matrix.symmetric: 5 × 5 of type dbl</caption>\n",
       "<thead>\n",
       "\t<tr><th></th><th scope=col>EI</th><th scope=col>TI</th><th scope=col>P_GDP</th><th scope=col>ISG</th><th scope=col>TO</th></tr>\n",
       "</thead>\n",
       "<tbody>\n",
       "\t<tr><th scope=row>EI</th><td>-0.0011639553</td><td>-1.025529e-02</td><td> 9.852928e-04</td><td>-7.542360e-04</td><td>5.949246e-04</td></tr>\n",
       "\t<tr><th scope=row>TI</th><td>-0.0102552862</td><td> 8.565976e-09</td><td> 1.795527e-02</td><td> 3.189953e-10</td><td>1.729568e-02</td></tr>\n",
       "\t<tr><th scope=row>P_GDP</th><td> 0.0009852928</td><td> 1.795527e-02</td><td>-1.559723e-08</td><td> 1.209796e-03</td><td>2.224280e-09</td></tr>\n",
       "\t<tr><th scope=row>ISG</th><td>-0.0007542360</td><td> 3.189953e-10</td><td> 1.209796e-03</td><td> 0.000000e+00</td><td>0.000000e+00</td></tr>\n",
       "\t<tr><th scope=row>TO</th><td> 0.0005949246</td><td> 1.729568e-02</td><td> 2.224280e-09</td><td> 0.000000e+00</td><td>0.000000e+00</td></tr>\n",
       "</tbody>\n",
       "</table>\n",
       "</dd>\n",
       "\t<dt>$mean</dt>\n",
       "\t\t<dd><dl class=dl-horizontal>\n",
       "\t<dt>EI</dt>\n",
       "\t\t<dd>4.42325104099694e-07</dd>\n",
       "\t<dt>TI</dt>\n",
       "\t\t<dd>2.43481670381129e-08</dd>\n",
       "\t<dt>P_GDP</dt>\n",
       "\t\t<dd>6.34356389639379e-09</dd>\n",
       "\t<dt>ISG</dt>\n",
       "\t\t<dd>0</dd>\n",
       "\t<dt>TO</dt>\n",
       "\t\t<dd>0</dd>\n",
       "</dl>\n",
       "</dd>\n",
       "</dl>\n"
      ],
      "text/latex": [
       "\\begin{description}\n",
       "\\item[\\$type] 'raw'\n",
       "\\item[\\$cov] A lavaan.matrix.symmetric: 5 × 5 of type dbl\n",
       "\\begin{tabular}{r|lllll}\n",
       "  & EI & TI & P\\_GDP & ISG & TO\\\\\n",
       "\\hline\n",
       "\tEI & -0.0011639553 & -1.025529e-02 &  9.852928e-04 & -7.542360e-04 & 5.949246e-04\\\\\n",
       "\tTI & -0.0102552862 &  8.565976e-09 &  1.795527e-02 &  3.189953e-10 & 1.729568e-02\\\\\n",
       "\tP\\_GDP &  0.0009852928 &  1.795527e-02 & -1.559723e-08 &  1.209796e-03 & 2.224280e-09\\\\\n",
       "\tISG & -0.0007542360 &  3.189953e-10 &  1.209796e-03 &  0.000000e+00 & 0.000000e+00\\\\\n",
       "\tTO &  0.0005949246 &  1.729568e-02 &  2.224280e-09 &  0.000000e+00 & 0.000000e+00\\\\\n",
       "\\end{tabular}\n",
       "\n",
       "\\item[\\$mean] \\begin{description*}\n",
       "\\item[EI] 4.42325104099694e-07\n",
       "\\item[TI] 2.43481670381129e-08\n",
       "\\item[P\\textbackslash{}\\_GDP] 6.34356389639379e-09\n",
       "\\item[ISG] 0\n",
       "\\item[TO] 0\n",
       "\\end{description*}\n",
       "\n",
       "\\end{description}\n"
      ],
      "text/markdown": [
       "$type\n",
       ":   'raw'\n",
       "$cov\n",
       ":   \n",
       "A lavaan.matrix.symmetric: 5 × 5 of type dbl\n",
       "\n",
       "| <!--/--> | EI | TI | P_GDP | ISG | TO |\n",
       "|---|---|---|---|---|---|\n",
       "| EI | -0.0011639553 | -1.025529e-02 |  9.852928e-04 | -7.542360e-04 | 5.949246e-04 |\n",
       "| TI | -0.0102552862 |  8.565976e-09 |  1.795527e-02 |  3.189953e-10 | 1.729568e-02 |\n",
       "| P_GDP |  0.0009852928 |  1.795527e-02 | -1.559723e-08 |  1.209796e-03 | 2.224280e-09 |\n",
       "| ISG | -0.0007542360 |  3.189953e-10 |  1.209796e-03 |  0.000000e+00 | 0.000000e+00 |\n",
       "| TO |  0.0005949246 |  1.729568e-02 |  2.224280e-09 |  0.000000e+00 | 0.000000e+00 |\n",
       "\n",
       "\n",
       "$mean\n",
       ":   EI\n",
       ":   4.42325104099694e-07TI\n",
       ":   2.43481670381129e-08P_GDP\n",
       ":   6.34356389639379e-09ISG\n",
       ":   0TO\n",
       ":   0\n",
       "\n",
       "\n",
       "\n",
       "\n"
      ],
      "text/plain": [
       "$type\n",
       "[1] \"raw\"\n",
       "\n",
       "$cov\n",
       "      EI     TI     P_GDP  ISG    TO    \n",
       "EI    -0.001                            \n",
       "TI    -0.010  0.000                     \n",
       "P_GDP  0.001  0.018  0.000              \n",
       "ISG   -0.001  0.000  0.001  0.000       \n",
       "TO     0.001  0.017  0.000  0.000  0.000\n",
       "\n",
       "$mean\n",
       "   EI    TI P_GDP   ISG    TO \n",
       "    0     0     0     0     0 \n"
      ]
     },
     "metadata": {},
     "output_type": "display_data"
    },
    {
     "data": {
      "text/html": [
       "<dl>\n",
       "\t<dt>$type</dt>\n",
       "\t\t<dd>'cor.bollen'</dd>\n",
       "\t<dt>$cov</dt>\n",
       "\t\t<dd><table>\n",
       "<caption>A lavaan.matrix.symmetric: 5 × 5 of type dbl</caption>\n",
       "<thead>\n",
       "\t<tr><th></th><th scope=col>EI</th><th scope=col>TI</th><th scope=col>P_GDP</th><th scope=col>ISG</th><th scope=col>TO</th></tr>\n",
       "</thead>\n",
       "<tbody>\n",
       "\t<tr><th scope=row>EI</th><td>-1.110223e-16</td><td>-1.039708e-01</td><td>-1.285723e-03</td><td>-4.310946e-02</td><td>-1.650847e-03</td></tr>\n",
       "\t<tr><th scope=row>TI</th><td>-1.039708e-01</td><td> 2.220446e-16</td><td> 8.673152e-02</td><td>-9.273085e-09</td><td> 1.154984e-01</td></tr>\n",
       "\t<tr><th scope=row>P_GDP</th><td>-1.285723e-03</td><td> 8.673152e-02</td><td> 0.000000e+00</td><td> 2.812850e-02</td><td> 4.940609e-08</td></tr>\n",
       "\t<tr><th scope=row>ISG</th><td>-4.310946e-02</td><td>-9.273085e-09</td><td> 2.812850e-02</td><td> 0.000000e+00</td><td> 0.000000e+00</td></tr>\n",
       "\t<tr><th scope=row>TO</th><td>-1.650847e-03</td><td> 1.154984e-01</td><td> 4.940609e-08</td><td> 0.000000e+00</td><td> 0.000000e+00</td></tr>\n",
       "</tbody>\n",
       "</table>\n",
       "</dd>\n",
       "\t<dt>$mean</dt>\n",
       "\t\t<dd><dl class=dl-horizontal>\n",
       "\t<dt>EI</dt>\n",
       "\t\t<dd>1.90272456190854e-06</dd>\n",
       "\t<dt>TI</dt>\n",
       "\t\t<dd>5.36676552087556e-08</dd>\n",
       "\t<dt>P_GDP</dt>\n",
       "\t\t<dd>1.39018307976357e-08</dd>\n",
       "\t<dt>ISG</dt>\n",
       "\t\t<dd>0</dd>\n",
       "\t<dt>TO</dt>\n",
       "\t\t<dd>0</dd>\n",
       "</dl>\n",
       "</dd>\n",
       "</dl>\n"
      ],
      "text/latex": [
       "\\begin{description}\n",
       "\\item[\\$type] 'cor.bollen'\n",
       "\\item[\\$cov] A lavaan.matrix.symmetric: 5 × 5 of type dbl\n",
       "\\begin{tabular}{r|lllll}\n",
       "  & EI & TI & P\\_GDP & ISG & TO\\\\\n",
       "\\hline\n",
       "\tEI & -1.110223e-16 & -1.039708e-01 & -1.285723e-03 & -4.310946e-02 & -1.650847e-03\\\\\n",
       "\tTI & -1.039708e-01 &  2.220446e-16 &  8.673152e-02 & -9.273085e-09 &  1.154984e-01\\\\\n",
       "\tP\\_GDP & -1.285723e-03 &  8.673152e-02 &  0.000000e+00 &  2.812850e-02 &  4.940609e-08\\\\\n",
       "\tISG & -4.310946e-02 & -9.273085e-09 &  2.812850e-02 &  0.000000e+00 &  0.000000e+00\\\\\n",
       "\tTO & -1.650847e-03 &  1.154984e-01 &  4.940609e-08 &  0.000000e+00 &  0.000000e+00\\\\\n",
       "\\end{tabular}\n",
       "\n",
       "\\item[\\$mean] \\begin{description*}\n",
       "\\item[EI] 1.90272456190854e-06\n",
       "\\item[TI] 5.36676552087556e-08\n",
       "\\item[P\\textbackslash{}\\_GDP] 1.39018307976357e-08\n",
       "\\item[ISG] 0\n",
       "\\item[TO] 0\n",
       "\\end{description*}\n",
       "\n",
       "\\end{description}\n"
      ],
      "text/markdown": [
       "$type\n",
       ":   'cor.bollen'\n",
       "$cov\n",
       ":   \n",
       "A lavaan.matrix.symmetric: 5 × 5 of type dbl\n",
       "\n",
       "| <!--/--> | EI | TI | P_GDP | ISG | TO |\n",
       "|---|---|---|---|---|---|\n",
       "| EI | -1.110223e-16 | -1.039708e-01 | -1.285723e-03 | -4.310946e-02 | -1.650847e-03 |\n",
       "| TI | -1.039708e-01 |  2.220446e-16 |  8.673152e-02 | -9.273085e-09 |  1.154984e-01 |\n",
       "| P_GDP | -1.285723e-03 |  8.673152e-02 |  0.000000e+00 |  2.812850e-02 |  4.940609e-08 |\n",
       "| ISG | -4.310946e-02 | -9.273085e-09 |  2.812850e-02 |  0.000000e+00 |  0.000000e+00 |\n",
       "| TO | -1.650847e-03 |  1.154984e-01 |  4.940609e-08 |  0.000000e+00 |  0.000000e+00 |\n",
       "\n",
       "\n",
       "$mean\n",
       ":   EI\n",
       ":   1.90272456190854e-06TI\n",
       ":   5.36676552087556e-08P_GDP\n",
       ":   1.39018307976357e-08ISG\n",
       ":   0TO\n",
       ":   0\n",
       "\n",
       "\n",
       "\n",
       "\n"
      ],
      "text/plain": [
       "$type\n",
       "[1] \"cor.bollen\"\n",
       "\n",
       "$cov\n",
       "      EI     TI     P_GDP  ISG    TO    \n",
       "EI     0.000                            \n",
       "TI    -0.104  0.000                     \n",
       "P_GDP -0.001  0.087  0.000              \n",
       "ISG   -0.043  0.000  0.028  0.000       \n",
       "TO    -0.002  0.115  0.000  0.000  0.000\n",
       "\n",
       "$mean\n",
       "   EI    TI P_GDP   ISG    TO \n",
       "    0     0     0     0     0 \n"
      ]
     },
     "metadata": {},
     "output_type": "display_data"
    },
    {
     "data": {
      "text/html": [
       "<dl>\n",
       "\t<dt>$type</dt>\n",
       "\t\t<dd>'normalized'</dd>\n",
       "\t<dt>$cov</dt>\n",
       "\t\t<dd><table>\n",
       "<caption>A lavaan.matrix.symmetric: 5 × 5 of type dbl</caption>\n",
       "<thead>\n",
       "\t<tr><th></th><th scope=col>EI</th><th scope=col>TI</th><th scope=col>P_GDP</th><th scope=col>ISG</th><th scope=col>TO</th></tr>\n",
       "</thead>\n",
       "<tbody>\n",
       "\t<tr><th scope=row>EI</th><td>-0.10406300</td><td>-4.031055e-01</td><td> 4.863946e-02</td><td>-2.705480e-01</td><td>5.604061e-02</td></tr>\n",
       "\t<tr><th scope=row>TI</th><td>-0.40310545</td><td> 8.565976e-09</td><td> 3.806484e-01</td><td> 3.189953e-10</td><td>7.174738e-01</td></tr>\n",
       "\t<tr><th scope=row>P_GDP</th><td> 0.04863946</td><td> 3.806484e-01</td><td>-1.559723e-08</td><td> 2.711095e-01</td><td>2.224280e-09</td></tr>\n",
       "\t<tr><th scope=row>ISG</th><td>-0.27054799</td><td> 3.189953e-10</td><td> 2.711095e-01</td><td> 0.000000e+00</td><td>0.000000e+00</td></tr>\n",
       "\t<tr><th scope=row>TO</th><td> 0.05604061</td><td> 7.174738e-01</td><td> 2.224280e-09</td><td> 0.000000e+00</td><td>0.000000e+00</td></tr>\n",
       "</tbody>\n",
       "</table>\n",
       "</dd>\n",
       "\t<dt>$mean</dt>\n",
       "\t\t<dd><dl class=dl-horizontal>\n",
       "\t<dt>EI</dt>\n",
       "\t\t<dd>4.42325104099694e-07</dd>\n",
       "\t<dt>TI</dt>\n",
       "\t\t<dd>2.43481670381129e-08</dd>\n",
       "\t<dt>P_GDP</dt>\n",
       "\t\t<dd>6.34356389639379e-09</dd>\n",
       "\t<dt>ISG</dt>\n",
       "\t\t<dd>0</dd>\n",
       "\t<dt>TO</dt>\n",
       "\t\t<dd>0</dd>\n",
       "</dl>\n",
       "</dd>\n",
       "</dl>\n"
      ],
      "text/latex": [
       "\\begin{description}\n",
       "\\item[\\$type] 'normalized'\n",
       "\\item[\\$cov] A lavaan.matrix.symmetric: 5 × 5 of type dbl\n",
       "\\begin{tabular}{r|lllll}\n",
       "  & EI & TI & P\\_GDP & ISG & TO\\\\\n",
       "\\hline\n",
       "\tEI & -0.10406300 & -4.031055e-01 &  4.863946e-02 & -2.705480e-01 & 5.604061e-02\\\\\n",
       "\tTI & -0.40310545 &  8.565976e-09 &  3.806484e-01 &  3.189953e-10 & 7.174738e-01\\\\\n",
       "\tP\\_GDP &  0.04863946 &  3.806484e-01 & -1.559723e-08 &  2.711095e-01 & 2.224280e-09\\\\\n",
       "\tISG & -0.27054799 &  3.189953e-10 &  2.711095e-01 &  0.000000e+00 & 0.000000e+00\\\\\n",
       "\tTO &  0.05604061 &  7.174738e-01 &  2.224280e-09 &  0.000000e+00 & 0.000000e+00\\\\\n",
       "\\end{tabular}\n",
       "\n",
       "\\item[\\$mean] \\begin{description*}\n",
       "\\item[EI] 4.42325104099694e-07\n",
       "\\item[TI] 2.43481670381129e-08\n",
       "\\item[P\\textbackslash{}\\_GDP] 6.34356389639379e-09\n",
       "\\item[ISG] 0\n",
       "\\item[TO] 0\n",
       "\\end{description*}\n",
       "\n",
       "\\end{description}\n"
      ],
      "text/markdown": [
       "$type\n",
       ":   'normalized'\n",
       "$cov\n",
       ":   \n",
       "A lavaan.matrix.symmetric: 5 × 5 of type dbl\n",
       "\n",
       "| <!--/--> | EI | TI | P_GDP | ISG | TO |\n",
       "|---|---|---|---|---|---|\n",
       "| EI | -0.10406300 | -4.031055e-01 |  4.863946e-02 | -2.705480e-01 | 5.604061e-02 |\n",
       "| TI | -0.40310545 |  8.565976e-09 |  3.806484e-01 |  3.189953e-10 | 7.174738e-01 |\n",
       "| P_GDP |  0.04863946 |  3.806484e-01 | -1.559723e-08 |  2.711095e-01 | 2.224280e-09 |\n",
       "| ISG | -0.27054799 |  3.189953e-10 |  2.711095e-01 |  0.000000e+00 | 0.000000e+00 |\n",
       "| TO |  0.05604061 |  7.174738e-01 |  2.224280e-09 |  0.000000e+00 | 0.000000e+00 |\n",
       "\n",
       "\n",
       "$mean\n",
       ":   EI\n",
       ":   4.42325104099694e-07TI\n",
       ":   2.43481670381129e-08P_GDP\n",
       ":   6.34356389639379e-09ISG\n",
       ":   0TO\n",
       ":   0\n",
       "\n",
       "\n",
       "\n",
       "\n"
      ],
      "text/plain": [
       "$type\n",
       "[1] \"normalized\"\n",
       "\n",
       "$cov\n",
       "      EI     TI     P_GDP  ISG    TO    \n",
       "EI    -0.104                            \n",
       "TI    -0.403  0.000                     \n",
       "P_GDP  0.049  0.381  0.000              \n",
       "ISG   -0.271  0.000  0.271  0.000       \n",
       "TO     0.056  0.717  0.000  0.000  0.000\n",
       "\n",
       "$mean\n",
       "   EI    TI P_GDP   ISG    TO \n",
       "    0     0     0     0     0 \n"
      ]
     },
     "metadata": {},
     "output_type": "display_data"
    }
   ],
   "source": [
    "resid(model.path.fit, type='raw')\n",
    "resid(model.path.fit, type='cor')\n",
    "resid(model.path.fit, type='normalized')\n"
   ]
  },
  {
   "cell_type": "code",
   "execution_count": null,
   "metadata": {},
   "outputs": [],
   "source": []
  }
 ],
 "metadata": {
  "kernelspec": {
   "display_name": "R",
   "language": "R",
   "name": "ir"
  },
  "language_info": {
   "codemirror_mode": "r",
   "file_extension": ".r",
   "mimetype": "text/x-r-source",
   "name": "R",
   "pygments_lexer": "r",
   "version": "3.6.3"
  }
 },
 "nbformat": 4,
 "nbformat_minor": 4
}
