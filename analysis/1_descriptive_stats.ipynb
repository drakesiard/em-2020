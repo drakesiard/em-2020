{
 "cells": [
  {
   "cell_type": "markdown",
   "metadata": {},
   "source": [
    "# 1. Load the data and generate descriptive statistics"
   ]
  },
  {
   "cell_type": "code",
   "execution_count": 1,
   "metadata": {},
   "outputs": [],
   "source": [
    "%matplotlib inline \n",
    "from IPython.display import display, HTML\n",
    "import matplotlib as mpl\n",
    "import matplotlib.pyplot as plt\n",
    "import numpy as np\n",
    "import scipy\n",
    "import os\n",
    "import pandas as pd\n",
    "import seaborn as sns\n",
    "sns.set(style='ticks', rc={'axes.grid':True,\n",
    "                           'xtick.labelsize': 'medium',\n",
    "                           'ytick.labelsize': 'medium',\n",
    "#                            'font.size': 15,\n",
    "                          })\n",
    "# mpl.rcParams.update({'font.size': 15})\n",
    "# plt.rc('ytick', labelsize='small') \n",
    "\n",
    "\n",
    "# assume the notebook is in the right place and set up the plot path\n",
    "analysis_dir = _dh[0]\n",
    "assert analysis_dir.endswith(os.path.join('em-2020','analysis'))\n",
    "plot_dir = os.path.realpath(os.path.join(analysis_dir, '..', 'tex', 'plots'))\n",
    "data_dir = os.path.realpath(os.path.join(analysis_dir, '..', 'data'))"
   ]
  },
  {
   "cell_type": "code",
   "execution_count": 2,
   "metadata": {},
   "outputs": [],
   "source": [
    "SAVE = True\n",
    "\n",
    "def save_table(table, file, **kwargs):\n",
    "    if SAVE:\n",
    "        path = os.path.join(plot_dir, file)\n",
    "        with open(path, 'w') as fd:\n",
    "            fd.write(table.to_latex(**kwargs))\n",
    "        \n",
    "def save_fig(file, **kwargs):\n",
    "    if SAVE:\n",
    "        path = os.path.join(plot_dir, file)\n",
    "        plt.savefig(path, metadata={'CreationDate': None})\n",
    "        \n",
    "def load_data(country, version='current'):\n",
    "    data_file = os.path.join(data_dir, 'WB_{}_{}.csv'.format(country, version))\n",
    "    data_raw = pd.read_csv(data_file, index_col='year')\n",
    "    cols = ['ISG', 'TO', 'TI', 'P_GDP', 'P_GDPb', 'EI', 'EIb']\n",
    "    if 'EIc' in data_raw:\n",
    "        cols.append('EIc')\n",
    "    return data_raw[cols]\n",
    "\n",
    "def summary_stats(data, country, version):\n",
    "    stats = ref_data.describe().T[['min', 'max', 'mean', 'std', 'count']]\n",
    "    stats['count'] = stats['count'].astype(int)\n",
    "    with pd.option_context('display.float_format', '{:.2f}'.format):\n",
    "        display(stats)\n",
    "        print(stats.to_latex())\n",
    "#         save_table(stats, '_'.join((country, version, 'descriptive_statistics.tex')))"
   ]
  },
  {
   "cell_type": "code",
   "execution_count": 3,
   "metadata": {},
   "outputs": [],
   "source": [
    "REF_COUNTRY = 'BGD'\n",
    "REF_VERSION = '201805'\n",
    "ref_data_raw = load_data(REF_COUNTRY, REF_VERSION)\n",
    "ref_data = ref_data_raw.loc[1986:2015, ['ISG', 'TO', 'TI', 'P_GDP', 'EI']]"
   ]
  },
  {
   "cell_type": "code",
   "execution_count": 4,
   "metadata": {},
   "outputs": [
    {
     "data": {
      "text/html": [
       "<div>\n",
       "<style scoped>\n",
       "    .dataframe tbody tr th:only-of-type {\n",
       "        vertical-align: middle;\n",
       "    }\n",
       "\n",
       "    .dataframe tbody tr th {\n",
       "        vertical-align: top;\n",
       "    }\n",
       "\n",
       "    .dataframe thead th {\n",
       "        text-align: right;\n",
       "    }\n",
       "</style>\n",
       "<table border=\"1\" class=\"dataframe\">\n",
       "  <thead>\n",
       "    <tr style=\"text-align: right;\">\n",
       "      <th></th>\n",
       "      <th>min</th>\n",
       "      <th>max</th>\n",
       "      <th>mean</th>\n",
       "      <th>std</th>\n",
       "      <th>count</th>\n",
       "    </tr>\n",
       "  </thead>\n",
       "  <tbody>\n",
       "    <tr>\n",
       "      <th>ISG</th>\n",
       "      <td>20.05</td>\n",
       "      <td>28.15</td>\n",
       "      <td>24.07</td>\n",
       "      <td>2.28</td>\n",
       "      <td>30</td>\n",
       "    </tr>\n",
       "    <tr>\n",
       "      <th>TO</th>\n",
       "      <td>16.69</td>\n",
       "      <td>48.11</td>\n",
       "      <td>30.56</td>\n",
       "      <td>9.98</td>\n",
       "      <td>30</td>\n",
       "    </tr>\n",
       "    <tr>\n",
       "      <th>TI</th>\n",
       "      <td>93.00</td>\n",
       "      <td>354.00</td>\n",
       "      <td>239.20</td>\n",
       "      <td>93.50</td>\n",
       "      <td>30</td>\n",
       "    </tr>\n",
       "    <tr>\n",
       "      <th>P_GDP</th>\n",
       "      <td>227.42</td>\n",
       "      <td>1210.16</td>\n",
       "      <td>498.83</td>\n",
       "      <td>261.51</td>\n",
       "      <td>30</td>\n",
       "    </tr>\n",
       "    <tr>\n",
       "      <th>EI</th>\n",
       "      <td>0.20</td>\n",
       "      <td>0.49</td>\n",
       "      <td>0.35</td>\n",
       "      <td>0.07</td>\n",
       "      <td>29</td>\n",
       "    </tr>\n",
       "  </tbody>\n",
       "</table>\n",
       "</div>"
      ],
      "text/plain": [
       "         min     max   mean    std  count\n",
       "ISG    20.05   28.15  24.07   2.28     30\n",
       "TO     16.69   48.11  30.56   9.98     30\n",
       "TI     93.00  354.00 239.20  93.50     30\n",
       "P_GDP 227.42 1210.16 498.83 261.51     30\n",
       "EI      0.20    0.49   0.35   0.07     29"
      ]
     },
     "metadata": {},
     "output_type": "display_data"
    },
    {
     "name": "stdout",
     "output_type": "stream",
     "text": [
      "\\begin{tabular}{lrrrrr}\n",
      "\\toprule\n",
      "{} &    min &     max &   mean &    std &  count \\\\\n",
      "\\midrule\n",
      "ISG   &  20.05 &   28.15 &  24.07 &   2.28 &     30 \\\\\n",
      "TO    &  16.69 &   48.11 &  30.56 &   9.98 &     30 \\\\\n",
      "TI    &  93.00 &  354.00 & 239.20 &  93.50 &     30 \\\\\n",
      "P\\_GDP & 227.42 & 1210.16 & 498.83 & 261.51 &     30 \\\\\n",
      "EI    &   0.20 &    0.49 &   0.35 &   0.07 &     29 \\\\\n",
      "\\bottomrule\n",
      "\\end{tabular}\n",
      "\n"
     ]
    }
   ],
   "source": [
    "summary_stats(ref_data, REF_COUNTRY, REF_VERSION)"
   ]
  },
  {
   "cell_type": "code",
   "execution_count": 5,
   "metadata": {},
   "outputs": [],
   "source": [
    "def plot_corr(data, figsize=None, **kwargs):\n",
    "    corr = data.corr(lambda x, y: scipy.stats.pearsonr(x,y)[0])\n",
    "    significance = data.corr(lambda x, y: scipy.stats.pearsonr(x,y)[1])\n",
    "    corr_text = corr.applymap('{:.3f}'.format) + np.where(significance < .01, '*', '')\n",
    "\n",
    "    mask = np.triu(np.ones_like(corr, dtype=np.bool))\n",
    "    if figsize is None:\n",
    "        figsize=np.array([1, 0.75]) * corr.shape[0] + np.array([kwargs.get('cbar', True) * 1.5, 0])\n",
    "    f, ax = plt.subplots(figsize=figsize)\n",
    "    cmap = sns.diverging_palette(220, 10, s=50, l=85, as_cmap=True)\n",
    "\n",
    "    # Draw the heatmap with the mask and correct aspect ratio\n",
    "    sns.heatmap(corr, annot=corr_text, fmt='', mask=mask, cmap=cmap, \n",
    "                square=False, linewidths=.25, **kwargs)\n",
    "    ax.set_yticklabels(ax.get_yticklabels(), fontdict={'verticalalignment': 'center'})"
   ]
  },
  {
   "cell_type": "code",
   "execution_count": 6,
   "metadata": {},
   "outputs": [
    {
     "data": {
      "image/png": "[encoded data removed]",
      "text/plain": [
       "<Figure size 360x270 with 1 Axes>"
      ]
     },
     "metadata": {},
     "output_type": "display_data"
    }
   ],
   "source": [
    "plot_corr(ref_data, cbar=False)\n",
    "plt.title('Bangladesh, 1986-2015')\n",
    "save_fig('_'.join((REF_COUNTRY, REF_VERSION, 'correlations.pdf')))"
   ]
  },
  {
   "cell_type": "code",
   "execution_count": 7,
   "metadata": {},
   "outputs": [
    {
     "data": {
      "image/png": "[encoded data removed]",
      "text/plain": [
       "<Figure size 468x270 with 2 Axes>"
      ]
     },
     "metadata": {},
     "output_type": "display_data"
    }
   ],
   "source": [
    "plot_corr(np.log(ref_data))\n",
    "plt.title('(log) Bangladesh, 1986-2015')\n",
    "save_fig('_'.join((REF_COUNTRY, REF_VERSION, 'correlations_log.pdf')))"
   ]
  },
  {
   "cell_type": "code",
   "execution_count": null,
   "metadata": {},
   "outputs": [],
   "source": []
  }
 ],
 "metadata": {
  "kernelspec": {
   "display_name": "em-2020",
   "language": "python",
   "name": "em-2020"
  },
  "language_info": {
   "codemirror_mode": {
    "name": "ipython",
    "version": 3
   },
   "file_extension": ".py",
   "mimetype": "text/x-python",
   "name": "python",
   "nbconvert_exporter": "python",
   "pygments_lexer": "ipython3",
   "version": "3.7.5"
  }
 },
 "nbformat": 4,
 "nbformat_minor": 4
}
