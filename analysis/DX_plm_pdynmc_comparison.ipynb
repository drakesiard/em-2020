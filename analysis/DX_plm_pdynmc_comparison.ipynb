{
 "cells": [
  {
   "cell_type": "code",
   "execution_count": 30,
   "metadata": {
    "kernel": "R"
   },
   "outputs": [],
   "source": [
    "library(plm)\n",
    "library(pdynmc)\n",
    "\n",
    "data(EmplUK, package = \"plm\")\n",
    "dat <- EmplUK\n",
    "dat[,c(4:7)] <- log(dat[,c(4:7)])\n",
    "\n",
    "dat.panel <- pdata.frame(dat, index = c(\"firm\", \"year\"), drop.index = TRUE, row.names=TRUE)\n",
    "\n"
   ]
  },
  {
   "cell_type": "code",
   "execution_count": 33,
   "metadata": {},
   "outputs": [
    {
     "data": {
      "text/plain": [
       "Twoways effects One step model\n",
       "\n",
       "Call:\n",
       "pgmm(formula = emp ~ lag(emp, 1:2) + lag(wage, 0:1) + lag(capital, \n",
       "    0:2) + lag(output, 0:2) | lag(emp, 2:99), data = dat.panel, \n",
       "    effect = \"twoways\", model = \"onestep\")\n",
       "\n",
       "Unbalanced Panel: n = 140, T = 7-9, N = 1031\n",
       "\n",
       "Number of Observations Used: 611\n",
       "\n",
       "Residuals:\n",
       "      Min.    1st Qu.     Median       Mean    3rd Qu.       Max. \n",
       "-0.6006508 -0.0299498  0.0000000 -0.0001193  0.0311461  0.5693264 \n",
       "\n",
       "Coefficients:\n",
       "                    Estimate Std. Error z-value  Pr(>|z|)    \n",
       "lag(emp, 1:2)1      0.686226   0.143272  4.7897 1.671e-06 ***\n",
       "lag(emp, 1:2)2     -0.085358   0.042839 -1.9925 0.0463110 *  \n",
       "lag(wage, 0:1)0    -0.607821   0.063404 -9.5864 < 2.2e-16 ***\n",
       "lag(wage, 0:1)1     0.392623   0.105309  3.7283 0.0001928 ***\n",
       "lag(capital, 0:2)0  0.356846   0.035700  9.9957 < 2.2e-16 ***\n",
       "lag(capital, 0:2)1 -0.058001   0.056209 -1.0319 0.3021238    \n",
       "lag(capital, 0:2)2 -0.019948   0.040131 -0.4971 0.6191424    \n",
       "lag(output, 0:2)0   0.608506   0.129703  4.6915 2.712e-06 ***\n",
       "lag(output, 0:2)1  -0.711164   0.177827 -3.9992 6.356e-05 ***\n",
       "lag(output, 0:2)2   0.105798   0.137720  0.7682 0.4423635    \n",
       "---\n",
       "Signif. codes:  0 ‘***’ 0.001 ‘**’ 0.01 ‘*’ 0.05 ‘.’ 0.1 ‘ ’ 1\n",
       "\n",
       "Sargan test: chisq(25) = 48.74983 (p-value = 0.0030295)\n",
       "Autocorrelation test (1): normal = -4.190586 (p-value = 2.7824e-05)\n",
       "Autocorrelation test (2): normal = -0.6424125 (p-value = 0.52061)\n",
       "Wald test for coefficients: chisq(10) = 547.9814 (p-value = < 2.22e-16)\n",
       "Wald test for time dummies: chisq(6) = 10.26874 (p-value = 0.11378)"
      ]
     },
     "metadata": {},
     "output_type": "display_data"
    }
   ],
   "source": [
    "z1 <- pgmm(emp ~ lag(emp, 1:2) + lag(wage, 0:1)+ lag(capital, 0:2) + lag(output, 0:2) | lag(emp, 2:99),\n",
    "           data = dat.panel, effect = \"twoways\", model = \"onestep\")\n",
    "summary(z1, robust = FALSE)\n",
    "#4a1"
   ]
  },
  {
   "cell_type": "code",
   "execution_count": 35,
   "metadata": {},
   "outputs": [
    {
     "data": {
      "text/plain": [
       "Twoways effects Two steps model\n",
       "\n",
       "Call:\n",
       "pgmm(formula = emp ~ lag(emp, 1:2) + lag(wage, 0:1) + lag(capital, \n",
       "    0:2) + lag(output, 0:2) | lag(emp, 2:99), data = dat.panel, \n",
       "    effect = \"twoways\", model = \"twosteps\")\n",
       "\n",
       "Unbalanced Panel: n = 140, T = 7-9, N = 1031\n",
       "\n",
       "Number of Observations Used: 611\n",
       "\n",
       "Residuals:\n",
       "     Min.   1st Qu.    Median      Mean   3rd Qu.      Max. \n",
       "-0.687507 -0.029383  0.000000 -0.000311  0.030857  0.633822 \n",
       "\n",
       "Coefficients:\n",
       "                    Estimate Std. Error z-value  Pr(>|z|)    \n",
       "lag(emp, 1:2)1      0.628709   0.090454  6.9506 3.638e-12 ***\n",
       "lag(emp, 1:2)2     -0.065188   0.026501 -2.4598  0.013900 *  \n",
       "lag(wage, 0:1)0    -0.525760   0.053769 -9.7781 < 2.2e-16 ***\n",
       "lag(wage, 0:1)1     0.311290   0.094012  3.3112  0.000929 ***\n",
       "lag(capital, 0:2)0  0.278362   0.044908  6.1984 5.702e-10 ***\n",
       "lag(capital, 0:2)1  0.014100   0.052805  0.2670  0.789459    \n",
       "lag(capital, 0:2)2 -0.040248   0.025804 -1.5598  0.118809    \n",
       "lag(output, 0:2)0   0.591923   0.116211  5.0935 3.515e-07 ***\n",
       "lag(output, 0:2)1  -0.565985   0.139674 -4.0522 5.074e-05 ***\n",
       "lag(output, 0:2)2   0.100543   0.112675  0.8923  0.372217    \n",
       "---\n",
       "Signif. codes:  0 ‘***’ 0.001 ‘**’ 0.01 ‘*’ 0.05 ‘.’ 0.1 ‘ ’ 1\n",
       "\n",
       "Sargan test: chisq(25) = 31.38142 (p-value = 0.1767)\n",
       "Autocorrelation test (1): normal = -2.99977 (p-value = 0.0027018)\n",
       "Autocorrelation test (2): normal = -0.4157541 (p-value = 0.67759)\n",
       "Wald test for coefficients: chisq(10) = 667.0498 (p-value = < 2.22e-16)\n",
       "Wald test for time dummies: chisq(6) = 24.93988 (p-value = 0.00035032)"
      ]
     },
     "metadata": {},
     "output_type": "display_data"
    }
   ],
   "source": [
    "z1 <- pgmm(emp ~ lag(emp, 1:2) + lag(wage, 0:1)+ lag(capital, 0:2) + lag(output, 0:2) | lag(emp, 2:99),\n",
    "           data = dat.panel, effect = \"twoways\", model = \"twosteps\")\n",
    "summary(z1, robust = FALSE)\n",
    "#4a2"
   ]
  },
  {
   "cell_type": "code",
   "execution_count": 36,
   "metadata": {
    "kernel": "R"
   },
   "outputs": [
    {
     "data": {
      "text/plain": [
       "Twoways effects Two steps model\n",
       "\n",
       "Call:\n",
       "pgmm(formula = emp ~ lag(emp, 1:2) + lag(wage, 0:1) + lag(capital, \n",
       "    0) + lag(output, 0:1) | lag(emp, 2:99), data = dat.panel, \n",
       "    effect = \"twoways\", model = \"twosteps\")\n",
       "\n",
       "Unbalanced Panel: n = 140, T = 7-9, N = 1031\n",
       "\n",
       "Number of Observations Used: 611\n",
       "\n",
       "Residuals:\n",
       "      Min.    1st Qu.     Median       Mean    3rd Qu.       Max. \n",
       "-0.6190677 -0.0255683  0.0000000 -0.0001339  0.0332013  0.6410272 \n",
       "\n",
       "Coefficients:\n",
       "                   Estimate Std. Error  z-value  Pr(>|z|)    \n",
       "lag(emp, 1:2)1     0.474151   0.085303   5.5584 2.722e-08 ***\n",
       "lag(emp, 1:2)2    -0.052967   0.027284  -1.9413 0.0522200 .  \n",
       "lag(wage, 0:1)0   -0.513205   0.049345 -10.4003 < 2.2e-16 ***\n",
       "lag(wage, 0:1)1    0.224640   0.080063   2.8058 0.0050192 ** \n",
       "lag(capital, 0)    0.292723   0.039463   7.4177 1.191e-13 ***\n",
       "lag(output, 0:1)0  0.609775   0.108524   5.6188 1.923e-08 ***\n",
       "lag(output, 0:1)1 -0.446373   0.124815  -3.5763 0.0003485 ***\n",
       "---\n",
       "Signif. codes:  0 ‘***’ 0.001 ‘**’ 0.01 ‘*’ 0.05 ‘.’ 0.1 ‘ ’ 1\n",
       "\n",
       "Sargan test: chisq(25) = 30.11247 (p-value = 0.22011)\n",
       "Autocorrelation test (1): normal = -2.427829 (p-value = 0.01519)\n",
       "Autocorrelation test (2): normal = -0.3325401 (p-value = 0.73948)\n",
       "Wald test for coefficients: chisq(7) = 371.9877 (p-value = < 2.22e-16)\n",
       "Wald test for time dummies: chisq(6) = 26.9045 (p-value = 0.0001509)"
      ]
     },
     "metadata": {},
     "output_type": "display_data"
    }
   ],
   "source": [
    "z1 <- pgmm(emp ~ lag(emp, 1:2) + lag(wage, 0:1)+ lag(capital, 0) + lag(output, 0:1) | lag(emp, 2:99),\n",
    "           data = dat.panel, effect = \"twoways\", model = \"twosteps\")\n",
    "summary(z1, robust = FALSE)"
   ]
  },
  {
   "cell_type": "code",
   "execution_count": 27,
   "metadata": {
    "kernel": "R"
   },
   "outputs": [
    {
     "data": {
      "text/plain": [
       "\n",
       "Dynamic linear panel estimation (twostep)\n",
       "Estimation steps: 2\n",
       "\n",
       "Coefficients:\n",
       "           Estimate  Std.Err z-value Pr(>|z|)    \n",
       "L1.emp      0.62871  0.15090   4.166    3e-05 ***\n",
       "L2.emp     -0.06519  0.03573  -1.825  0.06800 .  \n",
       "L0.wage    -0.52576  0.08347  -6.299  < 2e-16 ***\n",
       "L1.wage     0.31129  0.14576   2.136  0.03268 *  \n",
       "L0.capital  0.27836  0.06373   4.368    1e-05 ***\n",
       "L1.capital  0.01410  0.07903   0.178  0.85872    \n",
       "L2.capital -0.04025  0.03680  -1.094  0.27395    \n",
       "L0.output   0.59192  0.14640   4.043    5e-05 ***\n",
       "L1.output  -0.56599  0.19764  -2.864  0.00418 ** \n",
       "L2.output   0.10054  0.14271   0.705  0.48081    \n",
       "1979        0.01122  0.01005   1.116  0.26442    \n",
       "1980        0.02307  0.01788   1.290  0.19705    \n",
       "1981       -0.02136  0.02974  -0.718  0.47276    \n",
       "1982       -0.03112  0.03023  -1.029  0.30348    \n",
       "1983       -0.01799  0.03125  -0.576  0.56462    \n",
       "1984       -0.02337  0.03094  -0.755  0.45025    \n",
       "---\n",
       "Signif. codes:  0 ‘***’ 0.001 ‘**’ 0.01 ‘*’ 0.05 ‘.’ 0.1 ‘ ’ 1\n",
       "\n",
       " 41 total instruments are employed to estimate 16 parameters\n",
       " 27 linear (DIF) \n",
       " 8 further controls (DIF) \n",
       " 6 time dummies (DIF) \n",
       " \n",
       "J-Test (overid restrictions):  31.38 with 25 DF, pvalue: 0.1767\n",
       "F-Statistic (slope coeff):  337.16 with 10 DF, pvalue: <0.001\n",
       "F-Statistic (time dummies):  16.8 with 6 DF, pvalue: 0.01"
      ]
     },
     "metadata": {},
     "output_type": "display_data"
    }
   ],
   "source": [
    "\n",
    "\n",
    "m1 <- pdynmc(dat = dat, varname.i = \"firm\", varname.t = \"year\",\n",
    "             use.mc.diff = TRUE, use.mc.lev = FALSE, use.mc.nonlin = FALSE,\n",
    "             include.y = TRUE, varname.y = \"emp\", lagTerms.y = 2,\n",
    "             fur.con = TRUE, fur.con.diff = TRUE, fur.con.lev = FALSE,\n",
    "             varname.reg.fur = c(\"wage\", \"capital\", \"output\"),\n",
    "             lagTerms.reg.fur = c(1,2,2),\n",
    "             include.dum = TRUE, dum.diff = TRUE, dum.lev = FALSE, varname.dum = \"year\",\n",
    "             w.mat = \"iid.err\", std.err = \"unadjusted\",estimation = \"twostep\", opt.meth = \"none\")\n",
    "summary(m1)"
   ]
  },
  {
   "cell_type": "code",
   "execution_count": 28,
   "metadata": {},
   "outputs": [
    {
     "data": {
      "text/plain": [
       "\n",
       "Dynamic linear panel estimation (twostep)\n",
       "Estimation steps: 2\n",
       "\n",
       "Coefficients:\n",
       "            Estimate   Std.Err z-value Pr(>|z|)    \n",
       "L1.emp      0.474151  0.134214   3.533  0.00041 ***\n",
       "L2.emp     -0.052967  0.037696  -1.405  0.16002    \n",
       "L0.wage    -0.513205  0.077869  -6.591  < 2e-16 ***\n",
       "L1.wage     0.224640  0.112530   1.996  0.04593 *  \n",
       "L0.capital  0.292723  0.054075   5.413  < 2e-16 ***\n",
       "L0.output   0.609775  0.131291   4.644  < 2e-16 ***\n",
       "L1.output  -0.446373  0.174168  -2.563  0.01038 *  \n",
       "1979        0.010509  0.008794   1.195  0.23209    \n",
       "1980        0.024651  0.014227   1.733  0.08310 .  \n",
       "1981       -0.015802  0.023523  -0.672  0.50158    \n",
       "1982       -0.037442  0.028131  -1.331  0.18319    \n",
       "1983       -0.039289  0.031446  -1.249  0.21167    \n",
       "1984       -0.049509  0.032014  -1.547  0.12186    \n",
       "---\n",
       "Signif. codes:  0 ‘***’ 0.001 ‘**’ 0.01 ‘*’ 0.05 ‘.’ 0.1 ‘ ’ 1\n",
       "\n",
       " 38 total instruments are employed to estimate 13 parameters\n",
       " 27 linear (DIF) \n",
       " 5 further controls (DIF) \n",
       " 6 time dummies (DIF) \n",
       " \n",
       "J-Test (overid restrictions):  30.11 with 25 DF, pvalue: 0.2201\n",
       "F-Statistic (slope coeff):  188.07 with 7 DF, pvalue: <0.001\n",
       "F-Statistic (time dummies):  18.26 with 6 DF, pvalue: 0.0056"
      ]
     },
     "metadata": {},
     "output_type": "display_data"
    }
   ],
   "source": [
    "m1 <- pdynmc(dat = dat, varname.i = \"firm\", varname.t = \"year\",\n",
    "             use.mc.diff = TRUE, use.mc.lev = FALSE, use.mc.nonlin = FALSE,\n",
    "             include.y = TRUE, varname.y = \"emp\", lagTerms.y = 2,\n",
    "             fur.con = TRUE, fur.con.diff = TRUE, fur.con.lev = FALSE,\n",
    "             varname.reg.fur = c(\"wage\", \"capital\", \"output\"),\n",
    "             lagTerms.reg.fur = c(1,0,1),\n",
    "             include.dum = TRUE, dum.diff = TRUE, dum.lev = FALSE, varname.dum = \"year\",\n",
    "             w.mat = \"iid.err\", std.err = \"unadjusted\",estimation = \"twostep\", opt.meth = \"none\")\n",
    "summary(m1)"
   ]
  },
  {
   "cell_type": "code",
   "execution_count": null,
   "metadata": {},
   "outputs": [],
   "source": []
  }
 ],
 "metadata": {
  "kernelspec": {
   "display_name": "R",
   "language": "R",
   "name": "ir"
  },
  "language_info": {
   "codemirror_mode": "r",
   "file_extension": ".r",
   "mimetype": "text/x-r-source",
   "name": "R",
   "pygments_lexer": "r",
   "version": "3.6.3"
  }
 },
 "nbformat": 4,
 "nbformat_minor": 4
}
