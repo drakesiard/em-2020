{
 "cells": [
  {
   "cell_type": "code",
   "execution_count": 1,
   "metadata": {
    "kernel": "em-2020"
   },
   "outputs": [],
   "source": [
    "import pyreadr\n",
    "import pandas\n",
    "import util"
   ]
  },
  {
   "cell_type": "code",
   "execution_count": 2,
   "metadata": {
    "kernel": "em-2020"
   },
   "outputs": [
    {
     "data": {
      "text/plain": [
       "odict_keys(['pdynmc_coef', 'pdynmc_tests'])"
      ]
     },
     "execution_count": 2,
     "metadata": {},
     "output_type": "execute_result"
    }
   ],
   "source": [
    "r_data = pyreadr.read_r('/home/drake/workspace/em-2020/analysis/D3_gmm/template_output.Rdata')\n",
    "r_data.keys()"
   ]
  },
  {
   "cell_type": "code",
   "execution_count": 3,
   "metadata": {
    "kernel": "em-2020"
   },
   "outputs": [],
   "source": [
    "r_data = util.reindex_Rdata(r_data)"
   ]
  },
  {
   "cell_type": "code",
   "execution_count": 4,
   "metadata": {
    "kernel": "em-2020"
   },
   "outputs": [
    {
     "name": "stdout",
     "output_type": "stream",
     "text": [
      "pdynmc_coef\n"
     ]
    },
    {
     "data": {
      "text/html": [
       "<div>\n",
       "<style scoped>\n",
       "    .dataframe tbody tr th:only-of-type {\n",
       "        vertical-align: middle;\n",
       "    }\n",
       "\n",
       "    .dataframe tbody tr th {\n",
       "        vertical-align: top;\n",
       "    }\n",
       "\n",
       "    .dataframe thead th {\n",
       "        text-align: right;\n",
       "    }\n",
       "</style>\n",
       "<table border=\"1\" class=\"dataframe\">\n",
       "  <thead>\n",
       "    <tr style=\"text-align: right;\">\n",
       "      <th></th>\n",
       "      <th>Estimate</th>\n",
       "      <th>Std.Err.rob</th>\n",
       "      <th>z.value.rob</th>\n",
       "      <th>Pr...z.rob..</th>\n",
       "    </tr>\n",
       "    <tr>\n",
       "      <th>index</th>\n",
       "      <th></th>\n",
       "      <th></th>\n",
       "      <th></th>\n",
       "      <th></th>\n",
       "    </tr>\n",
       "  </thead>\n",
       "  <tbody>\n",
       "    <tr>\n",
       "      <th>L1.ENI</th>\n",
       "      <td>0.440228</td>\n",
       "      <td>0.101249</td>\n",
       "      <td>4.348</td>\n",
       "      <td>0.00001</td>\n",
       "    </tr>\n",
       "    <tr>\n",
       "      <th>L2.ENI</th>\n",
       "      <td>0.070313</td>\n",
       "      <td>0.049847</td>\n",
       "      <td>1.411</td>\n",
       "      <td>0.15824</td>\n",
       "    </tr>\n",
       "    <tr>\n",
       "      <th>L0.POP</th>\n",
       "      <td>-0.178084</td>\n",
       "      <td>0.207931</td>\n",
       "      <td>-0.856</td>\n",
       "      <td>0.39200</td>\n",
       "    </tr>\n",
       "    <tr>\n",
       "      <th>L0.AFL</th>\n",
       "      <td>-0.265905</td>\n",
       "      <td>0.433525</td>\n",
       "      <td>-0.613</td>\n",
       "      <td>0.53988</td>\n",
       "    </tr>\n",
       "    <tr>\n",
       "      <th>L0.AFL2</th>\n",
       "      <td>-0.018772</td>\n",
       "      <td>0.021711</td>\n",
       "      <td>-0.865</td>\n",
       "      <td>0.38704</td>\n",
       "    </tr>\n",
       "    <tr>\n",
       "      <th>L0.URB</th>\n",
       "      <td>0.270348</td>\n",
       "      <td>0.354961</td>\n",
       "      <td>0.762</td>\n",
       "      <td>0.44606</td>\n",
       "    </tr>\n",
       "    <tr>\n",
       "      <th>L0.CTS</th>\n",
       "      <td>0.041186</td>\n",
       "      <td>0.018732</td>\n",
       "      <td>2.199</td>\n",
       "      <td>0.02788</td>\n",
       "    </tr>\n",
       "    <tr>\n",
       "      <th>L0.TI</th>\n",
       "      <td>-0.001997</td>\n",
       "      <td>0.007331</td>\n",
       "      <td>-0.272</td>\n",
       "      <td>0.78562</td>\n",
       "    </tr>\n",
       "    <tr>\n",
       "      <th>L0.KAOPEN</th>\n",
       "      <td>0.002982</td>\n",
       "      <td>0.007617</td>\n",
       "      <td>0.391</td>\n",
       "      <td>0.69580</td>\n",
       "    </tr>\n",
       "    <tr>\n",
       "      <th>2003</th>\n",
       "      <td>0.022383</td>\n",
       "      <td>0.006262</td>\n",
       "      <td>3.574</td>\n",
       "      <td>0.00035</td>\n",
       "    </tr>\n",
       "    <tr>\n",
       "      <th>2004</th>\n",
       "      <td>0.027987</td>\n",
       "      <td>0.009310</td>\n",
       "      <td>3.006</td>\n",
       "      <td>0.00265</td>\n",
       "    </tr>\n",
       "    <tr>\n",
       "      <th>2005</th>\n",
       "      <td>0.029499</td>\n",
       "      <td>0.012905</td>\n",
       "      <td>2.286</td>\n",
       "      <td>0.02225</td>\n",
       "    </tr>\n",
       "    <tr>\n",
       "      <th>2006</th>\n",
       "      <td>0.040976</td>\n",
       "      <td>0.018350</td>\n",
       "      <td>2.233</td>\n",
       "      <td>0.02555</td>\n",
       "    </tr>\n",
       "    <tr>\n",
       "      <th>2007</th>\n",
       "      <td>0.058082</td>\n",
       "      <td>0.024555</td>\n",
       "      <td>2.365</td>\n",
       "      <td>0.01803</td>\n",
       "    </tr>\n",
       "    <tr>\n",
       "      <th>2008</th>\n",
       "      <td>0.075995</td>\n",
       "      <td>0.030757</td>\n",
       "      <td>2.471</td>\n",
       "      <td>0.01347</td>\n",
       "    </tr>\n",
       "    <tr>\n",
       "      <th>2009</th>\n",
       "      <td>0.075618</td>\n",
       "      <td>0.036755</td>\n",
       "      <td>2.057</td>\n",
       "      <td>0.03969</td>\n",
       "    </tr>\n",
       "    <tr>\n",
       "      <th>2010</th>\n",
       "      <td>0.098146</td>\n",
       "      <td>0.039749</td>\n",
       "      <td>2.469</td>\n",
       "      <td>0.01355</td>\n",
       "    </tr>\n",
       "    <tr>\n",
       "      <th>2011</th>\n",
       "      <td>0.090074</td>\n",
       "      <td>0.042072</td>\n",
       "      <td>2.141</td>\n",
       "      <td>0.03227</td>\n",
       "    </tr>\n",
       "    <tr>\n",
       "      <th>2012</th>\n",
       "      <td>0.104021</td>\n",
       "      <td>0.047270</td>\n",
       "      <td>2.201</td>\n",
       "      <td>0.02774</td>\n",
       "    </tr>\n",
       "    <tr>\n",
       "      <th>2013</th>\n",
       "      <td>0.089541</td>\n",
       "      <td>0.051192</td>\n",
       "      <td>1.749</td>\n",
       "      <td>0.08029</td>\n",
       "    </tr>\n",
       "    <tr>\n",
       "      <th>2014</th>\n",
       "      <td>0.107184</td>\n",
       "      <td>0.056999</td>\n",
       "      <td>1.880</td>\n",
       "      <td>0.06011</td>\n",
       "    </tr>\n",
       "    <tr>\n",
       "      <th>2015</th>\n",
       "      <td>0.118758</td>\n",
       "      <td>0.062787</td>\n",
       "      <td>1.891</td>\n",
       "      <td>0.05862</td>\n",
       "    </tr>\n",
       "  </tbody>\n",
       "</table>\n",
       "</div>"
      ],
      "text/plain": [
       "           Estimate  Std.Err.rob  z.value.rob  Pr...z.rob..\n",
       "index                                                      \n",
       "L1.ENI     0.440228     0.101249        4.348       0.00001\n",
       "L2.ENI     0.070313     0.049847        1.411       0.15824\n",
       "L0.POP    -0.178084     0.207931       -0.856       0.39200\n",
       "L0.AFL    -0.265905     0.433525       -0.613       0.53988\n",
       "L0.AFL2   -0.018772     0.021711       -0.865       0.38704\n",
       "L0.URB     0.270348     0.354961        0.762       0.44606\n",
       "L0.CTS     0.041186     0.018732        2.199       0.02788\n",
       "L0.TI     -0.001997     0.007331       -0.272       0.78562\n",
       "L0.KAOPEN  0.002982     0.007617        0.391       0.69580\n",
       "2003       0.022383     0.006262        3.574       0.00035\n",
       "2004       0.027987     0.009310        3.006       0.00265\n",
       "2005       0.029499     0.012905        2.286       0.02225\n",
       "2006       0.040976     0.018350        2.233       0.02555\n",
       "2007       0.058082     0.024555        2.365       0.01803\n",
       "2008       0.075995     0.030757        2.471       0.01347\n",
       "2009       0.075618     0.036755        2.057       0.03969\n",
       "2010       0.098146     0.039749        2.469       0.01355\n",
       "2011       0.090074     0.042072        2.141       0.03227\n",
       "2012       0.104021     0.047270        2.201       0.02774\n",
       "2013       0.089541     0.051192        1.749       0.08029\n",
       "2014       0.107184     0.056999        1.880       0.06011\n",
       "2015       0.118758     0.062787        1.891       0.05862"
      ]
     },
     "metadata": {},
     "output_type": "display_data"
    },
    {
     "name": "stdout",
     "output_type": "stream",
     "text": [
      "pdynmc_tests\n"
     ]
    },
    {
     "data": {
      "text/html": [
       "<div>\n",
       "<style scoped>\n",
       "    .dataframe tbody tr th:only-of-type {\n",
       "        vertical-align: middle;\n",
       "    }\n",
       "\n",
       "    .dataframe tbody tr th {\n",
       "        vertical-align: top;\n",
       "    }\n",
       "\n",
       "    .dataframe thead th {\n",
       "        text-align: right;\n",
       "    }\n",
       "</style>\n",
       "<table border=\"1\" class=\"dataframe\">\n",
       "  <thead>\n",
       "    <tr style=\"text-align: right;\">\n",
       "      <th></th>\n",
       "      <th>stat</th>\n",
       "      <th>test</th>\n",
       "      <th>p.value</th>\n",
       "      <th>result</th>\n",
       "    </tr>\n",
       "    <tr>\n",
       "      <th>index</th>\n",
       "      <th></th>\n",
       "      <th></th>\n",
       "      <th></th>\n",
       "      <th></th>\n",
       "    </tr>\n",
       "  </thead>\n",
       "  <tbody>\n",
       "    <tr>\n",
       "      <th>J-Test of Hansen</th>\n",
       "      <td>74.707415</td>\n",
       "      <td>chisq</td>\n",
       "      <td>9.805997e-01</td>\n",
       "      <td>2step GMM Estimation; H0: overidentifying rest...</td>\n",
       "    </tr>\n",
       "    <tr>\n",
       "      <th>Wald test</th>\n",
       "      <td>343.513908</td>\n",
       "      <td>chisq</td>\n",
       "      <td>1.487123e-68</td>\n",
       "      <td>2step GMM Estimation; H0: slope parameters are...</td>\n",
       "    </tr>\n",
       "    <tr>\n",
       "      <th>Wald test1</th>\n",
       "      <td>43.009215</td>\n",
       "      <td>chisq</td>\n",
       "      <td>4.473431e-05</td>\n",
       "      <td>2step GMM Estimation; H0: time.dum parameters ...</td>\n",
       "    </tr>\n",
       "    <tr>\n",
       "      <th>Arrelano and Bond (1991) serial correlation test of degree 2</th>\n",
       "      <td>-0.337702</td>\n",
       "      <td>normal</td>\n",
       "      <td>7.355876e-01</td>\n",
       "      <td>2step GMM Estimation; H0: no serial correlatio...</td>\n",
       "    </tr>\n",
       "  </tbody>\n",
       "</table>\n",
       "</div>"
      ],
      "text/plain": [
       "                                                          stat    test  \\\n",
       "index                                                                    \n",
       "J-Test of Hansen                                     74.707415   chisq   \n",
       "Wald test                                           343.513908   chisq   \n",
       "Wald test1                                           43.009215   chisq   \n",
       "Arrelano and Bond (1991) serial correlation tes...   -0.337702  normal   \n",
       "\n",
       "                                                         p.value  \\\n",
       "index                                                              \n",
       "J-Test of Hansen                                    9.805997e-01   \n",
       "Wald test                                           1.487123e-68   \n",
       "Wald test1                                          4.473431e-05   \n",
       "Arrelano and Bond (1991) serial correlation tes...  7.355876e-01   \n",
       "\n",
       "                                                                                               result  \n",
       "index                                                                                                  \n",
       "J-Test of Hansen                                    2step GMM Estimation; H0: overidentifying rest...  \n",
       "Wald test                                           2step GMM Estimation; H0: slope parameters are...  \n",
       "Wald test1                                          2step GMM Estimation; H0: time.dum parameters ...  \n",
       "Arrelano and Bond (1991) serial correlation tes...  2step GMM Estimation; H0: no serial correlatio...  "
      ]
     },
     "metadata": {},
     "output_type": "display_data"
    }
   ],
   "source": [
    "for k, v in r_data.items():\n",
    "    print(k)\n",
    "    display(v)"
   ]
  },
  {
   "cell_type": "code",
   "execution_count": 5,
   "metadata": {
    "kernel": "SoS"
   },
   "outputs": [],
   "source": [
    "new_params = {'a':11}"
   ]
  },
  {
   "cell_type": "code",
   "execution_count": 6,
   "metadata": {
    "kernel": "R"
   },
   "outputs": [
    {
     "data": {
      "text/html": [
       "<dl>\n",
       "\t<dt>$a</dt>\n",
       "\t\t<dd>11</dd>\n",
       "\t<dt>$b</dt>\n",
       "\t\t<dd>5</dd>\n",
       "\t<dt>$c</dt>\n",
       "\t\t<dd>6</dd>\n",
       "</dl>\n"
      ],
      "text/latex": [
       "\\begin{description}\n",
       "\\item[\\$a] 11\n",
       "\\item[\\$b] 5\n",
       "\\item[\\$c] 6\n",
       "\\end{description}\n"
      ],
      "text/markdown": [
       "$a\n",
       ":   11\n",
       "$b\n",
       ":   5\n",
       "$c\n",
       ":   6\n",
       "\n",
       "\n"
      ],
      "text/plain": [
       "$a\n",
       "[1] 11\n",
       "\n",
       "$b\n",
       "[1] 5\n",
       "\n",
       "$c\n",
       "[1] 6\n"
      ]
     },
     "metadata": {},
     "output_type": "display_data"
    }
   ],
   "source": [
    "%get new_params\n",
    "\n",
    "\n",
    "params = modifyList(list(b=5, c=6, a=7),\n",
    "                    new_params)\n",
    "\n",
    "\n",
    "f <- function(a=1, b=2, c=3) {return(list(a=a,b=b,c=c))}\n",
    "\n",
    "do.call(f,params)"
   ]
  },
  {
   "cell_type": "code",
   "execution_count": 7,
   "metadata": {
    "kernel": "R"
   },
   "outputs": [
    {
     "data": {
      "text/html": [
       "'list'"
      ],
      "text/latex": [
       "'list'"
      ],
      "text/markdown": [
       "'list'"
      ],
      "text/plain": [
       "[1] \"list\""
      ]
     },
     "metadata": {},
     "output_type": "display_data"
    }
   ],
   "source": [
    "class(new_params)"
   ]
  },
  {
   "cell_type": "code",
   "execution_count": 8,
   "metadata": {
    "kernel": "SoS"
   },
   "outputs": [
    {
     "data": {
      "text/plain": [
       "{'k.k': 'v.v'}"
      ]
     },
     "execution_count": 8,
     "metadata": {},
     "output_type": "execute_result"
    }
   ],
   "source": [
    "d = {'k.k': 'v.v'}\n",
    "d"
   ]
  },
  {
   "cell_type": "code",
   "execution_count": 9,
   "metadata": {
    "kernel": "R"
   },
   "outputs": [
    {
     "data": {
      "text/html": [
       "<strong>$k_k</strong> = 'v.v'"
      ],
      "text/latex": [
       "\\textbf{\\$k\\_k} = 'v.v'"
      ],
      "text/markdown": [
       "**$k_k** = 'v.v'"
      ],
      "text/plain": [
       "$k_k\n",
       "[1] \"v.v\"\n"
      ]
     },
     "metadata": {},
     "output_type": "display_data"
    }
   ],
   "source": [
    "%get d\n",
    "d"
   ]
  },
  {
   "cell_type": "code",
   "execution_count": 10,
   "metadata": {
    "kernel": "R"
   },
   "outputs": [
    {
     "data": {
      "text/html": [
       "<strong>$k.k</strong> = 'v.v'"
      ],
      "text/latex": [
       "\\textbf{\\$k.k} = 'v.v'"
      ],
      "text/markdown": [
       "**$k.k** = 'v.v'"
      ],
      "text/plain": [
       "$k.k\n",
       "[1] \"v.v\"\n"
      ]
     },
     "metadata": {},
     "output_type": "display_data"
    }
   ],
   "source": [
    "list(k.k='v.v')"
   ]
  },
  {
   "cell_type": "code",
   "execution_count": 11,
   "metadata": {
    "kernel": "R"
   },
   "outputs": [
    {
     "data": {
      "text/html": [
       "<strong>$k.k</strong> = 'v.v'"
      ],
      "text/latex": [
       "\\textbf{\\$k.k} = 'v.v'"
      ],
      "text/markdown": [
       "**$k.k** = 'v.v'"
      ],
      "text/plain": [
       "$k.k\n",
       "[1] \"v.v\"\n"
      ]
     },
     "metadata": {},
     "output_type": "display_data"
    }
   ],
   "source": [
    "names(d) <- gsub('_', '.', names(d))\n",
    "d"
   ]
  },
  {
   "cell_type": "code",
   "execution_count": 12,
   "metadata": {
    "kernel": "R"
   },
   "outputs": [
    {
     "data": {
      "text/html": [
       "<style>\n",
       ".list-inline {list-style: none; margin:0; padding: 0}\n",
       ".list-inline>li {display: inline-block}\n",
       ".list-inline>li:not(:last-child)::after {content: \"\\00b7\"; padding: 0 .5ex}\n",
       "</style>\n",
       "<ol class=list-inline><li>' '</li><li>'.'</li><li>'.'</li><li>'3'</li></ol>\n"
      ],
      "text/latex": [
       "\\begin{enumerate*}\n",
       "\\item ' '\n",
       "\\item '.'\n",
       "\\item '.'\n",
       "\\item '3'\n",
       "\\end{enumerate*}\n"
      ],
      "text/markdown": [
       "1. ' '\n",
       "2. '.'\n",
       "3. '.'\n",
       "4. '3'\n",
       "\n",
       "\n"
      ],
      "text/plain": [
       "[1] \" \" \".\" \".\" \"3\""
      ]
     },
     "metadata": {},
     "output_type": "display_data"
    }
   ],
   "source": [
    "gsub('_', '.', c(' ', '_', '.', '3'))"
   ]
  },
  {
   "cell_type": "code",
   "execution_count": 13,
   "metadata": {
    "kernel": "R"
   },
   "outputs": [
    {
     "data": {
      "text/html": [
       "'k.k'"
      ],
      "text/latex": [
       "'k.k'"
      ],
      "text/markdown": [
       "'k.k'"
      ],
      "text/plain": [
       "[1] \"k.k\""
      ]
     },
     "metadata": {},
     "output_type": "display_data"
    }
   ],
   "source": [
    "names(d)"
   ]
  },
  {
   "cell_type": "code",
   "execution_count": null,
   "metadata": {
    "kernel": "R"
   },
   "outputs": [],
   "source": []
  }
 ],
 "metadata": {
  "kernelspec": {
   "display_name": "SoS",
   "language": "sos",
   "name": "sos"
  },
  "language_info": {
   "codemirror_mode": "sos",
   "file_extension": ".sos",
   "mimetype": "text/x-sos",
   "name": "sos",
   "nbconvert_exporter": "sos_notebook.converter.SoS_Exporter",
   "pygments_lexer": "sos"
  },
  "sos": {
   "kernels": [
    [
     "R",
     "ir",
     "R",
     "#DCDCDA",
     "r"
    ],
    [
     "SoS",
     "sos",
     "",
     "",
     "sos"
    ],
    [
     "em-2020",
     "em-2020",
     "Python3",
     "#FFD91A",
     {
      "name": "ipython",
      "version": 3
     }
    ]
   ],
   "version": "0.21.19"
  }
 },
 "nbformat": 4,
 "nbformat_minor": 4
}
